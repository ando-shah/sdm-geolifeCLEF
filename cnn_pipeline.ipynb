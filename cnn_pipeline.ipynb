{
 "cells": [
  {
   "cell_type": "code",
   "execution_count": 2,
   "id": "fac2b2ec-cb02-41cb-bc4d-13e90d00e9cc",
   "metadata": {},
   "outputs": [],
   "source": [
    "import warnings\n",
    "import time\n",
    "import os\n",
    "\n",
    "# RASTERIO_BEST_PRACTICES = dict(  # See https://github.com/pangeo-data/cog-best-practices\n",
    "#     CURL_CA_BUNDLE=\"/etc/ssl/certs/ca-certificates.crt\",\n",
    "#     GDAL_DISABLE_READDIR_ON_OPEN=\"EMPTY_DIR\",\n",
    "#     AWS_NO_SIGN_REQUEST=\"YES\",\n",
    "#     GDAL_MAX_RAW_BLOCK_CACHE_SIZE=\"200000000\",\n",
    "#     GDAL_SWATH_SIZE=\"200000000\",\n",
    "#     VSI_CURL_CACHE_SIZE=\"200000000\",\n",
    "# )\n",
    "# os.environ.update(RASTERIO_BEST_PRACTICES)\n",
    "\n",
    "import numpy as np\n",
    "import pandas as pd\n",
    "import matplotlib.pyplot as plt\n",
    "\n",
    "import torch\n",
    "# from torch.utils.data import Dataset, DataLoader\n",
    "import torchvision.transforms as T\n",
    "\n",
    "import rasterio\n",
    "import rasterio.warp\n",
    "import rasterio.mask\n",
    "import shapely.geometry\n",
    "import geopandas as gpd\n",
    "import dask_geopandas\n",
    "# from dask.distributed import Client\n",
    "# from dask_gateway import GatewayCluster\n",
    "\n",
    "import pystac_client\n",
    "import planetary_computer as pc\n",
    "from dask.distributed import Client, progress\n",
    "import rioxarray\n",
    "\n",
    "import sys\n",
    "import os\n",
    "current_folder = os.getcwd()\n",
    "sys.path.insert(0, current_folder+'/raster')\n",
    "sys.path.insert(0, current_folder+'/models')\n"
   ]
  },
  {
   "cell_type": "code",
   "execution_count": 3,
   "id": "b4a41e07-a4c5-4bfb-a314-ba36d75145d1",
   "metadata": {},
   "outputs": [],
   "source": [
    "def create_centroids_gdf(gdf):\n",
    "    #Convert to equal area projection and back to avoid CRS issues with calculating centroid:\n",
    "    c = kde_gdf.to_crs('+proj=cea').centroid.to_crs(gdf.crs)\n",
    "\n",
    "    centroids = pd.DataFrame()\n",
    "    centroids['grid_id'] = gdf.grid_id\n",
    "    centroids['lon'] = c.x.values\n",
    "    centroids['lat'] = c.y.values\n",
    "    centroids = gpd.GeoDataFrame(centroids, geometry=gpd.points_from_xy(centroids['lon'], centroids['lat']))\n",
    "    \n",
    "    return centroids\n",
    "\n",
    "def _query(points):\n",
    "    \"\"\"\n",
    "    Find a STAC item for points in the `points` DataFrame\n",
    "\n",
    "    Parameters\n",
    "    ----------\n",
    "    points : geopandas.GeoDataFrame\n",
    "        A GeoDataFrame\n",
    "\n",
    "    Returns\n",
    "    -------\n",
    "    geopandas.GeoDataFrame\n",
    "        A new geopandas.GeoDataFrame with a `stac_item` column containing the STAC\n",
    "        item that covers each point.\n",
    "    \"\"\"\n",
    "    intersects = shapely.geometry.mapping(points.unary_union.convex_hull) #TODO replace with rectangular geometry\n",
    "\n",
    "    search_start = \"2019-01-01\"\n",
    "    search_end = \"2019-12-31\"\n",
    "    catalog = pystac_client.Client.open(\"https://planetarycomputer.microsoft.com/api/stac/v1\",\n",
    "                                        modifier=pc.sign_inplace)\n",
    "    # catalog = pystac_client.Client.open(\"https://planetarycomputer.microsoft.com/api/stac/v1\")\n",
    "\n",
    "    # The time frame in which we search for non-cloudy imagery\n",
    "    search = catalog.search(\n",
    "        collections=[\"sentinel-2-l2a\"],\n",
    "        intersects=intersects,\n",
    "        datetime=[search_start, search_end],\n",
    "        query={\"eo:cloud_cover\": {\"lt\": 10}},\n",
    "        limit=500,\n",
    "    )\n",
    "    ic = search.get_all_items_as_dict()\n",
    "\n",
    "    features = ic[\"features\"]\n",
    "    features_d = {item[\"id\"]: item for item in features}\n",
    "\n",
    "    data = {\n",
    "        \"eo:cloud_cover\": [],\n",
    "        \"geometry\": [],\n",
    "    }\n",
    "\n",
    "    index = []\n",
    "\n",
    "    for item in features:\n",
    "        data[\"eo:cloud_cover\"].append(item[\"properties\"][\"eo:cloud_cover\"])\n",
    "        data[\"geometry\"].append(shapely.geometry.shape(item[\"geometry\"]))\n",
    "        index.append(item[\"id\"])\n",
    "\n",
    "    items = gpd.GeoDataFrame(data, index=index, geometry=\"geometry\").sort_values(\n",
    "        \"eo:cloud_cover\"\n",
    "    )\n",
    "    point_list = points.geometry.tolist()\n",
    "\n",
    "    point_items = []\n",
    "    for point in point_list:\n",
    "        covered_by = items[items.covers(point)]\n",
    "        if len(covered_by):\n",
    "            point_items.append(features_d[covered_by.index[0]])\n",
    "        else:\n",
    "            # There weren't any scenes matching our conditions for this point (too cloudy)\n",
    "            point_items.append(None)\n",
    "\n",
    "    return points.assign(stac_item=point_items)\n",
    "\n",
    "\n",
    "dask_geopandas_partitions = 250\n",
    "\n",
    "def add_sentinel_urls(centroids):\n",
    "    \n",
    "    print(\"Organizing grid centroids according to Hilbert distance...\")\n",
    "\n",
    "    ddf = dask_geopandas.from_geopandas(centroids, npartitions=1)\n",
    "    hd = ddf.hilbert_distance().compute()\n",
    "    centroids[\"hd\"] = hd\n",
    "    centroids = centroids.sort_values(\"hd\")\n",
    "    dgdf = dask_geopandas.from_geopandas(centroids, npartitions=dask_geopandas_partitions, sort=False)\n",
    "\n",
    "    from dask_gateway import GatewayCluster\n",
    "    \n",
    "    try:\n",
    "        print(\"Attemping to create a new dask client\")\n",
    "        cluster = GatewayCluster()  # Creates the Dask Scheduler. Might take a minute.\n",
    "        client = cluster.get_client()\n",
    "        cluster.adapt(minimum=4, maximum=113)\n",
    "\n",
    "        print(cluster.dashboard_link)\n",
    "        print(client)\n",
    "\n",
    "        meta = dgdf._meta.assign(stac_item=[])\n",
    "        df2 = dgdf.map_partitions(_query, meta=meta).compute()\n",
    "\n",
    "        \n",
    "        data = df2.dropna(subset=[\"stac_item\"])\n",
    "        #Save it as a tuple -> (RGB,NIR)\n",
    "        data['urls'] = [(item[\"assets\"][\"visual\"][\"href\"], item[\"assets\"][\"B08\"][\"href\"]) for item in data.stac_item.tolist()]\n",
    "        data['crs']  = [item[\"properties\"][\"proj:epsg\"] for item in data.stac_item.tolist()]\n",
    "        print(data.stac_item[0][\"properties\"][\"proj:epsg\"])\n",
    "        print(\"{} URLs acquired. Shutting Down Cluster\".format(len(data)))\n",
    "        cluster.close()\n",
    "        \n",
    "        data = data.drop(['hd','stac_item'], axis=1).set_index('grid_id').reset_index(drop=True)\n",
    "        return data\n",
    "    \n",
    "    except Exception as e:\n",
    "        print(\"Error thrown: \",e)\n",
    "        cluster.close()\n",
    "        return None\n",
    "    "
   ]
  },
  {
   "cell_type": "markdown",
   "id": "ee5e9449-ad89-4b29-818a-858630005983",
   "metadata": {},
   "source": [
    "# Read Observations"
   ]
  },
  {
   "cell_type": "markdown",
   "id": "e6f6527c-262d-4b57-8ad0-75f8b697e472",
   "metadata": {},
   "source": [
    "## KDE"
   ]
  },
  {
   "cell_type": "code",
   "execution_count": 4,
   "id": "196a6752-b281-4f12-ba34-d7fe7c505347",
   "metadata": {},
   "outputs": [
    {
     "name": "stdout",
     "output_type": "stream",
     "text": [
      "s3://datasets-sdm/kde/ca/geolifeclef_ca_0.05deg_kde_0.5deg_epanechnikov.pkl\n"
     ]
    }
   ],
   "source": [
    "BUCKET_NAME = 'datasets-sdm'\n",
    "folder = 'kde/ca'\n",
    "filename = 'geolifeclef_ca_0.05deg_kde_0.5deg_epanechnikov.pkl'\n",
    "\n",
    "s3_read_path = 's3://{}/{}/{}'.format(BUCKET_NAME, folder, filename)\n",
    "print(s3_read_path)"
   ]
  },
  {
   "cell_type": "code",
   "execution_count": 5,
   "id": "a984ba8e-1582-4c32-9abc-7a3382ecb04c",
   "metadata": {},
   "outputs": [
    {
     "data": {
      "text/html": [
       "<div>\n",
       "<style scoped>\n",
       "    .dataframe tbody tr th:only-of-type {\n",
       "        vertical-align: middle;\n",
       "    }\n",
       "\n",
       "    .dataframe tbody tr th {\n",
       "        vertical-align: top;\n",
       "    }\n",
       "\n",
       "    .dataframe thead th {\n",
       "        text-align: right;\n",
       "    }\n",
       "</style>\n",
       "<table border=\"1\" class=\"dataframe\">\n",
       "  <thead>\n",
       "    <tr style=\"text-align: right;\">\n",
       "      <th></th>\n",
       "      <th>geometry</th>\n",
       "      <th>grid_id</th>\n",
       "      <th>prob_4911</th>\n",
       "      <th>prob_4912</th>\n",
       "      <th>prob_4922</th>\n",
       "      <th>prob_4923</th>\n",
       "      <th>prob_2329</th>\n",
       "      <th>prob_4927</th>\n",
       "      <th>prob_4930</th>\n",
       "      <th>prob_4382</th>\n",
       "      <th>...</th>\n",
       "      <th>prob_14228</th>\n",
       "      <th>prob_202</th>\n",
       "      <th>prob_9006</th>\n",
       "      <th>prob_272</th>\n",
       "      <th>prob_16726</th>\n",
       "      <th>prob_17029</th>\n",
       "      <th>prob_8230</th>\n",
       "      <th>prob_13366</th>\n",
       "      <th>prob_16533</th>\n",
       "      <th>prob_1455</th>\n",
       "    </tr>\n",
       "  </thead>\n",
       "  <tbody>\n",
       "    <tr>\n",
       "      <th>0</th>\n",
       "      <td>POLYGON ((-124.36556 40.23088, -124.36556 40.2...</td>\n",
       "      <td>0</td>\n",
       "      <td>0</td>\n",
       "      <td>0</td>\n",
       "      <td>0</td>\n",
       "      <td>0</td>\n",
       "      <td>0</td>\n",
       "      <td>0</td>\n",
       "      <td>0</td>\n",
       "      <td>0</td>\n",
       "      <td>...</td>\n",
       "      <td>0</td>\n",
       "      <td>0</td>\n",
       "      <td>0</td>\n",
       "      <td>0</td>\n",
       "      <td>0</td>\n",
       "      <td>0</td>\n",
       "      <td>0</td>\n",
       "      <td>0</td>\n",
       "      <td>0</td>\n",
       "      <td>0</td>\n",
       "    </tr>\n",
       "    <tr>\n",
       "      <th>1</th>\n",
       "      <td>POLYGON ((-124.36556 40.28088, -124.36556 40.3...</td>\n",
       "      <td>1</td>\n",
       "      <td>0</td>\n",
       "      <td>0</td>\n",
       "      <td>0</td>\n",
       "      <td>0</td>\n",
       "      <td>0</td>\n",
       "      <td>0</td>\n",
       "      <td>0</td>\n",
       "      <td>0</td>\n",
       "      <td>...</td>\n",
       "      <td>0</td>\n",
       "      <td>0</td>\n",
       "      <td>0</td>\n",
       "      <td>0</td>\n",
       "      <td>0</td>\n",
       "      <td>0</td>\n",
       "      <td>0</td>\n",
       "      <td>0</td>\n",
       "      <td>0</td>\n",
       "      <td>0</td>\n",
       "    </tr>\n",
       "    <tr>\n",
       "      <th>2</th>\n",
       "      <td>POLYGON ((-124.36556 40.33088, -124.36556 40.3...</td>\n",
       "      <td>2</td>\n",
       "      <td>0</td>\n",
       "      <td>0</td>\n",
       "      <td>0</td>\n",
       "      <td>0</td>\n",
       "      <td>0</td>\n",
       "      <td>0</td>\n",
       "      <td>0</td>\n",
       "      <td>0</td>\n",
       "      <td>...</td>\n",
       "      <td>0</td>\n",
       "      <td>0</td>\n",
       "      <td>0</td>\n",
       "      <td>0</td>\n",
       "      <td>0</td>\n",
       "      <td>0</td>\n",
       "      <td>0</td>\n",
       "      <td>0</td>\n",
       "      <td>0</td>\n",
       "      <td>0</td>\n",
       "    </tr>\n",
       "    <tr>\n",
       "      <th>3</th>\n",
       "      <td>POLYGON ((-124.36556 40.38088, -124.36556 40.4...</td>\n",
       "      <td>3</td>\n",
       "      <td>0</td>\n",
       "      <td>0</td>\n",
       "      <td>0</td>\n",
       "      <td>0</td>\n",
       "      <td>0</td>\n",
       "      <td>0</td>\n",
       "      <td>0</td>\n",
       "      <td>0</td>\n",
       "      <td>...</td>\n",
       "      <td>0</td>\n",
       "      <td>0</td>\n",
       "      <td>0</td>\n",
       "      <td>0</td>\n",
       "      <td>0</td>\n",
       "      <td>0</td>\n",
       "      <td>0</td>\n",
       "      <td>0</td>\n",
       "      <td>0</td>\n",
       "      <td>0</td>\n",
       "    </tr>\n",
       "    <tr>\n",
       "      <th>4</th>\n",
       "      <td>POLYGON ((-124.36556 40.43088, -124.36556 40.4...</td>\n",
       "      <td>4</td>\n",
       "      <td>0</td>\n",
       "      <td>0</td>\n",
       "      <td>24</td>\n",
       "      <td>0</td>\n",
       "      <td>0</td>\n",
       "      <td>0</td>\n",
       "      <td>0</td>\n",
       "      <td>0</td>\n",
       "      <td>...</td>\n",
       "      <td>0</td>\n",
       "      <td>0</td>\n",
       "      <td>0</td>\n",
       "      <td>0</td>\n",
       "      <td>0</td>\n",
       "      <td>0</td>\n",
       "      <td>0</td>\n",
       "      <td>0</td>\n",
       "      <td>0</td>\n",
       "      <td>0</td>\n",
       "    </tr>\n",
       "  </tbody>\n",
       "</table>\n",
       "<p>5 rows × 5081 columns</p>\n",
       "</div>"
      ],
      "text/plain": [
       "                                            geometry  grid_id  prob_4911  \\\n",
       "0  POLYGON ((-124.36556 40.23088, -124.36556 40.2...        0          0   \n",
       "1  POLYGON ((-124.36556 40.28088, -124.36556 40.3...        1          0   \n",
       "2  POLYGON ((-124.36556 40.33088, -124.36556 40.3...        2          0   \n",
       "3  POLYGON ((-124.36556 40.38088, -124.36556 40.4...        3          0   \n",
       "4  POLYGON ((-124.36556 40.43088, -124.36556 40.4...        4          0   \n",
       "\n",
       "   prob_4912  prob_4922  prob_4923  prob_2329  prob_4927  prob_4930  \\\n",
       "0          0          0          0          0          0          0   \n",
       "1          0          0          0          0          0          0   \n",
       "2          0          0          0          0          0          0   \n",
       "3          0          0          0          0          0          0   \n",
       "4          0         24          0          0          0          0   \n",
       "\n",
       "   prob_4382  ...  prob_14228  prob_202  prob_9006  prob_272  prob_16726  \\\n",
       "0          0  ...           0         0          0         0           0   \n",
       "1          0  ...           0         0          0         0           0   \n",
       "2          0  ...           0         0          0         0           0   \n",
       "3          0  ...           0         0          0         0           0   \n",
       "4          0  ...           0         0          0         0           0   \n",
       "\n",
       "   prob_17029  prob_8230  prob_13366  prob_16533  prob_1455  \n",
       "0           0          0           0           0          0  \n",
       "1           0          0           0           0          0  \n",
       "2           0          0           0           0          0  \n",
       "3           0          0           0           0          0  \n",
       "4           0          0           0           0          0  \n",
       "\n",
       "[5 rows x 5081 columns]"
      ]
     },
     "execution_count": 5,
     "metadata": {},
     "output_type": "execute_result"
    }
   ],
   "source": [
    "kde_gdf = pd.read_pickle(s3_read_path)\n",
    "kde_gdf.head()"
   ]
  },
  {
   "cell_type": "code",
   "execution_count": 17,
   "id": "961c3fcf-40b3-404d-ab8c-d9aa1e9ad4a1",
   "metadata": {},
   "outputs": [
    {
     "data": {
      "text/plain": [
       "5079"
      ]
     },
     "execution_count": 17,
     "metadata": {},
     "output_type": "execute_result"
    }
   ],
   "source": [
    "num_classes = len(kde_gdf.columns) - 2\n",
    "kde_gdf_classes = kde_gdf.columns.to_list()[2:]\n",
    "len(kde_gdf_classes)"
   ]
  },
  {
   "cell_type": "markdown",
   "id": "b7d0c5ff-a8e4-4e57-92c1-56bedbe6d060",
   "metadata": {},
   "source": [
    "## Val observations"
   ]
  },
  {
   "cell_type": "code",
   "execution_count": 30,
   "id": "254c3c5c-58dc-486b-b1cd-8db1222d9b82",
   "metadata": {},
   "outputs": [
    {
     "name": "stdout",
     "output_type": "stream",
     "text": [
      "s3://datasets-sdm/kde/ca/ca_val_obs.pkl\n"
     ]
    }
   ],
   "source": [
    "filename = 'ca_val_obs.pkl'\n",
    "s3_read_path = 's3://{}/{}/{}'.format(BUCKET_NAME, folder, filename)\n",
    "print(s3_read_path)"
   ]
  },
  {
   "cell_type": "code",
   "execution_count": 31,
   "id": "5d53d44f-88f4-411c-bbf7-0feb8cb0668b",
   "metadata": {},
   "outputs": [
    {
     "data": {
      "text/html": [
       "<div>\n",
       "<style scoped>\n",
       "    .dataframe tbody tr th:only-of-type {\n",
       "        vertical-align: middle;\n",
       "    }\n",
       "\n",
       "    .dataframe tbody tr th {\n",
       "        vertical-align: top;\n",
       "    }\n",
       "\n",
       "    .dataframe thead th {\n",
       "        text-align: right;\n",
       "    }\n",
       "</style>\n",
       "<table border=\"1\" class=\"dataframe\">\n",
       "  <thead>\n",
       "    <tr style=\"text-align: right;\">\n",
       "      <th></th>\n",
       "      <th>observation_id</th>\n",
       "      <th>latitude</th>\n",
       "      <th>longitude</th>\n",
       "      <th>species_id</th>\n",
       "      <th>geometry</th>\n",
       "      <th>prob_4911</th>\n",
       "      <th>prob_4912</th>\n",
       "      <th>prob_4922</th>\n",
       "      <th>prob_4923</th>\n",
       "      <th>prob_2329</th>\n",
       "      <th>...</th>\n",
       "      <th>prob_14228</th>\n",
       "      <th>prob_202</th>\n",
       "      <th>prob_9006</th>\n",
       "      <th>prob_272</th>\n",
       "      <th>prob_16726</th>\n",
       "      <th>prob_17029</th>\n",
       "      <th>prob_8230</th>\n",
       "      <th>prob_13366</th>\n",
       "      <th>prob_16533</th>\n",
       "      <th>prob_1455</th>\n",
       "    </tr>\n",
       "  </thead>\n",
       "  <tbody>\n",
       "    <tr>\n",
       "      <th>0</th>\n",
       "      <td>20000282</td>\n",
       "      <td>41.523970</td>\n",
       "      <td>-124.045616</td>\n",
       "      <td>2560</td>\n",
       "      <td>POINT (-124.04562 41.52397)</td>\n",
       "      <td>0.0</td>\n",
       "      <td>0.0</td>\n",
       "      <td>0.0</td>\n",
       "      <td>0.0</td>\n",
       "      <td>0.0</td>\n",
       "      <td>...</td>\n",
       "      <td>0.0</td>\n",
       "      <td>0.0</td>\n",
       "      <td>0.0</td>\n",
       "      <td>0.0</td>\n",
       "      <td>0.0</td>\n",
       "      <td>0.0</td>\n",
       "      <td>0.0</td>\n",
       "      <td>0.0</td>\n",
       "      <td>0.0</td>\n",
       "      <td>0.0</td>\n",
       "    </tr>\n",
       "    <tr>\n",
       "      <th>1</th>\n",
       "      <td>20001056</td>\n",
       "      <td>38.354510</td>\n",
       "      <td>-122.514270</td>\n",
       "      <td>5205</td>\n",
       "      <td>POINT (-122.51427 38.35451)</td>\n",
       "      <td>0.0</td>\n",
       "      <td>0.0</td>\n",
       "      <td>0.0</td>\n",
       "      <td>0.0</td>\n",
       "      <td>0.0</td>\n",
       "      <td>...</td>\n",
       "      <td>0.0</td>\n",
       "      <td>0.0</td>\n",
       "      <td>0.0</td>\n",
       "      <td>0.0</td>\n",
       "      <td>0.0</td>\n",
       "      <td>0.0</td>\n",
       "      <td>0.0</td>\n",
       "      <td>0.0</td>\n",
       "      <td>0.0</td>\n",
       "      <td>0.0</td>\n",
       "    </tr>\n",
       "    <tr>\n",
       "      <th>2</th>\n",
       "      <td>20001135</td>\n",
       "      <td>38.807053</td>\n",
       "      <td>-122.369255</td>\n",
       "      <td>5243</td>\n",
       "      <td>POINT (-122.36925 38.80705)</td>\n",
       "      <td>0.0</td>\n",
       "      <td>0.0</td>\n",
       "      <td>0.0</td>\n",
       "      <td>0.0</td>\n",
       "      <td>0.0</td>\n",
       "      <td>...</td>\n",
       "      <td>0.0</td>\n",
       "      <td>0.0</td>\n",
       "      <td>0.0</td>\n",
       "      <td>0.0</td>\n",
       "      <td>0.0</td>\n",
       "      <td>0.0</td>\n",
       "      <td>0.0</td>\n",
       "      <td>0.0</td>\n",
       "      <td>0.0</td>\n",
       "      <td>0.0</td>\n",
       "    </tr>\n",
       "    <tr>\n",
       "      <th>3</th>\n",
       "      <td>20002394</td>\n",
       "      <td>34.023647</td>\n",
       "      <td>-118.417330</td>\n",
       "      <td>5544</td>\n",
       "      <td>POINT (-118.41733 34.02365)</td>\n",
       "      <td>0.0</td>\n",
       "      <td>0.0</td>\n",
       "      <td>0.0</td>\n",
       "      <td>0.0</td>\n",
       "      <td>0.0</td>\n",
       "      <td>...</td>\n",
       "      <td>0.0</td>\n",
       "      <td>0.0</td>\n",
       "      <td>0.0</td>\n",
       "      <td>0.0</td>\n",
       "      <td>0.0</td>\n",
       "      <td>0.0</td>\n",
       "      <td>0.0</td>\n",
       "      <td>0.0</td>\n",
       "      <td>0.0</td>\n",
       "      <td>0.0</td>\n",
       "    </tr>\n",
       "    <tr>\n",
       "      <th>4</th>\n",
       "      <td>20003318</td>\n",
       "      <td>35.178210</td>\n",
       "      <td>-120.745760</td>\n",
       "      <td>5109</td>\n",
       "      <td>POINT (-120.74576 35.17821)</td>\n",
       "      <td>0.0</td>\n",
       "      <td>0.0</td>\n",
       "      <td>0.0</td>\n",
       "      <td>0.0</td>\n",
       "      <td>0.0</td>\n",
       "      <td>...</td>\n",
       "      <td>0.0</td>\n",
       "      <td>0.0</td>\n",
       "      <td>0.0</td>\n",
       "      <td>0.0</td>\n",
       "      <td>0.0</td>\n",
       "      <td>0.0</td>\n",
       "      <td>0.0</td>\n",
       "      <td>0.0</td>\n",
       "      <td>0.0</td>\n",
       "      <td>0.0</td>\n",
       "    </tr>\n",
       "  </tbody>\n",
       "</table>\n",
       "<p>5 rows × 5084 columns</p>\n",
       "</div>"
      ],
      "text/plain": [
       "   observation_id   latitude   longitude  species_id  \\\n",
       "0        20000282  41.523970 -124.045616        2560   \n",
       "1        20001056  38.354510 -122.514270        5205   \n",
       "2        20001135  38.807053 -122.369255        5243   \n",
       "3        20002394  34.023647 -118.417330        5544   \n",
       "4        20003318  35.178210 -120.745760        5109   \n",
       "\n",
       "                      geometry  prob_4911  prob_4912  prob_4922  prob_4923  \\\n",
       "0  POINT (-124.04562 41.52397)        0.0        0.0        0.0        0.0   \n",
       "1  POINT (-122.51427 38.35451)        0.0        0.0        0.0        0.0   \n",
       "2  POINT (-122.36925 38.80705)        0.0        0.0        0.0        0.0   \n",
       "3  POINT (-118.41733 34.02365)        0.0        0.0        0.0        0.0   \n",
       "4  POINT (-120.74576 35.17821)        0.0        0.0        0.0        0.0   \n",
       "\n",
       "   prob_2329  ...  prob_14228  prob_202  prob_9006  prob_272  prob_16726  \\\n",
       "0        0.0  ...         0.0       0.0        0.0       0.0         0.0   \n",
       "1        0.0  ...         0.0       0.0        0.0       0.0         0.0   \n",
       "2        0.0  ...         0.0       0.0        0.0       0.0         0.0   \n",
       "3        0.0  ...         0.0       0.0        0.0       0.0         0.0   \n",
       "4        0.0  ...         0.0       0.0        0.0       0.0         0.0   \n",
       "\n",
       "   prob_17029  prob_8230  prob_13366  prob_16533  prob_1455  \n",
       "0         0.0        0.0         0.0         0.0        0.0  \n",
       "1         0.0        0.0         0.0         0.0        0.0  \n",
       "2         0.0        0.0         0.0         0.0        0.0  \n",
       "3         0.0        0.0         0.0         0.0        0.0  \n",
       "4         0.0        0.0         0.0         0.0        0.0  \n",
       "\n",
       "[5 rows x 5084 columns]"
      ]
     },
     "execution_count": 31,
     "metadata": {},
     "output_type": "execute_result"
    }
   ],
   "source": [
    "ca_val_gdf = pd.read_pickle(s3_read_path)\n",
    "ca_val_gdf.head()"
   ]
  },
  {
   "cell_type": "markdown",
   "id": "b8b29256-5195-46bb-88c5-cb6f186ffbe7",
   "metadata": {},
   "source": [
    "# Centroids"
   ]
  },
  {
   "cell_type": "markdown",
   "id": "1977319f-2843-4f91-bbd7-010479df7695",
   "metadata": {},
   "source": [
    "## Generate a list of centroids for every grid_id"
   ]
  },
  {
   "cell_type": "code",
   "execution_count": 26,
   "id": "6cfba2dd-3ca1-4b9c-affa-1074809030fa",
   "metadata": {},
   "outputs": [
    {
     "data": {
      "text/html": [
       "<div>\n",
       "<style scoped>\n",
       "    .dataframe tbody tr th:only-of-type {\n",
       "        vertical-align: middle;\n",
       "    }\n",
       "\n",
       "    .dataframe tbody tr th {\n",
       "        vertical-align: top;\n",
       "    }\n",
       "\n",
       "    .dataframe thead th {\n",
       "        text-align: right;\n",
       "    }\n",
       "</style>\n",
       "<table border=\"1\" class=\"dataframe\">\n",
       "  <thead>\n",
       "    <tr style=\"text-align: right;\">\n",
       "      <th></th>\n",
       "      <th>grid_id</th>\n",
       "      <th>lon</th>\n",
       "      <th>lat</th>\n",
       "      <th>geometry</th>\n",
       "    </tr>\n",
       "  </thead>\n",
       "  <tbody>\n",
       "    <tr>\n",
       "      <th>0</th>\n",
       "      <td>0</td>\n",
       "      <td>-124.390558</td>\n",
       "      <td>40.255879</td>\n",
       "      <td>POINT (-124.39056 40.25588)</td>\n",
       "    </tr>\n",
       "    <tr>\n",
       "      <th>1</th>\n",
       "      <td>1</td>\n",
       "      <td>-124.390558</td>\n",
       "      <td>40.305879</td>\n",
       "      <td>POINT (-124.39056 40.30588)</td>\n",
       "    </tr>\n",
       "    <tr>\n",
       "      <th>2</th>\n",
       "      <td>2</td>\n",
       "      <td>-124.390558</td>\n",
       "      <td>40.355879</td>\n",
       "      <td>POINT (-124.39056 40.35588)</td>\n",
       "    </tr>\n",
       "    <tr>\n",
       "      <th>3</th>\n",
       "      <td>3</td>\n",
       "      <td>-124.390558</td>\n",
       "      <td>40.405879</td>\n",
       "      <td>POINT (-124.39056 40.40588)</td>\n",
       "    </tr>\n",
       "    <tr>\n",
       "      <th>4</th>\n",
       "      <td>4</td>\n",
       "      <td>-124.390558</td>\n",
       "      <td>40.455879</td>\n",
       "      <td>POINT (-124.39056 40.45588)</td>\n",
       "    </tr>\n",
       "  </tbody>\n",
       "</table>\n",
       "</div>"
      ],
      "text/plain": [
       "   grid_id         lon        lat                     geometry\n",
       "0        0 -124.390558  40.255879  POINT (-124.39056 40.25588)\n",
       "1        1 -124.390558  40.305879  POINT (-124.39056 40.30588)\n",
       "2        2 -124.390558  40.355879  POINT (-124.39056 40.35588)\n",
       "3        3 -124.390558  40.405879  POINT (-124.39056 40.40588)\n",
       "4        4 -124.390558  40.455879  POINT (-124.39056 40.45588)"
      ]
     },
     "execution_count": 26,
     "metadata": {},
     "output_type": "execute_result"
    }
   ],
   "source": [
    "centroids = create_centroids_gdf(kde_gdf)\n",
    "centroids.head()"
   ]
  },
  {
   "cell_type": "markdown",
   "id": "94f6376a-77cd-4b3b-8f54-8961a11acdb9",
   "metadata": {},
   "source": [
    "## Fetch their URLs for Sentinel-2"
   ]
  },
  {
   "cell_type": "code",
   "execution_count": 27,
   "id": "8869cfc4-918a-4b61-9449-3fbb93c4f33a",
   "metadata": {},
   "outputs": [
    {
     "name": "stdout",
     "output_type": "stream",
     "text": [
      "Organizing grid centroids according to Hilbert distance...\n",
      "Attemping to create a new dask client\n",
      "https://pccompute.westeurope.cloudapp.azure.com/compute/services/dask-gateway/clusters/prod.4893bcacce13496ea6950910b22ad859/status\n",
      "<Client: 'tls://10.244.159.72:8786' processes=0 threads=0, memory=0 B>\n",
      "32610\n",
      "17173 URLs acquired. Shutting Down Cluster\n",
      "CPU times: user 991 ms, sys: 110 ms, total: 1.1 s\n",
      "Wall time: 1min 3s\n"
     ]
    }
   ],
   "source": [
    "%%time\n",
    "centroids = add_sentinel_urls(centroids)\n"
   ]
  },
  {
   "cell_type": "code",
   "execution_count": 29,
   "id": "16e84d0f-5b98-4dfd-bb20-4b170af4c085",
   "metadata": {},
   "outputs": [
    {
     "data": {
      "text/html": [
       "<div>\n",
       "<style scoped>\n",
       "    .dataframe tbody tr th:only-of-type {\n",
       "        vertical-align: middle;\n",
       "    }\n",
       "\n",
       "    .dataframe tbody tr th {\n",
       "        vertical-align: top;\n",
       "    }\n",
       "\n",
       "    .dataframe thead th {\n",
       "        text-align: right;\n",
       "    }\n",
       "</style>\n",
       "<table border=\"1\" class=\"dataframe\">\n",
       "  <thead>\n",
       "    <tr style=\"text-align: right;\">\n",
       "      <th></th>\n",
       "      <th>lon</th>\n",
       "      <th>lat</th>\n",
       "      <th>geometry</th>\n",
       "      <th>urls</th>\n",
       "      <th>crs</th>\n",
       "    </tr>\n",
       "  </thead>\n",
       "  <tbody>\n",
       "    <tr>\n",
       "      <th>0</th>\n",
       "      <td>-119.590558</td>\n",
       "      <td>33.25588</td>\n",
       "      <td>POINT (-119.59056 33.25588)</td>\n",
       "      <td>(https://sentinel2l2a01.blob.core.windows.net/...</td>\n",
       "      <td>32611</td>\n",
       "    </tr>\n",
       "    <tr>\n",
       "      <th>1</th>\n",
       "      <td>-119.490558</td>\n",
       "      <td>33.20588</td>\n",
       "      <td>POINT (-119.49056 33.20588)</td>\n",
       "      <td>(https://sentinel2l2a01.blob.core.windows.net/...</td>\n",
       "      <td>32611</td>\n",
       "    </tr>\n",
       "    <tr>\n",
       "      <th>2</th>\n",
       "      <td>-119.440558</td>\n",
       "      <td>33.20588</td>\n",
       "      <td>POINT (-119.44056 33.20588)</td>\n",
       "      <td>(https://sentinel2l2a01.blob.core.windows.net/...</td>\n",
       "      <td>32611</td>\n",
       "    </tr>\n",
       "    <tr>\n",
       "      <th>3</th>\n",
       "      <td>-119.440558</td>\n",
       "      <td>33.25588</td>\n",
       "      <td>POINT (-119.44056 33.25588)</td>\n",
       "      <td>(https://sentinel2l2a01.blob.core.windows.net/...</td>\n",
       "      <td>32611</td>\n",
       "    </tr>\n",
       "    <tr>\n",
       "      <th>4</th>\n",
       "      <td>-119.490558</td>\n",
       "      <td>33.25588</td>\n",
       "      <td>POINT (-119.49056 33.25588)</td>\n",
       "      <td>(https://sentinel2l2a01.blob.core.windows.net/...</td>\n",
       "      <td>32611</td>\n",
       "    </tr>\n",
       "    <tr>\n",
       "      <th>...</th>\n",
       "      <td>...</td>\n",
       "      <td>...</td>\n",
       "      <td>...</td>\n",
       "      <td>...</td>\n",
       "      <td>...</td>\n",
       "    </tr>\n",
       "    <tr>\n",
       "      <th>17168</th>\n",
       "      <td>-114.590558</td>\n",
       "      <td>32.80588</td>\n",
       "      <td>POINT (-114.59056 32.80588)</td>\n",
       "      <td>(https://sentinel2l2a01.blob.core.windows.net/...</td>\n",
       "      <td>32611</td>\n",
       "    </tr>\n",
       "    <tr>\n",
       "      <th>17169</th>\n",
       "      <td>-114.540558</td>\n",
       "      <td>32.80588</td>\n",
       "      <td>POINT (-114.54056 32.80588)</td>\n",
       "      <td>(https://sentinel2l2a01.blob.core.windows.net/...</td>\n",
       "      <td>32611</td>\n",
       "    </tr>\n",
       "    <tr>\n",
       "      <th>17170</th>\n",
       "      <td>-114.540558</td>\n",
       "      <td>32.85588</td>\n",
       "      <td>POINT (-114.54056 32.85588)</td>\n",
       "      <td>(https://sentinel2l2a01.blob.core.windows.net/...</td>\n",
       "      <td>32611</td>\n",
       "    </tr>\n",
       "    <tr>\n",
       "      <th>17171</th>\n",
       "      <td>-114.490558</td>\n",
       "      <td>32.85588</td>\n",
       "      <td>POINT (-114.49056 32.85588)</td>\n",
       "      <td>(https://sentinel2l2a01.blob.core.windows.net/...</td>\n",
       "      <td>32611</td>\n",
       "    </tr>\n",
       "    <tr>\n",
       "      <th>17172</th>\n",
       "      <td>-114.490558</td>\n",
       "      <td>32.80588</td>\n",
       "      <td>POINT (-114.49056 32.80588)</td>\n",
       "      <td>(https://sentinel2l2a01.blob.core.windows.net/...</td>\n",
       "      <td>32611</td>\n",
       "    </tr>\n",
       "  </tbody>\n",
       "</table>\n",
       "<p>17173 rows × 5 columns</p>\n",
       "</div>"
      ],
      "text/plain": [
       "              lon       lat                     geometry  \\\n",
       "0     -119.590558  33.25588  POINT (-119.59056 33.25588)   \n",
       "1     -119.490558  33.20588  POINT (-119.49056 33.20588)   \n",
       "2     -119.440558  33.20588  POINT (-119.44056 33.20588)   \n",
       "3     -119.440558  33.25588  POINT (-119.44056 33.25588)   \n",
       "4     -119.490558  33.25588  POINT (-119.49056 33.25588)   \n",
       "...           ...       ...                          ...   \n",
       "17168 -114.590558  32.80588  POINT (-114.59056 32.80588)   \n",
       "17169 -114.540558  32.80588  POINT (-114.54056 32.80588)   \n",
       "17170 -114.540558  32.85588  POINT (-114.54056 32.85588)   \n",
       "17171 -114.490558  32.85588  POINT (-114.49056 32.85588)   \n",
       "17172 -114.490558  32.80588  POINT (-114.49056 32.80588)   \n",
       "\n",
       "                                                    urls    crs  \n",
       "0      (https://sentinel2l2a01.blob.core.windows.net/...  32611  \n",
       "1      (https://sentinel2l2a01.blob.core.windows.net/...  32611  \n",
       "2      (https://sentinel2l2a01.blob.core.windows.net/...  32611  \n",
       "3      (https://sentinel2l2a01.blob.core.windows.net/...  32611  \n",
       "4      (https://sentinel2l2a01.blob.core.windows.net/...  32611  \n",
       "...                                                  ...    ...  \n",
       "17168  (https://sentinel2l2a01.blob.core.windows.net/...  32611  \n",
       "17169  (https://sentinel2l2a01.blob.core.windows.net/...  32611  \n",
       "17170  (https://sentinel2l2a01.blob.core.windows.net/...  32611  \n",
       "17171  (https://sentinel2l2a01.blob.core.windows.net/...  32611  \n",
       "17172  (https://sentinel2l2a01.blob.core.windows.net/...  32611  \n",
       "\n",
       "[17173 rows x 5 columns]"
      ]
     },
     "execution_count": 29,
     "metadata": {},
     "output_type": "execute_result"
    }
   ],
   "source": [
    "centroids"
   ]
  },
  {
   "cell_type": "code",
   "execution_count": 146,
   "id": "3ae5b107-c6f6-435a-acd7-d4d9100794d7",
   "metadata": {},
   "outputs": [
    {
     "data": {
      "text/plain": [
       "('https://sentinel2l2a01.blob.core.windows.net/sentinel2-l2/11/S/PS/2019/11/17/S2A_MSIL2A_20191117T182641_N0212_R127_T11SPS_20201003T172221.SAFE/GRANULE/L2A_T11SPS_A023004_20191117T183204/IMG_DATA/R10m/T11SPS_20191117T182641_TCI_10m.tif?st=2022-12-07T01%3A43%3A31Z&se=2022-12-08T09%3A43%3A31Z&sp=rl&sv=2021-06-08&sr=c&skoid=c85c15d6-d1ae-42d4-af60-e2ca0f81359b&sktid=72f988bf-86f1-41af-91ab-2d7cd011db47&skt=2022-12-07T22%3A05%3A30Z&ske=2022-12-14T22%3A05%3A30Z&sks=b&skv=2021-06-08&sig=8je/7XBFUD7Yl1vjrzDVBmnQiSFnEQwCq3WcenvSwUc%3D',\n",
       " 'https://sentinel2l2a01.blob.core.windows.net/sentinel2-l2/11/S/PS/2019/11/17/S2A_MSIL2A_20191117T182641_N0212_R127_T11SPS_20201003T172221.SAFE/GRANULE/L2A_T11SPS_A023004_20191117T183204/IMG_DATA/R10m/T11SPS_20191117T182641_B08_10m.tif?st=2022-12-07T01%3A43%3A31Z&se=2022-12-08T09%3A43%3A31Z&sp=rl&sv=2021-06-08&sr=c&skoid=c85c15d6-d1ae-42d4-af60-e2ca0f81359b&sktid=72f988bf-86f1-41af-91ab-2d7cd011db47&skt=2022-12-07T22%3A05%3A30Z&ske=2022-12-14T22%3A05%3A30Z&sks=b&skv=2021-06-08&sig=8je/7XBFUD7Yl1vjrzDVBmnQiSFnEQwCq3WcenvSwUc%3D')"
      ]
     },
     "execution_count": 146,
     "metadata": {},
     "output_type": "execute_result"
    }
   ],
   "source": [
    "centroids.urls[17000]"
   ]
  },
  {
   "cell_type": "markdown",
   "id": "6d4c88a8-b9dc-4fa8-acbe-7f551c01d8f2",
   "metadata": {},
   "source": [
    "# Dataset"
   ]
  },
  {
   "cell_type": "code",
   "execution_count": 10,
   "id": "e20b75c6-3706-4388-9a12-0253553bcfed",
   "metadata": {},
   "outputs": [],
   "source": [
    "%load_ext autoreload"
   ]
  },
  {
   "cell_type": "code",
   "execution_count": 30,
   "id": "883f053b-ecc8-4312-a5bd-e77eaa80f811",
   "metadata": {},
   "outputs": [
    {
     "name": "stdout",
     "output_type": "stream",
     "text": [
      "s3://datasets-sdm/geoLifeCLEF/rasters/\n"
     ]
    }
   ],
   "source": [
    "BUCKET_NAME = 'datasets-sdm'\n",
    "folder = 'geoLifeCLEF/rasters'\n",
    "s3_raster_path = 's3://{}/{}/'.format(BUCKET_NAME, folder)\n",
    "print(s3_raster_path)"
   ]
  },
  {
   "cell_type": "code",
   "execution_count": 155,
   "id": "ebdbc5f2-54ce-44b0-95c7-f189b7088e56",
   "metadata": {},
   "outputs": [],
   "source": [
    "%autoreload 2\n",
    "from dataset import Dataset\n"
   ]
  },
  {
   "cell_type": "code",
   "execution_count": 49,
   "id": "8232c51a-567a-4266-b207-712b269dc00c",
   "metadata": {},
   "outputs": [],
   "source": [
    "SIDE_PX = 64"
   ]
  },
  {
   "cell_type": "code",
   "execution_count": 124,
   "id": "e3cb7b4e-e8e5-4f43-a0a8-965760a72d9c",
   "metadata": {},
   "outputs": [],
   "source": [
    "from torchvision import transforms\n",
    "# target_transform = transforms.Compose([\n",
    "#     transforms.ToTensor(),\n",
    "#     # scales pixel values to range [-1, 1]\n",
    "#     transforms.Normalize((0.5, 0.5, 0.5), (0.5, 0.5, 0.5)),                                      \n",
    "# ])\n",
    "\n",
    "si_transform = transforms.Compose([\n",
    "    # transforms.ToTensor(),\n",
    "    # scales pixel values to range [-1, 1]\n",
    "    transforms.Normalize(0.5, 0.5),                                      \n",
    "])"
   ]
  },
  {
   "cell_type": "code",
   "execution_count": 183,
   "id": "35fa80e4-a474-4753-aec6-818b5f95d9e2",
   "metadata": {},
   "outputs": [
    {
     "name": "stdout",
     "output_type": "stream",
     "text": [
      "Setting up SI Patch Extractor..\n",
      "Setting up env raster extractor..\n",
      "Processing Raster file for  bio_1\n",
      "Processing Raster file for  bio_2\n",
      "Processing Raster file for  bio_3\n",
      "Processing Raster file for  bio_4\n",
      "Processing Raster file for  bio_5\n",
      "Processing Raster file for  bio_6\n",
      "Processing Raster file for  bio_7\n",
      "Processing Raster file for  bio_8\n",
      "Processing Raster file for  bio_9\n",
      "Processing Raster file for  bio_10\n",
      "Processing Raster file for  bio_11\n",
      "Processing Raster file for  bio_12\n",
      "Processing Raster file for  bio_13\n",
      "Processing Raster file for  bio_14\n",
      "Processing Raster file for  bio_15\n",
      "Processing Raster file for  bio_16\n",
      "Processing Raster file for  bio_17\n",
      "Processing Raster file for  bio_18\n",
      "Processing Raster file for  bio_19\n",
      "Processing Raster file for  bdticm\n",
      "Processing Raster file for  bldfie\n",
      "Processing Raster file for  cecsol\n",
      "Processing Raster file for  clyppt\n",
      "Processing Raster file for  orcdrc\n",
      "Processing Raster file for  phihox\n",
      "Processing Raster file for  sltppt\n",
      "Processing Raster file for  sndppt\n"
     ]
    }
   ],
   "source": [
    "train_set = Dataset(raster_root=s3_raster_path, subset=\"train\", centroids=centroids, observations=kde_gdf, side_len_m=50000,side_px=SIDE_PX)"
   ]
  },
  {
   "cell_type": "code",
   "execution_count": 184,
   "id": "5e33c90d-1f37-4d4a-97ef-c2a98cc799b8",
   "metadata": {},
   "outputs": [
    {
     "name": "stdout",
     "output_type": "stream",
     "text": [
      "Extracting SI patches...\n",
      "RGB max =  254\n",
      "NIR max =  4699\n",
      "torch.Size([3, 64, 64]) torch.Size([1, 64, 64])\n",
      "Extracting env patches...\n",
      "bio_1 tensor(2.1314, dtype=torch.float64) tensor(1.6443, dtype=torch.float64)\n",
      "bio_2 tensor(1.6844, dtype=torch.float64) tensor(0.2762, dtype=torch.float64)\n",
      "bio_3 tensor(0.9563, dtype=torch.float64) tensor(0.5136, dtype=torch.float64)\n",
      "bio_4 tensor(-0.1874, dtype=torch.float64) tensor(-0.5200, dtype=torch.float64)\n",
      "bio_5 tensor(3.0680, dtype=torch.float64) tensor(2.1821, dtype=torch.float64)\n",
      "bio_6 tensor(1.7419, dtype=torch.float64) tensor(1.3643, dtype=torch.float64)\n",
      "bio_7 tensor(0.1769, dtype=torch.float64) tensor(-0.5960, dtype=torch.float64)\n",
      "bio_8 tensor(2.1710, dtype=torch.float64) tensor(-0.4464, dtype=torch.float64)\n",
      "bio_9 tensor(1.8309, dtype=torch.float64) tensor(1.5286, dtype=torch.float64)\n",
      "bio_10 tensor(2.7347, dtype=torch.float64) tensor(2.0032, dtype=torch.float64)\n",
      "bio_11 tensor(1.7472, dtype=torch.float64) tensor(1.4319, dtype=torch.float64)\n",
      "bio_12 tensor(-1.5019, dtype=torch.float64) tensor(-1.6501, dtype=torch.float64)\n",
      "bio_13 tensor(-1.5074, dtype=torch.float64) tensor(-1.7172, dtype=torch.float64)\n",
      "bio_14 tensor(-1.1545, dtype=torch.float64) tensor(-1.1921, dtype=torch.float64)\n",
      "bio_15 tensor(0.6069, dtype=torch.float64) tensor(0.2383, dtype=torch.float64)\n",
      "bio_16 tensor(-1.5499, dtype=torch.float64) tensor(-1.6990, dtype=torch.float64)\n",
      "bio_17 tensor(-1.1727, dtype=torch.float64) tensor(-1.2299, dtype=torch.float64)\n",
      "bio_18 tensor(-1.5981, dtype=torch.float64) tensor(-1.7778, dtype=torch.float64)\n",
      "bio_19 tensor(-0.7529, dtype=torch.float64) tensor(-0.8836, dtype=torch.float64)\n",
      "bdticm tensor(6.9752, dtype=torch.float64) tensor(-0.8112, dtype=torch.float64)\n",
      "bldfie tensor(1.5410, dtype=torch.float64) tensor(0.8076, dtype=torch.float64)\n",
      "cecsol tensor(1.1091, dtype=torch.float64) tensor(-1.8746, dtype=torch.float64)\n",
      "clyppt tensor(1.9094, dtype=torch.float64) tensor(-0.1854, dtype=torch.float64)\n",
      "orcdrc tensor(-0.7948, dtype=torch.float64) tensor(-1.0102, dtype=torch.float64)\n",
      "phihox tensor(1.8325, dtype=torch.float64) tensor(1.1628, dtype=torch.float64)\n",
      "sltppt tensor(-0.6578, dtype=torch.float64) tensor(-2.4819, dtype=torch.float64)\n",
      "sndppt tensor(1.3527, dtype=torch.float64) tensor(-0.1927, dtype=torch.float64)\n",
      "Pre-SI transform[torch.Size([4, 64, 64])]: 0.9961/0.1263\n",
      "Post-SI transform[torch.Size([4, 64, 64])]: 0.9961/0.1263\n",
      "torch.Size([31, 64, 64])\n",
      "CPU times: user 2.01 s, sys: 87.6 ms, total: 2.1 s\n",
      "Wall time: 4.87 s\n"
     ]
    }
   ],
   "source": [
    "%%time\n",
    "# (patch, target) = train_set[2708]\n",
    "(patch, target) = train_set[17000]"
   ]
  },
  {
   "cell_type": "code",
   "execution_count": 185,
   "id": "9c847b56-9578-43ad-a820-39619e4e811b",
   "metadata": {},
   "outputs": [
    {
     "data": {
      "text/plain": [
       "(tensor(6.9752, dtype=torch.float64),\n",
       " tensor(-2.4819, dtype=torch.float64),\n",
       " tensor(0.9961, dtype=torch.float64),\n",
       " tensor(0.1882, dtype=torch.float64),\n",
       " tensor(0.4699, dtype=torch.float64),\n",
       " tensor(0.1263, dtype=torch.float64))"
      ]
     },
     "execution_count": 185,
     "metadata": {},
     "output_type": "execute_result"
    }
   ],
   "source": [
    "patch[4:,:,:].max(), patch[4:,:,:].min(), patch[0:3,:,:].max(), patch[0:3,:,:].min(), patch[3,:,:].max(), patch[3,:,:].min()"
   ]
  },
  {
   "cell_type": "code",
   "execution_count": 190,
   "id": "2db98e6a-2c87-48c3-a5ea-ed6b5faaed6d",
   "metadata": {},
   "outputs": [
    {
     "data": {
      "image/png": "[encoded data removed]",
      "text/plain": [
       "<Figure size 640x480 with 2 Axes>"
      ]
     },
     "metadata": {},
     "output_type": "display_data"
    }
   ],
   "source": [
    "img = patch[0:3,:,:]\n",
    "img = img.numpy()\n",
    "img = img.transpose([1, 2, 0])\n",
    "plt.imshow(img, vmax=1)\n",
    "plt.colorbar()\n",
    "plt.show()"
   ]
  },
  {
   "cell_type": "code",
   "execution_count": 188,
   "id": "089d4638-4bfd-4ed9-a8e6-ecb15b3639bf",
   "metadata": {},
   "outputs": [
    {
     "data": {
      "text/plain": [
       "(tensor(0.4699, dtype=torch.float64), tensor(0.4699, dtype=torch.float64))"
      ]
     },
     "execution_count": 188,
     "metadata": {},
     "output_type": "execute_result"
    },
    {
     "data": {
      "image/png": "[encoded data removed]",
      "text/plain": [
       "<Figure size 640x480 with 2 Axes>"
      ]
     },
     "metadata": {},
     "output_type": "display_data"
    }
   ],
   "source": [
    "\n",
    "NIR_image = patch[3].unsqueeze(dim=0)#-> Remove first dim (channel) \n",
    "# add a new subplot iteratively\n",
    "\n",
    "plt.imshow(NIR_image.permute(1, 2, 0),vmax=1)#, vmax=1.0)\n",
    "plt.colorbar()\n",
    "NIR_image.max(), patch[3].max()"
   ]
  },
  {
   "cell_type": "code",
   "execution_count": 62,
   "id": "aaa607c8-b9a8-460f-9183-ca864a9bb31f",
   "metadata": {},
   "outputs": [
    {
     "data": {
      "text/plain": [
       "5539"
      ]
     },
     "execution_count": 62,
     "metadata": {},
     "output_type": "execute_result"
    }
   ],
   "source": [
    "import gc\n",
    "del train_set\n",
    "gc.collect()"
   ]
  },
  {
   "cell_type": "code",
   "execution_count": 195,
   "id": "9719c98b-5801-4d9c-89c4-4393d0c931b6",
   "metadata": {},
   "outputs": [
    {
     "data": {
      "text/plain": [
       "True"
      ]
     },
     "execution_count": 195,
     "metadata": {},
     "output_type": "execute_result"
    }
   ],
   "source": [
    "train_set.training_data"
   ]
  },
  {
   "cell_type": "code",
   "execution_count": 94,
   "id": "a7c20a1f-66b0-4820-b3d3-5b9323409503",
   "metadata": {},
   "outputs": [
    {
     "data": {
      "text/plain": [
       "True"
      ]
     },
     "execution_count": 94,
     "metadata": {},
     "output_type": "execute_result"
    }
   ],
   "source": [
    "torch.cuda.is_available()"
   ]
  },
  {
   "cell_type": "code",
   "execution_count": 98,
   "id": "0b422eb0-ef87-4c8d-8c46-939c47854768",
   "metadata": {},
   "outputs": [
    {
     "data": {
      "text/plain": [
       "(17173, 17173)"
      ]
     },
     "execution_count": 98,
     "metadata": {},
     "output_type": "execute_result"
    }
   ],
   "source": [
    "len(train_set.observations), len(train_set.centroids)"
   ]
  },
  {
   "cell_type": "code",
   "execution_count": 196,
   "id": "bc4d1141-9200-4724-bc88-24f3fbe2ba6e",
   "metadata": {},
   "outputs": [
    {
     "name": "stderr",
     "output_type": "stream",
     "text": [
      "/srv/conda/envs/notebook/lib/python3.9/site-packages/torch/utils/data/dataloader.py:563: UserWarning: This DataLoader will create 8 worker processes in total. Our suggested max number of worker in current system is 4, which is smaller than what this DataLoader is going to create. Please be aware that excessive worker creation might get DataLoader running slow or even freeze, lower the worker number to avoid potential slowness/freeze if necessary.\n",
      "  warnings.warn(_create_warning_msg(\n"
     ]
    }
   ],
   "source": [
    "train_loader = torch.utils.data.DataLoader(train_set, shuffle=True, batch_size=64,  num_workers=8)"
   ]
  },
  {
   "cell_type": "markdown",
   "id": "687e0b22-2732-4952-9c75-c35b9a87db4b",
   "metadata": {},
   "source": [
    "## Test BCELoss"
   ]
  },
  {
   "cell_type": "code",
   "execution_count": 197,
   "id": "9efd217e-7de2-4464-a65f-296eb642289f",
   "metadata": {},
   "outputs": [
    {
     "name": "stdout",
     "output_type": "stream",
     "text": [
      "5079 5079\n",
      "tensor(0.8050, dtype=torch.float64)\n"
     ]
    }
   ],
   "source": [
    "batch_size = 8\n",
    "\n",
    "loss_fn = torch.nn.BCELoss()\n",
    "\n",
    "# outputs_before_sigmoid = torch.randn(batch_size, num_classes)\n",
    "outputs_before_sigmoid = torch.randn(num_classes, dtype=float)\n",
    "sigmoid_outputs = torch.sigmoid(outputs_before_sigmoid)\n",
    "# target_classes = torch.randint(0, 2, (batch_size, num_classes),dtype=torch.float)  # randints in [0, 2).\n",
    "\n",
    "# target_classes = torch.tensor([[1.0],[0.0]])\n",
    "# sigmoid_outputs = torch.tensor([[0.8],[0.]])\n",
    "print(len(sigmoid_outputs), len(target))\n",
    "# print(type(sigmoid_outputs), type(torch.from_numpy(target)))\n",
    "loss = loss_fn(sigmoid_outputs, target)\n",
    "print(loss)"
   ]
  },
  {
   "cell_type": "code",
   "execution_count": 132,
   "id": "0f1a78fb-6230-4b57-bbce-ba9591b0d3a1",
   "metadata": {},
   "outputs": [
    {
     "data": {
      "text/plain": [
       "tensor([0., 0., 0.,  ..., 0., 0., 0.], dtype=torch.float64)"
      ]
     },
     "execution_count": 132,
     "metadata": {},
     "output_type": "execute_result"
    }
   ],
   "source": [
    "torch.from_numpy(target)"
   ]
  },
  {
   "cell_type": "markdown",
   "id": "7ade6816-ea84-4f02-89b9-a47dfe9e8042",
   "metadata": {},
   "source": [
    "# CNN"
   ]
  },
  {
   "cell_type": "code",
   "execution_count": 200,
   "id": "ced1397a-2347-497b-bd3b-41db1f81c056",
   "metadata": {},
   "outputs": [
    {
     "data": {
      "text/plain": [
       "5079"
      ]
     },
     "execution_count": 200,
     "metadata": {},
     "output_type": "execute_result"
    }
   ],
   "source": [
    "# model params\n",
    "DROPOUT = 0.7\n",
    "N_LABELS = num_classes\n",
    "# N_INPUTS = patch.shape[0]\n",
    "N_INPUTS = 27\n",
    "N_LABELS"
   ]
  },
  {
   "cell_type": "code",
   "execution_count": 201,
   "id": "c92674e5-df74-44a6-93ef-dfa26f1761a0",
   "metadata": {},
   "outputs": [
    {
     "data": {
      "text/plain": [
       "device(type='cuda', index=0)"
      ]
     },
     "execution_count": 201,
     "metadata": {},
     "output_type": "execute_result"
    }
   ],
   "source": [
    "device = torch.device('cuda:0' if torch.cuda.is_available() else 'cpu')\n",
    "device"
   ]
  },
  {
   "cell_type": "code",
   "execution_count": 202,
   "id": "026aa67e-2d5b-48b1-b6b2-9e67f7345e34",
   "metadata": {},
   "outputs": [],
   "source": [
    "%autoreload 2\n",
    "from inception_env import InceptionEnv"
   ]
  },
  {
   "cell_type": "code",
   "execution_count": 203,
   "id": "4416393c-e86e-44bb-a5ac-29b055241f45",
   "metadata": {},
   "outputs": [
    {
     "name": "stdout",
     "output_type": "stream",
     "text": [
      "Training on GPU\n"
     ]
    }
   ],
   "source": [
    "# CONSTRUCT MODEL\n",
    "model = InceptionEnv(dropout=DROPOUT, n_labels=N_LABELS, n_input=N_INPUTS)\n",
    "\n",
    "#Load model on GPU\n",
    "if torch.cuda.is_available():\n",
    "    # check if GPU is available\n",
    "    print(\"Training on GPU\")\n",
    "    model = model.to(device)\n",
    "    model = torch.nn.DataParallel(model, device_ids=[i for i in range(torch.cuda.device_count())])\n",
    "else:\n",
    "    print(\"Training on CPU\")\n"
   ]
  },
  {
   "cell_type": "code",
   "execution_count": 204,
   "id": "1bb7bcb3-497e-4215-933c-6fff884608e4",
   "metadata": {},
   "outputs": [
    {
     "name": "stdout",
     "output_type": "stream",
     "text": [
      "----------------------------------------------------------------\n",
      "        Layer (type)               Output Shape         Param #\n",
      "================================================================\n",
      "            Conv2d-1           [-1, 80, 64, 64]          19,440\n",
      "       BatchNorm2d-2           [-1, 80, 64, 64]             160\n",
      "       BasicConv2d-3           [-1, 80, 64, 64]               0\n",
      "            Conv2d-4           [-1, 80, 64, 64]          57,600\n",
      "       BatchNorm2d-5           [-1, 80, 64, 64]             160\n",
      "       BasicConv2d-6           [-1, 80, 64, 64]               0\n",
      "            Conv2d-7          [-1, 100, 64, 64]          72,000\n",
      "       BatchNorm2d-8          [-1, 100, 64, 64]             200\n",
      "       BasicConv2d-9          [-1, 100, 64, 64]               0\n",
      "           Conv2d-10          [-1, 124, 64, 64]          12,400\n",
      "      BatchNorm2d-11          [-1, 124, 64, 64]             248\n",
      "      BasicConv2d-12          [-1, 124, 64, 64]               0\n",
      "           Conv2d-13          [-1, 192, 64, 64]         214,272\n",
      "      BatchNorm2d-14          [-1, 192, 64, 64]             384\n",
      "      BasicConv2d-15          [-1, 192, 64, 64]               0\n",
      "           Conv2d-16           [-1, 64, 32, 32]          12,288\n",
      "      BatchNorm2d-17           [-1, 64, 32, 32]             128\n",
      "      BasicConv2d-18           [-1, 64, 32, 32]               0\n",
      "           Conv2d-19           [-1, 48, 32, 32]           9,216\n",
      "      BatchNorm2d-20           [-1, 48, 32, 32]              96\n",
      "      BasicConv2d-21           [-1, 48, 32, 32]               0\n",
      "           Conv2d-22           [-1, 64, 32, 32]          76,800\n",
      "      BatchNorm2d-23           [-1, 64, 32, 32]             128\n",
      "      BasicConv2d-24           [-1, 64, 32, 32]               0\n",
      "           Conv2d-25           [-1, 64, 32, 32]          12,288\n",
      "      BatchNorm2d-26           [-1, 64, 32, 32]             128\n",
      "      BasicConv2d-27           [-1, 64, 32, 32]               0\n",
      "           Conv2d-28           [-1, 96, 32, 32]          55,296\n",
      "      BatchNorm2d-29           [-1, 96, 32, 32]             192\n",
      "      BasicConv2d-30           [-1, 96, 32, 32]               0\n",
      "           Conv2d-31           [-1, 96, 32, 32]          82,944\n",
      "      BatchNorm2d-32           [-1, 96, 32, 32]             192\n",
      "      BasicConv2d-33           [-1, 96, 32, 32]               0\n",
      "           Conv2d-34           [-1, 32, 32, 32]           6,144\n",
      "      BatchNorm2d-35           [-1, 32, 32, 32]              64\n",
      "      BasicConv2d-36           [-1, 32, 32, 32]               0\n",
      "       InceptionA-37          [-1, 256, 32, 32]               0\n",
      "           Conv2d-38           [-1, 64, 32, 32]          16,384\n",
      "      BatchNorm2d-39           [-1, 64, 32, 32]             128\n",
      "      BasicConv2d-40           [-1, 64, 32, 32]               0\n",
      "           Conv2d-41           [-1, 48, 32, 32]          12,288\n",
      "      BatchNorm2d-42           [-1, 48, 32, 32]              96\n",
      "      BasicConv2d-43           [-1, 48, 32, 32]               0\n",
      "           Conv2d-44           [-1, 64, 32, 32]          76,800\n",
      "      BatchNorm2d-45           [-1, 64, 32, 32]             128\n",
      "      BasicConv2d-46           [-1, 64, 32, 32]               0\n",
      "           Conv2d-47           [-1, 64, 32, 32]          16,384\n",
      "      BatchNorm2d-48           [-1, 64, 32, 32]             128\n",
      "      BasicConv2d-49           [-1, 64, 32, 32]               0\n",
      "           Conv2d-50           [-1, 96, 32, 32]          55,296\n",
      "      BatchNorm2d-51           [-1, 96, 32, 32]             192\n",
      "      BasicConv2d-52           [-1, 96, 32, 32]               0\n",
      "           Conv2d-53           [-1, 96, 32, 32]          82,944\n",
      "      BatchNorm2d-54           [-1, 96, 32, 32]             192\n",
      "      BasicConv2d-55           [-1, 96, 32, 32]               0\n",
      "           Conv2d-56           [-1, 64, 32, 32]          16,384\n",
      "      BatchNorm2d-57           [-1, 64, 32, 32]             128\n",
      "      BasicConv2d-58           [-1, 64, 32, 32]               0\n",
      "       InceptionA-59          [-1, 288, 32, 32]               0\n",
      "           Conv2d-60           [-1, 64, 32, 32]          18,432\n",
      "      BatchNorm2d-61           [-1, 64, 32, 32]             128\n",
      "      BasicConv2d-62           [-1, 64, 32, 32]               0\n",
      "           Conv2d-63           [-1, 48, 32, 32]          13,824\n",
      "      BatchNorm2d-64           [-1, 48, 32, 32]              96\n",
      "      BasicConv2d-65           [-1, 48, 32, 32]               0\n",
      "           Conv2d-66           [-1, 64, 32, 32]          76,800\n",
      "      BatchNorm2d-67           [-1, 64, 32, 32]             128\n",
      "      BasicConv2d-68           [-1, 64, 32, 32]               0\n",
      "           Conv2d-69           [-1, 64, 32, 32]          18,432\n",
      "      BatchNorm2d-70           [-1, 64, 32, 32]             128\n",
      "      BasicConv2d-71           [-1, 64, 32, 32]               0\n",
      "           Conv2d-72           [-1, 96, 32, 32]          55,296\n",
      "      BatchNorm2d-73           [-1, 96, 32, 32]             192\n",
      "      BasicConv2d-74           [-1, 96, 32, 32]               0\n",
      "           Conv2d-75           [-1, 96, 32, 32]          82,944\n",
      "      BatchNorm2d-76           [-1, 96, 32, 32]             192\n",
      "      BasicConv2d-77           [-1, 96, 32, 32]               0\n",
      "           Conv2d-78           [-1, 64, 32, 32]          18,432\n",
      "      BatchNorm2d-79           [-1, 64, 32, 32]             128\n",
      "      BasicConv2d-80           [-1, 64, 32, 32]               0\n",
      "       InceptionA-81          [-1, 288, 32, 32]               0\n",
      "           Conv2d-82          [-1, 384, 15, 15]         995,328\n",
      "      BatchNorm2d-83          [-1, 384, 15, 15]             768\n",
      "      BasicConv2d-84          [-1, 384, 15, 15]               0\n",
      "           Conv2d-85           [-1, 64, 32, 32]          18,432\n",
      "      BatchNorm2d-86           [-1, 64, 32, 32]             128\n",
      "      BasicConv2d-87           [-1, 64, 32, 32]               0\n",
      "           Conv2d-88           [-1, 96, 32, 32]          55,296\n",
      "      BatchNorm2d-89           [-1, 96, 32, 32]             192\n",
      "      BasicConv2d-90           [-1, 96, 32, 32]               0\n",
      "           Conv2d-91           [-1, 96, 15, 15]          82,944\n",
      "      BatchNorm2d-92           [-1, 96, 15, 15]             192\n",
      "      BasicConv2d-93           [-1, 96, 15, 15]               0\n",
      "       InceptionB-94          [-1, 768, 15, 15]               0\n",
      "           Conv2d-95          [-1, 192, 15, 15]         147,456\n",
      "      BatchNorm2d-96          [-1, 192, 15, 15]             384\n",
      "      BasicConv2d-97          [-1, 192, 15, 15]               0\n",
      "           Conv2d-98          [-1, 128, 15, 15]          98,304\n",
      "      BatchNorm2d-99          [-1, 128, 15, 15]             256\n",
      "     BasicConv2d-100          [-1, 128, 15, 15]               0\n",
      "          Conv2d-101          [-1, 128, 15, 15]         114,688\n",
      "     BatchNorm2d-102          [-1, 128, 15, 15]             256\n",
      "     BasicConv2d-103          [-1, 128, 15, 15]               0\n",
      "          Conv2d-104          [-1, 192, 15, 15]         172,032\n",
      "     BatchNorm2d-105          [-1, 192, 15, 15]             384\n",
      "     BasicConv2d-106          [-1, 192, 15, 15]               0\n",
      "          Conv2d-107          [-1, 128, 15, 15]          98,304\n",
      "     BatchNorm2d-108          [-1, 128, 15, 15]             256\n",
      "     BasicConv2d-109          [-1, 128, 15, 15]               0\n",
      "          Conv2d-110          [-1, 128, 15, 15]         114,688\n",
      "     BatchNorm2d-111          [-1, 128, 15, 15]             256\n",
      "     BasicConv2d-112          [-1, 128, 15, 15]               0\n",
      "          Conv2d-113          [-1, 128, 15, 15]         114,688\n",
      "     BatchNorm2d-114          [-1, 128, 15, 15]             256\n",
      "     BasicConv2d-115          [-1, 128, 15, 15]               0\n",
      "          Conv2d-116          [-1, 128, 15, 15]         114,688\n",
      "     BatchNorm2d-117          [-1, 128, 15, 15]             256\n",
      "     BasicConv2d-118          [-1, 128, 15, 15]               0\n",
      "          Conv2d-119          [-1, 192, 15, 15]         172,032\n",
      "     BatchNorm2d-120          [-1, 192, 15, 15]             384\n",
      "     BasicConv2d-121          [-1, 192, 15, 15]               0\n",
      "          Conv2d-122          [-1, 192, 15, 15]         147,456\n",
      "     BatchNorm2d-123          [-1, 192, 15, 15]             384\n",
      "     BasicConv2d-124          [-1, 192, 15, 15]               0\n",
      "      InceptionC-125          [-1, 768, 15, 15]               0\n",
      "          Conv2d-126          [-1, 192, 15, 15]         147,456\n",
      "     BatchNorm2d-127          [-1, 192, 15, 15]             384\n",
      "     BasicConv2d-128          [-1, 192, 15, 15]               0\n",
      "          Conv2d-129          [-1, 160, 15, 15]         122,880\n",
      "     BatchNorm2d-130          [-1, 160, 15, 15]             320\n",
      "     BasicConv2d-131          [-1, 160, 15, 15]               0\n",
      "          Conv2d-132          [-1, 160, 15, 15]         179,200\n",
      "     BatchNorm2d-133          [-1, 160, 15, 15]             320\n",
      "     BasicConv2d-134          [-1, 160, 15, 15]               0\n",
      "          Conv2d-135          [-1, 192, 15, 15]         215,040\n",
      "     BatchNorm2d-136          [-1, 192, 15, 15]             384\n",
      "     BasicConv2d-137          [-1, 192, 15, 15]               0\n",
      "          Conv2d-138          [-1, 160, 15, 15]         122,880\n",
      "     BatchNorm2d-139          [-1, 160, 15, 15]             320\n",
      "     BasicConv2d-140          [-1, 160, 15, 15]               0\n",
      "          Conv2d-141          [-1, 160, 15, 15]         179,200\n",
      "     BatchNorm2d-142          [-1, 160, 15, 15]             320\n",
      "     BasicConv2d-143          [-1, 160, 15, 15]               0\n",
      "          Conv2d-144          [-1, 160, 15, 15]         179,200\n",
      "     BatchNorm2d-145          [-1, 160, 15, 15]             320\n",
      "     BasicConv2d-146          [-1, 160, 15, 15]               0\n",
      "          Conv2d-147          [-1, 160, 15, 15]         179,200\n",
      "     BatchNorm2d-148          [-1, 160, 15, 15]             320\n",
      "     BasicConv2d-149          [-1, 160, 15, 15]               0\n",
      "          Conv2d-150          [-1, 192, 15, 15]         215,040\n",
      "     BatchNorm2d-151          [-1, 192, 15, 15]             384\n",
      "     BasicConv2d-152          [-1, 192, 15, 15]               0\n",
      "          Conv2d-153          [-1, 192, 15, 15]         147,456\n",
      "     BatchNorm2d-154          [-1, 192, 15, 15]             384\n",
      "     BasicConv2d-155          [-1, 192, 15, 15]               0\n",
      "      InceptionC-156          [-1, 768, 15, 15]               0\n",
      "          Conv2d-157          [-1, 192, 15, 15]         147,456\n",
      "     BatchNorm2d-158          [-1, 192, 15, 15]             384\n",
      "     BasicConv2d-159          [-1, 192, 15, 15]               0\n",
      "          Conv2d-160          [-1, 160, 15, 15]         122,880\n",
      "     BatchNorm2d-161          [-1, 160, 15, 15]             320\n",
      "     BasicConv2d-162          [-1, 160, 15, 15]               0\n",
      "          Conv2d-163          [-1, 160, 15, 15]         179,200\n",
      "     BatchNorm2d-164          [-1, 160, 15, 15]             320\n",
      "     BasicConv2d-165          [-1, 160, 15, 15]               0\n",
      "          Conv2d-166          [-1, 192, 15, 15]         215,040\n",
      "     BatchNorm2d-167          [-1, 192, 15, 15]             384\n",
      "     BasicConv2d-168          [-1, 192, 15, 15]               0\n",
      "          Conv2d-169          [-1, 160, 15, 15]         122,880\n",
      "     BatchNorm2d-170          [-1, 160, 15, 15]             320\n",
      "     BasicConv2d-171          [-1, 160, 15, 15]               0\n",
      "          Conv2d-172          [-1, 160, 15, 15]         179,200\n",
      "     BatchNorm2d-173          [-1, 160, 15, 15]             320\n",
      "     BasicConv2d-174          [-1, 160, 15, 15]               0\n",
      "          Conv2d-175          [-1, 160, 15, 15]         179,200\n",
      "     BatchNorm2d-176          [-1, 160, 15, 15]             320\n",
      "     BasicConv2d-177          [-1, 160, 15, 15]               0\n",
      "          Conv2d-178          [-1, 160, 15, 15]         179,200\n",
      "     BatchNorm2d-179          [-1, 160, 15, 15]             320\n",
      "     BasicConv2d-180          [-1, 160, 15, 15]               0\n",
      "          Conv2d-181          [-1, 192, 15, 15]         215,040\n",
      "     BatchNorm2d-182          [-1, 192, 15, 15]             384\n",
      "     BasicConv2d-183          [-1, 192, 15, 15]               0\n",
      "          Conv2d-184          [-1, 192, 15, 15]         147,456\n",
      "     BatchNorm2d-185          [-1, 192, 15, 15]             384\n",
      "     BasicConv2d-186          [-1, 192, 15, 15]               0\n",
      "      InceptionC-187          [-1, 768, 15, 15]               0\n",
      "          Conv2d-188          [-1, 192, 15, 15]         147,456\n",
      "     BatchNorm2d-189          [-1, 192, 15, 15]             384\n",
      "     BasicConv2d-190          [-1, 192, 15, 15]               0\n",
      "          Conv2d-191          [-1, 192, 15, 15]         147,456\n",
      "     BatchNorm2d-192          [-1, 192, 15, 15]             384\n",
      "     BasicConv2d-193          [-1, 192, 15, 15]               0\n",
      "          Conv2d-194          [-1, 192, 15, 15]         258,048\n",
      "     BatchNorm2d-195          [-1, 192, 15, 15]             384\n",
      "     BasicConv2d-196          [-1, 192, 15, 15]               0\n",
      "          Conv2d-197          [-1, 192, 15, 15]         258,048\n",
      "     BatchNorm2d-198          [-1, 192, 15, 15]             384\n",
      "     BasicConv2d-199          [-1, 192, 15, 15]               0\n",
      "          Conv2d-200          [-1, 192, 15, 15]         147,456\n",
      "     BatchNorm2d-201          [-1, 192, 15, 15]             384\n",
      "     BasicConv2d-202          [-1, 192, 15, 15]               0\n",
      "          Conv2d-203          [-1, 192, 15, 15]         258,048\n",
      "     BatchNorm2d-204          [-1, 192, 15, 15]             384\n",
      "     BasicConv2d-205          [-1, 192, 15, 15]               0\n",
      "          Conv2d-206          [-1, 192, 15, 15]         258,048\n",
      "     BatchNorm2d-207          [-1, 192, 15, 15]             384\n",
      "     BasicConv2d-208          [-1, 192, 15, 15]               0\n",
      "          Conv2d-209          [-1, 192, 15, 15]         258,048\n",
      "     BatchNorm2d-210          [-1, 192, 15, 15]             384\n",
      "     BasicConv2d-211          [-1, 192, 15, 15]               0\n",
      "          Conv2d-212          [-1, 192, 15, 15]         258,048\n",
      "     BatchNorm2d-213          [-1, 192, 15, 15]             384\n",
      "     BasicConv2d-214          [-1, 192, 15, 15]               0\n",
      "          Conv2d-215          [-1, 192, 15, 15]         147,456\n",
      "     BatchNorm2d-216          [-1, 192, 15, 15]             384\n",
      "     BasicConv2d-217          [-1, 192, 15, 15]               0\n",
      "      InceptionC-218          [-1, 768, 15, 15]               0\n",
      "          Conv2d-219          [-1, 192, 15, 15]         147,456\n",
      "     BatchNorm2d-220          [-1, 192, 15, 15]             384\n",
      "     BasicConv2d-221          [-1, 192, 15, 15]               0\n",
      "          Conv2d-222            [-1, 320, 7, 7]         552,960\n",
      "     BatchNorm2d-223            [-1, 320, 7, 7]             640\n",
      "     BasicConv2d-224            [-1, 320, 7, 7]               0\n",
      "          Conv2d-225          [-1, 192, 15, 15]         147,456\n",
      "     BatchNorm2d-226          [-1, 192, 15, 15]             384\n",
      "     BasicConv2d-227          [-1, 192, 15, 15]               0\n",
      "          Conv2d-228          [-1, 192, 15, 15]         258,048\n",
      "     BatchNorm2d-229          [-1, 192, 15, 15]             384\n",
      "     BasicConv2d-230          [-1, 192, 15, 15]               0\n",
      "          Conv2d-231          [-1, 192, 15, 15]         258,048\n",
      "     BatchNorm2d-232          [-1, 192, 15, 15]             384\n",
      "     BasicConv2d-233          [-1, 192, 15, 15]               0\n",
      "          Conv2d-234            [-1, 192, 7, 7]         331,776\n",
      "     BatchNorm2d-235            [-1, 192, 7, 7]             384\n",
      "     BasicConv2d-236            [-1, 192, 7, 7]               0\n",
      "      InceptionD-237           [-1, 1280, 7, 7]               0\n",
      "          Conv2d-238            [-1, 320, 7, 7]         409,600\n",
      "     BatchNorm2d-239            [-1, 320, 7, 7]             640\n",
      "     BasicConv2d-240            [-1, 320, 7, 7]               0\n",
      "          Conv2d-241            [-1, 384, 7, 7]         491,520\n",
      "     BatchNorm2d-242            [-1, 384, 7, 7]             768\n",
      "     BasicConv2d-243            [-1, 384, 7, 7]               0\n",
      "          Conv2d-244            [-1, 384, 7, 7]         442,368\n",
      "     BatchNorm2d-245            [-1, 384, 7, 7]             768\n",
      "     BasicConv2d-246            [-1, 384, 7, 7]               0\n",
      "          Conv2d-247            [-1, 384, 7, 7]         442,368\n",
      "     BatchNorm2d-248            [-1, 384, 7, 7]             768\n",
      "     BasicConv2d-249            [-1, 384, 7, 7]               0\n",
      "          Conv2d-250            [-1, 448, 7, 7]         573,440\n",
      "     BatchNorm2d-251            [-1, 448, 7, 7]             896\n",
      "     BasicConv2d-252            [-1, 448, 7, 7]               0\n",
      "          Conv2d-253            [-1, 384, 7, 7]       1,548,288\n",
      "     BatchNorm2d-254            [-1, 384, 7, 7]             768\n",
      "     BasicConv2d-255            [-1, 384, 7, 7]               0\n",
      "          Conv2d-256            [-1, 384, 7, 7]         442,368\n",
      "     BatchNorm2d-257            [-1, 384, 7, 7]             768\n",
      "     BasicConv2d-258            [-1, 384, 7, 7]               0\n",
      "          Conv2d-259            [-1, 384, 7, 7]         442,368\n",
      "     BatchNorm2d-260            [-1, 384, 7, 7]             768\n",
      "     BasicConv2d-261            [-1, 384, 7, 7]               0\n",
      "          Conv2d-262            [-1, 192, 7, 7]         245,760\n",
      "     BatchNorm2d-263            [-1, 192, 7, 7]             384\n",
      "     BasicConv2d-264            [-1, 192, 7, 7]               0\n",
      "      InceptionE-265           [-1, 2048, 7, 7]               0\n",
      "          Conv2d-266            [-1, 320, 7, 7]         655,360\n",
      "     BatchNorm2d-267            [-1, 320, 7, 7]             640\n",
      "     BasicConv2d-268            [-1, 320, 7, 7]               0\n",
      "          Conv2d-269            [-1, 384, 7, 7]         786,432\n",
      "     BatchNorm2d-270            [-1, 384, 7, 7]             768\n",
      "     BasicConv2d-271            [-1, 384, 7, 7]               0\n",
      "          Conv2d-272            [-1, 384, 7, 7]         442,368\n",
      "     BatchNorm2d-273            [-1, 384, 7, 7]             768\n",
      "     BasicConv2d-274            [-1, 384, 7, 7]               0\n",
      "          Conv2d-275            [-1, 384, 7, 7]         442,368\n",
      "     BatchNorm2d-276            [-1, 384, 7, 7]             768\n",
      "     BasicConv2d-277            [-1, 384, 7, 7]               0\n",
      "          Conv2d-278            [-1, 448, 7, 7]         917,504\n",
      "     BatchNorm2d-279            [-1, 448, 7, 7]             896\n",
      "     BasicConv2d-280            [-1, 448, 7, 7]               0\n",
      "          Conv2d-281            [-1, 384, 7, 7]       1,548,288\n",
      "     BatchNorm2d-282            [-1, 384, 7, 7]             768\n",
      "     BasicConv2d-283            [-1, 384, 7, 7]               0\n",
      "          Conv2d-284            [-1, 384, 7, 7]         442,368\n",
      "     BatchNorm2d-285            [-1, 384, 7, 7]             768\n",
      "     BasicConv2d-286            [-1, 384, 7, 7]               0\n",
      "          Conv2d-287            [-1, 384, 7, 7]         442,368\n",
      "     BatchNorm2d-288            [-1, 384, 7, 7]             768\n",
      "     BasicConv2d-289            [-1, 384, 7, 7]               0\n",
      "          Conv2d-290            [-1, 192, 7, 7]         393,216\n",
      "     BatchNorm2d-291            [-1, 192, 7, 7]             384\n",
      "     BasicConv2d-292            [-1, 192, 7, 7]               0\n",
      "      InceptionE-293           [-1, 2048, 7, 7]               0\n",
      "          Linear-294                 [-1, 5079]      10,406,871\n",
      "    InceptionEnv-295                 [-1, 5079]               0\n",
      "================================================================\n",
      "Total params: 32,396,631\n",
      "Trainable params: 32,396,631\n",
      "Non-trainable params: 0\n",
      "----------------------------------------------------------------\n",
      "Input size (MB): 0.42\n",
      "Forward/backward pass size (MB): 156.97\n",
      "Params size (MB): 123.58\n",
      "Estimated Total Size (MB): 280.98\n",
      "----------------------------------------------------------------\n"
     ]
    },
    {
     "name": "stderr",
     "output_type": "stream",
     "text": [
      "/srv/conda/envs/notebook/lib/python3.9/site-packages/torch/nn/functional.py:1960: UserWarning: nn.functional.sigmoid is deprecated. Use torch.sigmoid instead.\n",
      "  warnings.warn(\"nn.functional.sigmoid is deprecated. Use torch.sigmoid instead.\")\n"
     ]
    }
   ],
   "source": [
    "from torchsummary import summary\n",
    "summary(model, (N_INPUTS, 64,64))"
   ]
  },
  {
   "cell_type": "markdown",
   "id": "8452fc2c-71e6-46e1-b63f-9b5af8e40746",
   "metadata": {},
   "source": [
    "### Debug: setting paths for imports"
   ]
  },
  {
   "cell_type": "code",
   "execution_count": 198,
   "id": "b2b04929-0503-48c8-9827-7b31dc2e0ca7",
   "metadata": {},
   "outputs": [
    {
     "name": "stdout",
     "output_type": "stream",
     "text": [
      "/home/jovyan/sdm-geolifeCLEF/models\n",
      "/home/jovyan/sdm-geolifeCLEF/raster\n",
      "/home/jovyan/sdm-geolifeCLEF\n",
      "/srv/conda/envs/notebook/lib/python39.zip\n",
      "/srv/conda/envs/notebook/lib/python3.9\n",
      "/srv/conda/envs/notebook/lib/python3.9/lib-dynload\n",
      "\n",
      "/srv/conda/envs/notebook/lib/python3.9/site-packages\n"
     ]
    }
   ],
   "source": [
    "import sys\n",
    "for path in sys.path:\n",
    "    print(path)"
   ]
  },
  {
   "cell_type": "code",
   "execution_count": 20,
   "id": "32f34055-9482-4f8c-9e66-7344aa17e22b",
   "metadata": {},
   "outputs": [],
   "source": [
    "# sys.path.remove('/models')\n",
    "# sys.path.remove('/raster')\n",
    "# sys.path.remove('model/')\n",
    "sys.path.remove('/models')\n",
    "# sys.path.remove('/models')\n",
    "# sys.path.remove('/raster')\n"
   ]
  },
  {
   "cell_type": "code",
   "execution_count": null,
   "id": "65405a39-afb6-48ba-8b5e-d631bf0bd858",
   "metadata": {},
   "outputs": [],
   "source": []
  }
 ],
 "metadata": {
  "kernelspec": {
   "display_name": "Python 3 (ipykernel)",
   "language": "python",
   "name": "python3"
  },
  "language_info": {
   "codemirror_mode": {
    "name": "ipython",
    "version": 3
   },
   "file_extension": ".py",
   "mimetype": "text/x-python",
   "name": "python",
   "nbconvert_exporter": "python",
   "pygments_lexer": "ipython3",
   "version": "3.9.13"
  }
 },
 "nbformat": 4,
 "nbformat_minor": 5
}
