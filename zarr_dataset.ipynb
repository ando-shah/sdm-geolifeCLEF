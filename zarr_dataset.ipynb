{
 "cells": [
  {
   "cell_type": "code",
   "execution_count": 1,
   "id": "fac2b2ec-cb02-41cb-bc4d-13e90d00e9cc",
   "metadata": {},
   "outputs": [],
   "source": [
    "import warnings\n",
    "import time\n",
    "import os\n",
    "\n",
    "# RASTERIO_BEST_PRACTICES = dict(  # See https://github.com/pangeo-data/cog-best-practices\n",
    "#     CURL_CA_BUNDLE=\"/etc/ssl/certs/ca-certificates.crt\",\n",
    "#     GDAL_DISABLE_READDIR_ON_OPEN=\"EMPTY_DIR\",\n",
    "#     AWS_NO_SIGN_REQUEST=\"YES\",\n",
    "#     GDAL_MAX_RAW_BLOCK_CACHE_SIZE=\"200000000\",\n",
    "#     GDAL_SWATH_SIZE=\"200000000\",\n",
    "#     VSI_CURL_CACHE_SIZE=\"200000000\",\n",
    "# )\n",
    "# os.environ.update(RASTERIO_BEST_PRACTICES)\n",
    "\n",
    "import numpy as np\n",
    "import pandas as pd\n",
    "import matplotlib.pyplot as plt\n",
    "\n",
    "import torch\n",
    "# from torch.utils.data import Dataset, DataLoader\n",
    "import torchvision.transforms as T\n",
    "\n",
    "import rasterio\n",
    "import rasterio.warp\n",
    "import rasterio.mask\n",
    "import shapely.geometry\n",
    "import geopandas as gpd\n",
    "import dask_geopandas\n",
    "# from dask.distributed import Client\n",
    "# from dask_gateway import GatewayCluster\n",
    "\n",
    "import pystac_client\n",
    "import planetary_computer as pc\n",
    "from dask.distributed import Client, progress\n",
    "import rioxarray\n",
    "\n",
    "import sys\n",
    "import os\n",
    "current_folder = os.getcwd()\n",
    "sys.path.insert(0, current_folder+'/raster')\n",
    "sys.path.insert(0, current_folder+'/models')\n"
   ]
  },
  {
   "cell_type": "code",
   "execution_count": 2,
   "id": "7944f949-581c-4615-a62f-5b7a29f0e61b",
   "metadata": {},
   "outputs": [],
   "source": [
    "#Set switch to toggle b/w local and kubernetes cluster\n",
    "LOCAL = False\n",
    "LOCAL = True"
   ]
  },
  {
   "cell_type": "code",
   "execution_count": 3,
   "id": "b4a41e07-a4c5-4bfb-a314-ba36d75145d1",
   "metadata": {
    "tags": []
   },
   "outputs": [],
   "source": [
    "def create_centroids_gdf(gdf):\n",
    "    #Convert to equal area projection and back to avoid CRS issues with calculating centroid:\n",
    "    c = kde_gdf.to_crs('+proj=cea').centroid.to_crs(gdf.crs)\n",
    "\n",
    "    centroids = pd.DataFrame()\n",
    "    centroids['grid_id'] = gdf.grid_id\n",
    "    centroids['lon'] = c.x.values\n",
    "    centroids['lat'] = c.y.values\n",
    "    centroids = gpd.GeoDataFrame(centroids, geometry=gpd.points_from_xy(centroids['lon'], centroids['lat']))\n",
    "    \n",
    "    return centroids\n",
    "\n",
    "def create_centroids_val_gdf(gdf):\n",
    "    columns_to_keep = ['latitude','longitude','geometry']\n",
    "    centroids_val = gdf[columns_to_keep].copy()\n",
    "    #rename columns\n",
    "    centroids_val.rename(columns = {'latitude':'lat', 'longitude':'lon'}, inplace = True)\n",
    "    \n",
    "    return centroids_val\n",
    "\n",
    "\n",
    "def _query(points):\n",
    "    \"\"\"\n",
    "    Find a STAC item for points in the `points` DataFrame\n",
    "\n",
    "    Parameters\n",
    "    ----------\n",
    "    points : geopandas.GeoDataFrame\n",
    "        A GeoDataFrame\n",
    "\n",
    "    Returns\n",
    "    -------\n",
    "    geopandas.GeoDataFrame\n",
    "        A new geopandas.GeoDataFrame with a `stac_item` column containing the STAC\n",
    "        item that covers each point.\n",
    "    \"\"\"\n",
    "    intersects = shapely.geometry.mapping(points.unary_union.convex_hull) #TODO replace with rectangular geometry\n",
    "\n",
    "    search_start = \"2019-01-01\"\n",
    "    search_end = \"2019-12-31\"\n",
    "    catalog = pystac_client.Client.open(\"https://planetarycomputer.microsoft.com/api/stac/v1\",\n",
    "                                        modifier=pc.sign_inplace)\n",
    "    # catalog = pystac_client.Client.open(\"https://planetarycomputer.microsoft.com/api/stac/v1\")\n",
    "\n",
    "    # The time frame in which we search for non-cloudy imagery\n",
    "    search = catalog.search(\n",
    "        collections=[\"sentinel-2-l2a\"],\n",
    "        intersects=intersects,\n",
    "        datetime=[search_start, search_end],\n",
    "        query={\"eo:cloud_cover\": {\"lt\": 10}},\n",
    "        limit=500,\n",
    "    )\n",
    "    ic = search.get_all_items_as_dict()\n",
    "\n",
    "    features = ic[\"features\"]\n",
    "    features_d = {item[\"id\"]: item for item in features}\n",
    "\n",
    "    data = {\n",
    "        \"eo:cloud_cover\": [],\n",
    "        \"geometry\": [],\n",
    "    }\n",
    "\n",
    "    index = []\n",
    "\n",
    "    for item in features:\n",
    "        data[\"eo:cloud_cover\"].append(item[\"properties\"][\"eo:cloud_cover\"])\n",
    "        data[\"geometry\"].append(shapely.geometry.shape(item[\"geometry\"]))\n",
    "        index.append(item[\"id\"])\n",
    "\n",
    "    items = gpd.GeoDataFrame(data, index=index, geometry=\"geometry\").sort_values(\n",
    "        \"eo:cloud_cover\"\n",
    "    )\n",
    "    point_list = points.geometry.tolist()\n",
    "\n",
    "    point_items = []\n",
    "    for point in point_list:\n",
    "        covered_by = items[items.covers(point)]\n",
    "        if len(covered_by):\n",
    "            point_items.append(features_d[covered_by.index[0]])\n",
    "        else:\n",
    "            # There weren't any scenes matching our conditions for this point (too cloudy)\n",
    "            point_items.append(None)\n",
    "\n",
    "    return points.assign(stac_item=point_items)\n",
    "\n",
    "\n",
    "dask_geopandas_partitions = 250\n",
    "\n",
    "def add_sentinel_urls(centroids,mode=\"train\"):\n",
    "    \n",
    "    print(\"Organizing grid centroids according to Hilbert distance...\")\n",
    "\n",
    "    ddf = dask_geopandas.from_geopandas(centroids, npartitions=1)\n",
    "    hd = ddf.hilbert_distance().compute()\n",
    "    centroids[\"hd\"] = hd\n",
    "    centroids = centroids.sort_values(\"hd\")\n",
    "    dgdf = dask_geopandas.from_geopandas(centroids, npartitions=dask_geopandas_partitions, sort=False)\n",
    "\n",
    "    # client, cluster = None\n",
    "    \n",
    "    try:\n",
    "        print(\"Attemping to create a new dask client\")\n",
    "        \n",
    "        if not LOCAL:\n",
    "            from dask_gateway import GatewayCluster\n",
    "            cluster = GatewayCluster()  # Creates the Dask Scheduler. Might take a minute.\n",
    "            client = cluster.get_client()\n",
    "            cluster.adapt(minimum=4, maximum=113)\n",
    "\n",
    "            print(cluster.dashboard_link)\n",
    "            print(client)\n",
    "            \n",
    "        else:\n",
    "            from dask.distributed import Client, LocalCluster\n",
    "            import multiprocessing as mp\n",
    "            import dask\n",
    "            dask.config.set(**{\"distributed.dashboard.link\": \"/user/{JUPYTERHUB_USER}/proxy/{port}/status\"})\n",
    "            cluster = LocalCluster()\n",
    "            client = Client(cluster)\n",
    "            # cluster.adapt(minimum=1, maximum=mp.cpu_count())\n",
    "            cluster.scale(mp.cpu_count())\n",
    "            # print(cluster.dashboard_link)\n",
    "            print(client)\n",
    "            \n",
    "\n",
    "        meta = dgdf._meta.assign(stac_item=[])\n",
    "        df2 = dgdf.map_partitions(_query, meta=meta).compute()\n",
    "\n",
    "        \n",
    "        data = df2.dropna(subset=[\"stac_item\"])\n",
    "        #Save it as a tuple -> (RGB,NIR)\n",
    "        data['urls'] = [(item[\"assets\"][\"visual\"][\"href\"], item[\"assets\"][\"B08\"][\"href\"]) for item in data.stac_item.tolist()]\n",
    "        data['crs']  = [item[\"properties\"][\"proj:epsg\"] for item in data.stac_item.tolist()]\n",
    "        print(data.stac_item[0][\"properties\"][\"proj:epsg\"])\n",
    "        print(\"{} URLs acquired. Shutting Down Cluster\".format(len(data)))\n",
    "        \n",
    "        # if not LOCAL:\n",
    "        cluster.close()\n",
    "        \n",
    "        if mode==\"train\":\n",
    "            data = data.drop(['hd','stac_item'], axis=1).set_index('grid_id').reset_index(drop=True)\n",
    "        else:\n",
    "            data = data.drop(['hd','stac_item'], axis=1).reset_index(drop=True)\n",
    "        return data\n",
    "    \n",
    "    except Exception as e:\n",
    "        print(\"Error thrown: \",e)\n",
    "        cluster.close()\n",
    "        return None\n",
    "    "
   ]
  },
  {
   "cell_type": "markdown",
   "id": "ee5e9449-ad89-4b29-818a-858630005983",
   "metadata": {},
   "source": [
    "# Read Observations"
   ]
  },
  {
   "cell_type": "markdown",
   "id": "e6f6527c-262d-4b57-8ad0-75f8b697e472",
   "metadata": {},
   "source": [
    "## KDE"
   ]
  },
  {
   "cell_type": "code",
   "execution_count": 4,
   "id": "196a6752-b281-4f12-ba34-d7fe7c505347",
   "metadata": {},
   "outputs": [
    {
     "name": "stdout",
     "output_type": "stream",
     "text": [
      "s3://datasets-sdm/kde/ca/geolifeclef_ca_0.05deg_kde_0.5deg_epanechnikov.pkl\n"
     ]
    }
   ],
   "source": [
    "BUCKET_NAME = 'datasets-sdm'\n",
    "folder = 'kde/ca'\n",
    "filename = 'geolifeclef_ca_0.05deg_kde_0.5deg_epanechnikov.pkl'\n",
    "\n",
    "s3_read_path = 's3://{}/{}/{}'.format(BUCKET_NAME, folder, filename)\n",
    "print(s3_read_path)"
   ]
  },
  {
   "cell_type": "code",
   "execution_count": 5,
   "id": "a984ba8e-1582-4c32-9abc-7a3382ecb04c",
   "metadata": {},
   "outputs": [
    {
     "data": {
      "text/html": [
       "<div>\n",
       "<style scoped>\n",
       "    .dataframe tbody tr th:only-of-type {\n",
       "        vertical-align: middle;\n",
       "    }\n",
       "\n",
       "    .dataframe tbody tr th {\n",
       "        vertical-align: top;\n",
       "    }\n",
       "\n",
       "    .dataframe thead th {\n",
       "        text-align: right;\n",
       "    }\n",
       "</style>\n",
       "<table border=\"1\" class=\"dataframe\">\n",
       "  <thead>\n",
       "    <tr style=\"text-align: right;\">\n",
       "      <th></th>\n",
       "      <th>geometry</th>\n",
       "      <th>grid_id</th>\n",
       "      <th>prob_4911</th>\n",
       "      <th>prob_4912</th>\n",
       "      <th>prob_4922</th>\n",
       "      <th>prob_4923</th>\n",
       "      <th>prob_2329</th>\n",
       "      <th>prob_4927</th>\n",
       "      <th>prob_4930</th>\n",
       "      <th>prob_4382</th>\n",
       "      <th>...</th>\n",
       "      <th>prob_14228</th>\n",
       "      <th>prob_202</th>\n",
       "      <th>prob_9006</th>\n",
       "      <th>prob_272</th>\n",
       "      <th>prob_16726</th>\n",
       "      <th>prob_17029</th>\n",
       "      <th>prob_8230</th>\n",
       "      <th>prob_13366</th>\n",
       "      <th>prob_16533</th>\n",
       "      <th>prob_1455</th>\n",
       "    </tr>\n",
       "  </thead>\n",
       "  <tbody>\n",
       "    <tr>\n",
       "      <th>0</th>\n",
       "      <td>POLYGON ((-124.36556 40.23088, -124.36556 40.2...</td>\n",
       "      <td>0</td>\n",
       "      <td>0</td>\n",
       "      <td>0</td>\n",
       "      <td>0</td>\n",
       "      <td>0</td>\n",
       "      <td>0</td>\n",
       "      <td>0</td>\n",
       "      <td>0</td>\n",
       "      <td>0</td>\n",
       "      <td>...</td>\n",
       "      <td>0</td>\n",
       "      <td>0</td>\n",
       "      <td>0</td>\n",
       "      <td>0</td>\n",
       "      <td>0</td>\n",
       "      <td>0</td>\n",
       "      <td>0</td>\n",
       "      <td>0</td>\n",
       "      <td>0</td>\n",
       "      <td>0</td>\n",
       "    </tr>\n",
       "    <tr>\n",
       "      <th>1</th>\n",
       "      <td>POLYGON ((-124.36556 40.28088, -124.36556 40.3...</td>\n",
       "      <td>1</td>\n",
       "      <td>0</td>\n",
       "      <td>0</td>\n",
       "      <td>0</td>\n",
       "      <td>0</td>\n",
       "      <td>0</td>\n",
       "      <td>0</td>\n",
       "      <td>0</td>\n",
       "      <td>0</td>\n",
       "      <td>...</td>\n",
       "      <td>0</td>\n",
       "      <td>0</td>\n",
       "      <td>0</td>\n",
       "      <td>0</td>\n",
       "      <td>0</td>\n",
       "      <td>0</td>\n",
       "      <td>0</td>\n",
       "      <td>0</td>\n",
       "      <td>0</td>\n",
       "      <td>0</td>\n",
       "    </tr>\n",
       "    <tr>\n",
       "      <th>2</th>\n",
       "      <td>POLYGON ((-124.36556 40.33088, -124.36556 40.3...</td>\n",
       "      <td>2</td>\n",
       "      <td>0</td>\n",
       "      <td>0</td>\n",
       "      <td>0</td>\n",
       "      <td>0</td>\n",
       "      <td>0</td>\n",
       "      <td>0</td>\n",
       "      <td>0</td>\n",
       "      <td>0</td>\n",
       "      <td>...</td>\n",
       "      <td>0</td>\n",
       "      <td>0</td>\n",
       "      <td>0</td>\n",
       "      <td>0</td>\n",
       "      <td>0</td>\n",
       "      <td>0</td>\n",
       "      <td>0</td>\n",
       "      <td>0</td>\n",
       "      <td>0</td>\n",
       "      <td>0</td>\n",
       "    </tr>\n",
       "    <tr>\n",
       "      <th>3</th>\n",
       "      <td>POLYGON ((-124.36556 40.38088, -124.36556 40.4...</td>\n",
       "      <td>3</td>\n",
       "      <td>0</td>\n",
       "      <td>0</td>\n",
       "      <td>0</td>\n",
       "      <td>0</td>\n",
       "      <td>0</td>\n",
       "      <td>0</td>\n",
       "      <td>0</td>\n",
       "      <td>0</td>\n",
       "      <td>...</td>\n",
       "      <td>0</td>\n",
       "      <td>0</td>\n",
       "      <td>0</td>\n",
       "      <td>0</td>\n",
       "      <td>0</td>\n",
       "      <td>0</td>\n",
       "      <td>0</td>\n",
       "      <td>0</td>\n",
       "      <td>0</td>\n",
       "      <td>0</td>\n",
       "    </tr>\n",
       "    <tr>\n",
       "      <th>4</th>\n",
       "      <td>POLYGON ((-124.36556 40.43088, -124.36556 40.4...</td>\n",
       "      <td>4</td>\n",
       "      <td>0</td>\n",
       "      <td>0</td>\n",
       "      <td>24</td>\n",
       "      <td>0</td>\n",
       "      <td>0</td>\n",
       "      <td>0</td>\n",
       "      <td>0</td>\n",
       "      <td>0</td>\n",
       "      <td>...</td>\n",
       "      <td>0</td>\n",
       "      <td>0</td>\n",
       "      <td>0</td>\n",
       "      <td>0</td>\n",
       "      <td>0</td>\n",
       "      <td>0</td>\n",
       "      <td>0</td>\n",
       "      <td>0</td>\n",
       "      <td>0</td>\n",
       "      <td>0</td>\n",
       "    </tr>\n",
       "  </tbody>\n",
       "</table>\n",
       "<p>5 rows × 5081 columns</p>\n",
       "</div>"
      ],
      "text/plain": [
       "                                            geometry  grid_id  prob_4911  \\\n",
       "0  POLYGON ((-124.36556 40.23088, -124.36556 40.2...        0          0   \n",
       "1  POLYGON ((-124.36556 40.28088, -124.36556 40.3...        1          0   \n",
       "2  POLYGON ((-124.36556 40.33088, -124.36556 40.3...        2          0   \n",
       "3  POLYGON ((-124.36556 40.38088, -124.36556 40.4...        3          0   \n",
       "4  POLYGON ((-124.36556 40.43088, -124.36556 40.4...        4          0   \n",
       "\n",
       "   prob_4912  prob_4922  prob_4923  prob_2329  prob_4927  prob_4930  \\\n",
       "0          0          0          0          0          0          0   \n",
       "1          0          0          0          0          0          0   \n",
       "2          0          0          0          0          0          0   \n",
       "3          0          0          0          0          0          0   \n",
       "4          0         24          0          0          0          0   \n",
       "\n",
       "   prob_4382  ...  prob_14228  prob_202  prob_9006  prob_272  prob_16726  \\\n",
       "0          0  ...           0         0          0         0           0   \n",
       "1          0  ...           0         0          0         0           0   \n",
       "2          0  ...           0         0          0         0           0   \n",
       "3          0  ...           0         0          0         0           0   \n",
       "4          0  ...           0         0          0         0           0   \n",
       "\n",
       "   prob_17029  prob_8230  prob_13366  prob_16533  prob_1455  \n",
       "0           0          0           0           0          0  \n",
       "1           0          0           0           0          0  \n",
       "2           0          0           0           0          0  \n",
       "3           0          0           0           0          0  \n",
       "4           0          0           0           0          0  \n",
       "\n",
       "[5 rows x 5081 columns]"
      ]
     },
     "execution_count": 5,
     "metadata": {},
     "output_type": "execute_result"
    }
   ],
   "source": [
    "kde_gdf = pd.read_pickle(s3_read_path)\n",
    "kde_gdf.head()"
   ]
  },
  {
   "cell_type": "markdown",
   "id": "b7d0c5ff-a8e4-4e57-92c1-56bedbe6d060",
   "metadata": {},
   "source": [
    "## Val observations"
   ]
  },
  {
   "cell_type": "code",
   "execution_count": 6,
   "id": "254c3c5c-58dc-486b-b1cd-8db1222d9b82",
   "metadata": {},
   "outputs": [
    {
     "name": "stdout",
     "output_type": "stream",
     "text": [
      "s3://datasets-sdm/kde/ca/ca_val_obs.pkl\n"
     ]
    }
   ],
   "source": [
    "filename = 'ca_val_obs.pkl'\n",
    "s3_read_path = 's3://{}/{}/{}'.format(BUCKET_NAME, folder, filename)\n",
    "print(s3_read_path)"
   ]
  },
  {
   "cell_type": "code",
   "execution_count": 7,
   "id": "5d53d44f-88f4-411c-bbf7-0feb8cb0668b",
   "metadata": {},
   "outputs": [
    {
     "data": {
      "text/html": [
       "<div>\n",
       "<style scoped>\n",
       "    .dataframe tbody tr th:only-of-type {\n",
       "        vertical-align: middle;\n",
       "    }\n",
       "\n",
       "    .dataframe tbody tr th {\n",
       "        vertical-align: top;\n",
       "    }\n",
       "\n",
       "    .dataframe thead th {\n",
       "        text-align: right;\n",
       "    }\n",
       "</style>\n",
       "<table border=\"1\" class=\"dataframe\">\n",
       "  <thead>\n",
       "    <tr style=\"text-align: right;\">\n",
       "      <th></th>\n",
       "      <th>observation_id</th>\n",
       "      <th>latitude</th>\n",
       "      <th>longitude</th>\n",
       "      <th>species_id</th>\n",
       "      <th>geometry</th>\n",
       "      <th>prob_4911</th>\n",
       "      <th>prob_4912</th>\n",
       "      <th>prob_4922</th>\n",
       "      <th>prob_4923</th>\n",
       "      <th>prob_2329</th>\n",
       "      <th>...</th>\n",
       "      <th>prob_14228</th>\n",
       "      <th>prob_202</th>\n",
       "      <th>prob_9006</th>\n",
       "      <th>prob_272</th>\n",
       "      <th>prob_16726</th>\n",
       "      <th>prob_17029</th>\n",
       "      <th>prob_8230</th>\n",
       "      <th>prob_13366</th>\n",
       "      <th>prob_16533</th>\n",
       "      <th>prob_1455</th>\n",
       "    </tr>\n",
       "  </thead>\n",
       "  <tbody>\n",
       "    <tr>\n",
       "      <th>0</th>\n",
       "      <td>20000282</td>\n",
       "      <td>41.523970</td>\n",
       "      <td>-124.045616</td>\n",
       "      <td>2560</td>\n",
       "      <td>POINT (-124.04562 41.52397)</td>\n",
       "      <td>0.0</td>\n",
       "      <td>0.0</td>\n",
       "      <td>0.0</td>\n",
       "      <td>0.0</td>\n",
       "      <td>0.0</td>\n",
       "      <td>...</td>\n",
       "      <td>0.0</td>\n",
       "      <td>0.0</td>\n",
       "      <td>0.0</td>\n",
       "      <td>0.0</td>\n",
       "      <td>0.0</td>\n",
       "      <td>0.0</td>\n",
       "      <td>0.0</td>\n",
       "      <td>0.0</td>\n",
       "      <td>0.0</td>\n",
       "      <td>0.0</td>\n",
       "    </tr>\n",
       "    <tr>\n",
       "      <th>1</th>\n",
       "      <td>20001056</td>\n",
       "      <td>38.354510</td>\n",
       "      <td>-122.514270</td>\n",
       "      <td>5205</td>\n",
       "      <td>POINT (-122.51427 38.35451)</td>\n",
       "      <td>0.0</td>\n",
       "      <td>0.0</td>\n",
       "      <td>0.0</td>\n",
       "      <td>0.0</td>\n",
       "      <td>0.0</td>\n",
       "      <td>...</td>\n",
       "      <td>0.0</td>\n",
       "      <td>0.0</td>\n",
       "      <td>0.0</td>\n",
       "      <td>0.0</td>\n",
       "      <td>0.0</td>\n",
       "      <td>0.0</td>\n",
       "      <td>0.0</td>\n",
       "      <td>0.0</td>\n",
       "      <td>0.0</td>\n",
       "      <td>0.0</td>\n",
       "    </tr>\n",
       "    <tr>\n",
       "      <th>2</th>\n",
       "      <td>20001135</td>\n",
       "      <td>38.807053</td>\n",
       "      <td>-122.369255</td>\n",
       "      <td>5243</td>\n",
       "      <td>POINT (-122.36925 38.80705)</td>\n",
       "      <td>0.0</td>\n",
       "      <td>0.0</td>\n",
       "      <td>0.0</td>\n",
       "      <td>0.0</td>\n",
       "      <td>0.0</td>\n",
       "      <td>...</td>\n",
       "      <td>0.0</td>\n",
       "      <td>0.0</td>\n",
       "      <td>0.0</td>\n",
       "      <td>0.0</td>\n",
       "      <td>0.0</td>\n",
       "      <td>0.0</td>\n",
       "      <td>0.0</td>\n",
       "      <td>0.0</td>\n",
       "      <td>0.0</td>\n",
       "      <td>0.0</td>\n",
       "    </tr>\n",
       "    <tr>\n",
       "      <th>3</th>\n",
       "      <td>20002394</td>\n",
       "      <td>34.023647</td>\n",
       "      <td>-118.417330</td>\n",
       "      <td>5544</td>\n",
       "      <td>POINT (-118.41733 34.02365)</td>\n",
       "      <td>0.0</td>\n",
       "      <td>0.0</td>\n",
       "      <td>0.0</td>\n",
       "      <td>0.0</td>\n",
       "      <td>0.0</td>\n",
       "      <td>...</td>\n",
       "      <td>0.0</td>\n",
       "      <td>0.0</td>\n",
       "      <td>0.0</td>\n",
       "      <td>0.0</td>\n",
       "      <td>0.0</td>\n",
       "      <td>0.0</td>\n",
       "      <td>0.0</td>\n",
       "      <td>0.0</td>\n",
       "      <td>0.0</td>\n",
       "      <td>0.0</td>\n",
       "    </tr>\n",
       "    <tr>\n",
       "      <th>4</th>\n",
       "      <td>20003318</td>\n",
       "      <td>35.178210</td>\n",
       "      <td>-120.745760</td>\n",
       "      <td>5109</td>\n",
       "      <td>POINT (-120.74576 35.17821)</td>\n",
       "      <td>0.0</td>\n",
       "      <td>0.0</td>\n",
       "      <td>0.0</td>\n",
       "      <td>0.0</td>\n",
       "      <td>0.0</td>\n",
       "      <td>...</td>\n",
       "      <td>0.0</td>\n",
       "      <td>0.0</td>\n",
       "      <td>0.0</td>\n",
       "      <td>0.0</td>\n",
       "      <td>0.0</td>\n",
       "      <td>0.0</td>\n",
       "      <td>0.0</td>\n",
       "      <td>0.0</td>\n",
       "      <td>0.0</td>\n",
       "      <td>0.0</td>\n",
       "    </tr>\n",
       "  </tbody>\n",
       "</table>\n",
       "<p>5 rows × 5084 columns</p>\n",
       "</div>"
      ],
      "text/plain": [
       "   observation_id   latitude   longitude  species_id  \\\n",
       "0        20000282  41.523970 -124.045616        2560   \n",
       "1        20001056  38.354510 -122.514270        5205   \n",
       "2        20001135  38.807053 -122.369255        5243   \n",
       "3        20002394  34.023647 -118.417330        5544   \n",
       "4        20003318  35.178210 -120.745760        5109   \n",
       "\n",
       "                      geometry  prob_4911  prob_4912  prob_4922  prob_4923  \\\n",
       "0  POINT (-124.04562 41.52397)        0.0        0.0        0.0        0.0   \n",
       "1  POINT (-122.51427 38.35451)        0.0        0.0        0.0        0.0   \n",
       "2  POINT (-122.36925 38.80705)        0.0        0.0        0.0        0.0   \n",
       "3  POINT (-118.41733 34.02365)        0.0        0.0        0.0        0.0   \n",
       "4  POINT (-120.74576 35.17821)        0.0        0.0        0.0        0.0   \n",
       "\n",
       "   prob_2329  ...  prob_14228  prob_202  prob_9006  prob_272  prob_16726  \\\n",
       "0        0.0  ...         0.0       0.0        0.0       0.0         0.0   \n",
       "1        0.0  ...         0.0       0.0        0.0       0.0         0.0   \n",
       "2        0.0  ...         0.0       0.0        0.0       0.0         0.0   \n",
       "3        0.0  ...         0.0       0.0        0.0       0.0         0.0   \n",
       "4        0.0  ...         0.0       0.0        0.0       0.0         0.0   \n",
       "\n",
       "   prob_17029  prob_8230  prob_13366  prob_16533  prob_1455  \n",
       "0         0.0        0.0         0.0         0.0        0.0  \n",
       "1         0.0        0.0         0.0         0.0        0.0  \n",
       "2         0.0        0.0         0.0         0.0        0.0  \n",
       "3         0.0        0.0         0.0         0.0        0.0  \n",
       "4         0.0        0.0         0.0         0.0        0.0  \n",
       "\n",
       "[5 rows x 5084 columns]"
      ]
     },
     "execution_count": 7,
     "metadata": {},
     "output_type": "execute_result"
    }
   ],
   "source": [
    "ca_val_gdf = pd.read_pickle(s3_read_path)\n",
    "ca_val_gdf.head()"
   ]
  },
  {
   "cell_type": "code",
   "execution_count": 8,
   "id": "1ae635b2-83d6-47cc-8814-41ffc19153c6",
   "metadata": {},
   "outputs": [],
   "source": [
    "assert(ca_val_gdf.prob_5309.sum() == 13.) #Should be 13.0"
   ]
  },
  {
   "cell_type": "markdown",
   "id": "b8b29256-5195-46bb-88c5-cb6f186ffbe7",
   "metadata": {},
   "source": [
    "# Centroids"
   ]
  },
  {
   "cell_type": "markdown",
   "id": "1977319f-2843-4f91-bbd7-010479df7695",
   "metadata": {},
   "source": [
    "## Generate a list of centroids for every grid_id [KDE]"
   ]
  },
  {
   "cell_type": "code",
   "execution_count": 9,
   "id": "6cfba2dd-3ca1-4b9c-affa-1074809030fa",
   "metadata": {},
   "outputs": [
    {
     "data": {
      "text/html": [
       "<div>\n",
       "<style scoped>\n",
       "    .dataframe tbody tr th:only-of-type {\n",
       "        vertical-align: middle;\n",
       "    }\n",
       "\n",
       "    .dataframe tbody tr th {\n",
       "        vertical-align: top;\n",
       "    }\n",
       "\n",
       "    .dataframe thead th {\n",
       "        text-align: right;\n",
       "    }\n",
       "</style>\n",
       "<table border=\"1\" class=\"dataframe\">\n",
       "  <thead>\n",
       "    <tr style=\"text-align: right;\">\n",
       "      <th></th>\n",
       "      <th>grid_id</th>\n",
       "      <th>lon</th>\n",
       "      <th>lat</th>\n",
       "      <th>geometry</th>\n",
       "    </tr>\n",
       "  </thead>\n",
       "  <tbody>\n",
       "    <tr>\n",
       "      <th>0</th>\n",
       "      <td>0</td>\n",
       "      <td>-124.390558</td>\n",
       "      <td>40.255879</td>\n",
       "      <td>POINT (-124.39056 40.25588)</td>\n",
       "    </tr>\n",
       "    <tr>\n",
       "      <th>1</th>\n",
       "      <td>1</td>\n",
       "      <td>-124.390558</td>\n",
       "      <td>40.305879</td>\n",
       "      <td>POINT (-124.39056 40.30588)</td>\n",
       "    </tr>\n",
       "    <tr>\n",
       "      <th>2</th>\n",
       "      <td>2</td>\n",
       "      <td>-124.390558</td>\n",
       "      <td>40.355879</td>\n",
       "      <td>POINT (-124.39056 40.35588)</td>\n",
       "    </tr>\n",
       "    <tr>\n",
       "      <th>3</th>\n",
       "      <td>3</td>\n",
       "      <td>-124.390558</td>\n",
       "      <td>40.405879</td>\n",
       "      <td>POINT (-124.39056 40.40588)</td>\n",
       "    </tr>\n",
       "    <tr>\n",
       "      <th>4</th>\n",
       "      <td>4</td>\n",
       "      <td>-124.390558</td>\n",
       "      <td>40.455879</td>\n",
       "      <td>POINT (-124.39056 40.45588)</td>\n",
       "    </tr>\n",
       "  </tbody>\n",
       "</table>\n",
       "</div>"
      ],
      "text/plain": [
       "   grid_id         lon        lat                     geometry\n",
       "0        0 -124.390558  40.255879  POINT (-124.39056 40.25588)\n",
       "1        1 -124.390558  40.305879  POINT (-124.39056 40.30588)\n",
       "2        2 -124.390558  40.355879  POINT (-124.39056 40.35588)\n",
       "3        3 -124.390558  40.405879  POINT (-124.39056 40.40588)\n",
       "4        4 -124.390558  40.455879  POINT (-124.39056 40.45588)"
      ]
     },
     "execution_count": 9,
     "metadata": {},
     "output_type": "execute_result"
    }
   ],
   "source": [
    "centroids = create_centroids_gdf(kde_gdf)\n",
    "centroids.head()"
   ]
  },
  {
   "cell_type": "markdown",
   "id": "94f6376a-77cd-4b3b-8f54-8961a11acdb9",
   "metadata": {},
   "source": [
    "## Fetch their URLs for Sentinel-2"
   ]
  },
  {
   "cell_type": "code",
   "execution_count": 10,
   "id": "8869cfc4-918a-4b61-9449-3fbb93c4f33a",
   "metadata": {},
   "outputs": [
    {
     "name": "stdout",
     "output_type": "stream",
     "text": [
      "Organizing grid centroids according to Hilbert distance...\n",
      "Attemping to create a new dask client\n"
     ]
    },
    {
     "name": "stderr",
     "output_type": "stream",
     "text": [
      "2022-12-10 03:12:21,689 - distributed.diskutils - INFO - Found stale lock file and directory '/home/jovyan/sdm-geolifeCLEF/dask-worker-space/worker-ddczeyvg', purging\n",
      "2022-12-10 03:12:21,689 - distributed.diskutils - INFO - Found stale lock file and directory '/home/jovyan/sdm-geolifeCLEF/dask-worker-space/worker-_rshkx9c', purging\n",
      "2022-12-10 03:12:21,689 - distributed.diskutils - INFO - Found stale lock file and directory '/home/jovyan/sdm-geolifeCLEF/dask-worker-space/worker-udwv6tpc', purging\n",
      "2022-12-10 03:12:21,689 - distributed.diskutils - INFO - Found stale lock file and directory '/home/jovyan/sdm-geolifeCLEF/dask-worker-space/worker-4xgut1ui', purging\n",
      "2022-12-10 03:12:21,690 - distributed.diskutils - INFO - Found stale lock file and directory '/home/jovyan/sdm-geolifeCLEF/dask-worker-space/worker-y416q3zo', purging\n",
      "2022-12-10 03:12:21,690 - distributed.diskutils - INFO - Found stale lock file and directory '/home/jovyan/sdm-geolifeCLEF/dask-worker-space/worker-4fs_1kj0', purging\n",
      "2022-12-10 03:12:21,690 - distributed.diskutils - INFO - Found stale lock file and directory '/home/jovyan/sdm-geolifeCLEF/dask-worker-space/worker-85pgcqta', purging\n",
      "2022-12-10 03:12:21,691 - distributed.diskutils - INFO - Found stale lock file and directory '/home/jovyan/sdm-geolifeCLEF/dask-worker-space/worker-tacbqwd2', purging\n",
      "2022-12-10 03:12:21,691 - distributed.diskutils - INFO - Found stale lock file and directory '/home/jovyan/sdm-geolifeCLEF/dask-worker-space/worker-88zctlfm', purging\n",
      "2022-12-10 03:12:21,691 - distributed.diskutils - INFO - Found stale lock file and directory '/home/jovyan/sdm-geolifeCLEF/dask-worker-space/worker-0s5bnsnv', purging\n",
      "2022-12-10 03:12:21,692 - distributed.diskutils - INFO - Found stale lock file and directory '/home/jovyan/sdm-geolifeCLEF/dask-worker-space/worker-6vqs3qlu', purging\n",
      "2022-12-10 03:12:21,692 - distributed.diskutils - INFO - Found stale lock file and directory '/home/jovyan/sdm-geolifeCLEF/dask-worker-space/worker-1za5c1mn', purging\n"
     ]
    },
    {
     "name": "stdout",
     "output_type": "stream",
     "text": [
      "<Client: 'tcp://127.0.0.1:40065' processes=4 threads=4, memory=27.00 GiB>\n",
      "32610\n",
      "17173 URLs acquired. Shutting Down Cluster\n",
      "CPU times: user 3.77 s, sys: 985 ms, total: 4.76 s\n",
      "Wall time: 42.5 s\n"
     ]
    }
   ],
   "source": [
    "%%time\n",
    "centroids = add_sentinel_urls(centroids)"
   ]
  },
  {
   "cell_type": "code",
   "execution_count": 11,
   "id": "16e84d0f-5b98-4dfd-bb20-4b170af4c085",
   "metadata": {},
   "outputs": [
    {
     "data": {
      "text/html": [
       "<div>\n",
       "<style scoped>\n",
       "    .dataframe tbody tr th:only-of-type {\n",
       "        vertical-align: middle;\n",
       "    }\n",
       "\n",
       "    .dataframe tbody tr th {\n",
       "        vertical-align: top;\n",
       "    }\n",
       "\n",
       "    .dataframe thead th {\n",
       "        text-align: right;\n",
       "    }\n",
       "</style>\n",
       "<table border=\"1\" class=\"dataframe\">\n",
       "  <thead>\n",
       "    <tr style=\"text-align: right;\">\n",
       "      <th></th>\n",
       "      <th>lon</th>\n",
       "      <th>lat</th>\n",
       "      <th>geometry</th>\n",
       "      <th>urls</th>\n",
       "      <th>crs</th>\n",
       "    </tr>\n",
       "  </thead>\n",
       "  <tbody>\n",
       "    <tr>\n",
       "      <th>0</th>\n",
       "      <td>-119.590558</td>\n",
       "      <td>33.25588</td>\n",
       "      <td>POINT (-119.59056 33.25588)</td>\n",
       "      <td>(https://sentinel2l2a01.blob.core.windows.net/...</td>\n",
       "      <td>32611</td>\n",
       "    </tr>\n",
       "    <tr>\n",
       "      <th>1</th>\n",
       "      <td>-119.490558</td>\n",
       "      <td>33.20588</td>\n",
       "      <td>POINT (-119.49056 33.20588)</td>\n",
       "      <td>(https://sentinel2l2a01.blob.core.windows.net/...</td>\n",
       "      <td>32611</td>\n",
       "    </tr>\n",
       "    <tr>\n",
       "      <th>2</th>\n",
       "      <td>-119.440558</td>\n",
       "      <td>33.20588</td>\n",
       "      <td>POINT (-119.44056 33.20588)</td>\n",
       "      <td>(https://sentinel2l2a01.blob.core.windows.net/...</td>\n",
       "      <td>32611</td>\n",
       "    </tr>\n",
       "    <tr>\n",
       "      <th>3</th>\n",
       "      <td>-119.440558</td>\n",
       "      <td>33.25588</td>\n",
       "      <td>POINT (-119.44056 33.25588)</td>\n",
       "      <td>(https://sentinel2l2a01.blob.core.windows.net/...</td>\n",
       "      <td>32611</td>\n",
       "    </tr>\n",
       "    <tr>\n",
       "      <th>4</th>\n",
       "      <td>-119.490558</td>\n",
       "      <td>33.25588</td>\n",
       "      <td>POINT (-119.49056 33.25588)</td>\n",
       "      <td>(https://sentinel2l2a01.blob.core.windows.net/...</td>\n",
       "      <td>32611</td>\n",
       "    </tr>\n",
       "    <tr>\n",
       "      <th>...</th>\n",
       "      <td>...</td>\n",
       "      <td>...</td>\n",
       "      <td>...</td>\n",
       "      <td>...</td>\n",
       "      <td>...</td>\n",
       "    </tr>\n",
       "    <tr>\n",
       "      <th>17168</th>\n",
       "      <td>-114.590558</td>\n",
       "      <td>32.80588</td>\n",
       "      <td>POINT (-114.59056 32.80588)</td>\n",
       "      <td>(https://sentinel2l2a01.blob.core.windows.net/...</td>\n",
       "      <td>32611</td>\n",
       "    </tr>\n",
       "    <tr>\n",
       "      <th>17169</th>\n",
       "      <td>-114.540558</td>\n",
       "      <td>32.80588</td>\n",
       "      <td>POINT (-114.54056 32.80588)</td>\n",
       "      <td>(https://sentinel2l2a01.blob.core.windows.net/...</td>\n",
       "      <td>32611</td>\n",
       "    </tr>\n",
       "    <tr>\n",
       "      <th>17170</th>\n",
       "      <td>-114.540558</td>\n",
       "      <td>32.85588</td>\n",
       "      <td>POINT (-114.54056 32.85588)</td>\n",
       "      <td>(https://sentinel2l2a01.blob.core.windows.net/...</td>\n",
       "      <td>32611</td>\n",
       "    </tr>\n",
       "    <tr>\n",
       "      <th>17171</th>\n",
       "      <td>-114.490558</td>\n",
       "      <td>32.85588</td>\n",
       "      <td>POINT (-114.49056 32.85588)</td>\n",
       "      <td>(https://sentinel2l2a01.blob.core.windows.net/...</td>\n",
       "      <td>32611</td>\n",
       "    </tr>\n",
       "    <tr>\n",
       "      <th>17172</th>\n",
       "      <td>-114.490558</td>\n",
       "      <td>32.80588</td>\n",
       "      <td>POINT (-114.49056 32.80588)</td>\n",
       "      <td>(https://sentinel2l2a01.blob.core.windows.net/...</td>\n",
       "      <td>32611</td>\n",
       "    </tr>\n",
       "  </tbody>\n",
       "</table>\n",
       "<p>17173 rows × 5 columns</p>\n",
       "</div>"
      ],
      "text/plain": [
       "              lon       lat                     geometry  \\\n",
       "0     -119.590558  33.25588  POINT (-119.59056 33.25588)   \n",
       "1     -119.490558  33.20588  POINT (-119.49056 33.20588)   \n",
       "2     -119.440558  33.20588  POINT (-119.44056 33.20588)   \n",
       "3     -119.440558  33.25588  POINT (-119.44056 33.25588)   \n",
       "4     -119.490558  33.25588  POINT (-119.49056 33.25588)   \n",
       "...           ...       ...                          ...   \n",
       "17168 -114.590558  32.80588  POINT (-114.59056 32.80588)   \n",
       "17169 -114.540558  32.80588  POINT (-114.54056 32.80588)   \n",
       "17170 -114.540558  32.85588  POINT (-114.54056 32.85588)   \n",
       "17171 -114.490558  32.85588  POINT (-114.49056 32.85588)   \n",
       "17172 -114.490558  32.80588  POINT (-114.49056 32.80588)   \n",
       "\n",
       "                                                    urls    crs  \n",
       "0      (https://sentinel2l2a01.blob.core.windows.net/...  32611  \n",
       "1      (https://sentinel2l2a01.blob.core.windows.net/...  32611  \n",
       "2      (https://sentinel2l2a01.blob.core.windows.net/...  32611  \n",
       "3      (https://sentinel2l2a01.blob.core.windows.net/...  32611  \n",
       "4      (https://sentinel2l2a01.blob.core.windows.net/...  32611  \n",
       "...                                                  ...    ...  \n",
       "17168  (https://sentinel2l2a01.blob.core.windows.net/...  32611  \n",
       "17169  (https://sentinel2l2a01.blob.core.windows.net/...  32611  \n",
       "17170  (https://sentinel2l2a01.blob.core.windows.net/...  32611  \n",
       "17171  (https://sentinel2l2a01.blob.core.windows.net/...  32611  \n",
       "17172  (https://sentinel2l2a01.blob.core.windows.net/...  32611  \n",
       "\n",
       "[17173 rows x 5 columns]"
      ]
     },
     "execution_count": 11,
     "metadata": {},
     "output_type": "execute_result"
    }
   ],
   "source": [
    "centroids"
   ]
  },
  {
   "cell_type": "code",
   "execution_count": 12,
   "id": "3ae5b107-c6f6-435a-acd7-d4d9100794d7",
   "metadata": {},
   "outputs": [
    {
     "data": {
      "text/plain": [
       "('https://sentinel2l2a01.blob.core.windows.net/sentinel2-l2/11/S/PS/2019/11/17/S2A_MSIL2A_20191117T182641_N0212_R127_T11SPS_20201003T172221.SAFE/GRANULE/L2A_T11SPS_A023004_20191117T183204/IMG_DATA/R10m/T11SPS_20191117T182641_TCI_10m.tif?st=2022-12-09T03%3A12%3A24Z&se=2022-12-17T03%3A12%3A24Z&sp=rl&sv=2021-06-08&sr=c&skoid=c85c15d6-d1ae-42d4-af60-e2ca0f81359b&sktid=72f988bf-86f1-41af-91ab-2d7cd011db47&skt=2022-12-10T03%3A12%3A23Z&ske=2022-12-17T03%3A12%3A23Z&sks=b&skv=2021-06-08&sig=0%2B5q9lFstU0585FamhfPEqA3EjdKQXxceNJ3HOVwgz8%3D',\n",
       " 'https://sentinel2l2a01.blob.core.windows.net/sentinel2-l2/11/S/PS/2019/11/17/S2A_MSIL2A_20191117T182641_N0212_R127_T11SPS_20201003T172221.SAFE/GRANULE/L2A_T11SPS_A023004_20191117T183204/IMG_DATA/R10m/T11SPS_20191117T182641_B08_10m.tif?st=2022-12-09T03%3A12%3A24Z&se=2022-12-17T03%3A12%3A24Z&sp=rl&sv=2021-06-08&sr=c&skoid=c85c15d6-d1ae-42d4-af60-e2ca0f81359b&sktid=72f988bf-86f1-41af-91ab-2d7cd011db47&skt=2022-12-10T03%3A12%3A23Z&ske=2022-12-17T03%3A12%3A23Z&sks=b&skv=2021-06-08&sig=0%2B5q9lFstU0585FamhfPEqA3EjdKQXxceNJ3HOVwgz8%3D')"
      ]
     },
     "execution_count": 12,
     "metadata": {},
     "output_type": "execute_result"
    }
   ],
   "source": [
    "centroids.urls[17000]"
   ]
  },
  {
   "cell_type": "markdown",
   "id": "72b55ec2-f16b-4444-ab09-fb85940b0df8",
   "metadata": {},
   "source": [
    "## Same for val observations"
   ]
  },
  {
   "cell_type": "code",
   "execution_count": 13,
   "id": "6b72c2d0-a83b-4f9f-9d96-bf7caa0edb32",
   "metadata": {},
   "outputs": [
    {
     "data": {
      "text/html": [
       "<div>\n",
       "<style scoped>\n",
       "    .dataframe tbody tr th:only-of-type {\n",
       "        vertical-align: middle;\n",
       "    }\n",
       "\n",
       "    .dataframe tbody tr th {\n",
       "        vertical-align: top;\n",
       "    }\n",
       "\n",
       "    .dataframe thead th {\n",
       "        text-align: right;\n",
       "    }\n",
       "</style>\n",
       "<table border=\"1\" class=\"dataframe\">\n",
       "  <thead>\n",
       "    <tr style=\"text-align: right;\">\n",
       "      <th></th>\n",
       "      <th>lat</th>\n",
       "      <th>lon</th>\n",
       "      <th>geometry</th>\n",
       "    </tr>\n",
       "  </thead>\n",
       "  <tbody>\n",
       "    <tr>\n",
       "      <th>0</th>\n",
       "      <td>41.523970</td>\n",
       "      <td>-124.045616</td>\n",
       "      <td>POINT (-124.04562 41.52397)</td>\n",
       "    </tr>\n",
       "    <tr>\n",
       "      <th>1</th>\n",
       "      <td>38.354510</td>\n",
       "      <td>-122.514270</td>\n",
       "      <td>POINT (-122.51427 38.35451)</td>\n",
       "    </tr>\n",
       "    <tr>\n",
       "      <th>2</th>\n",
       "      <td>38.807053</td>\n",
       "      <td>-122.369255</td>\n",
       "      <td>POINT (-122.36925 38.80705)</td>\n",
       "    </tr>\n",
       "    <tr>\n",
       "      <th>3</th>\n",
       "      <td>34.023647</td>\n",
       "      <td>-118.417330</td>\n",
       "      <td>POINT (-118.41733 34.02365)</td>\n",
       "    </tr>\n",
       "    <tr>\n",
       "      <th>4</th>\n",
       "      <td>35.178210</td>\n",
       "      <td>-120.745760</td>\n",
       "      <td>POINT (-120.74576 35.17821)</td>\n",
       "    </tr>\n",
       "    <tr>\n",
       "      <th>...</th>\n",
       "      <td>...</td>\n",
       "      <td>...</td>\n",
       "      <td>...</td>\n",
       "    </tr>\n",
       "    <tr>\n",
       "      <th>5020</th>\n",
       "      <td>37.493600</td>\n",
       "      <td>-122.368350</td>\n",
       "      <td>POINT (-122.36835 37.49360)</td>\n",
       "    </tr>\n",
       "    <tr>\n",
       "      <th>5021</th>\n",
       "      <td>38.026356</td>\n",
       "      <td>-119.249990</td>\n",
       "      <td>POINT (-119.24999 38.02636)</td>\n",
       "    </tr>\n",
       "    <tr>\n",
       "      <th>5022</th>\n",
       "      <td>38.826870</td>\n",
       "      <td>-122.349720</td>\n",
       "      <td>POINT (-122.34972 38.82687)</td>\n",
       "    </tr>\n",
       "    <tr>\n",
       "      <th>5023</th>\n",
       "      <td>37.211212</td>\n",
       "      <td>-120.842026</td>\n",
       "      <td>POINT (-120.84203 37.21121)</td>\n",
       "    </tr>\n",
       "    <tr>\n",
       "      <th>5024</th>\n",
       "      <td>37.206974</td>\n",
       "      <td>-122.067154</td>\n",
       "      <td>POINT (-122.06715 37.20697)</td>\n",
       "    </tr>\n",
       "  </tbody>\n",
       "</table>\n",
       "<p>5025 rows × 3 columns</p>\n",
       "</div>"
      ],
      "text/plain": [
       "            lat         lon                     geometry\n",
       "0     41.523970 -124.045616  POINT (-124.04562 41.52397)\n",
       "1     38.354510 -122.514270  POINT (-122.51427 38.35451)\n",
       "2     38.807053 -122.369255  POINT (-122.36925 38.80705)\n",
       "3     34.023647 -118.417330  POINT (-118.41733 34.02365)\n",
       "4     35.178210 -120.745760  POINT (-120.74576 35.17821)\n",
       "...         ...         ...                          ...\n",
       "5020  37.493600 -122.368350  POINT (-122.36835 37.49360)\n",
       "5021  38.026356 -119.249990  POINT (-119.24999 38.02636)\n",
       "5022  38.826870 -122.349720  POINT (-122.34972 38.82687)\n",
       "5023  37.211212 -120.842026  POINT (-120.84203 37.21121)\n",
       "5024  37.206974 -122.067154  POINT (-122.06715 37.20697)\n",
       "\n",
       "[5025 rows x 3 columns]"
      ]
     },
     "execution_count": 13,
     "metadata": {},
     "output_type": "execute_result"
    }
   ],
   "source": [
    "centroids_val = create_centroids_val_gdf(ca_val_gdf)\n",
    "centroids_val"
   ]
  },
  {
   "cell_type": "markdown",
   "id": "63284340-f601-4c8a-9522-2a2ccfe42a76",
   "metadata": {},
   "source": [
    "## Drop some stuff to make it look like the observations data"
   ]
  },
  {
   "cell_type": "code",
   "execution_count": 14,
   "id": "08ee2061-5e77-4d49-b30b-cb4133b60258",
   "metadata": {},
   "outputs": [
    {
     "data": {
      "text/html": [
       "<div>\n",
       "<style scoped>\n",
       "    .dataframe tbody tr th:only-of-type {\n",
       "        vertical-align: middle;\n",
       "    }\n",
       "\n",
       "    .dataframe tbody tr th {\n",
       "        vertical-align: top;\n",
       "    }\n",
       "\n",
       "    .dataframe thead th {\n",
       "        text-align: right;\n",
       "    }\n",
       "</style>\n",
       "<table border=\"1\" class=\"dataframe\">\n",
       "  <thead>\n",
       "    <tr style=\"text-align: right;\">\n",
       "      <th></th>\n",
       "      <th>prob_4911</th>\n",
       "      <th>prob_4912</th>\n",
       "      <th>prob_4922</th>\n",
       "      <th>prob_4923</th>\n",
       "      <th>prob_2329</th>\n",
       "      <th>prob_4927</th>\n",
       "      <th>prob_4930</th>\n",
       "      <th>prob_4382</th>\n",
       "      <th>prob_4937</th>\n",
       "      <th>prob_4941</th>\n",
       "      <th>...</th>\n",
       "      <th>prob_14228</th>\n",
       "      <th>prob_202</th>\n",
       "      <th>prob_9006</th>\n",
       "      <th>prob_272</th>\n",
       "      <th>prob_16726</th>\n",
       "      <th>prob_17029</th>\n",
       "      <th>prob_8230</th>\n",
       "      <th>prob_13366</th>\n",
       "      <th>prob_16533</th>\n",
       "      <th>prob_1455</th>\n",
       "    </tr>\n",
       "  </thead>\n",
       "  <tbody>\n",
       "    <tr>\n",
       "      <th>0</th>\n",
       "      <td>0</td>\n",
       "      <td>0</td>\n",
       "      <td>0</td>\n",
       "      <td>0</td>\n",
       "      <td>0</td>\n",
       "      <td>0</td>\n",
       "      <td>0</td>\n",
       "      <td>0</td>\n",
       "      <td>0</td>\n",
       "      <td>0</td>\n",
       "      <td>...</td>\n",
       "      <td>0</td>\n",
       "      <td>0</td>\n",
       "      <td>0</td>\n",
       "      <td>0</td>\n",
       "      <td>0</td>\n",
       "      <td>0</td>\n",
       "      <td>0</td>\n",
       "      <td>0</td>\n",
       "      <td>0</td>\n",
       "      <td>0</td>\n",
       "    </tr>\n",
       "    <tr>\n",
       "      <th>1</th>\n",
       "      <td>0</td>\n",
       "      <td>0</td>\n",
       "      <td>0</td>\n",
       "      <td>0</td>\n",
       "      <td>0</td>\n",
       "      <td>0</td>\n",
       "      <td>0</td>\n",
       "      <td>0</td>\n",
       "      <td>0</td>\n",
       "      <td>0</td>\n",
       "      <td>...</td>\n",
       "      <td>0</td>\n",
       "      <td>0</td>\n",
       "      <td>0</td>\n",
       "      <td>0</td>\n",
       "      <td>0</td>\n",
       "      <td>0</td>\n",
       "      <td>0</td>\n",
       "      <td>0</td>\n",
       "      <td>0</td>\n",
       "      <td>0</td>\n",
       "    </tr>\n",
       "    <tr>\n",
       "      <th>2</th>\n",
       "      <td>0</td>\n",
       "      <td>0</td>\n",
       "      <td>0</td>\n",
       "      <td>0</td>\n",
       "      <td>0</td>\n",
       "      <td>0</td>\n",
       "      <td>0</td>\n",
       "      <td>0</td>\n",
       "      <td>0</td>\n",
       "      <td>0</td>\n",
       "      <td>...</td>\n",
       "      <td>0</td>\n",
       "      <td>0</td>\n",
       "      <td>0</td>\n",
       "      <td>0</td>\n",
       "      <td>0</td>\n",
       "      <td>0</td>\n",
       "      <td>0</td>\n",
       "      <td>0</td>\n",
       "      <td>0</td>\n",
       "      <td>0</td>\n",
       "    </tr>\n",
       "    <tr>\n",
       "      <th>3</th>\n",
       "      <td>0</td>\n",
       "      <td>0</td>\n",
       "      <td>0</td>\n",
       "      <td>0</td>\n",
       "      <td>0</td>\n",
       "      <td>0</td>\n",
       "      <td>0</td>\n",
       "      <td>0</td>\n",
       "      <td>0</td>\n",
       "      <td>0</td>\n",
       "      <td>...</td>\n",
       "      <td>0</td>\n",
       "      <td>0</td>\n",
       "      <td>0</td>\n",
       "      <td>0</td>\n",
       "      <td>0</td>\n",
       "      <td>0</td>\n",
       "      <td>0</td>\n",
       "      <td>0</td>\n",
       "      <td>0</td>\n",
       "      <td>0</td>\n",
       "    </tr>\n",
       "    <tr>\n",
       "      <th>4</th>\n",
       "      <td>0</td>\n",
       "      <td>0</td>\n",
       "      <td>0</td>\n",
       "      <td>0</td>\n",
       "      <td>0</td>\n",
       "      <td>0</td>\n",
       "      <td>0</td>\n",
       "      <td>0</td>\n",
       "      <td>0</td>\n",
       "      <td>0</td>\n",
       "      <td>...</td>\n",
       "      <td>0</td>\n",
       "      <td>0</td>\n",
       "      <td>0</td>\n",
       "      <td>0</td>\n",
       "      <td>0</td>\n",
       "      <td>0</td>\n",
       "      <td>0</td>\n",
       "      <td>0</td>\n",
       "      <td>0</td>\n",
       "      <td>0</td>\n",
       "    </tr>\n",
       "  </tbody>\n",
       "</table>\n",
       "<p>5 rows × 5079 columns</p>\n",
       "</div>"
      ],
      "text/plain": [
       "   prob_4911  prob_4912  prob_4922  prob_4923  prob_2329  prob_4927  \\\n",
       "0          0          0          0          0          0          0   \n",
       "1          0          0          0          0          0          0   \n",
       "2          0          0          0          0          0          0   \n",
       "3          0          0          0          0          0          0   \n",
       "4          0          0          0          0          0          0   \n",
       "\n",
       "   prob_4930  prob_4382  prob_4937  prob_4941  ...  prob_14228  prob_202  \\\n",
       "0          0          0          0          0  ...           0         0   \n",
       "1          0          0          0          0  ...           0         0   \n",
       "2          0          0          0          0  ...           0         0   \n",
       "3          0          0          0          0  ...           0         0   \n",
       "4          0          0          0          0  ...           0         0   \n",
       "\n",
       "   prob_9006  prob_272  prob_16726  prob_17029  prob_8230  prob_13366  \\\n",
       "0          0         0           0           0          0           0   \n",
       "1          0         0           0           0          0           0   \n",
       "2          0         0           0           0          0           0   \n",
       "3          0         0           0           0          0           0   \n",
       "4          0         0           0           0          0           0   \n",
       "\n",
       "   prob_16533  prob_1455  \n",
       "0           0          0  \n",
       "1           0          0  \n",
       "2           0          0  \n",
       "3           0          0  \n",
       "4           0          0  \n",
       "\n",
       "[5 rows x 5079 columns]"
      ]
     },
     "execution_count": 14,
     "metadata": {},
     "output_type": "execute_result"
    }
   ],
   "source": [
    "columns_to_drop = ['latitude','longitude', 'observation_id','species_id','geometry']\n",
    "ca_val_gdf2 = ca_val_gdf.drop(columns_to_drop, axis=1).astype(np.uint8)\n",
    "ca_val_gdf2.head()"
   ]
  },
  {
   "cell_type": "markdown",
   "id": "e026d22b-c72c-4ff0-995b-e6ae734af1aa",
   "metadata": {},
   "source": [
    "### Fetch URLs for Sentinel-2"
   ]
  },
  {
   "cell_type": "code",
   "execution_count": 17,
   "id": "c8289571-dea3-4ea5-9006-6005c53f2afa",
   "metadata": {},
   "outputs": [
    {
     "name": "stdout",
     "output_type": "stream",
     "text": [
      "Organizing grid centroids according to Hilbert distance...\n",
      "Attemping to create a new dask client\n",
      "<Client: 'tcp://127.0.0.1:41279' processes=4 threads=4, memory=27.00 GiB>\n",
      "32610\n",
      "5025 URLs acquired. Shutting Down Cluster\n",
      "CPU times: user 1.95 s, sys: 711 ms, total: 2.66 s\n",
      "Wall time: 23.7 s\n"
     ]
    }
   ],
   "source": [
    "%%time\n",
    "centroids_val2 = add_sentinel_urls(centroids_val, mode=\"val\")\n"
   ]
  },
  {
   "cell_type": "code",
   "execution_count": 18,
   "id": "7d31b04b-66af-4586-b9a1-01ebc4aafad2",
   "metadata": {},
   "outputs": [
    {
     "data": {
      "text/html": [
       "<div>\n",
       "<style scoped>\n",
       "    .dataframe tbody tr th:only-of-type {\n",
       "        vertical-align: middle;\n",
       "    }\n",
       "\n",
       "    .dataframe tbody tr th {\n",
       "        vertical-align: top;\n",
       "    }\n",
       "\n",
       "    .dataframe thead th {\n",
       "        text-align: right;\n",
       "    }\n",
       "</style>\n",
       "<table border=\"1\" class=\"dataframe\">\n",
       "  <thead>\n",
       "    <tr style=\"text-align: right;\">\n",
       "      <th></th>\n",
       "      <th>lat</th>\n",
       "      <th>lon</th>\n",
       "      <th>geometry</th>\n",
       "      <th>urls</th>\n",
       "      <th>crs</th>\n",
       "    </tr>\n",
       "  </thead>\n",
       "  <tbody>\n",
       "    <tr>\n",
       "      <th>0</th>\n",
       "      <td>34.535717</td>\n",
       "      <td>-119.79601</td>\n",
       "      <td>POINT (-119.79601 34.53572)</td>\n",
       "      <td>(https://sentinel2l2a01.blob.core.windows.net/...</td>\n",
       "      <td>32611</td>\n",
       "    </tr>\n",
       "    <tr>\n",
       "      <th>1</th>\n",
       "      <td>34.543713</td>\n",
       "      <td>-119.80254</td>\n",
       "      <td>POINT (-119.80254 34.54371)</td>\n",
       "      <td>(https://sentinel2l2a01.blob.core.windows.net/...</td>\n",
       "      <td>32611</td>\n",
       "    </tr>\n",
       "    <tr>\n",
       "      <th>2</th>\n",
       "      <td>34.543175</td>\n",
       "      <td>-119.80047</td>\n",
       "      <td>POINT (-119.80047 34.54317)</td>\n",
       "      <td>(https://sentinel2l2a01.blob.core.windows.net/...</td>\n",
       "      <td>32611</td>\n",
       "    </tr>\n",
       "    <tr>\n",
       "      <th>3</th>\n",
       "      <td>34.541320</td>\n",
       "      <td>-119.79459</td>\n",
       "      <td>POINT (-119.79459 34.54132)</td>\n",
       "      <td>(https://sentinel2l2a01.blob.core.windows.net/...</td>\n",
       "      <td>32611</td>\n",
       "    </tr>\n",
       "    <tr>\n",
       "      <th>4</th>\n",
       "      <td>34.541367</td>\n",
       "      <td>-119.79134</td>\n",
       "      <td>POINT (-119.79134 34.54137)</td>\n",
       "      <td>(https://sentinel2l2a01.blob.core.windows.net/...</td>\n",
       "      <td>32611</td>\n",
       "    </tr>\n",
       "    <tr>\n",
       "      <th>...</th>\n",
       "      <td>...</td>\n",
       "      <td>...</td>\n",
       "      <td>...</td>\n",
       "      <td>...</td>\n",
       "      <td>...</td>\n",
       "    </tr>\n",
       "    <tr>\n",
       "      <th>5020</th>\n",
       "      <td>32.765675</td>\n",
       "      <td>-115.70594</td>\n",
       "      <td>POINT (-115.70594 32.76568)</td>\n",
       "      <td>(https://sentinel2l2a01.blob.core.windows.net/...</td>\n",
       "      <td>32611</td>\n",
       "    </tr>\n",
       "    <tr>\n",
       "      <th>5021</th>\n",
       "      <td>32.866245</td>\n",
       "      <td>-115.23540</td>\n",
       "      <td>POINT (-115.23540 32.86624)</td>\n",
       "      <td>(https://sentinel2l2a01.blob.core.windows.net/...</td>\n",
       "      <td>32611</td>\n",
       "    </tr>\n",
       "    <tr>\n",
       "      <th>5022</th>\n",
       "      <td>32.866530</td>\n",
       "      <td>-115.22657</td>\n",
       "      <td>POINT (-115.22657 32.86653)</td>\n",
       "      <td>(https://sentinel2l2a01.blob.core.windows.net/...</td>\n",
       "      <td>32611</td>\n",
       "    </tr>\n",
       "    <tr>\n",
       "      <th>5023</th>\n",
       "      <td>32.756300</td>\n",
       "      <td>-114.83733</td>\n",
       "      <td>POINT (-114.83733 32.75630)</td>\n",
       "      <td>(https://sentinel2l2a01.blob.core.windows.net/...</td>\n",
       "      <td>32611</td>\n",
       "    </tr>\n",
       "    <tr>\n",
       "      <th>5024</th>\n",
       "      <td>32.755684</td>\n",
       "      <td>-114.83806</td>\n",
       "      <td>POINT (-114.83806 32.75568)</td>\n",
       "      <td>(https://sentinel2l2a01.blob.core.windows.net/...</td>\n",
       "      <td>32611</td>\n",
       "    </tr>\n",
       "  </tbody>\n",
       "</table>\n",
       "<p>5025 rows × 5 columns</p>\n",
       "</div>"
      ],
      "text/plain": [
       "            lat        lon                     geometry  \\\n",
       "0     34.535717 -119.79601  POINT (-119.79601 34.53572)   \n",
       "1     34.543713 -119.80254  POINT (-119.80254 34.54371)   \n",
       "2     34.543175 -119.80047  POINT (-119.80047 34.54317)   \n",
       "3     34.541320 -119.79459  POINT (-119.79459 34.54132)   \n",
       "4     34.541367 -119.79134  POINT (-119.79134 34.54137)   \n",
       "...         ...        ...                          ...   \n",
       "5020  32.765675 -115.70594  POINT (-115.70594 32.76568)   \n",
       "5021  32.866245 -115.23540  POINT (-115.23540 32.86624)   \n",
       "5022  32.866530 -115.22657  POINT (-115.22657 32.86653)   \n",
       "5023  32.756300 -114.83733  POINT (-114.83733 32.75630)   \n",
       "5024  32.755684 -114.83806  POINT (-114.83806 32.75568)   \n",
       "\n",
       "                                                   urls    crs  \n",
       "0     (https://sentinel2l2a01.blob.core.windows.net/...  32611  \n",
       "1     (https://sentinel2l2a01.blob.core.windows.net/...  32611  \n",
       "2     (https://sentinel2l2a01.blob.core.windows.net/...  32611  \n",
       "3     (https://sentinel2l2a01.blob.core.windows.net/...  32611  \n",
       "4     (https://sentinel2l2a01.blob.core.windows.net/...  32611  \n",
       "...                                                 ...    ...  \n",
       "5020  (https://sentinel2l2a01.blob.core.windows.net/...  32611  \n",
       "5021  (https://sentinel2l2a01.blob.core.windows.net/...  32611  \n",
       "5022  (https://sentinel2l2a01.blob.core.windows.net/...  32611  \n",
       "5023  (https://sentinel2l2a01.blob.core.windows.net/...  32611  \n",
       "5024  (https://sentinel2l2a01.blob.core.windows.net/...  32611  \n",
       "\n",
       "[5025 rows x 5 columns]"
      ]
     },
     "execution_count": 18,
     "metadata": {},
     "output_type": "execute_result"
    }
   ],
   "source": [
    "centroids_val2"
   ]
  },
  {
   "cell_type": "code",
   "execution_count": 19,
   "id": "f51b37dc-e1b7-4001-afd5-6f47a005eaf6",
   "metadata": {},
   "outputs": [
    {
     "data": {
      "text/plain": [
       "('https://sentinel2l2a01.blob.core.windows.net/sentinel2-l2/11/S/PT/2019/10/23/S2B_MSIL2A_20191023T182419_N0212_R127_T11SPT_20201004T053409.SAFE/GRANULE/L2A_T11SPT_A013738_20191023T182537/IMG_DATA/R10m/T11SPT_20191023T182419_TCI_10m.tif?st=2022-12-09T03%3A13%3A46Z&se=2022-12-17T03%3A13%3A47Z&sp=rl&sv=2021-06-08&sr=c&skoid=c85c15d6-d1ae-42d4-af60-e2ca0f81359b&sktid=72f988bf-86f1-41af-91ab-2d7cd011db47&skt=2022-12-10T03%3A13%3A45Z&ske=2022-12-17T03%3A13%3A45Z&sks=b&skv=2021-06-08&sig=LJnYCvy3EK%2Bl2YpWV/meZ6%2BLF4JKmWG%2BtxinqB273e8%3D',\n",
       " 'https://sentinel2l2a01.blob.core.windows.net/sentinel2-l2/11/S/PT/2019/10/23/S2B_MSIL2A_20191023T182419_N0212_R127_T11SPT_20201004T053409.SAFE/GRANULE/L2A_T11SPT_A013738_20191023T182537/IMG_DATA/R10m/T11SPT_20191023T182419_B08_10m.tif?st=2022-12-09T03%3A13%3A46Z&se=2022-12-17T03%3A13%3A47Z&sp=rl&sv=2021-06-08&sr=c&skoid=c85c15d6-d1ae-42d4-af60-e2ca0f81359b&sktid=72f988bf-86f1-41af-91ab-2d7cd011db47&skt=2022-12-10T03%3A13%3A45Z&ske=2022-12-17T03%3A13%3A45Z&sks=b&skv=2021-06-08&sig=LJnYCvy3EK%2Bl2YpWV/meZ6%2BLF4JKmWG%2BtxinqB273e8%3D')"
      ]
     },
     "execution_count": 19,
     "metadata": {},
     "output_type": "execute_result"
    }
   ],
   "source": [
    "centroids_val2.urls[5000]"
   ]
  },
  {
   "cell_type": "markdown",
   "id": "6d4c88a8-b9dc-4fa8-acbe-7f551c01d8f2",
   "metadata": {},
   "source": [
    "# Dataset"
   ]
  },
  {
   "cell_type": "code",
   "execution_count": 20,
   "id": "e20b75c6-3706-4388-9a12-0253553bcfed",
   "metadata": {},
   "outputs": [],
   "source": [
    "%load_ext autoreload"
   ]
  },
  {
   "cell_type": "code",
   "execution_count": 21,
   "id": "883f053b-ecc8-4312-a5bd-e77eaa80f811",
   "metadata": {},
   "outputs": [
    {
     "name": "stdout",
     "output_type": "stream",
     "text": [
      "s3://datasets-sdm/geoLifeCLEF/rasters/\n"
     ]
    }
   ],
   "source": [
    "BUCKET_NAME = 'datasets-sdm'\n",
    "folder = 'geoLifeCLEF/rasters'\n",
    "s3_raster_path = 's3://{}/{}/'.format(BUCKET_NAME, folder)\n",
    "print(s3_raster_path)"
   ]
  },
  {
   "cell_type": "code",
   "execution_count": 22,
   "id": "ebdbc5f2-54ce-44b0-95c7-f189b7088e56",
   "metadata": {},
   "outputs": [],
   "source": [
    "%autoreload 2\n",
    "from dataset import Dataset"
   ]
  },
  {
   "cell_type": "code",
   "execution_count": 23,
   "id": "8232c51a-567a-4266-b207-712b269dc00c",
   "metadata": {},
   "outputs": [],
   "source": [
    "SIDE_PX = 64\n",
    "SIDE_LEN_M = 50000 #just under 0.5 degrees"
   ]
  },
  {
   "cell_type": "markdown",
   "id": "e6e5e925-993a-402e-aeea-1dd2e365279b",
   "metadata": {
    "tags": []
   },
   "source": [
    "## Training set"
   ]
  },
  {
   "cell_type": "code",
   "execution_count": null,
   "id": "e3cb7b4e-e8e5-4f43-a0a8-965760a72d9c",
   "metadata": {},
   "outputs": [],
   "source": [
    "from torchvision import transforms\n",
    "\n",
    "si_transform = transforms.Compose([\n",
    "    # transforms.ToTensor(),\n",
    "    # scales pixel values to range [-1, 1]\n",
    "    transforms.Normalize(0.5, 0.5),                                      \n",
    "])"
   ]
  },
  {
   "cell_type": "code",
   "execution_count": 24,
   "id": "35fa80e4-a474-4753-aec6-818b5f95d9e2",
   "metadata": {},
   "outputs": [
    {
     "name": "stdout",
     "output_type": "stream",
     "text": [
      "Setting up SI Patch Extractor..\n",
      "Setting up env raster extractor..\n",
      "Processing Raster file for  bio_1\n",
      "Processing Raster file for  bio_2\n",
      "Processing Raster file for  bio_3\n",
      "Processing Raster file for  bio_4\n",
      "Processing Raster file for  bio_5\n",
      "Processing Raster file for  bio_6\n",
      "Processing Raster file for  bio_7\n",
      "Processing Raster file for  bio_8\n",
      "Processing Raster file for  bio_9\n",
      "Processing Raster file for  bio_10\n",
      "Processing Raster file for  bio_11\n",
      "Processing Raster file for  bio_12\n",
      "Processing Raster file for  bio_13\n",
      "Processing Raster file for  bio_14\n",
      "Processing Raster file for  bio_15\n",
      "Processing Raster file for  bio_16\n",
      "Processing Raster file for  bio_17\n",
      "Processing Raster file for  bio_18\n",
      "Processing Raster file for  bio_19\n",
      "Processing Raster file for  bdticm\n",
      "Processing Raster file for  bldfie\n",
      "Processing Raster file for  cecsol\n",
      "Processing Raster file for  clyppt\n",
      "Processing Raster file for  orcdrc\n",
      "Processing Raster file for  phihox\n",
      "Processing Raster file for  sltppt\n",
      "Processing Raster file for  sndppt\n"
     ]
    }
   ],
   "source": [
    "train_set = Dataset(raster_root=s3_raster_path, subset=\"train\", centroids=centroids, observations=kde_gdf, side_len_m=SIDE_LEN_M,side_px=SIDE_PX)"
   ]
  },
  {
   "cell_type": "markdown",
   "id": "c56d1201-b8e4-4f34-aabf-d03abf1f06d5",
   "metadata": {
    "jp-MarkdownHeadingCollapsed": true,
    "tags": []
   },
   "source": [
    "### Display datasets"
   ]
  },
  {
   "cell_type": "code",
   "execution_count": 300,
   "id": "5e33c90d-1f37-4d4a-97ef-c2a98cc799b8",
   "metadata": {},
   "outputs": [
    {
     "name": "stdout",
     "output_type": "stream",
     "text": [
      "CPU times: user 1.55 s, sys: 63.4 ms, total: 1.61 s\n",
      "Wall time: 3.18 s\n"
     ]
    }
   ],
   "source": [
    "%%time\n",
    "(patch, target) = train_set[2708]\n",
    "# (patch, target) = train_set[51]"
   ]
  },
  {
   "cell_type": "code",
   "execution_count": 292,
   "id": "d288731c-4c52-47c4-8817-2116f5efb35d",
   "metadata": {},
   "outputs": [
    {
     "data": {
      "text/plain": [
       "(dtype('float64'), dtype('uint8'), (31, 64, 64), (5079,))"
      ]
     },
     "execution_count": 292,
     "metadata": {},
     "output_type": "execute_result"
    }
   ],
   "source": [
    "patch.dtype, target.dtype, patch.shape, target.shape"
   ]
  },
  {
   "cell_type": "code",
   "execution_count": 293,
   "id": "1729afac-9096-4d9e-8aea-c4d48eb8536c",
   "metadata": {},
   "outputs": [
    {
     "data": {
      "text/plain": [
       "array([ 0,  0, 24, ...,  0,  0,  0], dtype=uint8)"
      ]
     },
     "execution_count": 293,
     "metadata": {},
     "output_type": "execute_result"
    }
   ],
   "source": [
    "target"
   ]
  },
  {
   "cell_type": "code",
   "execution_count": 301,
   "id": "2db98e6a-2c87-48c3-a5ea-ed6b5faaed6d",
   "metadata": {},
   "outputs": [
    {
     "data": {
      "image/png": "[encoded data removed]",
      "text/plain": [
       "<Figure size 640x480 with 2 Axes>"
      ]
     },
     "metadata": {},
     "output_type": "display_data"
    }
   ],
   "source": [
    "img = patch[0:3,:,:]\n",
    "# img = img.numpy()\n",
    "img = img.transpose([1, 2, 0])\n",
    "plt.imshow(img, vmax=1)\n",
    "plt.colorbar()\n",
    "plt.show()"
   ]
  },
  {
   "cell_type": "code",
   "execution_count": 302,
   "id": "089d4638-4bfd-4ed9-a8e6-ecb15b3639bf",
   "metadata": {},
   "outputs": [
    {
     "data": {
      "text/plain": [
       "(0.3048, 0.3048)"
      ]
     },
     "execution_count": 302,
     "metadata": {},
     "output_type": "execute_result"
    },
    {
     "data": {
      "image/png": "[encoded data removed]",
      "text/plain": [
       "<Figure size 640x480 with 2 Axes>"
      ]
     },
     "metadata": {},
     "output_type": "display_data"
    }
   ],
   "source": [
    "NIR_image = patch[3].squeeze()#-> Remove first dim (channel) \n",
    "plt.imshow(NIR_image)#, vmax=1.0)\n",
    "plt.colorbar()\n",
    "NIR_image.max(), patch[3].max()"
   ]
  },
  {
   "cell_type": "code",
   "execution_count": 303,
   "id": "beecaeb6-4c22-4563-92f6-2422f4922186",
   "metadata": {},
   "outputs": [
    {
     "data": {
      "text/plain": [
       "(0.5543341433585548, 0.0)"
      ]
     },
     "execution_count": 303,
     "metadata": {},
     "output_type": "execute_result"
    },
    {
     "data": {
      "image/png": "[encoded data removed]",
      "text/plain": [
       "<Figure size 640x480 with 2 Axes>"
      ]
     },
     "metadata": {},
     "output_type": "display_data"
    }
   ],
   "source": [
    "ped = patch[-1].squeeze()#-> Remove first dim (channel) \n",
    "plt.imshow(ped)#.permute(1, 2, 0),vmax=1)#, vmax=1.0)\n",
    "plt.colorbar()\n",
    "ped.max(), ped.min()"
   ]
  },
  {
   "cell_type": "code",
   "execution_count": 62,
   "id": "aaa607c8-b9a8-460f-9183-ca864a9bb31f",
   "metadata": {},
   "outputs": [
    {
     "data": {
      "text/plain": [
       "5539"
      ]
     },
     "execution_count": 62,
     "metadata": {},
     "output_type": "execute_result"
    }
   ],
   "source": [
    "import gc\n",
    "del train_set\n",
    "gc.collect()"
   ]
  },
  {
   "cell_type": "markdown",
   "id": "593fbfc6-86cb-4121-8d22-34f63b4d3ed1",
   "metadata": {
    "jp-MarkdownHeadingCollapsed": true,
    "tags": []
   },
   "source": [
    "## Val set"
   ]
  },
  {
   "cell_type": "code",
   "execution_count": 44,
   "id": "2df1eeea-c137-48c8-abc6-5fd29b65ba75",
   "metadata": {},
   "outputs": [
    {
     "name": "stdout",
     "output_type": "stream",
     "text": [
      "Setting up SI Patch Extractor..\n",
      "Setting up env raster extractor..\n",
      "Processing Raster file for  bio_1\n",
      "Processing Raster file for  bio_2\n",
      "Processing Raster file for  bio_3\n",
      "Processing Raster file for  bio_4\n",
      "Processing Raster file for  bio_5\n",
      "Processing Raster file for  bio_6\n",
      "Processing Raster file for  bio_7\n",
      "Processing Raster file for  bio_8\n",
      "Processing Raster file for  bio_9\n",
      "Processing Raster file for  bio_10\n",
      "Processing Raster file for  bio_11\n",
      "Processing Raster file for  bio_12\n",
      "Processing Raster file for  bio_13\n",
      "Processing Raster file for  bio_14\n",
      "Processing Raster file for  bio_15\n",
      "Processing Raster file for  bio_16\n",
      "Processing Raster file for  bio_17\n",
      "Processing Raster file for  bio_18\n",
      "Processing Raster file for  bio_19\n",
      "Processing Raster file for  bdticm\n",
      "Processing Raster file for  bldfie\n",
      "Processing Raster file for  cecsol\n",
      "Processing Raster file for  clyppt\n",
      "Processing Raster file for  orcdrc\n",
      "Processing Raster file for  phihox\n",
      "Processing Raster file for  sltppt\n",
      "Processing Raster file for  sndppt\n"
     ]
    }
   ],
   "source": [
    "val_set = Dataset(raster_root=s3_raster_path, subset=\"val\", centroids=centroids_val2, observations=ca_val_gdf2, side_len_m=SIDE_LEN_M, side_px=SIDE_PX)"
   ]
  },
  {
   "cell_type": "markdown",
   "id": "fdf0cf38-254c-4f14-88c5-8e2e9ed558fb",
   "metadata": {
    "tags": []
   },
   "source": [
    "### Test patches extracted"
   ]
  },
  {
   "cell_type": "code",
   "execution_count": null,
   "id": "678333d5-e045-443e-b872-a3529ba97a39",
   "metadata": {},
   "outputs": [],
   "source": [
    "%%time\n",
    "(patch2, target2) = val_set[300]"
   ]
  },
  {
   "cell_type": "code",
   "execution_count": 46,
   "id": "80e4b8f8-a273-42af-b0af-bb51b9e9f481",
   "metadata": {},
   "outputs": [
    {
     "ename": "NameError",
     "evalue": "name 'patch2' is not defined",
     "output_type": "error",
     "traceback": [
      "\u001b[0;31m---------------------------------------------------------------------------\u001b[0m",
      "\u001b[0;31mNameError\u001b[0m                                 Traceback (most recent call last)",
      "Cell \u001b[0;32mIn [46], line 1\u001b[0m\n\u001b[0;32m----> 1\u001b[0m img \u001b[38;5;241m=\u001b[39m \u001b[43mpatch2\u001b[49m[\u001b[38;5;241m0\u001b[39m:\u001b[38;5;241m3\u001b[39m,:,:]\n\u001b[1;32m      2\u001b[0m img \u001b[38;5;241m=\u001b[39m img\u001b[38;5;241m.\u001b[39mnumpy()\n\u001b[1;32m      3\u001b[0m img \u001b[38;5;241m=\u001b[39m img\u001b[38;5;241m.\u001b[39mtranspose([\u001b[38;5;241m1\u001b[39m, \u001b[38;5;241m2\u001b[39m, \u001b[38;5;241m0\u001b[39m])\n",
      "\u001b[0;31mNameError\u001b[0m: name 'patch2' is not defined"
     ]
    }
   ],
   "source": [
    "img = patch2[0:3,:,:]\n",
    "img = img.numpy()\n",
    "img = img.transpose([1, 2, 0])\n",
    "plt.imshow(img, vmax=1)\n",
    "plt.colorbar()\n",
    "plt.show()"
   ]
  },
  {
   "cell_type": "code",
   "execution_count": 191,
   "id": "10f2aa13-630d-4544-91f9-fee67adfc2c7",
   "metadata": {},
   "outputs": [
    {
     "data": {
      "text/plain": [
       "<matplotlib.colorbar.Colorbar at 0x7f3c8685a280>"
      ]
     },
     "execution_count": 191,
     "metadata": {},
     "output_type": "execute_result"
    },
    {
     "data": {
      "image/png": "[encoded data removed]",
      "text/plain": [
       "<Figure size 640x480 with 2 Axes>"
      ]
     },
     "metadata": {},
     "output_type": "display_data"
    }
   ],
   "source": [
    "NIR_image = patch2[3].unsqueeze(dim=0)#-> Remove first dim (channel) \n",
    "# add a new subplot iteratively\n",
    "\n",
    "plt.imshow(NIR_image.permute(1, 2, 0),vmax=1)#, vmax=1.0)\n",
    "plt.colorbar()"
   ]
  },
  {
   "cell_type": "code",
   "execution_count": 192,
   "id": "cd65aaf4-dfb4-41ca-9d01-7183050e982d",
   "metadata": {},
   "outputs": [
    {
     "data": {
      "text/plain": [
       "<matplotlib.colorbar.Colorbar at 0x7f3c564ec5b0>"
      ]
     },
     "execution_count": 192,
     "metadata": {},
     "output_type": "execute_result"
    },
    {
     "data": {
      "image/png": "[encoded data removed]",
      "text/plain": [
       "<Figure size 640x480 with 2 Axes>"
      ]
     },
     "metadata": {},
     "output_type": "display_data"
    }
   ],
   "source": [
    "ped = patch2[-1].unsqueeze(dim=0)#-> Remove first dim (channel) \n",
    "plt.imshow(ped.permute(1, 2, 0),vmax=1)#, vmax=1.0)\n",
    "plt.colorbar()"
   ]
  },
  {
   "cell_type": "code",
   "execution_count": 193,
   "id": "23952196-ae8f-483e-8831-ce31d25c7227",
   "metadata": {},
   "outputs": [
    {
     "data": {
      "text/plain": [
       "5079"
      ]
     },
     "execution_count": 193,
     "metadata": {},
     "output_type": "execute_result"
    }
   ],
   "source": [
    "len(target2)"
   ]
  },
  {
   "cell_type": "code",
   "execution_count": 183,
   "id": "7895631b-b222-4bd2-bb6e-4a25f05f4dc0",
   "metadata": {},
   "outputs": [
    {
     "data": {
      "text/plain": [
       "25307"
      ]
     },
     "execution_count": 183,
     "metadata": {},
     "output_type": "execute_result"
    }
   ],
   "source": [
    "import gc\n",
    "del val_set\n",
    "gc.collect()"
   ]
  },
  {
   "cell_type": "code",
   "execution_count": 27,
   "id": "76e8b9c3-18ec-4e69-b8a2-214661feeafe",
   "metadata": {},
   "outputs": [
    {
     "data": {
      "text/plain": [
       "31"
      ]
     },
     "execution_count": 27,
     "metadata": {},
     "output_type": "execute_result"
    }
   ],
   "source": [
    "len(patch)"
   ]
  },
  {
   "cell_type": "markdown",
   "id": "dc76bd59-3155-4807-a825-f220462c4135",
   "metadata": {},
   "source": [
    "# Dump data to Zarr using a loader"
   ]
  },
  {
   "cell_type": "code",
   "execution_count": 25,
   "id": "ad4ef0e3-f748-4fcf-a9a4-bdf135bd2789",
   "metadata": {},
   "outputs": [],
   "source": [
    "import zarr\n",
    "import numcodecs"
   ]
  },
  {
   "cell_type": "markdown",
   "id": "75212185-399d-4ddc-8a8f-bcebf4514b72",
   "metadata": {},
   "source": [
    "### Create a Zarr dataset with each element consisting of a tuple of patch and target"
   ]
  },
  {
   "cell_type": "code",
   "execution_count": 26,
   "id": "3d19dbf9-a851-4a5d-a100-35c7111fab2f",
   "metadata": {},
   "outputs": [],
   "source": [
    "import warnings\n",
    "warnings.filterwarnings('ignore')\n"
   ]
  },
  {
   "cell_type": "markdown",
   "id": "c00922fe-5b7d-4e17-b4f5-1c108dd65d73",
   "metadata": {},
   "source": [
    "### Loader testing"
   ]
  },
  {
   "cell_type": "code",
   "execution_count": 44,
   "id": "7d1b21c9-a89c-4519-b218-b34b97c42d41",
   "metadata": {},
   "outputs": [],
   "source": [
    "BATCH_SIZE = 4\n",
    "NUM_WORKERS = 2"
   ]
  },
  {
   "cell_type": "code",
   "execution_count": 45,
   "id": "290d7a54-697e-411f-98b0-f3b34a17ee94",
   "metadata": {},
   "outputs": [],
   "source": [
    "train_dumper = torch.utils.data.DataLoader(train_set, shuffle=False, batch_size=BATCH_SIZE, num_workers=NUM_WORKERS)"
   ]
  },
  {
   "cell_type": "code",
   "execution_count": 29,
   "id": "a989b4d2-a114-4548-baa8-a10db18be9d1",
   "metadata": {},
   "outputs": [
    {
     "name": "stdout",
     "output_type": "stream",
     "text": [
      "s3://datasets-sdm2/geoLifeCLEF/features/train_ca.zarr\n"
     ]
    }
   ],
   "source": [
    "BUCKET_NAME = 'datasets-sdm2'\n",
    "folder = 'geoLifeCLEF/features'\n",
    "# s3://datasets-sdm2/geoLifeCLEF/features/\n",
    "filename = 'train_ca.zarr'\n",
    "s3_feature_path = 's3://{}/{}/{}'.format(BUCKET_NAME, folder, filename)\n",
    "print(s3_feature_path)"
   ]
  },
  {
   "cell_type": "code",
   "execution_count": 35,
   "id": "2ffc6b74-872f-4e68-83f4-c72f616a2033",
   "metadata": {},
   "outputs": [
    {
     "data": {
      "text/plain": [
       "17173"
      ]
     },
     "execution_count": 35,
     "metadata": {},
     "output_type": "execute_result"
    }
   ],
   "source": [
    "len(train_set)"
   ]
  },
  {
   "cell_type": "code",
   "execution_count": 46,
   "id": "d1684dec-22e6-44c9-9a5b-8cf97a999704",
   "metadata": {},
   "outputs": [],
   "source": [
    "train_z = zarr.open(s3_feature_path, mode='w', shape=(len(train_set),2), \\\n",
    "                    chunks=(10,None), dtype=object, object_codec=numcodecs.Pickle())"
   ]
  },
  {
   "cell_type": "code",
   "execution_count": 47,
   "id": "c1822e00-0001-4553-8df9-12eefd41da8a",
   "metadata": {},
   "outputs": [
    {
     "data": {
      "text/html": [
       "<table class=\"zarr-info\"><tbody><tr><th style=\"text-align: left\">Type</th><td style=\"text-align: left\">zarr.core.Array</td></tr><tr><th style=\"text-align: left\">Data type</th><td style=\"text-align: left\">object</td></tr><tr><th style=\"text-align: left\">Shape</th><td style=\"text-align: left\">(17173, 2)</td></tr><tr><th style=\"text-align: left\">Chunk shape</th><td style=\"text-align: left\">(10, 2)</td></tr><tr><th style=\"text-align: left\">Order</th><td style=\"text-align: left\">C</td></tr><tr><th style=\"text-align: left\">Read-only</th><td style=\"text-align: left\">False</td></tr><tr><th style=\"text-align: left\">Filter [0]</th><td style=\"text-align: left\">Pickle(protocol=5)</td></tr><tr><th style=\"text-align: left\">Compressor</th><td style=\"text-align: left\">Blosc(cname='lz4', clevel=5, shuffle=SHUFFLE, blocksize=0)</td></tr><tr><th style=\"text-align: left\">Store type</th><td style=\"text-align: left\">zarr.storage.FSStore</td></tr><tr><th style=\"text-align: left\">No. bytes</th><td style=\"text-align: left\">274768 (268.3K)</td></tr><tr><th style=\"text-align: left\">No. bytes stored</th><td style=\"text-align: left\">412</td></tr><tr><th style=\"text-align: left\">Storage ratio</th><td style=\"text-align: left\">666.9</td></tr><tr><th style=\"text-align: left\">Chunks initialized</th><td style=\"text-align: left\">0/1718</td></tr></tbody></table>"
      ],
      "text/plain": [
       "Type               : zarr.core.Array\n",
       "Data type          : object\n",
       "Shape              : (17173, 2)\n",
       "Chunk shape        : (10, 2)\n",
       "Order              : C\n",
       "Read-only          : False\n",
       "Filter [0]         : Pickle(protocol=5)\n",
       "Compressor         : Blosc(cname='lz4', clevel=5, shuffle=SHUFFLE, blocksize=0)\n",
       "Store type         : zarr.storage.FSStore\n",
       "No. bytes          : 274768 (268.3K)\n",
       "No. bytes stored   : 412\n",
       "Storage ratio      : 666.9\n",
       "Chunks initialized : 0/1718"
      ]
     },
     "execution_count": 47,
     "metadata": {},
     "output_type": "execute_result"
    }
   ],
   "source": [
    "train_z.info"
   ]
  },
  {
   "cell_type": "code",
   "execution_count": 317,
   "id": "e4a5db7e-831c-42d4-87e6-bf60e0d3fe55",
   "metadata": {},
   "outputs": [],
   "source": [
    "# train_z = zarr.open('data/train_ca.zarr', mode='w', shape=(len(train_set),2), \\\n",
    "#                     chunks=(10,None), dtype=object, object_codec=numcodecs.Pickle())"
   ]
  },
  {
   "cell_type": "code",
   "execution_count": null,
   "id": "4e5b5024-7be9-42e1-bcb4-14a2700aa90d",
   "metadata": {},
   "outputs": [
    {
     "data": {
      "application/vnd.jupyter.widget-view+json": {
       "model_id": "a7a04e69910e442c8c5cf632cd1f9d42",
       "version_major": 2,
       "version_minor": 0
      },
      "text/plain": [
       "  0%|          | 0/4294 [00:00<?, ?it/s]"
      ]
     },
     "metadata": {},
     "output_type": "display_data"
    }
   ],
   "source": [
    "from tqdm.notebook import tqdm\n",
    "\n",
    "# for i in tqdm(range(int(len(train_set)/BATCH_SIZE + 0.5))):\n",
    "for i, batch in enumerate(tqdm(train_dumper)):\n",
    "    \n",
    "    #Patches and targets together\n",
    "    for j, (p,t) in enumerate(zip(batch[0], batch[1])):\n",
    "        train_z[j + i*BATCH_SIZE] = (p.numpy(), t.numpy())\n",
    "        # print(\"Writing to location [{}]\".format(j + i*BATCH_SIZE))\n",
    "    "
   ]
  },
  {
   "cell_type": "code",
   "execution_count": 272,
   "id": "ee89c9c6-4354-426b-b4e8-4c7df7397081",
   "metadata": {},
   "outputs": [
    {
     "data": {
      "text/plain": [
       "(dtype('uint8'), (31, 64, 64))"
      ]
     },
     "execution_count": 272,
     "metadata": {},
     "output_type": "execute_result"
    }
   ],
   "source": [
    "train_z[16][1].dtype, train_z[51][0].shape"
   ]
  },
  {
   "cell_type": "code",
   "execution_count": 276,
   "id": "22b71e4e-837d-4bea-9dab-979f0fa7e471",
   "metadata": {},
   "outputs": [
    {
     "data": {
      "image/png": "[encoded data removed]",
      "text/plain": [
       "<Figure size 640x480 with 2 Axes>"
      ]
     },
     "metadata": {},
     "output_type": "display_data"
    }
   ],
   "source": [
    "img = train_z[121][0][0:3,:,:]\n",
    "# img = img.numpy()\n",
    "img = img.transpose([1, 2, 0])\n",
    "plt.imshow(img, vmax=1)\n",
    "plt.colorbar()\n",
    "plt.show()"
   ]
  },
  {
   "cell_type": "code",
   "execution_count": 277,
   "id": "cfa7900f-c2b5-4c76-9204-7eb81f658125",
   "metadata": {},
   "outputs": [
    {
     "data": {
      "image/png": "[encoded data removed]",
      "text/plain": [
       "<Figure size 640x480 with 2 Axes>"
      ]
     },
     "metadata": {},
     "output_type": "display_data"
    }
   ],
   "source": [
    "img = train_z[121][0][5,:,:]\n",
    "# img = img.numpy()\n",
    "# img = img.transpose([1, 2, 0])\n",
    "plt.imshow(img, vmax=1)\n",
    "plt.colorbar()\n",
    "plt.show()"
   ]
  },
  {
   "cell_type": "code",
   "execution_count": 258,
   "id": "5710ff5c-ee1e-469e-84f9-b72faa6463e1",
   "metadata": {},
   "outputs": [
    {
     "data": {
      "text/plain": [
       "array([[-5.36402575, -5.36402575,  0.        , ...,  0.        ,\n",
       "        -5.36402575, -5.36402575],\n",
       "       [-5.36402575, -5.36402575,  0.        , ...,  0.        ,\n",
       "        -5.36402575, -5.36402575],\n",
       "       [-5.36402575, -5.36402575,  0.        , ...,  0.        ,\n",
       "        -5.36402575, -5.36402575],\n",
       "       ...,\n",
       "       [-5.36402575, -5.36402575,  0.        , ...,  0.        ,\n",
       "        -5.36402575, -5.36402575],\n",
       "       [-5.36402575, -5.36402575,  0.        , ...,  0.        ,\n",
       "        -5.36402575, -5.36402575],\n",
       "       [-5.36402575, -5.36402575,  0.        , ...,  0.        ,\n",
       "        -5.36402575, -5.36402575]])"
      ]
     },
     "execution_count": 258,
     "metadata": {},
     "output_type": "execute_result"
    }
   ],
   "source": [
    "train_z[51][0][5,:,:]"
   ]
  },
  {
   "cell_type": "markdown",
   "id": "8452fc2c-71e6-46e1-b63f-9b5af8e40746",
   "metadata": {},
   "source": [
    "### Debug: setting paths for imports"
   ]
  },
  {
   "cell_type": "code",
   "execution_count": 1,
   "id": "b2b04929-0503-48c8-9827-7b31dc2e0ca7",
   "metadata": {},
   "outputs": [
    {
     "name": "stdout",
     "output_type": "stream",
     "text": [
      "/home/jovyan/sdm-geolifeCLEF\n",
      "/srv/conda/envs/notebook/lib/python39.zip\n",
      "/srv/conda/envs/notebook/lib/python3.9\n",
      "/srv/conda/envs/notebook/lib/python3.9/lib-dynload\n",
      "\n",
      "/srv/conda/envs/notebook/lib/python3.9/site-packages\n"
     ]
    }
   ],
   "source": [
    "import sys\n",
    "for path in sys.path:\n",
    "    print(path)\n",
    "    "
   ]
  },
  {
   "cell_type": "code",
   "execution_count": 20,
   "id": "32f34055-9482-4f8c-9e66-7344aa17e22b",
   "metadata": {},
   "outputs": [],
   "source": [
    "# sys.path.remove('/models')\n",
    "# sys.path.remove('/raster')\n",
    "# sys.path.remove('model/')\n",
    "sys.path.remove('/models')\n",
    "# sys.path.remove('/models')\n",
    "# sys.path.remove('/raster')\n"
   ]
  },
  {
   "cell_type": "code",
   "execution_count": null,
   "id": "65405a39-afb6-48ba-8b5e-d631bf0bd858",
   "metadata": {},
   "outputs": [],
   "source": []
  }
 ],
 "metadata": {
  "kernelspec": {
   "display_name": "Python 3 (ipykernel)",
   "language": "python",
   "name": "python3"
  },
  "language_info": {
   "codemirror_mode": {
    "name": "ipython",
    "version": 3
   },
   "file_extension": ".py",
   "mimetype": "text/x-python",
   "name": "python",
   "nbconvert_exporter": "python",
   "pygments_lexer": "ipython3",
   "version": "3.9.13"
  }
 },
 "nbformat": 4,
 "nbformat_minor": 5
}
