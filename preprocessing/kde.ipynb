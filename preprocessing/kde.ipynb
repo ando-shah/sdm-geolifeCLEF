{
 "cells": [
  {
   "cell_type": "code",
   "execution_count": 2,
   "id": "3b5b6aa9-9d8f-44d1-b126-27a1e9734917",
   "metadata": {},
   "outputs": [],
   "source": [
    "import geopandas as gpd\n",
    "import pandas as pd\n",
    "import s3fs\n",
    "import numpy as np\n",
    "import math\n",
    "from shapely.geometry import Polygon, box\n",
    "from sklearn.neighbors import KernelDensity\n",
    "#import plotly.express as px\n",
    "import matplotlib.pyplot as plt"
   ]
  },
  {
   "cell_type": "markdown",
   "id": "62c17542-109c-4cfb-a17b-840b6395b828",
   "metadata": {},
   "source": [
    "# 1. Read Observation Data into Geopandas Frame"
   ]
  },
  {
   "cell_type": "code",
   "execution_count": 3,
   "id": "a662883a-eb6e-45d9-8c55-438fb7fbab09",
   "metadata": {},
   "outputs": [],
   "source": [
    "DATASET_PATH = '../data/full_dataset.csv'\n",
    "RASTER_PATH = '../data/rasters/'"
   ]
  },
  {
   "cell_type": "code",
   "execution_count": 4,
   "id": "ec4fe820-3d16-4d2d-917c-606c0f25af0a",
   "metadata": {},
   "outputs": [],
   "source": [
    "\n",
    "BUCKET_NAME = 'datasets-sdm'\n",
    "folder = 'geoLifeCLEF/observations'\n",
    "train_file, test_file = 'observations_us_train.csv', 'observations_us_test.csv'\n",
    "s3_train_path = 's3://{}/{}/{}'.format(BUCKET_NAME, folder, train_file)"
   ]
  },
  {
   "cell_type": "code",
   "execution_count": 5,
   "id": "37001ad0-8118-44e3-b192-7110d2653df8",
   "metadata": {},
   "outputs": [
    {
     "data": {
      "text/html": [
       "<div>\n",
       "<style scoped>\n",
       "    .dataframe tbody tr th:only-of-type {\n",
       "        vertical-align: middle;\n",
       "    }\n",
       "\n",
       "    .dataframe tbody tr th {\n",
       "        vertical-align: top;\n",
       "    }\n",
       "\n",
       "    .dataframe thead th {\n",
       "        text-align: right;\n",
       "    }\n",
       "</style>\n",
       "<table border=\"1\" class=\"dataframe\">\n",
       "  <thead>\n",
       "    <tr style=\"text-align: right;\">\n",
       "      <th></th>\n",
       "      <th>observation_id</th>\n",
       "      <th>latitude</th>\n",
       "      <th>longitude</th>\n",
       "      <th>species_id</th>\n",
       "      <th>subset</th>\n",
       "    </tr>\n",
       "  </thead>\n",
       "  <tbody>\n",
       "    <tr>\n",
       "      <th>0</th>\n",
       "      <td>20000173</td>\n",
       "      <td>33.197660</td>\n",
       "      <td>-116.180680</td>\n",
       "      <td>4911</td>\n",
       "      <td>train</td>\n",
       "    </tr>\n",
       "    <tr>\n",
       "      <th>1</th>\n",
       "      <td>20000175</td>\n",
       "      <td>34.037968</td>\n",
       "      <td>-118.876755</td>\n",
       "      <td>4912</td>\n",
       "      <td>train</td>\n",
       "    </tr>\n",
       "    <tr>\n",
       "      <th>2</th>\n",
       "      <td>20000176</td>\n",
       "      <td>27.620740</td>\n",
       "      <td>-97.222690</td>\n",
       "      <td>4913</td>\n",
       "      <td>train</td>\n",
       "    </tr>\n",
       "    <tr>\n",
       "      <th>3</th>\n",
       "      <td>20000177</td>\n",
       "      <td>29.155582</td>\n",
       "      <td>-95.653930</td>\n",
       "      <td>4914</td>\n",
       "      <td>train</td>\n",
       "    </tr>\n",
       "    <tr>\n",
       "      <th>4</th>\n",
       "      <td>20000179</td>\n",
       "      <td>36.605740</td>\n",
       "      <td>-121.959510</td>\n",
       "      <td>4915</td>\n",
       "      <td>train</td>\n",
       "    </tr>\n",
       "  </tbody>\n",
       "</table>\n",
       "</div>"
      ],
      "text/plain": [
       "   observation_id   latitude   longitude  species_id subset\n",
       "0        20000173  33.197660 -116.180680        4911  train\n",
       "1        20000175  34.037968 -118.876755        4912  train\n",
       "2        20000176  27.620740  -97.222690        4913  train\n",
       "3        20000177  29.155582  -95.653930        4914  train\n",
       "4        20000179  36.605740 -121.959510        4915  train"
      ]
     },
     "execution_count": 5,
     "metadata": {},
     "output_type": "execute_result"
    }
   ],
   "source": [
    "train_usa = pd.read_csv(s3_train_path,header='infer', sep=';',)\n",
    "train_usa.head()"
   ]
  },
  {
   "cell_type": "code",
   "execution_count": 6,
   "id": "c555576e-62ac-4257-bfef-2d7c7216e656",
   "metadata": {},
   "outputs": [
    {
     "data": {
      "text/plain": [
       "(931132, 25099)"
      ]
     },
     "execution_count": 6,
     "metadata": {},
     "output_type": "execute_result"
    }
   ],
   "source": [
    "train_df, val_df = train_usa[train_usa.subset == 'train'], train_usa[train_usa.subset == 'val']\n",
    "len(train_df), len(val_df)"
   ]
  },
  {
   "cell_type": "code",
   "execution_count": 7,
   "id": "45f22583-2275-4cc7-a28b-6ab7eab65885",
   "metadata": {},
   "outputs": [],
   "source": [
    "del train_usa"
   ]
  },
  {
   "cell_type": "code",
   "execution_count": 8,
   "id": "abe1adab-ddb3-4db5-a4c9-0f926a648346",
   "metadata": {},
   "outputs": [
    {
     "data": {
      "text/html": [
       "<div>\n",
       "<style scoped>\n",
       "    .dataframe tbody tr th:only-of-type {\n",
       "        vertical-align: middle;\n",
       "    }\n",
       "\n",
       "    .dataframe tbody tr th {\n",
       "        vertical-align: top;\n",
       "    }\n",
       "\n",
       "    .dataframe thead th {\n",
       "        text-align: right;\n",
       "    }\n",
       "</style>\n",
       "<table border=\"1\" class=\"dataframe\">\n",
       "  <thead>\n",
       "    <tr style=\"text-align: right;\">\n",
       "      <th></th>\n",
       "      <th>observation_id</th>\n",
       "      <th>species_id</th>\n",
       "      <th>subset</th>\n",
       "      <th>geometry</th>\n",
       "    </tr>\n",
       "  </thead>\n",
       "  <tbody>\n",
       "    <tr>\n",
       "      <th>0</th>\n",
       "      <td>20000173</td>\n",
       "      <td>4911</td>\n",
       "      <td>train</td>\n",
       "      <td>POINT (-116.18068 33.19766)</td>\n",
       "    </tr>\n",
       "    <tr>\n",
       "      <th>1</th>\n",
       "      <td>20000175</td>\n",
       "      <td>4912</td>\n",
       "      <td>train</td>\n",
       "      <td>POINT (-118.87676 34.03797)</td>\n",
       "    </tr>\n",
       "    <tr>\n",
       "      <th>2</th>\n",
       "      <td>20000176</td>\n",
       "      <td>4913</td>\n",
       "      <td>train</td>\n",
       "      <td>POINT (-97.22269 27.62074)</td>\n",
       "    </tr>\n",
       "    <tr>\n",
       "      <th>3</th>\n",
       "      <td>20000177</td>\n",
       "      <td>4914</td>\n",
       "      <td>train</td>\n",
       "      <td>POINT (-95.65393 29.15558)</td>\n",
       "    </tr>\n",
       "    <tr>\n",
       "      <th>4</th>\n",
       "      <td>20000179</td>\n",
       "      <td>4915</td>\n",
       "      <td>train</td>\n",
       "      <td>POINT (-121.95951 36.60574)</td>\n",
       "    </tr>\n",
       "  </tbody>\n",
       "</table>\n",
       "</div>"
      ],
      "text/plain": [
       "   observation_id  species_id subset                     geometry\n",
       "0        20000173        4911  train  POINT (-116.18068 33.19766)\n",
       "1        20000175        4912  train  POINT (-118.87676 34.03797)\n",
       "2        20000176        4913  train   POINT (-97.22269 27.62074)\n",
       "3        20000177        4914  train   POINT (-95.65393 29.15558)\n",
       "4        20000179        4915  train  POINT (-121.95951 36.60574)"
      ]
     },
     "execution_count": 8,
     "metadata": {},
     "output_type": "execute_result"
    }
   ],
   "source": [
    "train_gdf = gpd.GeoDataFrame(train_df, geometry=gpd.points_from_xy(train_df.longitude, train_df.latitude))\\\n",
    "                .drop(['latitude', 'longitude'], axis=1).set_crs(4326)\n",
    "# train_gdf.to_crs\n",
    "train_gdf.head()"
   ]
  },
  {
   "cell_type": "code",
   "execution_count": 9,
   "id": "a8cb5993-ef95-43e4-9005-b6e5c4fba6cd",
   "metadata": {},
   "outputs": [
    {
     "data": {
      "text/plain": [
       "<Geographic 2D CRS: EPSG:4326>\n",
       "Name: WGS 84\n",
       "Axis Info [ellipsoidal]:\n",
       "- Lat[north]: Geodetic latitude (degree)\n",
       "- Lon[east]: Geodetic longitude (degree)\n",
       "Area of Use:\n",
       "- name: World.\n",
       "- bounds: (-180.0, -90.0, 180.0, 90.0)\n",
       "Datum: World Geodetic System 1984 ensemble\n",
       "- Ellipsoid: WGS 84\n",
       "- Prime Meridian: Greenwich"
      ]
     },
     "execution_count": 9,
     "metadata": {},
     "output_type": "execute_result"
    }
   ],
   "source": [
    "train_gdf.crs"
   ]
  },
  {
   "cell_type": "markdown",
   "id": "7c543fbd-c0eb-4972-91cd-ca2f6a7c2bf2",
   "metadata": {
    "tags": []
   },
   "source": [
    "# 2. Create grid for USA (AOI)"
   ]
  },
  {
   "cell_type": "markdown",
   "id": "70c748ba-3081-4235-9cd9-64ba40f2d4ea",
   "metadata": {},
   "source": [
    "## 2.1 Use a generic map outline for the USA"
   ]
  },
  {
   "cell_type": "code",
   "execution_count": 10,
   "id": "9edc50e1-d9be-448e-b37e-b273bbe4f89d",
   "metadata": {},
   "outputs": [
    {
     "data": {
      "text/html": [
       "<div>\n",
       "<style scoped>\n",
       "    .dataframe tbody tr th:only-of-type {\n",
       "        vertical-align: middle;\n",
       "    }\n",
       "\n",
       "    .dataframe tbody tr th {\n",
       "        vertical-align: top;\n",
       "    }\n",
       "\n",
       "    .dataframe thead th {\n",
       "        text-align: right;\n",
       "    }\n",
       "</style>\n",
       "<table border=\"1\" class=\"dataframe\">\n",
       "  <thead>\n",
       "    <tr style=\"text-align: right;\">\n",
       "      <th></th>\n",
       "      <th>pop_est</th>\n",
       "      <th>continent</th>\n",
       "      <th>name</th>\n",
       "      <th>iso_a3</th>\n",
       "      <th>gdp_md_est</th>\n",
       "      <th>geometry</th>\n",
       "    </tr>\n",
       "  </thead>\n",
       "  <tbody>\n",
       "    <tr>\n",
       "      <th>0</th>\n",
       "      <td>889953.0</td>\n",
       "      <td>Oceania</td>\n",
       "      <td>Fiji</td>\n",
       "      <td>FJI</td>\n",
       "      <td>5496</td>\n",
       "      <td>MULTIPOLYGON (((180.00000 -16.06713, 180.00000...</td>\n",
       "    </tr>\n",
       "    <tr>\n",
       "      <th>1</th>\n",
       "      <td>58005463.0</td>\n",
       "      <td>Africa</td>\n",
       "      <td>Tanzania</td>\n",
       "      <td>TZA</td>\n",
       "      <td>63177</td>\n",
       "      <td>POLYGON ((33.90371 -0.95000, 34.07262 -1.05982...</td>\n",
       "    </tr>\n",
       "    <tr>\n",
       "      <th>2</th>\n",
       "      <td>603253.0</td>\n",
       "      <td>Africa</td>\n",
       "      <td>W. Sahara</td>\n",
       "      <td>ESH</td>\n",
       "      <td>907</td>\n",
       "      <td>POLYGON ((-8.66559 27.65643, -8.66512 27.58948...</td>\n",
       "    </tr>\n",
       "    <tr>\n",
       "      <th>3</th>\n",
       "      <td>37589262.0</td>\n",
       "      <td>North America</td>\n",
       "      <td>Canada</td>\n",
       "      <td>CAN</td>\n",
       "      <td>1736425</td>\n",
       "      <td>MULTIPOLYGON (((-122.84000 49.00000, -122.9742...</td>\n",
       "    </tr>\n",
       "    <tr>\n",
       "      <th>4</th>\n",
       "      <td>328239523.0</td>\n",
       "      <td>North America</td>\n",
       "      <td>United States of America</td>\n",
       "      <td>USA</td>\n",
       "      <td>21433226</td>\n",
       "      <td>MULTIPOLYGON (((-122.84000 49.00000, -120.0000...</td>\n",
       "    </tr>\n",
       "  </tbody>\n",
       "</table>\n",
       "</div>"
      ],
      "text/plain": [
       "       pop_est      continent                      name iso_a3  gdp_md_est  \\\n",
       "0     889953.0        Oceania                      Fiji    FJI        5496   \n",
       "1   58005463.0         Africa                  Tanzania    TZA       63177   \n",
       "2     603253.0         Africa                 W. Sahara    ESH         907   \n",
       "3   37589262.0  North America                    Canada    CAN     1736425   \n",
       "4  328239523.0  North America  United States of America    USA    21433226   \n",
       "\n",
       "                                            geometry  \n",
       "0  MULTIPOLYGON (((180.00000 -16.06713, 180.00000...  \n",
       "1  POLYGON ((33.90371 -0.95000, 34.07262 -1.05982...  \n",
       "2  POLYGON ((-8.66559 27.65643, -8.66512 27.58948...  \n",
       "3  MULTIPOLYGON (((-122.84000 49.00000, -122.9742...  \n",
       "4  MULTIPOLYGON (((-122.84000 49.00000, -120.0000...  "
      ]
     },
     "execution_count": 10,
     "metadata": {},
     "output_type": "execute_result"
    }
   ],
   "source": [
    "import geopandas as gpd\n",
    "world_filepath = gpd.datasets.get_path('naturalearth_lowres')\n",
    "world = gpd.read_file(world_filepath)\n",
    "world.head()"
   ]
  },
  {
   "cell_type": "code",
   "execution_count": 11,
   "id": "c7bea3bf-8576-4936-9977-105369f60aa4",
   "metadata": {},
   "outputs": [
    {
     "data": {
      "text/plain": [
       "<AxesSubplot:>"
      ]
     },
     "execution_count": 11,
     "metadata": {},
     "output_type": "execute_result"
    },
    {
     "data": {
      "image/png": "[encoded data removed]",
      "text/plain": [
       "<Figure size 640x480 with 1 Axes>"
      ]
     },
     "metadata": {},
     "output_type": "display_data"
    }
   ],
   "source": [
    "usa = world[world['name'] == 'United States of America']\n",
    "usa.plot()"
   ]
  },
  {
   "cell_type": "markdown",
   "id": "5a20af72-3404-4bfc-92c1-fdf4ece89337",
   "metadata": {},
   "source": [
    "## 2.1 Now we only want continental USA, so clip to continental bounds"
   ]
  },
  {
   "cell_type": "code",
   "execution_count": 12,
   "id": "5577cdfb-eecb-4b7e-ad68-398b4b90c97a",
   "metadata": {},
   "outputs": [
    {
     "data": {
      "text/plain": [
       "<AxesSubplot:>"
      ]
     },
     "execution_count": 12,
     "metadata": {},
     "output_type": "execute_result"
    },
    {
     "data": {
      "image/png": "[encoded data removed]",
      "text/plain": [
       "<Figure size 640x480 with 1 Axes>"
      ]
     },
     "metadata": {},
     "output_type": "display_data"
    }
   ],
   "source": [
    "from shapely.geometry import Polygon\n",
    "\n",
    "continental_bounds = Polygon([(-130,50), (-60,50), (-60,20), (-130,20)])\n",
    "usa = usa.clip(continental_bounds)\n",
    "usa.plot()"
   ]
  },
  {
   "cell_type": "markdown",
   "id": "13698f2f-3a8e-44c6-8820-102116ee9e80",
   "metadata": {},
   "source": [
    "# 3. Species Level Kernel Function"
   ]
  },
  {
   "cell_type": "markdown",
   "id": "33680286-f012-45af-a06a-b861334cc620",
   "metadata": {
    "jp-MarkdownHeadingCollapsed": true,
    "tags": []
   },
   "source": [
    "## 3.1 Extract one species to test with"
   ]
  },
  {
   "cell_type": "code",
   "execution_count": null,
   "id": "1f9e3af8-004a-4abf-b7a3-5c7a7667ca25",
   "metadata": {},
   "outputs": [],
   "source": [
    "species_id_counts = train_df.species_id.value_counts()\n",
    "species_id_counts.min()"
   ]
  },
  {
   "cell_type": "code",
   "execution_count": null,
   "id": "2fd1ce39-d155-4542-b9a7-290fb33b3406",
   "metadata": {},
   "outputs": [],
   "source": [
    "plt.hist(species_id_counts, bins=50)\n",
    "plt.show()"
   ]
  },
  {
   "cell_type": "markdown",
   "id": "2c9ee4bb-def9-4137-9289-ea7980ee6588",
   "metadata": {},
   "source": [
    "## Build a class with all the data and functions needed for gridding and kernels"
   ]
  },
  {
   "cell_type": "code",
   "execution_count": 13,
   "id": "70204327-e1b5-4b03-b119-966e7dcd0796",
   "metadata": {},
   "outputs": [],
   "source": [
    "%load_ext autoreload"
   ]
  },
  {
   "cell_type": "code",
   "execution_count": 43,
   "id": "ff1e5a25-df4a-4c24-bc46-a2d45cdc05ad",
   "metadata": {},
   "outputs": [],
   "source": [
    "#Run this to reload the python file\n",
    "%autoreload 2\n",
    "from grid import Observations"
   ]
  },
  {
   "cell_type": "code",
   "execution_count": 44,
   "id": "93b5ffd5-ed98-4ec0-a9ff-00c4a43c1465",
   "metadata": {},
   "outputs": [
    {
     "name": "stdout",
     "output_type": "stream",
     "text": [
      "Gridding..\n",
      "Creating Land Mask..\n",
      "Num entries before masking:  6018\n",
      "Num entries after masking:  3196\n",
      "(3196, 2)\n"
     ]
    }
   ],
   "source": [
    "obs_usa = Observations(train_gdf, usa, grid_res_deg=0.5)"
   ]
  },
  {
   "cell_type": "code",
   "execution_count": 40,
   "id": "2c468105-7963-43bb-becd-d3aaa05d19a3",
   "metadata": {},
   "outputs": [
    {
     "data": {
      "text/html": [
       "<div>\n",
       "<style scoped>\n",
       "    .dataframe tbody tr th:only-of-type {\n",
       "        vertical-align: middle;\n",
       "    }\n",
       "\n",
       "    .dataframe tbody tr th {\n",
       "        vertical-align: top;\n",
       "    }\n",
       "\n",
       "    .dataframe thead th {\n",
       "        text-align: right;\n",
       "    }\n",
       "</style>\n",
       "<table border=\"1\" class=\"dataframe\">\n",
       "  <thead>\n",
       "    <tr style=\"text-align: right;\">\n",
       "      <th></th>\n",
       "      <th>geometry</th>\n",
       "      <th>grid_id</th>\n",
       "    </tr>\n",
       "  </thead>\n",
       "  <tbody>\n",
       "    <tr>\n",
       "      <th>0</th>\n",
       "      <td>POLYGON ((-123.68721 40.08000, -123.68721 40.5...</td>\n",
       "      <td>0</td>\n",
       "    </tr>\n",
       "    <tr>\n",
       "      <th>1</th>\n",
       "      <td>POLYGON ((-123.68721 40.58000, -123.68721 41.0...</td>\n",
       "      <td>1</td>\n",
       "    </tr>\n",
       "    <tr>\n",
       "      <th>2</th>\n",
       "      <td>POLYGON ((-123.68721 41.08000, -123.68721 41.5...</td>\n",
       "      <td>2</td>\n",
       "    </tr>\n",
       "    <tr>\n",
       "      <th>3</th>\n",
       "      <td>POLYGON ((-123.68721 41.58000, -123.68721 42.0...</td>\n",
       "      <td>3</td>\n",
       "    </tr>\n",
       "    <tr>\n",
       "      <th>4</th>\n",
       "      <td>POLYGON ((-123.68721 46.58000, -123.68721 47.0...</td>\n",
       "      <td>4</td>\n",
       "    </tr>\n",
       "    <tr>\n",
       "      <th>...</th>\n",
       "      <td>...</td>\n",
       "      <td>...</td>\n",
       "    </tr>\n",
       "    <tr>\n",
       "      <th>3191</th>\n",
       "      <td>POLYGON ((-68.18721 46.58000, -68.18721 47.080...</td>\n",
       "      <td>3191</td>\n",
       "    </tr>\n",
       "    <tr>\n",
       "      <th>3192</th>\n",
       "      <td>POLYGON ((-67.68721 44.58000, -67.68721 45.080...</td>\n",
       "      <td>3192</td>\n",
       "    </tr>\n",
       "    <tr>\n",
       "      <th>3193</th>\n",
       "      <td>POLYGON ((-67.68721 45.08000, -67.68721 45.580...</td>\n",
       "      <td>3193</td>\n",
       "    </tr>\n",
       "    <tr>\n",
       "      <th>3194</th>\n",
       "      <td>POLYGON ((-67.68721 45.58000, -67.68721 46.080...</td>\n",
       "      <td>3194</td>\n",
       "    </tr>\n",
       "    <tr>\n",
       "      <th>3195</th>\n",
       "      <td>POLYGON ((-67.68721 46.08000, -67.68721 46.580...</td>\n",
       "      <td>3195</td>\n",
       "    </tr>\n",
       "  </tbody>\n",
       "</table>\n",
       "<p>3196 rows × 2 columns</p>\n",
       "</div>"
      ],
      "text/plain": [
       "                                               geometry  grid_id\n",
       "0     POLYGON ((-123.68721 40.08000, -123.68721 40.5...        0\n",
       "1     POLYGON ((-123.68721 40.58000, -123.68721 41.0...        1\n",
       "2     POLYGON ((-123.68721 41.08000, -123.68721 41.5...        2\n",
       "3     POLYGON ((-123.68721 41.58000, -123.68721 42.0...        3\n",
       "4     POLYGON ((-123.68721 46.58000, -123.68721 47.0...        4\n",
       "...                                                 ...      ...\n",
       "3191  POLYGON ((-68.18721 46.58000, -68.18721 47.080...     3191\n",
       "3192  POLYGON ((-67.68721 44.58000, -67.68721 45.080...     3192\n",
       "3193  POLYGON ((-67.68721 45.08000, -67.68721 45.580...     3193\n",
       "3194  POLYGON ((-67.68721 45.58000, -67.68721 46.080...     3194\n",
       "3195  POLYGON ((-67.68721 46.08000, -67.68721 46.580...     3195\n",
       "\n",
       "[3196 rows x 2 columns]"
      ]
     },
     "execution_count": 40,
     "metadata": {},
     "output_type": "execute_result"
    }
   ],
   "source": [
    "obs_usa.grid_gd"
   ]
  },
  {
   "cell_type": "markdown",
   "id": "4d1f7634-b88a-4fd3-9f50-3e84216e8fa0",
   "metadata": {
    "jp-MarkdownHeadingCollapsed": true,
    "tags": []
   },
   "source": [
    "### Optimized grid testing"
   ]
  },
  {
   "cell_type": "code",
   "execution_count": 122,
   "id": "1050872b-21fa-4bb3-a540-5fcfd6142028",
   "metadata": {},
   "outputs": [
    {
     "name": "stdout",
     "output_type": "stream",
     "text": [
      "[[    0 59733]\n",
      " [    1 82947]]\n"
     ]
    }
   ],
   "source": [
    "unique, counts = np.unique(obs_usa.land_mask, return_counts=True)\n",
    "\n",
    "#display unique values and counts side by side\n",
    "print(np.asarray((unique, counts)).T)"
   ]
  },
  {
   "cell_type": "code",
   "execution_count": 117,
   "id": "2ae3aaed-9f58-4283-b334-4209e32664f0",
   "metadata": {},
   "outputs": [
    {
     "data": {
      "image/png": "[encoded data removed]",
      "text/plain": [
       "<Figure size 1000x1000 with 2 Axes>"
      ]
     },
     "metadata": {},
     "output_type": "display_data"
    }
   ],
   "source": [
    "fig, ax = plt.subplots(figsize=(10,10))\n",
    "obs_usa.grid_gd.plot(ax=ax, column='mask', edgecolor = 'none', legend=True, cmap='jet', legend_kwds={'shrink': 0.5})\n",
    "# usa.plot(ax=ax,  color='none')\n",
    "# train_gdf[train_gdf.species_id == chosen_id].plot(ax=ax, marker='+', markersize=5, color='white')\n",
    "plt.show()"
   ]
  },
  {
   "cell_type": "code",
   "execution_count": 109,
   "id": "80306310-0bfc-45c9-b3ed-f3ffd6afc182",
   "metadata": {},
   "outputs": [
    {
     "data": {
      "image/svg+xml": [
       "<svg xmlns=\"http://www.w3.org/2000/svg\" xmlns:xlink=\"http://www.w3.org/1999/xlink\" width=\"100.0\" height=\"100.0\" viewBox=\"-126.99611208632813 22.77109799667973 62.34035408964846 28.926854006640582\" preserveAspectRatio=\"xMinYMin meet\"><g transform=\"matrix(1,0,0,-1,0,74.46905000000004)\"><path fill-rule=\"evenodd\" fill=\"#66cc99\" stroke=\"#555555\" stroke-width=\"1.246807081792969\" opacity=\"0.6\" d=\"M -120.0,49.000000000000114 L -95.15906950917206,49.0 L -95.15609,49.38425000000001 L -94.81758000000002,49.38905 L -94.64,48.84 L -94.32914000000001,48.67074 L -92.61000000000001,48.44999999999993 L -91.64,48.14 L -90.83,48.27 L -89.27291744663665,48.01980825458281 L -88.37811418328671,48.302917588893706 L -84.8760798815149,46.90008331968238 L -84.77923824739992,46.63710195574902 L -84.54374874544584,46.538684190449146 L -84.60490000000004,46.439599999999984 L -84.1421195136734,46.51222585711571 L -83.89076534700574,46.116926988299014 L -83.46955074739469,45.994686387712534 L -83.59285071484311,45.81689362241252 L -82.55092464875821,45.34751658790543 L -82.13764238150395,43.57108755143997 L -83.12,42.08 L -83.029810146807,41.83279572200598 L -82.69008928092023,41.675105088867326 L -78.93936214874375,42.86361135514798 L -79.17167355011186,43.46633942318426 L -78.72027991404235,43.62508942318493 L -76.82003414580558,43.628784288093755 L -76.50000000000001,44.01845889375865 L -74.86700000000002,45.000480000000096 L -71.50506,45.0082 L -71.405,45.254999999999995 L -70.66,45.46 L -69.99997,46.69307 L -69.237216,47.447781 L -68.90500000000003,47.18500000000006 L -68.23444,47.354859999999974 L -67.79046000000001,47.066359999999996 L -67.79134,45.70281000000001 L -66.96465999999998,44.809700000000134 L -70.11616999999995,43.68405000000013 L -70.81488999999999,42.865299999999934 L -70.82499999999999,42.33499999999998 L -70.49499999999995,41.80500000000001 L -70.07999999999998,41.78000000000003 L -70.185,42.145000000000095 L -69.88496999999995,41.92283000000009 L -69.96502999999996,41.63717000000014 L -72.87643000000003,41.220650000000035 L -73.71000000000004,40.93110235165449 L -72.24125999999995,41.119480000000124 L -71.94499999999988,40.930000000000064 L -73.34499999999997,40.63000000000005 L -73.98200000000003,40.62799999999993 L -73.95232499999997,40.75075000000004 L -74.25671,40.47351000000003 L -73.96243999999996,40.42763000000002 L -74.17838,39.70925999999997 L -74.90603999999996,38.93954000000002 L -74.98041,39.19640000000004 L -75.52805000000001,39.49850000000009 L -75.32,38.960000000000036 L -75.07183476478986,38.782032230179254 L -75.05672999999996,38.40412000000009 L -75.94022999999999,37.21689000000009 L -75.72204999999985,37.93705000000011 L -76.23286999999999,38.319214999999986 L -76.35000000000002,39.14999999999998 L -76.54272499999996,38.71761500000008 L -76.32933000000003,38.08326000000005 L -76.98999793161352,38.23999176691336 L -76.30161999999996,37.91794499999992 L -76.25873999999999,36.96640000000008 L -75.97179999999997,36.89726000000002 L -75.72748999999999,35.55074000000013 L -76.36318,34.80854000000011 L -77.39763499999992,34.512009999999975 L -78.05496,33.92547000000002 L -78.55434999999989,33.86133000000012 L -79.06067000000002,33.493949999999984 L -79.20357000000001,33.158390000000054 L -80.30132499999996,32.509355000000085 L -81.33629000000002,31.44049000000001 L -81.49041999999997,30.7299900000001 L -81.31371000000001,30.035520000000076 L -80.53558499999991,28.472129999999993 L -80.52999999999986,28.040000000000077 L -80.05653928497759,26.88000000000011 L -80.13155999999992,25.816775000000064 L -80.38103000000001,25.20616000000001 L -80.67999999999995,25.08000000000004 L -81.17212999999998,25.201260000000104 L -81.33000000000004,25.639999999999986 L -81.70999999999987,25.870000000000005 L -82.85525999999999,27.886240000000043 L -82.64999999999998,28.550000000000125 L -82.92999999999995,29.10000000000008 L -83.70958999999999,29.936560000000043 L -84.09999999999997,30.09000000000009 L -85.10881999999998,29.636150000000043 L -85.7731,30.152610000000095 L -86.39999999999992,30.40000000000009 L -87.53035999999992,30.27433000000002 L -88.41781999999995,30.384900000000016 L -89.5938311784198,30.159994004836847 L -89.41373499999997,29.89418999999998 L -89.43,29.488639999999975 L -89.21767,29.291080000000022 L -89.40822999999995,29.159610000000043 L -89.77927999999997,29.307140000000118 L -90.15463,29.11743000000007 L -90.88022499999994,29.148535000000095 L -91.62678499999993,29.677000000000135 L -92.49905999999999,29.552300000000002 L -93.22636999999997,29.783750000000055 L -94.69,29.480000000000132 L -95.60025999999999,28.738630000000057 L -96.59403999999995,28.307480000000055 L -97.13999999999987,27.83000000000004 L -97.36999999999995,27.380000000000052 L -97.37999999999994,26.690000000000055 L -97.13999999999987,25.870000000000005 L -97.52999999999992,25.84000000000009 L -99.01999999999992,26.37000000000006 L -99.51999999999992,27.54000000000002 L -100.10999999999996,28.110000000000127 L -100.95759999999996,29.380710000000136 L -101.66239999999999,29.77930000000009 L -102.48000000000002,29.75999999999999 L -103.11000000000001,28.970000000000027 L -103.94,29.27000000000004 L -104.4569699999999,29.571960000000047 L -105.03737000000001,30.644019999999955 L -106.50758999999988,31.754520000000014 L -108.24000000000001,31.754853718166373 L -108.24193999999994,31.342220000000054 L -111.02361000000002,31.334719999999948 L -114.815,32.52528000000001 L -114.72138999999993,32.72082999999992 L -117.12775999999985,32.53533999999996 L -117.29593769127393,33.04622461520387 L -117.94400000000002,33.621236431201396 L -118.41060227589753,33.74090922312445 L -118.51989482279976,34.02778157757575 L -119.08100000000002,34.07799999999992 L -119.43884064201671,34.34847717828427 L -120.36777999999998,34.447110000000066 L -120.62286,34.60854999999998 L -120.74432999999999,35.15686000000011 L -121.71456999999992,36.161529999999914 L -122.54746999999998,37.551760000000115 L -122.51201000000003,37.78339000000011 L -123.72720000000004,38.95166000000012 L -123.86516999999998,39.76699000000008 L -124.39807000000002,40.313199999999995 L -124.17885999999999,41.142020000000116 L -124.21370000000002,41.99964000000011 L -124.53283999999996,42.7659900000001 L -124.14213999999998,43.708380000000034 L -123.89892999999995,45.52341000000007 L -124.079635,46.864750000000015 L -124.68721008300781,48.18443298339855 L -124.56610107421875,48.37971496582037 L -123.12,48.04000000000002 L -122.58735999999993,47.09600000000006 L -122.34000000000003,47.360000000000014 L -122.84000000000003,49.000000000000114 L -120.0,49.000000000000114 z\" /></g></svg>"
      ],
      "text/plain": [
       "<shapely.geometry.polygon.Polygon at 0x7fc3a5f6da50>"
      ]
     },
     "execution_count": 109,
     "metadata": {},
     "output_type": "execute_result"
    }
   ],
   "source": [
    "w = usa.simplify(0.1).geometry\n",
    "w.iloc[0]"
   ]
  },
  {
   "cell_type": "code",
   "execution_count": 118,
   "id": "d41713ea-d629-4791-9cf3-51e5560d8a2e",
   "metadata": {},
   "outputs": [
    {
     "name": "stdout",
     "output_type": "stream",
     "text": [
      "[[    0 59733]\n",
      " [    1 82947]]\n"
     ]
    }
   ],
   "source": [
    "series = obs_usa.grid_gd.within(w.iloc[0]).to_numpy()\n",
    "\n",
    "unique, counts = np.unique(series, return_counts=True)\n",
    "\n",
    "#display unique values and counts side by side\n",
    "print(np.asarray((unique, counts)).T)"
   ]
  },
  {
   "cell_type": "code",
   "execution_count": 16,
   "id": "17d14240-fc32-477b-a057-c1c4badef733",
   "metadata": {},
   "outputs": [
    {
     "name": "stderr",
     "output_type": "stream",
     "text": [
      "/tmp/ipykernel_4404/2153824327.py:1: UserWarning: Geometry is in a geographic CRS. Results from 'centroid' are likely incorrect. Use 'GeoSeries.to_crs()' to re-project geometries to a projected CRS before this operation.\n",
      "\n",
      "  obs_usa.grid_gd.loc[5510:5520].geometry.centroid\n"
     ]
    },
    {
     "data": {
      "text/plain": [
       "5510    POINT (-122.53721 34.83000)\n",
       "5511    POINT (-122.53721 34.93000)\n",
       "5512    POINT (-122.53721 35.03000)\n",
       "5513    POINT (-122.53721 35.13000)\n",
       "5514    POINT (-122.53721 35.23000)\n",
       "5515    POINT (-122.53721 35.33000)\n",
       "5516    POINT (-122.53721 35.43000)\n",
       "5517    POINT (-122.53721 35.53000)\n",
       "5518    POINT (-122.53721 35.63000)\n",
       "5519    POINT (-122.53721 35.73000)\n",
       "5520    POINT (-122.53721 35.83000)\n",
       "dtype: geometry"
      ]
     },
     "execution_count": 16,
     "metadata": {},
     "output_type": "execute_result"
    }
   ],
   "source": [
    "obs_usa.grid_gd.loc[5510:5520].geometry.centroid"
   ]
  },
  {
   "cell_type": "code",
   "execution_count": 123,
   "id": "642496aa-c46d-423a-b212-1b5e0d9a2f63",
   "metadata": {},
   "outputs": [
    {
     "data": {
      "text/plain": [
       "array([[-119.53721008,   48.63      ],\n",
       "       [-119.53721008,   48.73      ],\n",
       "       [-119.53721008,   48.83      ],\n",
       "       [-119.53721008,   48.93      ],\n",
       "       [-119.43721008,   34.43      ],\n",
       "       [-119.43721008,   34.53      ],\n",
       "       [-119.43721008,   34.63      ],\n",
       "       [-119.43721008,   34.73      ],\n",
       "       [-119.43721008,   34.83      ],\n",
       "       [-119.43721008,   34.93      ],\n",
       "       [-119.43721008,   35.03      ]])"
      ]
     },
     "execution_count": 123,
     "metadata": {},
     "output_type": "execute_result"
    }
   ],
   "source": [
    "obs_usa.grid_np[5510:5521]"
   ]
  },
  {
   "cell_type": "markdown",
   "id": "5d49c2d5-951c-41ef-9266-d32dff3e672d",
   "metadata": {},
   "source": [
    "### Combine chosen_species_grid into the primary observations grid with the following structures:\n",
    "\n",
    "**Possibility A: Per observation**\n",
    "\n",
    "| SpeciesID | Probability | GridID | Geometry |\n",
    "| --- | --- | --- | --- |\n",
    "| 115 | 0.7 | 7743 | POLYGON ((-112.48721 34.48000, -112.48721 34.5... |\n",
    "\n",
    "\n",
    "Or\n",
    "\n",
    "**Possibility B: Per Grid**\n",
    "\n",
    "| SpeciesID | SpeciesID | ... | SpeciesID | GridID | Geometry |\n",
    "| --- | --- | --- | --- | --- | --- |\n",
    "| 115 | 4443 | ... | 19328 | 52  | POLYGON ((-112.48721 34.48000, -112.48721 34.5... |\n",
    "\n",
    "We pick option A, since it provides a more memory efficient method"
   ]
  },
  {
   "cell_type": "markdown",
   "id": "ce790b3c-92fe-4bb2-bb54-0f6e8327313e",
   "metadata": {
    "jp-MarkdownHeadingCollapsed": true,
    "tags": []
   },
   "source": [
    "### TEST Displays\n",
    "Let's take species ID: 115, that has 723 observations across the USA"
   ]
  },
  {
   "cell_type": "code",
   "execution_count": 145,
   "id": "0503159e-721d-426d-9145-cb0f154a4493",
   "metadata": {},
   "outputs": [],
   "source": [
    "chosen_id = 115\n",
    "obs_usa.kernel_per_species(True, chosen_id=chosen_id, radius=1.0, kernel='gaussian', cumulative=True)"
   ]
  },
  {
   "cell_type": "code",
   "execution_count": 152,
   "id": "31e38838-cde8-4542-9943-fb89c0cd740c",
   "metadata": {},
   "outputs": [],
   "source": [
    "obs_usa.grid_kde"
   ]
  },
  {
   "cell_type": "code",
   "execution_count": 148,
   "id": "14351401-5d33-46da-8607-a9d41977eff9",
   "metadata": {},
   "outputs": [],
   "source": [
    "kernels = obs_usa.grid_kde.clip(usa).reset_index(drop=True)"
   ]
  },
  {
   "cell_type": "code",
   "execution_count": 149,
   "id": "332c08ec-a456-407e-9de6-6c0db14545ff",
   "metadata": {},
   "outputs": [
    {
     "data": {
      "image/png": "[encoded data removed]",
      "text/plain": [
       "<Figure size 1000x1000 with 2 Axes>"
      ]
     },
     "metadata": {},
     "output_type": "display_data"
    }
   ],
   "source": [
    "col_name = 'prob_{}'.format(chosen_id)\n",
    "\n",
    "fig, ax = plt.subplots(figsize=(10,10))\n",
    "kernels.plot(ax=ax, column=col_name, edgecolor = 'none', alpha = 1, legend=True, cmap='jet', legend_kwds={'shrink': 0.5})\n",
    "usa.plot(ax=ax,  color='none')\n",
    "train_gdf[train_gdf.species_id == chosen_id].plot(ax=ax, marker='+', markersize=5, color='white')\n",
    "plt.show()"
   ]
  },
  {
   "cell_type": "markdown",
   "id": "f474072d-ae19-45d9-a635-a7cb15352ef6",
   "metadata": {},
   "source": [
    "#### Let's do a few more and make it cumulative"
   ]
  },
  {
   "cell_type": "code",
   "execution_count": 21,
   "id": "0114f7a4-b4b7-4f89-820f-b9cc73d97fa2",
   "metadata": {},
   "outputs": [],
   "source": [
    "chosen_id = 4911\n",
    "obs_usa.kernel_per_species(True, chosen_id=chosen_id, radius=1.3, kernel='epanechnikov', cumulative=True)\n"
   ]
  },
  {
   "cell_type": "code",
   "execution_count": 22,
   "id": "9aa9db8e-2489-42b7-a2ad-1908eee45cba",
   "metadata": {},
   "outputs": [],
   "source": [
    "chosen_id = 46\n",
    "obs_usa.kernel_per_species(True, chosen_id=chosen_id, radius=2.0, kernel='linear', cumulative=True)"
   ]
  },
  {
   "cell_type": "code",
   "execution_count": 23,
   "id": "eceb5c3d-dd1a-41af-85c6-374f6f7f8f48",
   "metadata": {},
   "outputs": [
    {
     "data": {
      "text/html": [
       "<div>\n",
       "<style scoped>\n",
       "    .dataframe tbody tr th:only-of-type {\n",
       "        vertical-align: middle;\n",
       "    }\n",
       "\n",
       "    .dataframe tbody tr th {\n",
       "        vertical-align: top;\n",
       "    }\n",
       "\n",
       "    .dataframe thead th {\n",
       "        text-align: right;\n",
       "    }\n",
       "</style>\n",
       "<table border=\"1\" class=\"dataframe\">\n",
       "  <thead>\n",
       "    <tr style=\"text-align: right;\">\n",
       "      <th></th>\n",
       "      <th>geometry</th>\n",
       "      <th>grid_id</th>\n",
       "      <th>prob_115</th>\n",
       "      <th>prob_4911</th>\n",
       "      <th>prob_46</th>\n",
       "    </tr>\n",
       "  </thead>\n",
       "  <tbody>\n",
       "    <tr>\n",
       "      <th>0</th>\n",
       "      <td>POLYGON ((-124.68721 24.98000, -124.68721 25.0...</td>\n",
       "      <td>0</td>\n",
       "      <td>0.0</td>\n",
       "      <td>0.0</td>\n",
       "      <td>0.0</td>\n",
       "    </tr>\n",
       "    <tr>\n",
       "      <th>1</th>\n",
       "      <td>POLYGON ((-124.68721 25.08000, -124.68721 25.1...</td>\n",
       "      <td>1</td>\n",
       "      <td>0.0</td>\n",
       "      <td>0.0</td>\n",
       "      <td>0.0</td>\n",
       "    </tr>\n",
       "    <tr>\n",
       "      <th>2</th>\n",
       "      <td>POLYGON ((-124.68721 25.18000, -124.68721 25.2...</td>\n",
       "      <td>2</td>\n",
       "      <td>0.0</td>\n",
       "      <td>0.0</td>\n",
       "      <td>0.0</td>\n",
       "    </tr>\n",
       "    <tr>\n",
       "      <th>3</th>\n",
       "      <td>POLYGON ((-124.68721 25.28000, -124.68721 25.3...</td>\n",
       "      <td>3</td>\n",
       "      <td>0.0</td>\n",
       "      <td>0.0</td>\n",
       "      <td>0.0</td>\n",
       "    </tr>\n",
       "    <tr>\n",
       "      <th>4</th>\n",
       "      <td>POLYGON ((-124.68721 25.38000, -124.68721 25.4...</td>\n",
       "      <td>4</td>\n",
       "      <td>0.0</td>\n",
       "      <td>0.0</td>\n",
       "      <td>0.0</td>\n",
       "    </tr>\n",
       "    <tr>\n",
       "      <th>...</th>\n",
       "      <td>...</td>\n",
       "      <td>...</td>\n",
       "      <td>...</td>\n",
       "      <td>...</td>\n",
       "      <td>...</td>\n",
       "    </tr>\n",
       "    <tr>\n",
       "      <th>142675</th>\n",
       "      <td>POLYGON ((-66.78721 49.08000, -66.78721 49.180...</td>\n",
       "      <td>142675</td>\n",
       "      <td>0.0</td>\n",
       "      <td>0.0</td>\n",
       "      <td>0.0</td>\n",
       "    </tr>\n",
       "    <tr>\n",
       "      <th>142676</th>\n",
       "      <td>POLYGON ((-66.78721 49.18000, -66.78721 49.280...</td>\n",
       "      <td>142676</td>\n",
       "      <td>0.0</td>\n",
       "      <td>0.0</td>\n",
       "      <td>0.0</td>\n",
       "    </tr>\n",
       "    <tr>\n",
       "      <th>142677</th>\n",
       "      <td>POLYGON ((-66.78721 49.28000, -66.78721 49.380...</td>\n",
       "      <td>142677</td>\n",
       "      <td>0.0</td>\n",
       "      <td>0.0</td>\n",
       "      <td>0.0</td>\n",
       "    </tr>\n",
       "    <tr>\n",
       "      <th>142678</th>\n",
       "      <td>POLYGON ((-66.78721 49.38000, -66.78721 49.480...</td>\n",
       "      <td>142678</td>\n",
       "      <td>0.0</td>\n",
       "      <td>0.0</td>\n",
       "      <td>0.0</td>\n",
       "    </tr>\n",
       "    <tr>\n",
       "      <th>142679</th>\n",
       "      <td>POLYGON ((-66.78721 49.48000, -66.78721 49.580...</td>\n",
       "      <td>142679</td>\n",
       "      <td>0.0</td>\n",
       "      <td>0.0</td>\n",
       "      <td>0.0</td>\n",
       "    </tr>\n",
       "  </tbody>\n",
       "</table>\n",
       "<p>142680 rows × 5 columns</p>\n",
       "</div>"
      ],
      "text/plain": [
       "                                                 geometry  grid_id  prob_115  \\\n",
       "0       POLYGON ((-124.68721 24.98000, -124.68721 25.0...        0       0.0   \n",
       "1       POLYGON ((-124.68721 25.08000, -124.68721 25.1...        1       0.0   \n",
       "2       POLYGON ((-124.68721 25.18000, -124.68721 25.2...        2       0.0   \n",
       "3       POLYGON ((-124.68721 25.28000, -124.68721 25.3...        3       0.0   \n",
       "4       POLYGON ((-124.68721 25.38000, -124.68721 25.4...        4       0.0   \n",
       "...                                                   ...      ...       ...   \n",
       "142675  POLYGON ((-66.78721 49.08000, -66.78721 49.180...   142675       0.0   \n",
       "142676  POLYGON ((-66.78721 49.18000, -66.78721 49.280...   142676       0.0   \n",
       "142677  POLYGON ((-66.78721 49.28000, -66.78721 49.380...   142677       0.0   \n",
       "142678  POLYGON ((-66.78721 49.38000, -66.78721 49.480...   142678       0.0   \n",
       "142679  POLYGON ((-66.78721 49.48000, -66.78721 49.580...   142679       0.0   \n",
       "\n",
       "        prob_4911  prob_46  \n",
       "0             0.0      0.0  \n",
       "1             0.0      0.0  \n",
       "2             0.0      0.0  \n",
       "3             0.0      0.0  \n",
       "4             0.0      0.0  \n",
       "...           ...      ...  \n",
       "142675        0.0      0.0  \n",
       "142676        0.0      0.0  \n",
       "142677        0.0      0.0  \n",
       "142678        0.0      0.0  \n",
       "142679        0.0      0.0  \n",
       "\n",
       "[142680 rows x 5 columns]"
      ]
     },
     "execution_count": 23,
     "metadata": {},
     "output_type": "execute_result"
    }
   ],
   "source": [
    "obs_usa.grid_kde"
   ]
  },
  {
   "cell_type": "code",
   "execution_count": null,
   "id": "2cdd2fdf-7a1b-494c-9bb8-0d988bd526c9",
   "metadata": {},
   "outputs": [],
   "source": [
    "kernels = obs_usa.grid_kde.clip(usa).reset_index(drop=True)\n",
    "\n",
    "col_name = 'prob_{}'.format(chosen_id)\n",
    "\n",
    "fig, ax = plt.subplots(figsize=(10,10))\n",
    "kernels.plot(ax=ax, column=col_name, edgecolor = 'none', alpha = 1, legend=True, cmap='jet', legend_kwds={'shrink': 0.5})\n",
    "usa.plot(ax=ax,  color='none')\n",
    "train_gdf[train_gdf.species_id == chosen_id].plot(ax=ax, marker='+', markersize=5, color='white')\n",
    "ax.set_title('Probability Field of Species {}'.format(chosen_id))\n",
    "plt.show()"
   ]
  },
  {
   "cell_type": "code",
   "execution_count": null,
   "id": "6294095c-00d4-4f1f-b0f4-34e5484397cb",
   "metadata": {},
   "outputs": [],
   "source": [
    "obs_usa.clear_kde()"
   ]
  },
  {
   "cell_type": "markdown",
   "id": "ce084791-d31d-4d91-aaa8-90545f79c4f7",
   "metadata": {},
   "source": [
    "## Grid and KDE all species"
   ]
  },
  {
   "cell_type": "code",
   "execution_count": 41,
   "id": "7feb6e24-50aa-4d54-b2c4-092c4af15e9f",
   "metadata": {},
   "outputs": [
    {
     "name": "stderr",
     "output_type": "stream",
     "text": [
      "100%|██████████| 14124/14124 [05:18<00:00, 44.39it/s]\n"
     ]
    }
   ],
   "source": [
    "import warnings\n",
    "warnings.filterwarnings('ignore')\n",
    "\n",
    "obs_usa.kde(radius=1.0)"
   ]
  },
  {
   "cell_type": "code",
   "execution_count": 18,
   "id": "58448cc0-ee46-40b9-b124-2e98fa67bac6",
   "metadata": {},
   "outputs": [
    {
     "data": {
      "text/plain": [
       "Index(['geometry', 'grid_id', 'mask', 'prob_4911', 'prob_4912', 'prob_4913',\n",
       "       'prob_4914', 'prob_4915', 'prob_4916', 'prob_2950',\n",
       "       ...\n",
       "       'prob_2309', 'prob_2897', 'prob_1460', 'prob_3932', 'prob_1436',\n",
       "       'prob_1948', 'prob_4678', 'prob_1232', 'prob_2985', 'prob_272'],\n",
       "      dtype='object', length=14127)"
      ]
     },
     "execution_count": 18,
     "metadata": {},
     "output_type": "execute_result"
    }
   ],
   "source": [
    "obs_usa.grid_kde.columns"
   ]
  },
  {
   "cell_type": "code",
   "execution_count": 42,
   "id": "5ca1403b-d332-44f3-b1cf-df082a71b413",
   "metadata": {},
   "outputs": [],
   "source": [
    "obs_usa.save_kde('geolifeclef_usa_0.5deg_kde')"
   ]
  },
  {
   "cell_type": "code",
   "execution_count": 45,
   "id": "da32bc8f-9586-4233-9b4a-1556dc3e0968",
   "metadata": {},
   "outputs": [],
   "source": [
    "obs_usa.clear_kde()\n",
    "obs_usa.load_kde('geolifeclef_usa_0.5deg_kde.feather')"
   ]
  },
  {
   "cell_type": "code",
   "execution_count": 46,
   "id": "80a91a26-72ef-4c63-9aa1-2e2b39102d4b",
   "metadata": {},
   "outputs": [
    {
     "data": {
      "text/html": [
       "<div>\n",
       "<style scoped>\n",
       "    .dataframe tbody tr th:only-of-type {\n",
       "        vertical-align: middle;\n",
       "    }\n",
       "\n",
       "    .dataframe tbody tr th {\n",
       "        vertical-align: top;\n",
       "    }\n",
       "\n",
       "    .dataframe thead th {\n",
       "        text-align: right;\n",
       "    }\n",
       "</style>\n",
       "<table border=\"1\" class=\"dataframe\">\n",
       "  <thead>\n",
       "    <tr style=\"text-align: right;\">\n",
       "      <th></th>\n",
       "      <th>geometry</th>\n",
       "      <th>grid_id</th>\n",
       "      <th>prob_4911</th>\n",
       "      <th>prob_4912</th>\n",
       "      <th>prob_4914</th>\n",
       "      <th>prob_4915</th>\n",
       "      <th>prob_4916</th>\n",
       "      <th>prob_2950</th>\n",
       "      <th>prob_4917</th>\n",
       "      <th>prob_4918</th>\n",
       "      <th>...</th>\n",
       "      <th>prob_1647</th>\n",
       "      <th>prob_17036</th>\n",
       "      <th>prob_16086</th>\n",
       "      <th>prob_371</th>\n",
       "      <th>prob_2309</th>\n",
       "      <th>prob_2897</th>\n",
       "      <th>prob_1460</th>\n",
       "      <th>prob_1436</th>\n",
       "      <th>prob_1948</th>\n",
       "      <th>prob_2985</th>\n",
       "    </tr>\n",
       "  </thead>\n",
       "  <tbody>\n",
       "    <tr>\n",
       "      <th>0</th>\n",
       "      <td>POLYGON ((-123.68721 40.08000, -123.68721 40.5...</td>\n",
       "      <td>0</td>\n",
       "      <td>0.0</td>\n",
       "      <td>0.140454</td>\n",
       "      <td>0.0</td>\n",
       "      <td>0.236986</td>\n",
       "      <td>0.0</td>\n",
       "      <td>0.292686</td>\n",
       "      <td>0.0</td>\n",
       "      <td>0.0</td>\n",
       "      <td>...</td>\n",
       "      <td>0.0</td>\n",
       "      <td>0.0</td>\n",
       "      <td>0.0</td>\n",
       "      <td>0.0</td>\n",
       "      <td>0.000000</td>\n",
       "      <td>0.0</td>\n",
       "      <td>0.0</td>\n",
       "      <td>0.0</td>\n",
       "      <td>0.0</td>\n",
       "      <td>0.0</td>\n",
       "    </tr>\n",
       "    <tr>\n",
       "      <th>1</th>\n",
       "      <td>POLYGON ((-123.68721 40.58000, -123.68721 41.0...</td>\n",
       "      <td>1</td>\n",
       "      <td>0.0</td>\n",
       "      <td>0.159155</td>\n",
       "      <td>0.0</td>\n",
       "      <td>0.299609</td>\n",
       "      <td>0.0</td>\n",
       "      <td>0.353801</td>\n",
       "      <td>0.0</td>\n",
       "      <td>0.0</td>\n",
       "      <td>...</td>\n",
       "      <td>0.0</td>\n",
       "      <td>0.0</td>\n",
       "      <td>0.0</td>\n",
       "      <td>0.0</td>\n",
       "      <td>0.000000</td>\n",
       "      <td>0.0</td>\n",
       "      <td>0.0</td>\n",
       "      <td>0.0</td>\n",
       "      <td>0.0</td>\n",
       "      <td>0.0</td>\n",
       "    </tr>\n",
       "    <tr>\n",
       "      <th>2</th>\n",
       "      <td>POLYGON ((-123.68721 41.08000, -123.68721 41.5...</td>\n",
       "      <td>2</td>\n",
       "      <td>0.0</td>\n",
       "      <td>0.140454</td>\n",
       "      <td>0.0</td>\n",
       "      <td>0.299609</td>\n",
       "      <td>0.0</td>\n",
       "      <td>0.372506</td>\n",
       "      <td>0.0</td>\n",
       "      <td>0.0</td>\n",
       "      <td>...</td>\n",
       "      <td>0.0</td>\n",
       "      <td>0.0</td>\n",
       "      <td>0.0</td>\n",
       "      <td>0.0</td>\n",
       "      <td>0.000020</td>\n",
       "      <td>0.0</td>\n",
       "      <td>0.0</td>\n",
       "      <td>0.0</td>\n",
       "      <td>0.0</td>\n",
       "      <td>0.0</td>\n",
       "    </tr>\n",
       "    <tr>\n",
       "      <th>3</th>\n",
       "      <td>POLYGON ((-123.68721 41.58000, -123.68721 42.0...</td>\n",
       "      <td>3</td>\n",
       "      <td>0.0</td>\n",
       "      <td>0.096532</td>\n",
       "      <td>0.0</td>\n",
       "      <td>0.236986</td>\n",
       "      <td>0.0</td>\n",
       "      <td>0.341149</td>\n",
       "      <td>0.0</td>\n",
       "      <td>0.0</td>\n",
       "      <td>...</td>\n",
       "      <td>0.0</td>\n",
       "      <td>0.0</td>\n",
       "      <td>0.0</td>\n",
       "      <td>0.0</td>\n",
       "      <td>0.000078</td>\n",
       "      <td>0.0</td>\n",
       "      <td>0.0</td>\n",
       "      <td>0.0</td>\n",
       "      <td>0.0</td>\n",
       "      <td>0.0</td>\n",
       "    </tr>\n",
       "    <tr>\n",
       "      <th>4</th>\n",
       "      <td>POLYGON ((-123.68721 46.58000, -123.68721 47.0...</td>\n",
       "      <td>4</td>\n",
       "      <td>0.0</td>\n",
       "      <td>0.000000</td>\n",
       "      <td>0.0</td>\n",
       "      <td>0.000000</td>\n",
       "      <td>0.0</td>\n",
       "      <td>0.262126</td>\n",
       "      <td>0.0</td>\n",
       "      <td>0.0</td>\n",
       "      <td>...</td>\n",
       "      <td>0.0</td>\n",
       "      <td>0.0</td>\n",
       "      <td>0.0</td>\n",
       "      <td>0.0</td>\n",
       "      <td>0.000078</td>\n",
       "      <td>0.0</td>\n",
       "      <td>0.0</td>\n",
       "      <td>0.0</td>\n",
       "      <td>0.0</td>\n",
       "      <td>0.0</td>\n",
       "    </tr>\n",
       "    <tr>\n",
       "      <th>...</th>\n",
       "      <td>...</td>\n",
       "      <td>...</td>\n",
       "      <td>...</td>\n",
       "      <td>...</td>\n",
       "      <td>...</td>\n",
       "      <td>...</td>\n",
       "      <td>...</td>\n",
       "      <td>...</td>\n",
       "      <td>...</td>\n",
       "      <td>...</td>\n",
       "      <td>...</td>\n",
       "      <td>...</td>\n",
       "      <td>...</td>\n",
       "      <td>...</td>\n",
       "      <td>...</td>\n",
       "      <td>...</td>\n",
       "      <td>...</td>\n",
       "      <td>...</td>\n",
       "      <td>...</td>\n",
       "      <td>...</td>\n",
       "      <td>...</td>\n",
       "    </tr>\n",
       "    <tr>\n",
       "      <th>3191</th>\n",
       "      <td>POLYGON ((-68.18721 46.58000, -68.18721 47.080...</td>\n",
       "      <td>3191</td>\n",
       "      <td>0.0</td>\n",
       "      <td>0.000000</td>\n",
       "      <td>0.0</td>\n",
       "      <td>0.000000</td>\n",
       "      <td>0.0</td>\n",
       "      <td>0.060930</td>\n",
       "      <td>0.0</td>\n",
       "      <td>0.0</td>\n",
       "      <td>...</td>\n",
       "      <td>0.0</td>\n",
       "      <td>0.0</td>\n",
       "      <td>0.0</td>\n",
       "      <td>0.0</td>\n",
       "      <td>0.000000</td>\n",
       "      <td>0.0</td>\n",
       "      <td>0.0</td>\n",
       "      <td>0.0</td>\n",
       "      <td>0.0</td>\n",
       "      <td>0.0</td>\n",
       "    </tr>\n",
       "    <tr>\n",
       "      <th>3192</th>\n",
       "      <td>POLYGON ((-67.68721 44.58000, -67.68721 45.080...</td>\n",
       "      <td>3192</td>\n",
       "      <td>0.0</td>\n",
       "      <td>0.000000</td>\n",
       "      <td>0.0</td>\n",
       "      <td>0.000000</td>\n",
       "      <td>0.0</td>\n",
       "      <td>0.230591</td>\n",
       "      <td>0.0</td>\n",
       "      <td>0.0</td>\n",
       "      <td>...</td>\n",
       "      <td>0.0</td>\n",
       "      <td>0.0</td>\n",
       "      <td>0.0</td>\n",
       "      <td>0.0</td>\n",
       "      <td>0.000000</td>\n",
       "      <td>0.0</td>\n",
       "      <td>0.0</td>\n",
       "      <td>0.0</td>\n",
       "      <td>0.0</td>\n",
       "      <td>0.0</td>\n",
       "    </tr>\n",
       "    <tr>\n",
       "      <th>3193</th>\n",
       "      <td>POLYGON ((-67.68721 45.08000, -67.68721 45.580...</td>\n",
       "      <td>3193</td>\n",
       "      <td>0.0</td>\n",
       "      <td>0.000000</td>\n",
       "      <td>0.0</td>\n",
       "      <td>0.000000</td>\n",
       "      <td>0.0</td>\n",
       "      <td>0.195186</td>\n",
       "      <td>0.0</td>\n",
       "      <td>0.0</td>\n",
       "      <td>...</td>\n",
       "      <td>0.0</td>\n",
       "      <td>0.0</td>\n",
       "      <td>0.0</td>\n",
       "      <td>0.0</td>\n",
       "      <td>0.000000</td>\n",
       "      <td>0.0</td>\n",
       "      <td>0.0</td>\n",
       "      <td>0.0</td>\n",
       "      <td>0.0</td>\n",
       "      <td>0.0</td>\n",
       "    </tr>\n",
       "    <tr>\n",
       "      <th>3194</th>\n",
       "      <td>POLYGON ((-67.68721 45.58000, -67.68721 46.080...</td>\n",
       "      <td>3194</td>\n",
       "      <td>0.0</td>\n",
       "      <td>0.000000</td>\n",
       "      <td>0.0</td>\n",
       "      <td>0.000000</td>\n",
       "      <td>0.0</td>\n",
       "      <td>0.134383</td>\n",
       "      <td>0.0</td>\n",
       "      <td>0.0</td>\n",
       "      <td>...</td>\n",
       "      <td>0.0</td>\n",
       "      <td>0.0</td>\n",
       "      <td>0.0</td>\n",
       "      <td>0.0</td>\n",
       "      <td>0.000000</td>\n",
       "      <td>0.0</td>\n",
       "      <td>0.0</td>\n",
       "      <td>0.0</td>\n",
       "      <td>0.0</td>\n",
       "      <td>0.0</td>\n",
       "    </tr>\n",
       "    <tr>\n",
       "      <th>3195</th>\n",
       "      <td>POLYGON ((-67.68721 46.08000, -67.68721 46.580...</td>\n",
       "      <td>3195</td>\n",
       "      <td>0.0</td>\n",
       "      <td>0.000000</td>\n",
       "      <td>0.0</td>\n",
       "      <td>0.000000</td>\n",
       "      <td>0.0</td>\n",
       "      <td>0.076039</td>\n",
       "      <td>0.0</td>\n",
       "      <td>0.0</td>\n",
       "      <td>...</td>\n",
       "      <td>0.0</td>\n",
       "      <td>0.0</td>\n",
       "      <td>0.0</td>\n",
       "      <td>0.0</td>\n",
       "      <td>0.000000</td>\n",
       "      <td>0.0</td>\n",
       "      <td>0.0</td>\n",
       "      <td>0.0</td>\n",
       "      <td>0.0</td>\n",
       "      <td>0.0</td>\n",
       "    </tr>\n",
       "  </tbody>\n",
       "</table>\n",
       "<p>3196 rows × 12976 columns</p>\n",
       "</div>"
      ],
      "text/plain": [
       "                                               geometry  grid_id  prob_4911  \\\n",
       "0     POLYGON ((-123.68721 40.08000, -123.68721 40.5...        0        0.0   \n",
       "1     POLYGON ((-123.68721 40.58000, -123.68721 41.0...        1        0.0   \n",
       "2     POLYGON ((-123.68721 41.08000, -123.68721 41.5...        2        0.0   \n",
       "3     POLYGON ((-123.68721 41.58000, -123.68721 42.0...        3        0.0   \n",
       "4     POLYGON ((-123.68721 46.58000, -123.68721 47.0...        4        0.0   \n",
       "...                                                 ...      ...        ...   \n",
       "3191  POLYGON ((-68.18721 46.58000, -68.18721 47.080...     3191        0.0   \n",
       "3192  POLYGON ((-67.68721 44.58000, -67.68721 45.080...     3192        0.0   \n",
       "3193  POLYGON ((-67.68721 45.08000, -67.68721 45.580...     3193        0.0   \n",
       "3194  POLYGON ((-67.68721 45.58000, -67.68721 46.080...     3194        0.0   \n",
       "3195  POLYGON ((-67.68721 46.08000, -67.68721 46.580...     3195        0.0   \n",
       "\n",
       "      prob_4912  prob_4914  prob_4915  prob_4916  prob_2950  prob_4917  \\\n",
       "0      0.140454        0.0   0.236986        0.0   0.292686        0.0   \n",
       "1      0.159155        0.0   0.299609        0.0   0.353801        0.0   \n",
       "2      0.140454        0.0   0.299609        0.0   0.372506        0.0   \n",
       "3      0.096532        0.0   0.236986        0.0   0.341149        0.0   \n",
       "4      0.000000        0.0   0.000000        0.0   0.262126        0.0   \n",
       "...         ...        ...        ...        ...        ...        ...   \n",
       "3191   0.000000        0.0   0.000000        0.0   0.060930        0.0   \n",
       "3192   0.000000        0.0   0.000000        0.0   0.230591        0.0   \n",
       "3193   0.000000        0.0   0.000000        0.0   0.195186        0.0   \n",
       "3194   0.000000        0.0   0.000000        0.0   0.134383        0.0   \n",
       "3195   0.000000        0.0   0.000000        0.0   0.076039        0.0   \n",
       "\n",
       "      prob_4918  ...  prob_1647  prob_17036  prob_16086  prob_371  prob_2309  \\\n",
       "0           0.0  ...        0.0         0.0         0.0       0.0   0.000000   \n",
       "1           0.0  ...        0.0         0.0         0.0       0.0   0.000000   \n",
       "2           0.0  ...        0.0         0.0         0.0       0.0   0.000020   \n",
       "3           0.0  ...        0.0         0.0         0.0       0.0   0.000078   \n",
       "4           0.0  ...        0.0         0.0         0.0       0.0   0.000078   \n",
       "...         ...  ...        ...         ...         ...       ...        ...   \n",
       "3191        0.0  ...        0.0         0.0         0.0       0.0   0.000000   \n",
       "3192        0.0  ...        0.0         0.0         0.0       0.0   0.000000   \n",
       "3193        0.0  ...        0.0         0.0         0.0       0.0   0.000000   \n",
       "3194        0.0  ...        0.0         0.0         0.0       0.0   0.000000   \n",
       "3195        0.0  ...        0.0         0.0         0.0       0.0   0.000000   \n",
       "\n",
       "      prob_2897  prob_1460  prob_1436  prob_1948  prob_2985  \n",
       "0           0.0        0.0        0.0        0.0        0.0  \n",
       "1           0.0        0.0        0.0        0.0        0.0  \n",
       "2           0.0        0.0        0.0        0.0        0.0  \n",
       "3           0.0        0.0        0.0        0.0        0.0  \n",
       "4           0.0        0.0        0.0        0.0        0.0  \n",
       "...         ...        ...        ...        ...        ...  \n",
       "3191        0.0        0.0        0.0        0.0        0.0  \n",
       "3192        0.0        0.0        0.0        0.0        0.0  \n",
       "3193        0.0        0.0        0.0        0.0        0.0  \n",
       "3194        0.0        0.0        0.0        0.0        0.0  \n",
       "3195        0.0        0.0        0.0        0.0        0.0  \n",
       "\n",
       "[3196 rows x 12976 columns]"
      ]
     },
     "execution_count": 46,
     "metadata": {},
     "output_type": "execute_result"
    }
   ],
   "source": [
    "obs_usa.grid_kde"
   ]
  },
  {
   "cell_type": "code",
   "execution_count": 47,
   "id": "b4e4ea13-6ed0-4a40-8e34-11d56e7b42ce",
   "metadata": {},
   "outputs": [
    {
     "data": {
      "image/png": "[encoded data removed]",
      "text/plain": [
       "<Figure size 1000x1000 with 2 Axes>"
      ]
     },
     "metadata": {},
     "output_type": "display_data"
    }
   ],
   "source": [
    "chosen_id = 4912\n",
    "col_name = 'prob_{}'.format(chosen_id)\n",
    "\n",
    "fig, ax = plt.subplots(figsize=(10,10))\n",
    "obs_usa.grid_kde.plot(ax=ax, column=col_name, edgecolor = 'none', legend=True, cmap='jet', legend_kwds={'shrink': 0.5})\n",
    "usa.plot(ax=ax,  color='none')\n",
    "train_gdf[train_gdf.species_id == chosen_id].plot(ax=ax, marker='+', markersize=5, color='white')\n",
    "plt.show()"
   ]
  },
  {
   "cell_type": "markdown",
   "id": "6b0f4ed7-674b-4660-8f56-b4063f92a8b2",
   "metadata": {
    "jp-MarkdownHeadingCollapsed": true,
    "tags": []
   },
   "source": [
    "## Dask implementation"
   ]
  },
  {
   "cell_type": "code",
   "execution_count": 12,
   "id": "80e54b74-db0b-4171-bf8d-5680674aba6b",
   "metadata": {},
   "outputs": [],
   "source": [
    "%load_ext autoreload"
   ]
  },
  {
   "cell_type": "code",
   "execution_count": 17,
   "id": "fbbfebe4-9c18-4c12-bbe2-16c9c337d458",
   "metadata": {},
   "outputs": [
    {
     "name": "stderr",
     "output_type": "stream",
     "text": [
      "[autoreload of grid_dask failed: Traceback (most recent call last):\n",
      "  File \"/srv/conda/envs/notebook/lib/python3.10/site-packages/IPython/extensions/autoreload.py\", line 257, in check\n",
      "    superreload(m, reload, self.old_objects)\n",
      "  File \"/srv/conda/envs/notebook/lib/python3.10/site-packages/IPython/extensions/autoreload.py\", line 455, in superreload\n",
      "    module = reload(module)\n",
      "  File \"/srv/conda/envs/notebook/lib/python3.10/importlib/__init__.py\", line 169, in reload\n",
      "    _bootstrap._exec(spec, module)\n",
      "  File \"<frozen importlib._bootstrap>\", line 619, in _exec\n",
      "  File \"<frozen importlib._bootstrap_external>\", line 883, in exec_module\n",
      "  File \"<frozen importlib._bootstrap>\", line 241, in _call_with_frames_removed\n",
      "  File \"/home/jovyan/sdm-geolifeCLEF/preprocessing/grid_dask.py\", line 64, in <module>\n",
      "    class Observations:\n",
      "  File \"/home/jovyan/sdm-geolifeCLEF/preprocessing/grid_dask.py\", line 270, in Observations\n",
      "    @dask.delayed\n",
      "NameError: name 'dask' is not defined\n",
      "]\n"
     ]
    }
   ],
   "source": [
    "\n",
    "%autoreload 2\n",
    "from grid_dask import *"
   ]
  },
  {
   "cell_type": "code",
   "execution_count": null,
   "id": "2274020d-3ccf-4434-b0bf-3ea5c560919c",
   "metadata": {},
   "outputs": [],
   "source": [
    "# setup_dask_cluster()\n",
    "# import dask_gateway\n",
    "\n",
    "# cluster = dask_gateway.GatewayCluster()\n",
    "# client = cluster.get_client()\n",
    "# cluster.adapt(minimum=2, maximum=50)\n",
    "# print(cluster.dashboard_link)"
   ]
  },
  {
   "cell_type": "code",
   "execution_count": 32,
   "id": "6b738f47-fba9-4592-82fa-213452f7993b",
   "metadata": {},
   "outputs": [
    {
     "name": "stdout",
     "output_type": "stream",
     "text": [
      "<Client: 'tls://10.244.225.54:8786' processes=0 threads=0, memory=0 B>\n",
      "https://pccompute.westeurope.cloudapp.azure.com/compute/services/dask-gateway/clusters/prod.0e1f5feb8c654e8fba536d67986f766f/status\n"
     ]
    }
   ],
   "source": [
    "# shutdown_all_clusters()\n",
    "setup_dask_cluster()\n",
    "# client.close()"
   ]
  },
  {
   "cell_type": "code",
   "execution_count": 14,
   "id": "1ec15bac-f63c-437e-8b3a-9915f4cef410",
   "metadata": {},
   "outputs": [
    {
     "name": "stdout",
     "output_type": "stream",
     "text": [
      "https://pccompute.westeurope.cloudapp.azure.com/compute/services/dask-gateway/clusters/prod.6d315d1f4a744bae81d0ec6fcf2bac01/status <Client: 'tls://10.244.159.87:8786' processes=0 threads=0, memory=0 B>\n",
      "580 246 (142680, 2)\n"
     ]
    }
   ],
   "source": [
    "obs_usa = Observations(train_gdf, total_bounds=usa.total_bounds, grid_res_deg=0.1)"
   ]
  },
  {
   "cell_type": "code",
   "execution_count": 15,
   "id": "accf6811-2f3c-4825-bc3f-a954687b98ee",
   "metadata": {},
   "outputs": [
    {
     "data": {
      "text/html": [
       "<div>\n",
       "<style scoped>\n",
       "    .dataframe tbody tr th:only-of-type {\n",
       "        vertical-align: middle;\n",
       "    }\n",
       "\n",
       "    .dataframe tbody tr th {\n",
       "        vertical-align: top;\n",
       "    }\n",
       "\n",
       "    .dataframe thead th {\n",
       "        text-align: right;\n",
       "    }\n",
       "</style>\n",
       "<table border=\"1\" class=\"dataframe\">\n",
       "  <thead>\n",
       "    <tr style=\"text-align: right;\">\n",
       "      <th></th>\n",
       "      <th>geometry</th>\n",
       "      <th>grid_id</th>\n",
       "    </tr>\n",
       "  </thead>\n",
       "  <tbody>\n",
       "    <tr>\n",
       "      <th>0</th>\n",
       "      <td>POLYGON ((-124.68721 24.98000, -124.68721 25.0...</td>\n",
       "      <td>0</td>\n",
       "    </tr>\n",
       "    <tr>\n",
       "      <th>1</th>\n",
       "      <td>POLYGON ((-124.68721 25.08000, -124.68721 25.1...</td>\n",
       "      <td>1</td>\n",
       "    </tr>\n",
       "    <tr>\n",
       "      <th>2</th>\n",
       "      <td>POLYGON ((-124.68721 25.18000, -124.68721 25.2...</td>\n",
       "      <td>2</td>\n",
       "    </tr>\n",
       "    <tr>\n",
       "      <th>3</th>\n",
       "      <td>POLYGON ((-124.68721 25.28000, -124.68721 25.3...</td>\n",
       "      <td>3</td>\n",
       "    </tr>\n",
       "    <tr>\n",
       "      <th>4</th>\n",
       "      <td>POLYGON ((-124.68721 25.38000, -124.68721 25.4...</td>\n",
       "      <td>4</td>\n",
       "    </tr>\n",
       "    <tr>\n",
       "      <th>...</th>\n",
       "      <td>...</td>\n",
       "      <td>...</td>\n",
       "    </tr>\n",
       "    <tr>\n",
       "      <th>142675</th>\n",
       "      <td>POLYGON ((-66.78721 49.08000, -66.78721 49.180...</td>\n",
       "      <td>142675</td>\n",
       "    </tr>\n",
       "    <tr>\n",
       "      <th>142676</th>\n",
       "      <td>POLYGON ((-66.78721 49.18000, -66.78721 49.280...</td>\n",
       "      <td>142676</td>\n",
       "    </tr>\n",
       "    <tr>\n",
       "      <th>142677</th>\n",
       "      <td>POLYGON ((-66.78721 49.28000, -66.78721 49.380...</td>\n",
       "      <td>142677</td>\n",
       "    </tr>\n",
       "    <tr>\n",
       "      <th>142678</th>\n",
       "      <td>POLYGON ((-66.78721 49.38000, -66.78721 49.480...</td>\n",
       "      <td>142678</td>\n",
       "    </tr>\n",
       "    <tr>\n",
       "      <th>142679</th>\n",
       "      <td>POLYGON ((-66.78721 49.48000, -66.78721 49.580...</td>\n",
       "      <td>142679</td>\n",
       "    </tr>\n",
       "  </tbody>\n",
       "</table>\n",
       "<p>142680 rows × 2 columns</p>\n",
       "</div>"
      ],
      "text/plain": [
       "                                                 geometry  grid_id\n",
       "0       POLYGON ((-124.68721 24.98000, -124.68721 25.0...        0\n",
       "1       POLYGON ((-124.68721 25.08000, -124.68721 25.1...        1\n",
       "2       POLYGON ((-124.68721 25.18000, -124.68721 25.2...        2\n",
       "3       POLYGON ((-124.68721 25.28000, -124.68721 25.3...        3\n",
       "4       POLYGON ((-124.68721 25.38000, -124.68721 25.4...        4\n",
       "...                                                   ...      ...\n",
       "142675  POLYGON ((-66.78721 49.08000, -66.78721 49.180...   142675\n",
       "142676  POLYGON ((-66.78721 49.18000, -66.78721 49.280...   142676\n",
       "142677  POLYGON ((-66.78721 49.28000, -66.78721 49.380...   142677\n",
       "142678  POLYGON ((-66.78721 49.38000, -66.78721 49.480...   142678\n",
       "142679  POLYGON ((-66.78721 49.48000, -66.78721 49.580...   142679\n",
       "\n",
       "[142680 rows x 2 columns]"
      ]
     },
     "execution_count": 15,
     "metadata": {},
     "output_type": "execute_result"
    }
   ],
   "source": [
    "obs_usa.grid_gd"
   ]
  },
  {
   "cell_type": "code",
   "execution_count": 16,
   "id": "3eee6352-6c3e-4f6e-8cbb-ec7322b38153",
   "metadata": {},
   "outputs": [
    {
     "name": "stderr",
     "output_type": "stream",
     "text": [
      "  0%|          | 0/14124 [00:00<?, ?it/s]\n"
     ]
    },
    {
     "ename": "TypeError",
     "evalue": "'Client' object is not callable",
     "output_type": "error",
     "traceback": [
      "\u001b[0;31m---------------------------------------------------------------------------\u001b[0m",
      "\u001b[0;31mTypeError\u001b[0m                                 Traceback (most recent call last)",
      "Cell \u001b[0;32mIn [16], line 1\u001b[0m\n\u001b[0;32m----> 1\u001b[0m \u001b[43mobs_usa\u001b[49m\u001b[38;5;241;43m.\u001b[39;49m\u001b[43mkde\u001b[49m\u001b[43m(\u001b[49m\u001b[43mradius\u001b[49m\u001b[38;5;241;43m=\u001b[39;49m\u001b[38;5;241;43m1.0\u001b[39;49m\u001b[43m)\u001b[49m\n",
      "File \u001b[0;32m~/sdm-geolifeCLEF/preprocessing/grid_dask.py:135\u001b[0m, in \u001b[0;36mObservations.kde\u001b[0;34m(self, radius, kernel, display_every)\u001b[0m\n\u001b[1;32m    125\u001b[0m prob_list \u001b[38;5;241m=\u001b[39m []\n\u001b[1;32m    127\u001b[0m \u001b[38;5;28;01mfor\u001b[39;00m \u001b[38;5;28mid\u001b[39m \u001b[38;5;129;01min\u001b[39;00m tqdm(\u001b[38;5;28mself\u001b[39m\u001b[38;5;241m.\u001b[39mclass_list):\n\u001b[1;32m    128\u001b[0m     \u001b[38;5;66;03m# if i % display_every == 0:\u001b[39;00m\n\u001b[1;32m    129\u001b[0m     \u001b[38;5;66;03m#     print(\"Gridding and KDE for species ID \", id)\u001b[39;00m\n\u001b[0;32m   (...)\u001b[0m\n\u001b[1;32m    133\u001b[0m     \u001b[38;5;66;03m# prob_dict.update({col_name:y_hat})\u001b[39;00m\n\u001b[1;32m    134\u001b[0m     \u001b[38;5;66;03m# self.grid_kde[col_name] = y_hat\u001b[39;00m\n\u001b[0;32m--> 135\u001b[0m     y_hat \u001b[38;5;241m=\u001b[39m \u001b[38;5;28;43mself\u001b[39;49m\u001b[38;5;241;43m.\u001b[39;49m\u001b[43mclient\u001b[49m\u001b[43m(\u001b[49m\u001b[38;5;28;43mself\u001b[39;49m\u001b[38;5;241;43m.\u001b[39;49m\u001b[43mkernel_per_species\u001b[49m\u001b[43m,\u001b[49m\u001b[43m \u001b[49m\u001b[43mkde\u001b[49m\u001b[38;5;241;43m=\u001b[39;49m\u001b[38;5;28;43;01mTrue\u001b[39;49;00m\u001b[43m,\u001b[49m\u001b[43m \u001b[49m\u001b[43mchosen_id\u001b[49m\u001b[38;5;241;43m=\u001b[39;49m\u001b[38;5;28;43mid\u001b[39;49m\u001b[43m,\u001b[49m\u001b[43m \u001b[49m\u001b[43mradius\u001b[49m\u001b[38;5;241;43m=\u001b[39;49m\u001b[43mradius\u001b[49m\u001b[43m,\u001b[49m\u001b[43m \u001b[49m\u001b[43mkernel\u001b[49m\u001b[38;5;241;43m=\u001b[39;49m\u001b[43mkernel\u001b[49m\u001b[43m,\u001b[49m\u001b[43m \u001b[49m\u001b[43mcumulative\u001b[49m\u001b[38;5;241;43m=\u001b[39;49m\u001b[38;5;28;43;01mTrue\u001b[39;49;00m\u001b[43m)\u001b[49m\n\u001b[1;32m    136\u001b[0m     prob_list\u001b[38;5;241m.\u001b[39mappend(y_hat)\n\u001b[1;32m    138\u001b[0m \u001b[38;5;28mprint\u001b[39m (\u001b[38;5;124m\"\u001b[39m\u001b[38;5;124mDask compute\u001b[39m\u001b[38;5;124m\"\u001b[39m)\n",
      "\u001b[0;31mTypeError\u001b[0m: 'Client' object is not callable"
     ]
    }
   ],
   "source": [
    "obs_usa.kde(radius=1.0)"
   ]
  },
  {
   "cell_type": "code",
   "execution_count": 44,
   "id": "e6de894c-cae2-428c-9d10-a73249a0c36c",
   "metadata": {},
   "outputs": [
    {
     "name": "stderr",
     "output_type": "stream",
     "text": [
      "2022-11-22 05:06:03,480 - distributed.client - ERROR - Failed to reconnect to scheduler after 30.00 seconds, closing client\n"
     ]
    }
   ],
   "source": [
    "obs_usa.close_dask_client()"
   ]
  },
  {
   "cell_type": "code",
   "execution_count": 29,
   "id": "6bf6e94b-4154-4203-81d5-ddf8214578b0",
   "metadata": {},
   "outputs": [
    {
     "data": {
      "text/html": [
       "<div>\n",
       "<style scoped>\n",
       "    .dataframe tbody tr th:only-of-type {\n",
       "        vertical-align: middle;\n",
       "    }\n",
       "\n",
       "    .dataframe tbody tr th {\n",
       "        vertical-align: top;\n",
       "    }\n",
       "\n",
       "    .dataframe thead th {\n",
       "        text-align: right;\n",
       "    }\n",
       "</style>\n",
       "<table border=\"1\" class=\"dataframe\">\n",
       "  <thead>\n",
       "    <tr style=\"text-align: right;\">\n",
       "      <th></th>\n",
       "      <th>geometry</th>\n",
       "      <th>grid_id</th>\n",
       "    </tr>\n",
       "  </thead>\n",
       "  <tbody>\n",
       "    <tr>\n",
       "      <th>0</th>\n",
       "      <td>POLYGON ((-124.68721 24.98000, -124.68721 25.0...</td>\n",
       "      <td>0</td>\n",
       "    </tr>\n",
       "    <tr>\n",
       "      <th>1</th>\n",
       "      <td>POLYGON ((-124.68721 25.08000, -124.68721 25.1...</td>\n",
       "      <td>1</td>\n",
       "    </tr>\n",
       "    <tr>\n",
       "      <th>2</th>\n",
       "      <td>POLYGON ((-124.68721 25.18000, -124.68721 25.2...</td>\n",
       "      <td>2</td>\n",
       "    </tr>\n",
       "    <tr>\n",
       "      <th>3</th>\n",
       "      <td>POLYGON ((-124.68721 25.28000, -124.68721 25.3...</td>\n",
       "      <td>3</td>\n",
       "    </tr>\n",
       "    <tr>\n",
       "      <th>4</th>\n",
       "      <td>POLYGON ((-124.68721 25.38000, -124.68721 25.4...</td>\n",
       "      <td>4</td>\n",
       "    </tr>\n",
       "    <tr>\n",
       "      <th>...</th>\n",
       "      <td>...</td>\n",
       "      <td>...</td>\n",
       "    </tr>\n",
       "    <tr>\n",
       "      <th>142675</th>\n",
       "      <td>POLYGON ((-66.78721 49.08000, -66.78721 49.180...</td>\n",
       "      <td>142675</td>\n",
       "    </tr>\n",
       "    <tr>\n",
       "      <th>142676</th>\n",
       "      <td>POLYGON ((-66.78721 49.18000, -66.78721 49.280...</td>\n",
       "      <td>142676</td>\n",
       "    </tr>\n",
       "    <tr>\n",
       "      <th>142677</th>\n",
       "      <td>POLYGON ((-66.78721 49.28000, -66.78721 49.380...</td>\n",
       "      <td>142677</td>\n",
       "    </tr>\n",
       "    <tr>\n",
       "      <th>142678</th>\n",
       "      <td>POLYGON ((-66.78721 49.38000, -66.78721 49.480...</td>\n",
       "      <td>142678</td>\n",
       "    </tr>\n",
       "    <tr>\n",
       "      <th>142679</th>\n",
       "      <td>POLYGON ((-66.78721 49.48000, -66.78721 49.580...</td>\n",
       "      <td>142679</td>\n",
       "    </tr>\n",
       "  </tbody>\n",
       "</table>\n",
       "<p>142680 rows × 2 columns</p>\n",
       "</div>"
      ],
      "text/plain": [
       "                                                 geometry  grid_id\n",
       "0       POLYGON ((-124.68721 24.98000, -124.68721 25.0...        0\n",
       "1       POLYGON ((-124.68721 25.08000, -124.68721 25.1...        1\n",
       "2       POLYGON ((-124.68721 25.18000, -124.68721 25.2...        2\n",
       "3       POLYGON ((-124.68721 25.28000, -124.68721 25.3...        3\n",
       "4       POLYGON ((-124.68721 25.38000, -124.68721 25.4...        4\n",
       "...                                                   ...      ...\n",
       "142675  POLYGON ((-66.78721 49.08000, -66.78721 49.180...   142675\n",
       "142676  POLYGON ((-66.78721 49.18000, -66.78721 49.280...   142676\n",
       "142677  POLYGON ((-66.78721 49.28000, -66.78721 49.380...   142677\n",
       "142678  POLYGON ((-66.78721 49.38000, -66.78721 49.480...   142678\n",
       "142679  POLYGON ((-66.78721 49.48000, -66.78721 49.580...   142679\n",
       "\n",
       "[142680 rows x 2 columns]"
      ]
     },
     "execution_count": 29,
     "metadata": {},
     "output_type": "execute_result"
    }
   ],
   "source": [
    "obs_usa.grid_kde"
   ]
  },
  {
   "cell_type": "code",
   "execution_count": null,
   "id": "014b48b4-04d8-444f-afcf-f8330bd05744",
   "metadata": {},
   "outputs": [],
   "source": []
  }
 ],
 "metadata": {
  "kernelspec": {
   "display_name": "Python 3 (ipykernel)",
   "language": "python",
   "name": "python3"
  },
  "language_info": {
   "codemirror_mode": {
    "name": "ipython",
    "version": 3
   },
   "file_extension": ".py",
   "mimetype": "text/x-python",
   "name": "python",
   "nbconvert_exporter": "python",
   "pygments_lexer": "ipython3",
   "version": "3.10.6"
  }
 },
 "nbformat": 4,
 "nbformat_minor": 5
}
