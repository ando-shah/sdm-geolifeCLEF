{
 "cells": [
  {
   "cell_type": "code",
   "execution_count": 1,
   "id": "3b5b6aa9-9d8f-44d1-b126-27a1e9734917",
   "metadata": {},
   "outputs": [],
   "source": [
    "import geopandas as gpd\n",
    "import pandas as pd\n",
    "import s3fs\n",
    "import numpy as np\n",
    "import math\n",
    "from shapely.geometry import Polygon, box\n",
    "from sklearn.neighbors import KernelDensity\n",
    "import matplotlib.pyplot as plt"
   ]
  },
  {
   "cell_type": "markdown",
   "id": "62c17542-109c-4cfb-a17b-840b6395b828",
   "metadata": {},
   "source": [
    "# 1. Read Observation Data into Geopandas Frame"
   ]
  },
  {
   "cell_type": "code",
   "execution_count": 87,
   "id": "a662883a-eb6e-45d9-8c55-438fb7fbab09",
   "metadata": {},
   "outputs": [],
   "source": [
    "DATASET_PATH = '../data/full_dataset.csv'\n",
    "RASTER_PATH = '../data/rasters/'\n",
    "PKL_PATH = '../data/labels/ca/'"
   ]
  },
  {
   "cell_type": "code",
   "execution_count": 3,
   "id": "ec4fe820-3d16-4d2d-917c-606c0f25af0a",
   "metadata": {},
   "outputs": [],
   "source": [
    "\n",
    "BUCKET_NAME = 'datasets-sdm'\n",
    "folder = 'geoLifeCLEF/observations'\n",
    "train_file, test_file = 'observations_us_train.csv', 'observations_us_test.csv'\n",
    "s3_train_path = 's3://{}/{}/{}'.format(BUCKET_NAME, folder, train_file)"
   ]
  },
  {
   "cell_type": "code",
   "execution_count": 4,
   "id": "37001ad0-8118-44e3-b192-7110d2653df8",
   "metadata": {},
   "outputs": [
    {
     "data": {
      "text/html": [
       "<div>\n",
       "<style scoped>\n",
       "    .dataframe tbody tr th:only-of-type {\n",
       "        vertical-align: middle;\n",
       "    }\n",
       "\n",
       "    .dataframe tbody tr th {\n",
       "        vertical-align: top;\n",
       "    }\n",
       "\n",
       "    .dataframe thead th {\n",
       "        text-align: right;\n",
       "    }\n",
       "</style>\n",
       "<table border=\"1\" class=\"dataframe\">\n",
       "  <thead>\n",
       "    <tr style=\"text-align: right;\">\n",
       "      <th></th>\n",
       "      <th>observation_id</th>\n",
       "      <th>latitude</th>\n",
       "      <th>longitude</th>\n",
       "      <th>species_id</th>\n",
       "      <th>subset</th>\n",
       "    </tr>\n",
       "  </thead>\n",
       "  <tbody>\n",
       "    <tr>\n",
       "      <th>0</th>\n",
       "      <td>20000173</td>\n",
       "      <td>33.197660</td>\n",
       "      <td>-116.180680</td>\n",
       "      <td>4911</td>\n",
       "      <td>train</td>\n",
       "    </tr>\n",
       "    <tr>\n",
       "      <th>1</th>\n",
       "      <td>20000175</td>\n",
       "      <td>34.037968</td>\n",
       "      <td>-118.876755</td>\n",
       "      <td>4912</td>\n",
       "      <td>train</td>\n",
       "    </tr>\n",
       "    <tr>\n",
       "      <th>2</th>\n",
       "      <td>20000176</td>\n",
       "      <td>27.620740</td>\n",
       "      <td>-97.222690</td>\n",
       "      <td>4913</td>\n",
       "      <td>train</td>\n",
       "    </tr>\n",
       "    <tr>\n",
       "      <th>3</th>\n",
       "      <td>20000177</td>\n",
       "      <td>29.155582</td>\n",
       "      <td>-95.653930</td>\n",
       "      <td>4914</td>\n",
       "      <td>train</td>\n",
       "    </tr>\n",
       "    <tr>\n",
       "      <th>4</th>\n",
       "      <td>20000179</td>\n",
       "      <td>36.605740</td>\n",
       "      <td>-121.959510</td>\n",
       "      <td>4915</td>\n",
       "      <td>train</td>\n",
       "    </tr>\n",
       "  </tbody>\n",
       "</table>\n",
       "</div>"
      ],
      "text/plain": [
       "   observation_id   latitude   longitude  species_id subset\n",
       "0        20000173  33.197660 -116.180680        4911  train\n",
       "1        20000175  34.037968 -118.876755        4912  train\n",
       "2        20000176  27.620740  -97.222690        4913  train\n",
       "3        20000177  29.155582  -95.653930        4914  train\n",
       "4        20000179  36.605740 -121.959510        4915  train"
      ]
     },
     "execution_count": 4,
     "metadata": {},
     "output_type": "execute_result"
    }
   ],
   "source": [
    "train_usa = pd.read_csv(s3_train_path,header='infer', sep=';',)\n",
    "train_usa.head()"
   ]
  },
  {
   "cell_type": "code",
   "execution_count": 5,
   "id": "c555576e-62ac-4257-bfef-2d7c7216e656",
   "metadata": {},
   "outputs": [
    {
     "data": {
      "text/plain": [
       "(931132, 25099)"
      ]
     },
     "execution_count": 5,
     "metadata": {},
     "output_type": "execute_result"
    }
   ],
   "source": [
    "train_df, val_df = train_usa[train_usa.subset == 'train'], train_usa[train_usa.subset == 'val']\n",
    "len(train_df), len(val_df)"
   ]
  },
  {
   "cell_type": "code",
   "execution_count": 6,
   "id": "45f22583-2275-4cc7-a28b-6ab7eab65885",
   "metadata": {},
   "outputs": [],
   "source": [
    "del train_usa"
   ]
  },
  {
   "cell_type": "code",
   "execution_count": 6,
   "id": "abe1adab-ddb3-4db5-a4c9-0f926a648346",
   "metadata": {},
   "outputs": [
    {
     "data": {
      "text/html": [
       "<div>\n",
       "<style scoped>\n",
       "    .dataframe tbody tr th:only-of-type {\n",
       "        vertical-align: middle;\n",
       "    }\n",
       "\n",
       "    .dataframe tbody tr th {\n",
       "        vertical-align: top;\n",
       "    }\n",
       "\n",
       "    .dataframe thead th {\n",
       "        text-align: right;\n",
       "    }\n",
       "</style>\n",
       "<table border=\"1\" class=\"dataframe\">\n",
       "  <thead>\n",
       "    <tr style=\"text-align: right;\">\n",
       "      <th></th>\n",
       "      <th>observation_id</th>\n",
       "      <th>species_id</th>\n",
       "      <th>subset</th>\n",
       "      <th>geometry</th>\n",
       "    </tr>\n",
       "  </thead>\n",
       "  <tbody>\n",
       "    <tr>\n",
       "      <th>0</th>\n",
       "      <td>20000173</td>\n",
       "      <td>4911</td>\n",
       "      <td>train</td>\n",
       "      <td>POINT (-116.18068 33.19766)</td>\n",
       "    </tr>\n",
       "    <tr>\n",
       "      <th>1</th>\n",
       "      <td>20000175</td>\n",
       "      <td>4912</td>\n",
       "      <td>train</td>\n",
       "      <td>POINT (-118.87676 34.03797)</td>\n",
       "    </tr>\n",
       "    <tr>\n",
       "      <th>2</th>\n",
       "      <td>20000176</td>\n",
       "      <td>4913</td>\n",
       "      <td>train</td>\n",
       "      <td>POINT (-97.22269 27.62074)</td>\n",
       "    </tr>\n",
       "    <tr>\n",
       "      <th>3</th>\n",
       "      <td>20000177</td>\n",
       "      <td>4914</td>\n",
       "      <td>train</td>\n",
       "      <td>POINT (-95.65393 29.15558)</td>\n",
       "    </tr>\n",
       "    <tr>\n",
       "      <th>4</th>\n",
       "      <td>20000179</td>\n",
       "      <td>4915</td>\n",
       "      <td>train</td>\n",
       "      <td>POINT (-121.95951 36.60574)</td>\n",
       "    </tr>\n",
       "  </tbody>\n",
       "</table>\n",
       "</div>"
      ],
      "text/plain": [
       "   observation_id  species_id subset                     geometry\n",
       "0        20000173        4911  train  POINT (-116.18068 33.19766)\n",
       "1        20000175        4912  train  POINT (-118.87676 34.03797)\n",
       "2        20000176        4913  train   POINT (-97.22269 27.62074)\n",
       "3        20000177        4914  train   POINT (-95.65393 29.15558)\n",
       "4        20000179        4915  train  POINT (-121.95951 36.60574)"
      ]
     },
     "execution_count": 6,
     "metadata": {},
     "output_type": "execute_result"
    }
   ],
   "source": [
    "train_gdf = gpd.GeoDataFrame(train_df, geometry=gpd.points_from_xy(train_df.longitude, train_df.latitude))\\\n",
    "                .drop(['latitude', 'longitude'], axis=1).set_crs(4326)\n",
    "# train_gdf.to_crs\n",
    "train_gdf.head()"
   ]
  },
  {
   "cell_type": "code",
   "execution_count": 7,
   "id": "a8cb5993-ef95-43e4-9005-b6e5c4fba6cd",
   "metadata": {},
   "outputs": [
    {
     "data": {
      "text/plain": [
       "<Geographic 2D CRS: EPSG:4326>\n",
       "Name: WGS 84\n",
       "Axis Info [ellipsoidal]:\n",
       "- Lat[north]: Geodetic latitude (degree)\n",
       "- Lon[east]: Geodetic longitude (degree)\n",
       "Area of Use:\n",
       "- name: World.\n",
       "- bounds: (-180.0, -90.0, 180.0, 90.0)\n",
       "Datum: World Geodetic System 1984 ensemble\n",
       "- Ellipsoid: WGS 84\n",
       "- Prime Meridian: Greenwich"
      ]
     },
     "execution_count": 7,
     "metadata": {},
     "output_type": "execute_result"
    }
   ],
   "source": [
    "train_gdf.crs"
   ]
  },
  {
   "cell_type": "code",
   "execution_count": 8,
   "id": "36f26be3-b50f-4063-b942-b65cd339ce69",
   "metadata": {},
   "outputs": [
    {
     "data": {
      "text/plain": [
       "['naturalearth_lowres', 'naturalearth_cities', 'nybb']"
      ]
     },
     "execution_count": 8,
     "metadata": {},
     "output_type": "execute_result"
    }
   ],
   "source": [
    "gpd.datasets.available"
   ]
  },
  {
   "cell_type": "markdown",
   "id": "7c543fbd-c0eb-4972-91cd-ca2f6a7c2bf2",
   "metadata": {
    "tags": []
   },
   "source": [
    "# 2. Create grid for CA (AOI)"
   ]
  },
  {
   "cell_type": "markdown",
   "id": "70c748ba-3081-4235-9cd9-64ba40f2d4ea",
   "metadata": {},
   "source": [
    "## 2.1 Use a generic map outline for the California\n",
    "\n",
    "Downloaded from [Diva GIS](https://www.diva-gis.org/gdata)"
   ]
  },
  {
   "cell_type": "code",
   "execution_count": 11,
   "id": "9edc50e1-d9be-448e-b37e-b273bbe4f89d",
   "metadata": {},
   "outputs": [
    {
     "data": {
      "text/html": [
       "<div>\n",
       "<style scoped>\n",
       "    .dataframe tbody tr th:only-of-type {\n",
       "        vertical-align: middle;\n",
       "    }\n",
       "\n",
       "    .dataframe tbody tr th {\n",
       "        vertical-align: top;\n",
       "    }\n",
       "\n",
       "    .dataframe thead th {\n",
       "        text-align: right;\n",
       "    }\n",
       "</style>\n",
       "<table border=\"1\" class=\"dataframe\">\n",
       "  <thead>\n",
       "    <tr style=\"text-align: right;\">\n",
       "      <th></th>\n",
       "      <th>ID_0</th>\n",
       "      <th>ISO</th>\n",
       "      <th>NAME_0</th>\n",
       "      <th>ID_1</th>\n",
       "      <th>NAME_1</th>\n",
       "      <th>TYPE_1</th>\n",
       "      <th>ENGTYPE_1</th>\n",
       "      <th>NL_NAME_1</th>\n",
       "      <th>VARNAME_1</th>\n",
       "      <th>geometry</th>\n",
       "    </tr>\n",
       "  </thead>\n",
       "  <tbody>\n",
       "    <tr>\n",
       "      <th>0</th>\n",
       "      <td>244</td>\n",
       "      <td>USA</td>\n",
       "      <td>United States</td>\n",
       "      <td>1</td>\n",
       "      <td>Alabama</td>\n",
       "      <td>State</td>\n",
       "      <td>State</td>\n",
       "      <td>None</td>\n",
       "      <td>AL|Ala.</td>\n",
       "      <td>MULTIPOLYGON (((-88.11320 30.22623, -88.11291 ...</td>\n",
       "    </tr>\n",
       "    <tr>\n",
       "      <th>1</th>\n",
       "      <td>244</td>\n",
       "      <td>USA</td>\n",
       "      <td>United States</td>\n",
       "      <td>2</td>\n",
       "      <td>Alaska</td>\n",
       "      <td>State</td>\n",
       "      <td>State</td>\n",
       "      <td>None</td>\n",
       "      <td>AK|Alaska</td>\n",
       "      <td>MULTIPOLYGON (((-179.13147 51.20972, -179.1322...</td>\n",
       "    </tr>\n",
       "    <tr>\n",
       "      <th>2</th>\n",
       "      <td>244</td>\n",
       "      <td>USA</td>\n",
       "      <td>United States</td>\n",
       "      <td>2</td>\n",
       "      <td>Alaska</td>\n",
       "      <td>State</td>\n",
       "      <td>State</td>\n",
       "      <td>None</td>\n",
       "      <td>AK|Alaska</td>\n",
       "      <td>MULTIPOLYGON (((-141.31459 60.05416, -141.3125...</td>\n",
       "    </tr>\n",
       "    <tr>\n",
       "      <th>3</th>\n",
       "      <td>244</td>\n",
       "      <td>USA</td>\n",
       "      <td>United States</td>\n",
       "      <td>3</td>\n",
       "      <td>Arizona</td>\n",
       "      <td>State</td>\n",
       "      <td>State</td>\n",
       "      <td>None</td>\n",
       "      <td>AZ|Ariz.</td>\n",
       "      <td>POLYGON ((-110.53930 37.00423, -110.47991 37.0...</td>\n",
       "    </tr>\n",
       "    <tr>\n",
       "      <th>4</th>\n",
       "      <td>244</td>\n",
       "      <td>USA</td>\n",
       "      <td>United States</td>\n",
       "      <td>4</td>\n",
       "      <td>Arkansas</td>\n",
       "      <td>State</td>\n",
       "      <td>State</td>\n",
       "      <td>None</td>\n",
       "      <td>AR|Ark.</td>\n",
       "      <td>POLYGON ((-93.36903 36.49686, -93.36530 36.496...</td>\n",
       "    </tr>\n",
       "  </tbody>\n",
       "</table>\n",
       "</div>"
      ],
      "text/plain": [
       "   ID_0  ISO         NAME_0  ID_1    NAME_1 TYPE_1 ENGTYPE_1 NL_NAME_1  \\\n",
       "0   244  USA  United States     1   Alabama  State     State      None   \n",
       "1   244  USA  United States     2    Alaska  State     State      None   \n",
       "2   244  USA  United States     2    Alaska  State     State      None   \n",
       "3   244  USA  United States     3   Arizona  State     State      None   \n",
       "4   244  USA  United States     4  Arkansas  State     State      None   \n",
       "\n",
       "   VARNAME_1                                           geometry  \n",
       "0    AL|Ala.  MULTIPOLYGON (((-88.11320 30.22623, -88.11291 ...  \n",
       "1  AK|Alaska  MULTIPOLYGON (((-179.13147 51.20972, -179.1322...  \n",
       "2  AK|Alaska  MULTIPOLYGON (((-141.31459 60.05416, -141.3125...  \n",
       "3   AZ|Ariz.  POLYGON ((-110.53930 37.00423, -110.47991 37.0...  \n",
       "4    AR|Ark.  POLYGON ((-93.36903 36.49686, -93.36530 36.496...  "
      ]
     },
     "execution_count": 11,
     "metadata": {},
     "output_type": "execute_result"
    }
   ],
   "source": [
    "import geopandas as gpd\n",
    "\n",
    "ca_path = '../data/USA_adm/USA_adm1.shp'\n",
    "usa_map = gpd.read_file(ca_path)\n",
    "# world_filepath = gpd.datasets.get_path('naturalearth_lowres')\n",
    "# world = gpd.read_file(world_filepath)\n",
    "usa_map.head()"
   ]
  },
  {
   "cell_type": "code",
   "execution_count": 12,
   "id": "c7bea3bf-8576-4936-9977-105369f60aa4",
   "metadata": {},
   "outputs": [
    {
     "data": {
      "text/plain": [
       "<AxesSubplot:>"
      ]
     },
     "execution_count": 12,
     "metadata": {},
     "output_type": "execute_result"
    },
    {
     "data": {
      "image/png": "[encoded data removed]",
      "text/plain": [
       "<Figure size 640x480 with 1 Axes>"
      ]
     },
     "metadata": {},
     "output_type": "display_data"
    }
   ],
   "source": [
    "ca_map = usa_map[usa_map['NAME_1'] == 'California']\n",
    "ca_map.plot()"
   ]
  },
  {
   "cell_type": "markdown",
   "id": "13698f2f-3a8e-44c6-8820-102116ee9e80",
   "metadata": {},
   "source": [
    "# 3. Species Level Kernel Function"
   ]
  },
  {
   "cell_type": "markdown",
   "id": "33680286-f012-45af-a06a-b861334cc620",
   "metadata": {
    "tags": []
   },
   "source": [
    "## 3.1 Extract one species to test with"
   ]
  },
  {
   "cell_type": "code",
   "execution_count": 12,
   "id": "1f9e3af8-004a-4abf-b7a3-5c7a7667ca25",
   "metadata": {},
   "outputs": [
    {
     "data": {
      "text/plain": [
       "1"
      ]
     },
     "execution_count": 12,
     "metadata": {},
     "output_type": "execute_result"
    }
   ],
   "source": [
    "species_id_counts = train_df.species_id.value_counts()\n",
    "species_id_counts.min()"
   ]
  },
  {
   "cell_type": "code",
   "execution_count": 13,
   "id": "2fd1ce39-d155-4542-b9a7-290fb33b3406",
   "metadata": {},
   "outputs": [
    {
     "data": {
      "image/png": "[encoded data removed]",
      "text/plain": [
       "<Figure size 640x480 with 1 Axes>"
      ]
     },
     "metadata": {},
     "output_type": "display_data"
    }
   ],
   "source": [
    "plt.hist(species_id_counts, bins=50)\n",
    "plt.show()"
   ]
  },
  {
   "cell_type": "markdown",
   "id": "2c9ee4bb-def9-4137-9289-ea7980ee6588",
   "metadata": {},
   "source": [
    "## Build a class with all the data and functions needed for gridding and kernels"
   ]
  },
  {
   "cell_type": "code",
   "execution_count": 13,
   "id": "70204327-e1b5-4b03-b119-966e7dcd0796",
   "metadata": {},
   "outputs": [],
   "source": [
    "%load_ext autoreload"
   ]
  },
  {
   "cell_type": "code",
   "execution_count": 46,
   "id": "ff1e5a25-df4a-4c24-bc46-a2d45cdc05ad",
   "metadata": {},
   "outputs": [],
   "source": [
    "#Run this to reload the python file\n",
    "%autoreload 2\n",
    "from grid_dask import *\n"
   ]
  },
  {
   "cell_type": "code",
   "execution_count": 45,
   "id": "b0c073d3-87f8-479f-839f-f29562a5d551",
   "metadata": {},
   "outputs": [
    {
     "name": "stdout",
     "output_type": "stream",
     "text": [
      "GatewayCluster<prod.e43780f3474e46c9b5573e21f8e48c83, status=closed>\n"
     ]
    }
   ],
   "source": [
    "shutdown_all_clusters()"
   ]
  },
  {
   "cell_type": "code",
   "execution_count": 47,
   "id": "b6ad7d33-3347-4c61-90f1-f515a7ad0440",
   "metadata": {},
   "outputs": [
    {
     "name": "stdout",
     "output_type": "stream",
     "text": [
      "Setting up new cluster..\n",
      "Getting client..\n",
      "<Client: 'tls://10.244.159.168:8786' processes=0 threads=0, memory=0 B>\n",
      "https://pccompute.westeurope.cloudapp.azure.com/compute/services/dask-gateway/clusters/prod.52b77e80fed54c6c991602bd908b11d0/status\n"
     ]
    }
   ],
   "source": [
    "cluster, client = setup_dask_cluster(max=113,mem=32)"
   ]
  },
  {
   "cell_type": "code",
   "execution_count": 48,
   "id": "93b5ffd5-ed98-4ec0-a9ff-00c4a43c1465",
   "metadata": {},
   "outputs": [
    {
     "name": "stdout",
     "output_type": "stream",
     "text": [
      "Number of classes in entire dataset:  14124\n",
      "Gridding..\n",
      "Creating Land Mask..\n",
      "Num entries before masking:  10185\n",
      "Num entries after masking:  4394\n",
      "Clipping observation to AOI..\n"
     ]
    },
    {
     "name": "stderr",
     "output_type": "stream",
     "text": [
      "2022-11-25 22:40:39,582 - distributed.client - ERROR - Failed to reconnect to scheduler after 30.00 seconds, closing client\n",
      "Exception in callback None()\n",
      "handle: <Handle cancelled>\n",
      "Traceback (most recent call last):\n",
      "  File \"/srv/conda/envs/notebook/lib/python3.9/site-packages/tornado/iostream.py\", line 1391, in _do_ssl_handshake\n",
      "    self.socket.do_handshake()\n",
      "  File \"/srv/conda/envs/notebook/lib/python3.9/ssl.py\", line 1310, in do_handshake\n",
      "    self._sslobj.do_handshake()\n",
      "ssl.SSLEOFError: EOF occurred in violation of protocol (_ssl.c:1129)\n",
      "\n",
      "During handling of the above exception, another exception occurred:\n",
      "\n",
      "Traceback (most recent call last):\n",
      "  File \"/srv/conda/envs/notebook/lib/python3.9/asyncio/events.py\", line 80, in _run\n",
      "    self._context.run(self._callback, *self._args)\n",
      "  File \"/srv/conda/envs/notebook/lib/python3.9/site-packages/tornado/platform/asyncio.py\", line 189, in _handle_events\n",
      "    handler_func(fileobj, events)\n",
      "  File \"/srv/conda/envs/notebook/lib/python3.9/site-packages/tornado/iostream.py\", line 696, in _handle_events\n",
      "    self._handle_read()\n",
      "  File \"/srv/conda/envs/notebook/lib/python3.9/site-packages/tornado/iostream.py\", line 1478, in _handle_read\n",
      "    self._do_ssl_handshake()\n",
      "  File \"/srv/conda/envs/notebook/lib/python3.9/site-packages/tornado/iostream.py\", line 1400, in _do_ssl_handshake\n",
      "    return self.close(exc_info=err)\n",
      "  File \"/srv/conda/envs/notebook/lib/python3.9/site-packages/tornado/iostream.py\", line 611, in close\n",
      "    self._signal_closed()\n",
      "  File \"/srv/conda/envs/notebook/lib/python3.9/site-packages/tornado/iostream.py\", line 641, in _signal_closed\n",
      "    self._ssl_connect_future.exception()\n",
      "asyncio.exceptions.CancelledError\n",
      "Exception in callback None()\n",
      "handle: <Handle cancelled>\n",
      "Traceback (most recent call last):\n",
      "  File \"/srv/conda/envs/notebook/lib/python3.9/site-packages/tornado/iostream.py\", line 1391, in _do_ssl_handshake\n",
      "    self.socket.do_handshake()\n",
      "  File \"/srv/conda/envs/notebook/lib/python3.9/ssl.py\", line 1310, in do_handshake\n",
      "    self._sslobj.do_handshake()\n",
      "ssl.SSLEOFError: EOF occurred in violation of protocol (_ssl.c:1129)\n",
      "\n",
      "During handling of the above exception, another exception occurred:\n",
      "\n",
      "Traceback (most recent call last):\n",
      "  File \"/srv/conda/envs/notebook/lib/python3.9/asyncio/events.py\", line 80, in _run\n",
      "    self._context.run(self._callback, *self._args)\n",
      "  File \"/srv/conda/envs/notebook/lib/python3.9/site-packages/tornado/platform/asyncio.py\", line 189, in _handle_events\n",
      "    handler_func(fileobj, events)\n",
      "  File \"/srv/conda/envs/notebook/lib/python3.9/site-packages/tornado/iostream.py\", line 696, in _handle_events\n",
      "    self._handle_read()\n",
      "  File \"/srv/conda/envs/notebook/lib/python3.9/site-packages/tornado/iostream.py\", line 1478, in _handle_read\n",
      "    self._do_ssl_handshake()\n",
      "  File \"/srv/conda/envs/notebook/lib/python3.9/site-packages/tornado/iostream.py\", line 1400, in _do_ssl_handshake\n",
      "    return self.close(exc_info=err)\n",
      "  File \"/srv/conda/envs/notebook/lib/python3.9/site-packages/tornado/iostream.py\", line 611, in close\n",
      "    self._signal_closed()\n",
      "  File \"/srv/conda/envs/notebook/lib/python3.9/site-packages/tornado/iostream.py\", line 641, in _signal_closed\n",
      "    self._ssl_connect_future.exception()\n",
      "asyncio.exceptions.CancelledError\n"
     ]
    },
    {
     "name": "stdout",
     "output_type": "stream",
     "text": [
      "Number of classes in AOI dataset:  5013\n",
      "<Client: 'tls://10.244.159.168:8786' processes=2 threads=2, memory=64.00 GiB> https://pccompute.westeurope.cloudapp.azure.com/compute/services/dask-gateway/clusters/prod.52b77e80fed54c6c991602bd908b11d0/status\n",
      "(4394, 2)\n"
     ]
    }
   ],
   "source": [
    "grid_res = 0.1\n",
    "obs_ca = Observations(train_gdf, ca_map, grid_res_deg=grid_res)"
   ]
  },
  {
   "cell_type": "code",
   "execution_count": 49,
   "id": "2c468105-7963-43bb-becd-d3aaa05d19a3",
   "metadata": {},
   "outputs": [
    {
     "data": {
      "text/html": [
       "<div>\n",
       "<style scoped>\n",
       "    .dataframe tbody tr th:only-of-type {\n",
       "        vertical-align: middle;\n",
       "    }\n",
       "\n",
       "    .dataframe tbody tr th {\n",
       "        vertical-align: top;\n",
       "    }\n",
       "\n",
       "    .dataframe thead th {\n",
       "        text-align: right;\n",
       "    }\n",
       "</style>\n",
       "<table border=\"1\" class=\"dataframe\">\n",
       "  <thead>\n",
       "    <tr style=\"text-align: right;\">\n",
       "      <th></th>\n",
       "      <th>geometry</th>\n",
       "      <th>grid_id</th>\n",
       "    </tr>\n",
       "  </thead>\n",
       "  <tbody>\n",
       "    <tr>\n",
       "      <th>0</th>\n",
       "      <td>POLYGON ((-124.31556 40.33088, -124.31556 40.4...</td>\n",
       "      <td>0</td>\n",
       "    </tr>\n",
       "    <tr>\n",
       "      <th>1</th>\n",
       "      <td>POLYGON ((-124.31556 40.43088, -124.31556 40.5...</td>\n",
       "      <td>1</td>\n",
       "    </tr>\n",
       "    <tr>\n",
       "      <th>2</th>\n",
       "      <td>POLYGON ((-124.31556 40.53088, -124.31556 40.6...</td>\n",
       "      <td>2</td>\n",
       "    </tr>\n",
       "    <tr>\n",
       "      <th>3</th>\n",
       "      <td>POLYGON ((-124.21556 40.13088, -124.21556 40.2...</td>\n",
       "      <td>3</td>\n",
       "    </tr>\n",
       "    <tr>\n",
       "      <th>4</th>\n",
       "      <td>POLYGON ((-124.21556 40.23088, -124.21556 40.3...</td>\n",
       "      <td>4</td>\n",
       "    </tr>\n",
       "  </tbody>\n",
       "</table>\n",
       "</div>"
      ],
      "text/plain": [
       "                                            geometry  grid_id\n",
       "0  POLYGON ((-124.31556 40.33088, -124.31556 40.4...        0\n",
       "1  POLYGON ((-124.31556 40.43088, -124.31556 40.5...        1\n",
       "2  POLYGON ((-124.31556 40.53088, -124.31556 40.6...        2\n",
       "3  POLYGON ((-124.21556 40.13088, -124.21556 40.2...        3\n",
       "4  POLYGON ((-124.21556 40.23088, -124.21556 40.3...        4"
      ]
     },
     "execution_count": 49,
     "metadata": {},
     "output_type": "execute_result"
    }
   ],
   "source": [
    "obs_ca.grid_gd.head()"
   ]
  },
  {
   "cell_type": "code",
   "execution_count": 50,
   "id": "7f2ec9e4-9759-4f41-b6af-7246c6f04b3c",
   "metadata": {},
   "outputs": [
    {
     "data": {
      "text/html": [
       "<div>\n",
       "<style scoped>\n",
       "    .dataframe tbody tr th:only-of-type {\n",
       "        vertical-align: middle;\n",
       "    }\n",
       "\n",
       "    .dataframe tbody tr th {\n",
       "        vertical-align: top;\n",
       "    }\n",
       "\n",
       "    .dataframe thead th {\n",
       "        text-align: right;\n",
       "    }\n",
       "</style>\n",
       "<table border=\"1\" class=\"dataframe\">\n",
       "  <thead>\n",
       "    <tr style=\"text-align: right;\">\n",
       "      <th></th>\n",
       "      <th>observation_id</th>\n",
       "      <th>species_id</th>\n",
       "      <th>subset</th>\n",
       "      <th>geometry</th>\n",
       "      <th>valid</th>\n",
       "    </tr>\n",
       "  </thead>\n",
       "  <tbody>\n",
       "    <tr>\n",
       "      <th>0</th>\n",
       "      <td>20000173</td>\n",
       "      <td>4911</td>\n",
       "      <td>train</td>\n",
       "      <td>POINT (-116.18068 33.19766)</td>\n",
       "      <td>True</td>\n",
       "    </tr>\n",
       "    <tr>\n",
       "      <th>4</th>\n",
       "      <td>20000179</td>\n",
       "      <td>4915</td>\n",
       "      <td>train</td>\n",
       "      <td>POINT (-121.95951 36.60574)</td>\n",
       "      <td>True</td>\n",
       "    </tr>\n",
       "    <tr>\n",
       "      <th>12</th>\n",
       "      <td>20000189</td>\n",
       "      <td>4922</td>\n",
       "      <td>train</td>\n",
       "      <td>POINT (-116.94504 32.72591)</td>\n",
       "      <td>True</td>\n",
       "    </tr>\n",
       "    <tr>\n",
       "      <th>13</th>\n",
       "      <td>20000190</td>\n",
       "      <td>4923</td>\n",
       "      <td>train</td>\n",
       "      <td>POINT (-117.84243 33.66103)</td>\n",
       "      <td>True</td>\n",
       "    </tr>\n",
       "    <tr>\n",
       "      <th>16</th>\n",
       "      <td>20000198</td>\n",
       "      <td>2329</td>\n",
       "      <td>train</td>\n",
       "      <td>POINT (-118.16702 34.13520)</td>\n",
       "      <td>True</td>\n",
       "    </tr>\n",
       "  </tbody>\n",
       "</table>\n",
       "</div>"
      ],
      "text/plain": [
       "    observation_id  species_id subset                     geometry  valid\n",
       "0         20000173        4911  train  POINT (-116.18068 33.19766)   True\n",
       "4         20000179        4915  train  POINT (-121.95951 36.60574)   True\n",
       "12        20000189        4922  train  POINT (-116.94504 32.72591)   True\n",
       "13        20000190        4923  train  POINT (-117.84243 33.66103)   True\n",
       "16        20000198        2329  train  POINT (-118.16702 34.13520)   True"
      ]
     },
     "execution_count": 50,
     "metadata": {},
     "output_type": "execute_result"
    }
   ],
   "source": [
    "obs_ca.gdf_obs.head()"
   ]
  },
  {
   "cell_type": "code",
   "execution_count": 52,
   "id": "1a31b068-1269-450d-a95d-17ef506a9971",
   "metadata": {},
   "outputs": [
    {
     "data": {
      "text/plain": [
       "<AxesSubplot:>"
      ]
     },
     "execution_count": 52,
     "metadata": {},
     "output_type": "execute_result"
    },
    {
     "data": {
      "image/png": "[encoded data removed]",
      "text/plain": [
       "<Figure size 1000x1000 with 1 Axes>"
      ]
     },
     "metadata": {},
     "output_type": "display_data"
    }
   ],
   "source": [
    "fig, ax = plt.subplots(figsize=(10,10))\n",
    "obs_ca.grid_gd.plot(ax=ax, edgecolor = 'tab:green', alpha=0.1)\n",
    "obs_ca.gdf_obs.plot(ax=ax, marker='+', markersize=1, color='tab:red')"
   ]
  },
  {
   "cell_type": "code",
   "execution_count": 23,
   "id": "6ffad4cf-6c7f-4017-9292-81f25be16279",
   "metadata": {},
   "outputs": [],
   "source": [
    "del train_gdf"
   ]
  },
  {
   "cell_type": "markdown",
   "id": "4d1f7634-b88a-4fd3-9f50-3e84216e8fa0",
   "metadata": {
    "jp-MarkdownHeadingCollapsed": true,
    "tags": []
   },
   "source": [
    "### Optimized grid testing"
   ]
  },
  {
   "cell_type": "code",
   "execution_count": null,
   "id": "1050872b-21fa-4bb3-a540-5fcfd6142028",
   "metadata": {},
   "outputs": [],
   "source": [
    "unique, counts = np.unique(obs_usa.land_mask, return_counts=True)\n",
    "\n",
    "#display unique values and counts side by side\n",
    "print(np.asarray((unique, counts)).T)"
   ]
  },
  {
   "cell_type": "code",
   "execution_count": null,
   "id": "2ae3aaed-9f58-4283-b334-4209e32664f0",
   "metadata": {},
   "outputs": [],
   "source": [
    "fig, ax = plt.subplots(figsize=(10,10))\n",
    "obs_usa.grid_gd.plot(ax=ax, column='mask', edgecolor = 'none', legend=True, cmap='jet', legend_kwds={'shrink': 0.5})\n",
    "# usa.plot(ax=ax,  color='none')\n",
    "# train_gdf[train_gdf.species_id == chosen_id].plot(ax=ax, marker='+', markersize=5, color='white')\n",
    "plt.show()"
   ]
  },
  {
   "cell_type": "code",
   "execution_count": null,
   "id": "80306310-0bfc-45c9-b3ed-f3ffd6afc182",
   "metadata": {},
   "outputs": [],
   "source": [
    "w = usa.simplify(0.1).geometry\n",
    "w.iloc[0]"
   ]
  },
  {
   "cell_type": "code",
   "execution_count": null,
   "id": "d41713ea-d629-4791-9cf3-51e5560d8a2e",
   "metadata": {},
   "outputs": [],
   "source": [
    "series = obs_usa.grid_gd.within(w.iloc[0]).to_numpy()\n",
    "\n",
    "unique, counts = np.unique(series, return_counts=True)\n",
    "\n",
    "#display unique values and counts side by side\n",
    "print(np.asarray((unique, counts)).T)"
   ]
  },
  {
   "cell_type": "code",
   "execution_count": null,
   "id": "17d14240-fc32-477b-a057-c1c4badef733",
   "metadata": {},
   "outputs": [],
   "source": [
    "obs_usa.grid_gd.loc[5510:5520].geometry.centroid"
   ]
  },
  {
   "cell_type": "code",
   "execution_count": null,
   "id": "642496aa-c46d-423a-b212-1b5e0d9a2f63",
   "metadata": {},
   "outputs": [],
   "source": [
    "obs_usa.grid_np[5510:5521]"
   ]
  },
  {
   "cell_type": "markdown",
   "id": "5d49c2d5-951c-41ef-9266-d32dff3e672d",
   "metadata": {},
   "source": [
    "### Combine chosen_species_grid into the primary observations grid with the following structures:\n",
    "\n",
    "**Possibility A: Per observation**\n",
    "\n",
    "| SpeciesID | Probability | GridID | Geometry |\n",
    "| --- | --- | --- | --- |\n",
    "| 115 | 0.7 | 7743 | POLYGON ((-112.48721 34.48000, -112.48721 34.5... |\n",
    "\n",
    "\n",
    "Or\n",
    "\n",
    "**Possibility B: Per Grid**\n",
    "\n",
    "| SpeciesID | SpeciesID | ... | SpeciesID | GridID | Geometry |\n",
    "| --- | --- | --- | --- | --- | --- |\n",
    "| 115 | 4443 | ... | 19328 | 52  | POLYGON ((-112.48721 34.48000, -112.48721 34.5... |\n",
    "\n",
    "We pick option A, since it provides a more memory efficient method"
   ]
  },
  {
   "cell_type": "markdown",
   "id": "ce084791-d31d-4d91-aaa8-90545f79c4f7",
   "metadata": {
    "tags": []
   },
   "source": [
    "## Grid and KDE all species"
   ]
  },
  {
   "cell_type": "code",
   "execution_count": 53,
   "id": "1a4f76f5-e103-4876-8e69-a1e8666aca6a",
   "metadata": {},
   "outputs": [
    {
     "data": {
      "text/html": [
       "<div>\n",
       "    <div style=\"width: 24px; height: 24px; background-color: #e1e1e1; border: 3px solid #9D9D9D; border-radius: 5px; position: absolute;\"> </div>\n",
       "    <div style=\"margin-left: 48px;\">\n",
       "        <h3 style=\"margin-bottom: 0px;\">Client</h3>\n",
       "        <p style=\"color: #9D9D9D; margin-bottom: 0px;\">Client-272ddc3c-6d12-11ed-82fd-029a33eedbb1</p>\n",
       "        <table style=\"width: 100%; text-align: left;\">\n",
       "\n",
       "        <tr>\n",
       "        \n",
       "            <td style=\"text-align: left;\"><strong>Connection method:</strong> Cluster object</td>\n",
       "            <td style=\"text-align: left;\"><strong>Cluster type:</strong> dask_gateway.GatewayCluster</td>\n",
       "        \n",
       "        </tr>\n",
       "\n",
       "        \n",
       "            <tr>\n",
       "                <td style=\"text-align: left;\">\n",
       "                    <strong>Dashboard: </strong> <a href=\"https://pccompute.westeurope.cloudapp.azure.com/compute/services/dask-gateway/clusters/prod.52b77e80fed54c6c991602bd908b11d0/status\" target=\"_blank\">https://pccompute.westeurope.cloudapp.azure.com/compute/services/dask-gateway/clusters/prod.52b77e80fed54c6c991602bd908b11d0/status</a>\n",
       "                </td>\n",
       "                <td style=\"text-align: left;\"></td>\n",
       "            </tr>\n",
       "        \n",
       "\n",
       "        </table>\n",
       "\n",
       "        \n",
       "            <details>\n",
       "            <summary style=\"margin-bottom: 20px;\"><h3 style=\"display: inline;\">Cluster Info</h3></summary>\n",
       "            <div style='background-color: #f2f2f2; display: inline-block; padding: 10px; border: 1px solid #999999;'>\n",
       "  <h3>GatewayCluster</h3>\n",
       "  <ul>\n",
       "    <li><b>Name: </b>prod.52b77e80fed54c6c991602bd908b11d0\n",
       "    <li><b>Dashboard: </b><a href='https://pccompute.westeurope.cloudapp.azure.com/compute/services/dask-gateway/clusters/prod.52b77e80fed54c6c991602bd908b11d0/status' target='_blank'>https://pccompute.westeurope.cloudapp.azure.com/compute/services/dask-gateway/clusters/prod.52b77e80fed54c6c991602bd908b11d0/status</a>\n",
       "  </ul>\n",
       "</div>\n",
       "\n",
       "            </details>\n",
       "        \n",
       "\n",
       "    </div>\n",
       "</div>"
      ],
      "text/plain": [
       "<Client: 'tls://10.244.159.168:8786' processes=2 threads=2, memory=64.00 GiB>"
      ]
     },
     "execution_count": 53,
     "metadata": {},
     "output_type": "execute_result"
    }
   ],
   "source": [
    "client"
   ]
  },
  {
   "cell_type": "markdown",
   "id": "088b1c31-2f0c-4c5e-bdbb-1dad23c862c4",
   "metadata": {},
   "source": [
    "## Dask KDE Functions"
   ]
  },
  {
   "cell_type": "code",
   "execution_count": 54,
   "id": "984dbddf-1cb4-48ee-ba7b-1a431aedd5db",
   "metadata": {},
   "outputs": [],
   "source": [
    "import dask\n",
    "def kernel_per_species(grid_gd, grid_np, gdf_chosen, \n",
    "                       kde:bool=True, chosen_id:int=0, cumulative:bool=False, \n",
    "                       radius:float=0.5, kernel:str='gaussian', q:int=8):\n",
    "\n",
    "    \"\"\"\n",
    "    Inputs:\n",
    "    kde: whether or not to apply KDE\n",
    "        if False: only group observations within a cell\n",
    "        if True: group and then apply KDE\n",
    "    chosen_id: Species ID for a single chosen species\n",
    "    grid: grid to which these observations must conform\n",
    "    radius: radius in degrees for the kernel function\n",
    "    kernel: 'linerar' / 'epanechnikov' / 'gaussian' ..\n",
    "    cumulative: keep adding to a master species list -> grid_kde\n",
    "    Quantization: whether or not to quantize to some int value : 8,16,32,64\n",
    "\n",
    "    Output:\n",
    "\n",
    "    \"\"\"\n",
    "    # Remove duplicate counts\n",
    "    # With intersect, those that fall on a boundary will be allocated to all cells that share that boundary\n",
    "    # chosen_species_grid = chosen_species_grid.drop_duplicates(subset = ['speciesID']).reset_index(drop = True)\n",
    "\n",
    "    chosen_species_grid = gpd.sjoin(gdf_chosen, grid_gd, how='inner', predicate='within').drop(['index_right'], axis=1)\n",
    "    # display(chosen_species_grid)\n",
    "\n",
    "    # Add a field with constant value of 1\n",
    "    chosen_species_grid['num_obs'] = 1.0\n",
    "\n",
    "    # Group GeoDataFrame by cell while aggregating the Count values\n",
    "    chosen_species_grid = chosen_species_grid.groupby('grid_id').agg({'num_obs':'sum'})\n",
    "\n",
    "    chosen_species_grid = grid_gd.merge(chosen_species_grid, on = 'grid_id', how = \"right\")\n",
    "\n",
    "    if (kde and radius*2 > grid_res):\n",
    "\n",
    "        #List of grids that have observations for this species\n",
    "        chosen_grids = list(chosen_species_grid['grid_id'])\n",
    "        # print(chosen_grids, chosen_species_grid)\n",
    "        #sanity check\n",
    "        if len(chosen_grids) == 0:\n",
    "            return \n",
    "\n",
    "        # Create training set for KDE\n",
    "        x_train = grid_np[chosen_grids,:]\n",
    "        y_train = chosen_species_grid['num_obs'].to_numpy()\n",
    "\n",
    "\n",
    "        tree = KDTree(x_train)\n",
    "        y_hat = tree.kernel_density(grid_np, h=radius, kernel=kernel)*(1*(radius**2))\n",
    "\n",
    "        # y_hat /= y_hat.max()\n",
    "        # print(\"Max y_hat = \", y_hat.max())\n",
    "        #Cap all cells at 1\n",
    "        y_hat[y_hat > 1.0] = 1.0\n",
    "        y_hat[y_hat < 1e-5] = 0.0\n",
    "        \n",
    "        if (q > 0):\n",
    "            #let's say by default it's int8\n",
    "            y_hat = (y_hat * 255).astype('uint8')\n",
    "\n",
    "        return y_hat\n",
    "\n",
    "\n",
    "                   \n",
    "def kde(obs, classes, radius:float=1.0, kernel:str='gaussian'):\n",
    "    \"\"\"Populates the grid_kde data structure\n",
    "       with 1 column per species_id for every grid_cell\n",
    "       **fingers crossed**\n",
    "    \"\"\"\n",
    "    y_hats = []\n",
    "    \n",
    "    # grid_gd = obs.grid_gd\n",
    "    # grid_np = obs.grid_np\n",
    "    # gdf_obs = obs.gdf_obs\n",
    "    \n",
    "    #Trying this\n",
    "    #SUPER CRUCIAL for memory and speedup!\n",
    "    grid_gd = dask.delayed(obs.grid_gd)\n",
    "    grid_np = dask.delayed(obs.grid_np)\n",
    "\n",
    "    # print(\"Building Parallel Compute Graph\")\n",
    "\n",
    "    for id in classes:\n",
    "        gdf_chosen = dask.delayed(obs.gdf_obs[obs.gdf_obs.species_id==id])\n",
    "        # gdf_chosen = obs.gdf_obs[obs.gdf_obs.species_id==id]\n",
    "        y_hats.append(dask.delayed(kernel_per_species)(grid_gd=grid_gd, grid_np=grid_np, gdf_chosen=gdf_chosen, \n",
    "                                         kde=True, chosen_id=id, radius=radius, kernel=kernel, cumulative=True))\n",
    "    # print(\"Ready for parallel compute...\")\n",
    "    return y_hats   \n",
    "\n",
    "def requantize_batch(arr, q:int=8):\n",
    "    out = []\n",
    "    denom = 2**q - 1\n",
    "    for a in arr:\n",
    "        out.append(a.astype('float16')/denom)\n",
    "        \n",
    "    return out"
   ]
  },
  {
   "cell_type": "code",
   "execution_count": 55,
   "id": "d2ba3d1c-e85a-478c-a236-50f2bd7fef28",
   "metadata": {
    "tags": []
   },
   "outputs": [],
   "source": [
    "# obs_usa.class_list\n",
    "classes = obs_ca.class_list[0:20]\n"
   ]
  },
  {
   "cell_type": "code",
   "execution_count": 57,
   "id": "ae6dd9ca-ef81-4f88-bae6-bf8b40dd185e",
   "metadata": {},
   "outputs": [],
   "source": [
    "# cluster.scale(100)\n",
    "# prob_kde = dask.delayed(kde)(obs_usa,classes)\n",
    "prob_kde = kde(obs_ca,classes)"
   ]
  },
  {
   "cell_type": "code",
   "execution_count": 58,
   "id": "c7991cf4-42fc-4b18-9b66-938571875fa2",
   "metadata": {},
   "outputs": [],
   "source": [
    "prob_kde = dask.compute(prob_kde)"
   ]
  },
  {
   "cell_type": "code",
   "execution_count": 60,
   "id": "ef66ffbf-0709-428e-8ad1-7cdf35514790",
   "metadata": {},
   "outputs": [],
   "source": [
    "from sys import getsizeof"
   ]
  },
  {
   "cell_type": "code",
   "execution_count": 61,
   "id": "25335918-b0e5-400a-9af3-e75c32e65cc4",
   "metadata": {},
   "outputs": [
    {
     "data": {
      "text/plain": [
       "(255, dtype('uint8'), 4506)"
      ]
     },
     "execution_count": 61,
     "metadata": {},
     "output_type": "execute_result"
    }
   ],
   "source": [
    "prob_kde[0][19].max(), prob_kde[0][0].dtype, getsizeof(prob_kde[0][19])"
   ]
  },
  {
   "cell_type": "code",
   "execution_count": 63,
   "id": "6d8e4917-37ce-4b53-b0f7-ce73e3989223",
   "metadata": {},
   "outputs": [],
   "source": [
    "prob_kde2 = requantize_batch(prob_kde[0])"
   ]
  },
  {
   "cell_type": "code",
   "execution_count": 64,
   "id": "9a07c442-4d54-49b9-aecb-e5217377f469",
   "metadata": {},
   "outputs": [
    {
     "data": {
      "text/plain": [
       "(1.0, 4394, 8900)"
      ]
     },
     "execution_count": 64,
     "metadata": {},
     "output_type": "execute_result"
    }
   ],
   "source": [
    "prob_kde2[19].max(), len(prob_kde2[19]), getsizeof(prob_kde2[19])"
   ]
  },
  {
   "cell_type": "markdown",
   "id": "25f10171-1ae3-455f-a88f-030c481e19cb",
   "metadata": {},
   "source": [
    "## Break up the task into batches"
   ]
  },
  {
   "cell_type": "code",
   "execution_count": 67,
   "id": "7ec7c730-c7bd-4705-b810-c64bb60f4a1b",
   "metadata": {},
   "outputs": [
    {
     "name": "stdout",
     "output_type": "stream",
     "text": [
      "5013 300\n",
      "0 299\n",
      "300 599\n",
      "600 899\n",
      "900 1199\n",
      "1200 1499\n",
      "1500 1799\n",
      "1800 2099\n",
      "2100 2399\n",
      "2400 2699\n",
      "2700 2999\n",
      "3000 3299\n",
      "3300 3599\n",
      "3600 3899\n",
      "3900 4199\n",
      "4200 4499\n",
      "4500 4799\n",
      "4800 5013\n",
      "Num Batches [1st index]:  17\n",
      "Num of classes in each batch (except last) []:  300\n"
     ]
    }
   ],
   "source": [
    "#this works!\n",
    "\n",
    "total_classes, inc = len(obs_ca.class_list), 300\n",
    "\n",
    "def set_classes(gdf, min_id, inc):\n",
    "    max_id = min_id + inc\n",
    "\n",
    "    if (max_id > total_classes):\n",
    "        max_id = total_classes + 1\n",
    "    \n",
    "    print(min_id, max_id-1)\n",
    "    return gdf.class_list[min_id:max_id]\n",
    "\n",
    "print(total_classes, inc)\n",
    "\n",
    "def batch(gdf, classes):\n",
    "    sub_results = []\n",
    "    sub_results.append(kde(gdf,classes))\n",
    "    return sub_results\n",
    "\n",
    "\n",
    "\n",
    "\n",
    "batches = []\n",
    "\n",
    "for i in range(0, total_classes+1, inc):\n",
    "    classes = set_classes(obs_ca, i,inc)\n",
    "    result_batch = batch(obs_ca, classes)\n",
    "    batches.append(result_batch)\n",
    "    \n",
    "print(\"Num Batches [1st index]: \", len(batches))\n",
    "print(\"Num of classes in each batch (except last) []: \", inc)\n"
   ]
  },
  {
   "cell_type": "code",
   "execution_count": 68,
   "id": "0265a5bc-9a3e-4ab4-a115-17460fd85ee7",
   "metadata": {},
   "outputs": [],
   "source": [
    "##Be patient - takes about 1-2 mins to start on the cluster dashboard\n",
    "kde_grids = dask.compute(batches) "
   ]
  },
  {
   "cell_type": "code",
   "execution_count": 70,
   "id": "e8ab08e8-1b23-4e2a-a3c0-c305380f64f9",
   "metadata": {},
   "outputs": [
    {
     "data": {
      "text/plain": [
       "40"
      ]
     },
     "execution_count": 70,
     "metadata": {},
     "output_type": "execute_result"
    }
   ],
   "source": [
    "kde_grids[0][15][0][299].max()"
   ]
  },
  {
   "cell_type": "code",
   "execution_count": 71,
   "id": "6aef4088-b8ce-4283-b7e5-5e843114a709",
   "metadata": {},
   "outputs": [
    {
     "data": {
      "text/plain": [
       "(300,\n",
       " numpy.ndarray,\n",
       " (4394,),\n",
       " array([ 0,  0,  0, ..., 30, 29, 28], dtype=uint8))"
      ]
     },
     "execution_count": 71,
     "metadata": {},
     "output_type": "execute_result"
    }
   ],
   "source": [
    "len(kde_grids[0][0][0]), type(kde_grids[0][0][0][0]), kde_grids[0][0][0][1].shape, kde_grids[0][0][0][99]"
   ]
  },
  {
   "cell_type": "code",
   "execution_count": 72,
   "id": "8fcbb8dc-994a-4c65-86f9-e1c18ca1f72b",
   "metadata": {},
   "outputs": [
    {
     "data": {
      "text/plain": [
       "(300, 17)"
      ]
     },
     "execution_count": 72,
     "metadata": {},
     "output_type": "execute_result"
    }
   ],
   "source": [
    "len(kde_grids[0][1][0]), len(kde_grids[0])"
   ]
  },
  {
   "cell_type": "code",
   "execution_count": 73,
   "id": "2943f652-ac6a-48c8-ad98-7db07b19cc3c",
   "metadata": {},
   "outputs": [
    {
     "data": {
      "text/plain": [
       "4506"
      ]
     },
     "execution_count": 73,
     "metadata": {},
     "output_type": "execute_result"
    }
   ],
   "source": [
    "getsizeof(kde_grids[0][0][0][99])"
   ]
  },
  {
   "cell_type": "markdown",
   "id": "4838d72d-1796-4372-bb5e-cf9cb86a0b24",
   "metadata": {},
   "source": [
    "## Unpack nested list"
   ]
  },
  {
   "cell_type": "markdown",
   "id": "adc2561d-f43a-44e8-b69f-f62a71bd9906",
   "metadata": {},
   "source": [
    "**Dimension 1 [0][b] : Batch number** -> Iterate over kde_grids[0][0:num_batches] in outermost loop -> List\n",
    "\n",
    "\n",
    "**Dimension 4 [0][b][0][id] : Id number within that batch** -> Iterate over kde_grids[0][b][0][id]"
   ]
  },
  {
   "cell_type": "code",
   "execution_count": 74,
   "id": "0bc37012-834a-4feb-bb34-c4908a095cc1",
   "metadata": {},
   "outputs": [],
   "source": [
    "def requantize(arr, q:int=8):\n",
    "    out = []\n",
    "    denom = 2**q - 1\n",
    "    for a in arr:\n",
    "        out.append(a.astype('float16')/denom)\n",
    "        \n",
    "    return out"
   ]
  },
  {
   "cell_type": "code",
   "execution_count": 77,
   "id": "828d3e2f-c818-441a-85ce-e59ee31e750b",
   "metadata": {
    "tags": []
   },
   "outputs": [],
   "source": [
    "#inc is the number of classes in each batch\n",
    "# %%time\n",
    "import warnings\n",
    "warnings.filterwarnings('ignore')\n",
    "\n",
    "kde_gdf = obs_ca.grid_gd.copy()\n",
    "\n",
    "for i, batch in enumerate(kde_grids[0]):\n",
    "    # print (i)\n",
    "    for j, kde in enumerate(batch[0]):\n",
    "        # print(j)\n",
    "        class_index = inc*i + j\n",
    "        chosen_id = obs_ca.class_list[class_index]\n",
    "        col_name = 'prob_{}'.format(chosen_id)\n",
    "        # print(col_name)\n",
    "        kde_gdf[col_name] = kde\n",
    "        # print (type(kde))\n",
    "        "
   ]
  },
  {
   "cell_type": "code",
   "execution_count": 78,
   "id": "e788e8f2-39c6-4e9c-a172-b26ca40db76b",
   "metadata": {},
   "outputs": [
    {
     "data": {
      "text/plain": [
       "4394"
      ]
     },
     "execution_count": 78,
     "metadata": {},
     "output_type": "execute_result"
    }
   ],
   "source": [
    "len(kde_gdf)"
   ]
  },
  {
   "cell_type": "code",
   "execution_count": 88,
   "id": "4db818be-29a3-40c6-83b4-259c5755b7bc",
   "metadata": {},
   "outputs": [
    {
     "data": {
      "text/html": [
       "<div>\n",
       "<style scoped>\n",
       "    .dataframe tbody tr th:only-of-type {\n",
       "        vertical-align: middle;\n",
       "    }\n",
       "\n",
       "    .dataframe tbody tr th {\n",
       "        vertical-align: top;\n",
       "    }\n",
       "\n",
       "    .dataframe thead th {\n",
       "        text-align: right;\n",
       "    }\n",
       "</style>\n",
       "<table border=\"1\" class=\"dataframe\">\n",
       "  <thead>\n",
       "    <tr style=\"text-align: right;\">\n",
       "      <th></th>\n",
       "      <th>geometry</th>\n",
       "      <th>grid_id</th>\n",
       "      <th>prob_4911</th>\n",
       "      <th>prob_4915</th>\n",
       "      <th>prob_4922</th>\n",
       "      <th>prob_4923</th>\n",
       "      <th>prob_2329</th>\n",
       "      <th>prob_4927</th>\n",
       "      <th>prob_4930</th>\n",
       "      <th>prob_4382</th>\n",
       "      <th>...</th>\n",
       "      <th>prob_16770</th>\n",
       "      <th>prob_14228</th>\n",
       "      <th>prob_9006</th>\n",
       "      <th>prob_272</th>\n",
       "      <th>prob_16726</th>\n",
       "      <th>prob_17029</th>\n",
       "      <th>prob_8230</th>\n",
       "      <th>prob_15877</th>\n",
       "      <th>prob_13366</th>\n",
       "      <th>prob_16533</th>\n",
       "    </tr>\n",
       "  </thead>\n",
       "  <tbody>\n",
       "    <tr>\n",
       "      <th>0</th>\n",
       "      <td>POLYGON ((-124.31556 40.33088, -124.31556 40.4...</td>\n",
       "      <td>0</td>\n",
       "      <td>0</td>\n",
       "      <td>45</td>\n",
       "      <td>173</td>\n",
       "      <td>0</td>\n",
       "      <td>1</td>\n",
       "      <td>4</td>\n",
       "      <td>15</td>\n",
       "      <td>8</td>\n",
       "      <td>...</td>\n",
       "      <td>6</td>\n",
       "      <td>0</td>\n",
       "      <td>9</td>\n",
       "      <td>0</td>\n",
       "      <td>0</td>\n",
       "      <td>0</td>\n",
       "      <td>5</td>\n",
       "      <td>0</td>\n",
       "      <td>16</td>\n",
       "      <td>0</td>\n",
       "    </tr>\n",
       "    <tr>\n",
       "      <th>1</th>\n",
       "      <td>POLYGON ((-124.31556 40.43088, -124.31556 40.5...</td>\n",
       "      <td>1</td>\n",
       "      <td>0</td>\n",
       "      <td>46</td>\n",
       "      <td>174</td>\n",
       "      <td>0</td>\n",
       "      <td>1</td>\n",
       "      <td>3</td>\n",
       "      <td>12</td>\n",
       "      <td>7</td>\n",
       "      <td>...</td>\n",
       "      <td>7</td>\n",
       "      <td>0</td>\n",
       "      <td>10</td>\n",
       "      <td>0</td>\n",
       "      <td>0</td>\n",
       "      <td>0</td>\n",
       "      <td>6</td>\n",
       "      <td>0</td>\n",
       "      <td>18</td>\n",
       "      <td>0</td>\n",
       "    </tr>\n",
       "    <tr>\n",
       "      <th>2</th>\n",
       "      <td>POLYGON ((-124.31556 40.53088, -124.31556 40.6...</td>\n",
       "      <td>2</td>\n",
       "      <td>0</td>\n",
       "      <td>47</td>\n",
       "      <td>175</td>\n",
       "      <td>0</td>\n",
       "      <td>1</td>\n",
       "      <td>2</td>\n",
       "      <td>10</td>\n",
       "      <td>6</td>\n",
       "      <td>...</td>\n",
       "      <td>8</td>\n",
       "      <td>0</td>\n",
       "      <td>11</td>\n",
       "      <td>0</td>\n",
       "      <td>0</td>\n",
       "      <td>0</td>\n",
       "      <td>7</td>\n",
       "      <td>0</td>\n",
       "      <td>20</td>\n",
       "      <td>0</td>\n",
       "    </tr>\n",
       "    <tr>\n",
       "      <th>3</th>\n",
       "      <td>POLYGON ((-124.21556 40.13088, -124.21556 40.2...</td>\n",
       "      <td>3</td>\n",
       "      <td>0</td>\n",
       "      <td>51</td>\n",
       "      <td>183</td>\n",
       "      <td>0</td>\n",
       "      <td>2</td>\n",
       "      <td>7</td>\n",
       "      <td>25</td>\n",
       "      <td>13</td>\n",
       "      <td>...</td>\n",
       "      <td>5</td>\n",
       "      <td>0</td>\n",
       "      <td>8</td>\n",
       "      <td>0</td>\n",
       "      <td>0</td>\n",
       "      <td>0</td>\n",
       "      <td>4</td>\n",
       "      <td>0</td>\n",
       "      <td>12</td>\n",
       "      <td>0</td>\n",
       "    </tr>\n",
       "    <tr>\n",
       "      <th>4</th>\n",
       "      <td>POLYGON ((-124.21556 40.23088, -124.21556 40.3...</td>\n",
       "      <td>4</td>\n",
       "      <td>0</td>\n",
       "      <td>49</td>\n",
       "      <td>183</td>\n",
       "      <td>0</td>\n",
       "      <td>2</td>\n",
       "      <td>6</td>\n",
       "      <td>21</td>\n",
       "      <td>11</td>\n",
       "      <td>...</td>\n",
       "      <td>6</td>\n",
       "      <td>0</td>\n",
       "      <td>9</td>\n",
       "      <td>0</td>\n",
       "      <td>0</td>\n",
       "      <td>0</td>\n",
       "      <td>5</td>\n",
       "      <td>0</td>\n",
       "      <td>14</td>\n",
       "      <td>0</td>\n",
       "    </tr>\n",
       "  </tbody>\n",
       "</table>\n",
       "<p>5 rows × 5015 columns</p>\n",
       "</div>"
      ],
      "text/plain": [
       "                                            geometry  grid_id  prob_4911  \\\n",
       "0  POLYGON ((-124.31556 40.33088, -124.31556 40.4...        0          0   \n",
       "1  POLYGON ((-124.31556 40.43088, -124.31556 40.5...        1          0   \n",
       "2  POLYGON ((-124.31556 40.53088, -124.31556 40.6...        2          0   \n",
       "3  POLYGON ((-124.21556 40.13088, -124.21556 40.2...        3          0   \n",
       "4  POLYGON ((-124.21556 40.23088, -124.21556 40.3...        4          0   \n",
       "\n",
       "   prob_4915  prob_4922  prob_4923  prob_2329  prob_4927  prob_4930  \\\n",
       "0         45        173          0          1          4         15   \n",
       "1         46        174          0          1          3         12   \n",
       "2         47        175          0          1          2         10   \n",
       "3         51        183          0          2          7         25   \n",
       "4         49        183          0          2          6         21   \n",
       "\n",
       "   prob_4382  ...  prob_16770  prob_14228  prob_9006  prob_272  prob_16726  \\\n",
       "0          8  ...           6           0          9         0           0   \n",
       "1          7  ...           7           0         10         0           0   \n",
       "2          6  ...           8           0         11         0           0   \n",
       "3         13  ...           5           0          8         0           0   \n",
       "4         11  ...           6           0          9         0           0   \n",
       "\n",
       "   prob_17029  prob_8230  prob_15877  prob_13366  prob_16533  \n",
       "0           0          5           0          16           0  \n",
       "1           0          6           0          18           0  \n",
       "2           0          7           0          20           0  \n",
       "3           0          4           0          12           0  \n",
       "4           0          5           0          14           0  \n",
       "\n",
       "[5 rows x 5015 columns]"
      ]
     },
     "execution_count": 88,
     "metadata": {},
     "output_type": "execute_result"
    }
   ],
   "source": [
    "kde_gdf.head()"
   ]
  },
  {
   "cell_type": "code",
   "execution_count": 89,
   "id": "4da6a9cc-4dbe-4233-8706-522434a69351",
   "metadata": {},
   "outputs": [
    {
     "name": "stderr",
     "output_type": "stream",
     "text": [
      "2022-11-25 23:00:50,572 - distributed.client - ERROR - Failed to reconnect to scheduler after 30.00 seconds, closing client\n",
      "Exception in callback None()\n",
      "handle: <Handle cancelled>\n",
      "Traceback (most recent call last):\n",
      "  File \"/srv/conda/envs/notebook/lib/python3.9/site-packages/tornado/iostream.py\", line 1391, in _do_ssl_handshake\n",
      "    self.socket.do_handshake()\n",
      "  File \"/srv/conda/envs/notebook/lib/python3.9/ssl.py\", line 1310, in do_handshake\n",
      "    self._sslobj.do_handshake()\n",
      "ssl.SSLEOFError: EOF occurred in violation of protocol (_ssl.c:1129)\n",
      "\n",
      "During handling of the above exception, another exception occurred:\n",
      "\n",
      "Traceback (most recent call last):\n",
      "  File \"/srv/conda/envs/notebook/lib/python3.9/asyncio/events.py\", line 80, in _run\n",
      "    self._context.run(self._callback, *self._args)\n",
      "  File \"/srv/conda/envs/notebook/lib/python3.9/site-packages/tornado/platform/asyncio.py\", line 189, in _handle_events\n",
      "    handler_func(fileobj, events)\n",
      "  File \"/srv/conda/envs/notebook/lib/python3.9/site-packages/tornado/iostream.py\", line 696, in _handle_events\n",
      "    self._handle_read()\n",
      "  File \"/srv/conda/envs/notebook/lib/python3.9/site-packages/tornado/iostream.py\", line 1478, in _handle_read\n",
      "    self._do_ssl_handshake()\n",
      "  File \"/srv/conda/envs/notebook/lib/python3.9/site-packages/tornado/iostream.py\", line 1400, in _do_ssl_handshake\n",
      "    return self.close(exc_info=err)\n",
      "  File \"/srv/conda/envs/notebook/lib/python3.9/site-packages/tornado/iostream.py\", line 611, in close\n",
      "    self._signal_closed()\n",
      "  File \"/srv/conda/envs/notebook/lib/python3.9/site-packages/tornado/iostream.py\", line 641, in _signal_closed\n",
      "    self._ssl_connect_future.exception()\n",
      "asyncio.exceptions.CancelledError\n",
      "Exception in callback None()\n",
      "handle: <Handle cancelled>\n",
      "Traceback (most recent call last):\n",
      "  File \"/srv/conda/envs/notebook/lib/python3.9/site-packages/tornado/iostream.py\", line 1391, in _do_ssl_handshake\n",
      "    self.socket.do_handshake()\n",
      "  File \"/srv/conda/envs/notebook/lib/python3.9/ssl.py\", line 1310, in do_handshake\n",
      "    self._sslobj.do_handshake()\n",
      "ssl.SSLEOFError: EOF occurred in violation of protocol (_ssl.c:1129)\n",
      "\n",
      "During handling of the above exception, another exception occurred:\n",
      "\n",
      "Traceback (most recent call last):\n",
      "  File \"/srv/conda/envs/notebook/lib/python3.9/asyncio/events.py\", line 80, in _run\n",
      "    self._context.run(self._callback, *self._args)\n",
      "  File \"/srv/conda/envs/notebook/lib/python3.9/site-packages/tornado/platform/asyncio.py\", line 189, in _handle_events\n",
      "    handler_func(fileobj, events)\n",
      "  File \"/srv/conda/envs/notebook/lib/python3.9/site-packages/tornado/iostream.py\", line 696, in _handle_events\n",
      "    self._handle_read()\n",
      "  File \"/srv/conda/envs/notebook/lib/python3.9/site-packages/tornado/iostream.py\", line 1478, in _handle_read\n",
      "    self._do_ssl_handshake()\n",
      "  File \"/srv/conda/envs/notebook/lib/python3.9/site-packages/tornado/iostream.py\", line 1400, in _do_ssl_handshake\n",
      "    return self.close(exc_info=err)\n",
      "  File \"/srv/conda/envs/notebook/lib/python3.9/site-packages/tornado/iostream.py\", line 611, in close\n",
      "    self._signal_closed()\n",
      "  File \"/srv/conda/envs/notebook/lib/python3.9/site-packages/tornado/iostream.py\", line 641, in _signal_closed\n",
      "    self._ssl_connect_future.exception()\n",
      "asyncio.exceptions.CancelledError\n"
     ]
    }
   ],
   "source": [
    "filename = \"geolifeclef_ca_0.1deg_kde_1deg.pkl\"\n",
    "filename = PKL_PATH + filename\n",
    "kde_gdf.to_pickle(filename)\n"
   ]
  },
  {
   "cell_type": "markdown",
   "id": "2097e546-d494-49a5-b58e-10721b6ef585",
   "metadata": {
    "tags": []
   },
   "source": [
    "## Test reading back feather file"
   ]
  },
  {
   "cell_type": "code",
   "execution_count": 81,
   "id": "c84da9cd-1049-4901-a563-55ea4da3949f",
   "metadata": {},
   "outputs": [],
   "source": [
    "chosen_id = 4911\n",
    "col_name = 'prob_{}'.format(chosen_id)\n",
    "\n",
    "kde_gdf_unpkl = pd.read_pickle(filename)\n"
   ]
  },
  {
   "cell_type": "code",
   "execution_count": 83,
   "id": "66fc81bc-73c8-48f7-8276-0b1e531ebcf7",
   "metadata": {},
   "outputs": [
    {
     "data": {
      "text/plain": [
       "geopandas.geodataframe.GeoDataFrame"
      ]
     },
     "execution_count": 83,
     "metadata": {},
     "output_type": "execute_result"
    }
   ],
   "source": [
    "type(kde_gdf_unpkl)"
   ]
  },
  {
   "cell_type": "code",
   "execution_count": 86,
   "id": "b4e4ea13-6ed0-4a40-8e34-11d56e7b42ce",
   "metadata": {},
   "outputs": [
    {
     "data": {
      "image/png": "[encoded data removed]",
      "text/plain": [
       "<Figure size 1000x1000 with 2 Axes>"
      ]
     },
     "metadata": {},
     "output_type": "display_data"
    }
   ],
   "source": [
    "col_name = 'prob_{}'.format(chosen_id)\n",
    "\n",
    "fig, ax = plt.subplots(figsize=(10,10))\n",
    "kde_gdf_unpkl.plot(ax=ax, column=col_name, edgecolor = 'none', legend=True, cmap='jet', legend_kwds={'shrink': 0.5})\n",
    "ca_map.plot(ax=ax,  color='none', edgecolor='white')\n",
    "train_gdf[train_gdf.species_id == chosen_id].plot(ax=ax, marker='+', markersize=5, color='white')\n",
    "plt.show()"
   ]
  },
  {
   "cell_type": "markdown",
   "id": "6fe793c2-bdb5-4931-8ec1-7d258006cded",
   "metadata": {
    "jp-MarkdownHeadingCollapsed": true,
    "tags": []
   },
   "source": [
    "### If we wanted to save a new file for every batch for memory reasons, we would use this\n",
    "\n",
    "[[UNTESTED]]"
   ]
  },
  {
   "cell_type": "code",
   "execution_count": null,
   "id": "ba11256a-cc70-4454-90e8-c0200215e23d",
   "metadata": {
    "tags": []
   },
   "outputs": [],
   "source": [
    "# import warnings\n",
    "# warnings.filterwarnings('ignore')\n",
    "\n",
    "\n",
    "# for i, batch in enumerate(kde_grids[0]):\n",
    "#     # print (i)\n",
    "#     kde_gdf = obs_usa.grid_gd.copy()\n",
    "#     filename = \"geolifeclef_usa_0.5deg_kde\"\n",
    "    \n",
    "#     for j, kde in enumerate(batch[0]):\n",
    "#         # print(j)\n",
    "#         class_index = inc*i + j\n",
    "#         chosen_id = obs_usa.class_list[class_index]\n",
    "#         col_name = 'prob_{}'.format(chosen_id)\n",
    "#         # print(col_name)\n",
    "#         kde_gdf[col_name] = kde\n",
    "#         # print (type(kde))\n",
    "#     save_gdf()\n",
    "        "
   ]
  },
  {
   "cell_type": "markdown",
   "id": "6cc11a2b-048e-411b-b422-e96782acf04e",
   "metadata": {},
   "source": [
    "## Memory cleanup"
   ]
  },
  {
   "cell_type": "code",
   "execution_count": 27,
   "id": "c690e490-5866-4294-9704-1d797d6d407e",
   "metadata": {
    "collapsed": true,
    "jupyter": {
     "outputs_hidden": true
    },
    "tags": []
   },
   "outputs": [
    {
     "name": "stdout",
     "output_type": "stream",
     "text": [
      "Variable                      Type              Data/Info\n",
      "---------------------------------------------------------\n",
      "BUCKET_NAME                   str               datasets-sdm\n",
      "DATASET_PATH                  str               ../data/full_dataset.csv\n",
      "KDTree                        type              <class 'sklearn.neighbors._kd_tree.KDTree'>\n",
      "KernelDensity                 type              <class 'sklearn.neighbors._kde.KernelDensity'>\n",
      "Observations                  type              <class 'grid_dask.Observations'>\n",
      "Polygon                       type              <class 'shapely.geometry.polygon.Polygon'>\n",
      "RASTER_PATH                   str               ../data/rasters/\n",
      "batch                         list              n=1\n",
      "batches                       list              n=48\n",
      "box                           function          <function box at 0x7fa0f1b33910>\n",
      "check_for_existing_clusters   function          <function check_for_exist<...>usters at 0x7fa0d0eab010>\n",
      "chosen_id                     int64             272\n",
      "class_index                   int               14123\n",
      "classes                       ndarray           24: 24 elems, type `int64`, 192 bytes\n",
      "client                        Client            <Client: 'tls://10.244.15<...>eads=33, memory=1.03 TiB>\n",
      "cluster                       GatewayCluster    GatewayCluster<prod.dde38<...>f755cb61, status=running>\n",
      "cluster_options               Options           <dask_gateway.options.Opt<...>object at 0x7fa0d0ea21d0>\n",
      "col_name                      str               prob_272\n",
      "continental_bounds            Polygon           POLYGON ((-130 50, -60 50<...>60 20, -130 20, -130 50))\n",
      "dashboard                     function          <function dashboard at 0x7fa0d0eb4280>\n",
      "dask                          module            <module 'dask' from '/srv<...>ckages/dask/__init__.py'>\n",
      "dask_gateway                  module            <module 'dask_gateway' fr<...>ask_gateway/__init__.py'>\n",
      "folder                        str               geoLifeCLEF/observations\n",
      "gateway                       Gateway           Gateway<http://proxy-http<...>te/services/dask-gateway>\n",
      "gpd                           module            <module 'geopandas' from <...>s/geopandas/__init__.py'>\n",
      "grid_res                      float             0.1\n",
      "i                             int               47\n",
      "inc                           int               300\n",
      "j                             int               23\n",
      "kde                           ndarray           85149: 85149 elems, type `float64`, 681192 bytes (665.2265625 kb)\n",
      "kde_gdf                       GeoDataFrame                               <...>149 rows x 14126 columns]\n",
      "kde_grids                     tuple             n=1\n",
      "kernel_per_species            function          <function kernel_per_species at 0x7fa0ebd47d90>\n",
      "math                          module            <module 'math' from '/srv<...>310-x86_64-linux-gnu.so'>\n",
      "np                            module            <module 'numpy' from '/sr<...>kages/numpy/__init__.py'>\n",
      "obs_usa                       Observations      <grid_dask.Observations object at 0x7fa0eaf3f190>\n",
      "pd                            module            <module 'pandas' from '/s<...>ages/pandas/__init__.py'>\n",
      "plt                           module            <module 'matplotlib.pyplo<...>es/matplotlib/pyplot.py'>\n",
      "result_batch                  list              n=1\n",
      "s3_train_path                 str               s3://datasets-sdm/geoLife<...>observations_us_train.csv\n",
      "s3fs                          module            <module 's3fs' from '/srv<...>ckages/s3fs/__init__.py'>\n",
      "set_classes                   function          <function set_classes at 0x7fa0d194bd00>\n",
      "setup_dask_cluster            function          <function setup_dask_cluster at 0x7fa0d0eb4310>\n",
      "shutdown_all_clusters         function          <function shutdown_all_cl<...>usters at 0x7fa0d0eb43a0>\n",
      "test_file                     str               observations_us_test.csv\n",
      "total_classes                 int               14124\n",
      "tqdm                          type              <class 'tqdm.std.tqdm'>\n",
      "train_df                      DataFrame                 observation_id   <...>[931132 rows x 6 columns]\n",
      "train_file                    str               observations_us_train.csv\n",
      "usa                           GeoDataFrame             pop_est      conti<...>000, -117.03121 49.0...  \n",
      "val_df                        DataFrame                 observation_id   <...>n[25099 rows x 5 columns]\n",
      "warnings                      module            <module 'warnings' from '<...>/python3.10/warnings.py'>\n",
      "world                         GeoDataFrame               pop_est      con<...>n\\n[177 rows x 6 columns]\n",
      "world_filepath                str               /srv/conda/envs/notebook/<...>s/naturalearth_lowres.shp\n"
     ]
    }
   ],
   "source": [
    "%whos"
   ]
  },
  {
   "cell_type": "code",
   "execution_count": 67,
   "id": "dcbdcdb0-e46a-401c-83c2-79092e350dc6",
   "metadata": {},
   "outputs": [],
   "source": [
    "kde_grids = None\n",
    "obs_usa = None\n",
    "kde = None"
   ]
  },
  {
   "cell_type": "code",
   "execution_count": 72,
   "id": "eba45ee3-cb2c-4f49-8807-d986f1684bab",
   "metadata": {},
   "outputs": [
    {
     "data": {
      "text/plain": [
       "565"
      ]
     },
     "execution_count": 72,
     "metadata": {},
     "output_type": "execute_result"
    }
   ],
   "source": [
    "import gc \n",
    "gc.collect()"
   ]
  },
  {
   "cell_type": "code",
   "execution_count": 68,
   "id": "1b1c99bd-2007-4a23-abc2-38271d1e4823",
   "metadata": {},
   "outputs": [],
   "source": [
    "del kde, kde_grids"
   ]
  },
  {
   "cell_type": "code",
   "execution_count": 71,
   "id": "ae77da0c-6101-4059-a4ed-fb4ee8520784",
   "metadata": {},
   "outputs": [],
   "source": [
    "del batches, batch"
   ]
  },
  {
   "cell_type": "markdown",
   "id": "f83acb55-fd97-432d-80a4-df3daca955f6",
   "metadata": {},
   "source": [
    "# Test Stuff"
   ]
  },
  {
   "cell_type": "markdown",
   "id": "ce790b3c-92fe-4bb2-bb54-0f6e8327313e",
   "metadata": {
    "jp-MarkdownHeadingCollapsed": true,
    "tags": []
   },
   "source": [
    "### TEST Displays\n",
    "Let's take species ID: 115, that has 723 observations across the USA"
   ]
  },
  {
   "cell_type": "code",
   "execution_count": null,
   "id": "0503159e-721d-426d-9145-cb0f154a4493",
   "metadata": {},
   "outputs": [],
   "source": [
    "chosen_id = 115\n",
    "obs_usa.kernel_per_species(True, chosen_id=chosen_id, radius=1.0, kernel='gaussian', cumulative=True)"
   ]
  },
  {
   "cell_type": "code",
   "execution_count": null,
   "id": "31e38838-cde8-4542-9943-fb89c0cd740c",
   "metadata": {},
   "outputs": [],
   "source": [
    "obs_usa.grid_kde"
   ]
  },
  {
   "cell_type": "code",
   "execution_count": null,
   "id": "14351401-5d33-46da-8607-a9d41977eff9",
   "metadata": {},
   "outputs": [],
   "source": [
    "kernels = obs_usa.grid_kde"
   ]
  },
  {
   "cell_type": "code",
   "execution_count": null,
   "id": "332c08ec-a456-407e-9de6-6c0db14545ff",
   "metadata": {},
   "outputs": [],
   "source": [
    "col_name = 'prob_{}'.format(chosen_id)\n",
    "\n",
    "fig, ax = plt.subplots(figsize=(10,10))\n",
    "kernels.plot(ax=ax, column=col_name, edgecolor = 'none', alpha = 1, legend=True, cmap='jet', legend_kwds={'shrink': 0.5})\n",
    "usa.plot(ax=ax,  color='none')\n",
    "train_gdf[train_gdf.species_id == chosen_id].plot(ax=ax, marker='+', markersize=5, color='white')\n",
    "plt.show()"
   ]
  },
  {
   "cell_type": "markdown",
   "id": "f474072d-ae19-45d9-a635-a7cb15352ef6",
   "metadata": {},
   "source": [
    "#### Let's do a few more and make it cumulative"
   ]
  },
  {
   "cell_type": "code",
   "execution_count": null,
   "id": "0114f7a4-b4b7-4f89-820f-b9cc73d97fa2",
   "metadata": {},
   "outputs": [],
   "source": [
    "chosen_id = 4911\n",
    "obs_usa.kernel_per_species(True, chosen_id=chosen_id, radius=1.3, kernel='epanechnikov', cumulative=True)\n"
   ]
  },
  {
   "cell_type": "code",
   "execution_count": null,
   "id": "9aa9db8e-2489-42b7-a2ad-1908eee45cba",
   "metadata": {},
   "outputs": [],
   "source": [
    "chosen_id = 46\n",
    "obs_usa.kernel_per_species(True, chosen_id=chosen_id, radius=2.0, kernel='linear', cumulative=True)"
   ]
  },
  {
   "cell_type": "code",
   "execution_count": null,
   "id": "eceb5c3d-dd1a-41af-85c6-374f6f7f8f48",
   "metadata": {},
   "outputs": [],
   "source": [
    "obs_usa.grid_kde"
   ]
  },
  {
   "cell_type": "code",
   "execution_count": null,
   "id": "2cdd2fdf-7a1b-494c-9bb8-0d988bd526c9",
   "metadata": {},
   "outputs": [],
   "source": [
    "kernels = obs_usa.grid_kde.clip(usa).reset_index(drop=True)\n",
    "\n",
    "col_name = 'prob_{}'.format(chosen_id)\n",
    "\n",
    "fig, ax = plt.subplots(figsize=(10,10))\n",
    "kernels.plot(ax=ax, column=col_name, edgecolor = 'none', alpha = 1, legend=True, cmap='jet', legend_kwds={'shrink': 0.5})\n",
    "usa.plot(ax=ax,  color='none')\n",
    "train_gdf[train_gdf.species_id == chosen_id].plot(ax=ax, marker='+', markersize=5, color='white')\n",
    "ax.set_title('Probability Field of Species {}'.format(chosen_id))\n",
    "plt.show()"
   ]
  },
  {
   "cell_type": "code",
   "execution_count": null,
   "id": "6294095c-00d4-4f1f-b0f4-34e5484397cb",
   "metadata": {},
   "outputs": [],
   "source": [
    "obs_usa.clear_kde()"
   ]
  },
  {
   "cell_type": "markdown",
   "id": "6b0f4ed7-674b-4660-8f56-b4063f92a8b2",
   "metadata": {
    "jp-MarkdownHeadingCollapsed": true,
    "tags": []
   },
   "source": [
    "## Test Dask Clusters"
   ]
  },
  {
   "cell_type": "code",
   "execution_count": null,
   "id": "8d77b855-da54-4bcc-9b11-84a02ffff85f",
   "metadata": {},
   "outputs": [],
   "source": [
    "import time, random"
   ]
  },
  {
   "cell_type": "code",
   "execution_count": null,
   "id": "3396b12d-c4ec-4225-b29f-9d97519a5f94",
   "metadata": {},
   "outputs": [],
   "source": [
    "@dask.delayed\n",
    "def inc(x,n):\n",
    "    time.sleep(random.random())\n",
    "    return x ** n\n",
    "@dask.delayed\n",
    "def dec(x,n):\n",
    "    time.sleep(random.random())\n",
    "    return x ** (1/n)\n",
    "@dask.delayed\n",
    "def add(x, y):\n",
    "    time.sleep(random.random())\n",
    "    return x + y"
   ]
  },
  {
   "cell_type": "code",
   "execution_count": null,
   "id": "6bf6e94b-4154-4203-81d5-ddf8214578b0",
   "metadata": {},
   "outputs": [],
   "source": [
    "%%time\n",
    "\n",
    "def compound(w,n):\n",
    "    zs = []\n",
    "    for i in range(1,n):\n",
    "        x = inc(w,i)\n",
    "        y = dec(w,i)\n",
    "        z = add(x, y)\n",
    "        zs.append(z)\n",
    "        \n",
    "    return zs"
   ]
  },
  {
   "cell_type": "code",
   "execution_count": null,
   "id": "014b48b4-04d8-444f-afcf-f8330bd05744",
   "metadata": {},
   "outputs": [],
   "source": [
    "%%time\n",
    "#zs = dask.persist(*zs)  # trigger computation in the background\n",
    "\n",
    "x = np.random.rand(30,30) # some large array\n",
    "# x = dask.delayed(x) #need to delay array also\n",
    "zs = dask.compute(compound(x,100))"
   ]
  },
  {
   "cell_type": "code",
   "execution_count": null,
   "id": "799f9c4a-f095-4775-a985-f34bd9ed8dc7",
   "metadata": {},
   "outputs": [],
   "source": []
  }
 ],
 "metadata": {
  "kernelspec": {
   "display_name": "Python 3 (ipykernel)",
   "language": "python",
   "name": "python3"
  },
  "language_info": {
   "codemirror_mode": {
    "name": "ipython",
    "version": 3
   },
   "file_extension": ".py",
   "mimetype": "text/x-python",
   "name": "python",
   "nbconvert_exporter": "python",
   "pygments_lexer": "ipython3",
   "version": "3.9.13"
  }
 },
 "nbformat": 4,
 "nbformat_minor": 5
}
