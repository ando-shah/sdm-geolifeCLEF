{
 "cells": [
  {
   "cell_type": "code",
   "execution_count": 1,
   "id": "fac2b2ec-cb02-41cb-bc4d-13e90d00e9cc",
   "metadata": {},
   "outputs": [
    {
     "name": "stdout",
     "output_type": "stream",
     "text": [
      "/home/jovyan/sdm-geolifeCLEF/models\n",
      "/home/jovyan/sdm-geolifeCLEF/raster\n",
      "/home/jovyan/sdm-geolifeCLEF/training\n",
      "/srv/conda/envs/notebook/lib/python39.zip\n",
      "/srv/conda/envs/notebook/lib/python3.9\n",
      "/srv/conda/envs/notebook/lib/python3.9/lib-dynload\n",
      "\n",
      "/srv/conda/envs/notebook/lib/python3.9/site-packages\n",
      "/home/jovyan/sdm-geolifeCLEF/training\n"
     ]
    }
   ],
   "source": [
    "import warnings\n",
    "import time\n",
    "import os\n",
    "\n",
    "import numpy as np\n",
    "import pandas as pd\n",
    "import matplotlib.pyplot as plt\n",
    "\n",
    "import torch\n",
    "import torchvision.transforms as T\n",
    "\n",
    "# from dask.distributed import Client\n",
    "# from dask_gateway import GatewayCluster\n",
    "\n",
    "import pystac_client\n",
    "import planetary_computer as pc\n",
    "\n",
    "\n",
    "import sys\n",
    "import os\n",
    "\n",
    "current_folder = os.getcwd()\n",
    "sys.path.insert(0, '/home/jovyan/sdm-geolifeCLEF/raster')\n",
    "sys.path.insert(0, '/home/jovyan/sdm-geolifeCLEF/models')\n",
    "\n",
    "# from inception_env import InceptionEnv\n",
    "from inception_env_deneu import InceptionEnv\n",
    "\n",
    "from torch.optim.lr_scheduler import MultiStepLR, CosineAnnealingLR\n",
    "\n",
    "import sys\n",
    "for path in sys.path:\n",
    "    print(path)\n",
    "print(current_folder)    "
   ]
  },
  {
   "cell_type": "code",
   "execution_count": 2,
   "id": "2aba7b9b-c0bb-4c5a-bb17-0a31dc61e731",
   "metadata": {},
   "outputs": [
    {
     "data": {
      "text/plain": [
       "'1.12.1.post200'"
      ]
     },
     "execution_count": 2,
     "metadata": {},
     "output_type": "execute_result"
    }
   ],
   "source": [
    "torch.__version__"
   ]
  },
  {
   "cell_type": "code",
   "execution_count": 3,
   "id": "ac8305fd-de20-43c1-8f6f-2f3f0d1e3fa2",
   "metadata": {},
   "outputs": [],
   "source": [
    "%load_ext autoreload"
   ]
  },
  {
   "cell_type": "code",
   "execution_count": 4,
   "id": "608a5001-6148-4163-91fe-42e8e01127f3",
   "metadata": {},
   "outputs": [],
   "source": [
    "%autoreload 2\n",
    "from zarr_dataset import Zarr_Dataset"
   ]
  },
  {
   "cell_type": "markdown",
   "id": "ee5e9449-ad89-4b29-818a-858630005983",
   "metadata": {
    "tags": []
   },
   "source": [
    "# Read Zarr Dataset"
   ]
  },
  {
   "cell_type": "markdown",
   "id": "e6f6527c-262d-4b57-8ad0-75f8b697e472",
   "metadata": {},
   "source": [
    "## KDE"
   ]
  },
  {
   "cell_type": "code",
   "execution_count": 5,
   "id": "196a6752-b281-4f12-ba34-d7fe7c505347",
   "metadata": {},
   "outputs": [
    {
     "name": "stdout",
     "output_type": "stream",
     "text": [
      "Train paths:  /dev/shm/features/train_ca_6000m_64px_features.zarr /dev/shm/labels/train_ca_0.05deg_kde_0.1deg_ep_labels.zarr\n",
      "Val paths  :  None None\n"
     ]
    }
   ],
   "source": [
    "LOCAL_FILES = True\n",
    "\n",
    "BUCKET_NAME = 'datasets-sdm'\n",
    "folder_f = 'geoLifeCLEF/features'\n",
    "folder_l = 'geoLifeCLEF/labels'\n",
    "# s3://datasets-sdm/geoLifeCLEF/features/\n",
    "filename_train_f = 'train_ca_6000m_64px_features.zarr'\n",
    "filename_train_l = 'geolifeclef_ca_0.05deg_kde_0.1deg_epanechnikov.zarr'\n",
    "filename_val_f   = 'val_ca.zarr'\n",
    "filename_val_l   = 'ca_val_obs_val.zarr'\n",
    "s3_train_path_f  = 's3://{}/{}/{}'.format(BUCKET_NAME, folder_f, filename_train_f)\n",
    "s3_train_path_l  = 's3://{}/{}/{}'.format(BUCKET_NAME, folder_l, filename_train_l)\n",
    "s3_val_path_f    = 's3://{}/{}/{}'.format(BUCKET_NAME, folder_f, filename_val_f)\n",
    "s3_val_path_l    = 's3://{}/{}/{}'.format(BUCKET_NAME, folder_l, filename_val_l)\n",
    "\n",
    "local_val_path = '../data/val_ca.zarr'\n",
    "local_train_path_f = '../data/features/train_ca_6000m_64px_features.zarr'\n",
    "local_train_path_l = '../data/labels/train_ca_0.05deg_kde_0.1deg_ep_labels.zarr'\n",
    "# local_train_path_l = '../data/labels/train_ca_0.05deg_kde_0.5deg_ep_labels.zarr'\n",
    "#Trial: stored on /dev/shm\n",
    "local_train_path_f = '/dev/shm/features/train_ca_6000m_64px_features.zarr'\n",
    "# local_train_path_l = '/dev/shm/labels/train_ca_0.05deg_kde_0.5deg_ep_labels.zarr'\n",
    "local_train_path_l = '/dev/shm/labels/train_ca_0.05deg_kde_0.1deg_ep_labels.zarr'\n",
    "\n",
    "local_val_path_f = None\n",
    "local_val_path_l = None\n",
    "\n",
    "if LOCAL_FILES:\n",
    "    train_path_f, train_path_l = local_train_path_f, local_train_path_l\n",
    "    val_path_f, val_path_l = local_val_path_f, local_val_path_l\n",
    "else:\n",
    "    train_path_f, train_path_l = s3_train_path_f, s3_train_path_l\n",
    "    val_path_f, val_path_l = s3_val_path_f, s3_val_path_l\n",
    "    \n",
    "\n",
    "\n",
    "# s3_example_path = 's3://{}/{}/example.zarr'.format(BUCKET_NAME, folder_f)\n",
    "\n",
    "print(\"Train paths: \", train_path_f, train_path_l)\n",
    "print(\"Val paths  : \", val_path_f, val_path_l)"
   ]
  },
  {
   "cell_type": "markdown",
   "id": "4a2db1a0-c9bb-4af9-876c-8070b9f14e45",
   "metadata": {
    "tags": []
   },
   "source": [
    "## Setup Train dataset and dataloader"
   ]
  },
  {
   "cell_type": "code",
   "execution_count": 6,
   "id": "563c9cea-a529-4200-a1d1-2aa052f71cbd",
   "metadata": {},
   "outputs": [],
   "source": [
    "# train_dataset = Zarr_Dataset(s3_train_path)\n",
    "train_dataset = Zarr_Dataset(filepath_f=train_path_f, filepath_l=train_path_l)"
   ]
  },
  {
   "cell_type": "code",
   "execution_count": 7,
   "id": "8dc0ca63-6ed0-4996-82a6-55194899afe0",
   "metadata": {},
   "outputs": [
    {
     "name": "stdout",
     "output_type": "stream",
     "text": [
      "Features:\n",
      "  Type               : zarr.core.Array\n",
      "Data type          : object\n",
      "Shape              : (17173,)\n",
      "Chunk shape        : (1,)\n",
      "Order              : C\n",
      "Read-only          : True\n",
      "Filter [0]         : Pickle(protocol=5)\n",
      "Compressor         : Blosc(cname='lz4', clevel=5, shuffle=SHUFFLE, blocksize=0)\n",
      "Synchronizer type  : zarr.sync.ThreadSynchronizer\n",
      "Store type         : zarr.storage.DirectoryStore\n",
      "No. bytes          : 137384 (134.2K)\n",
      "No. bytes stored   : 14156117517 (13.2G)\n",
      "Storage ratio      : 0.0\n",
      "Chunks initialized : 17173/17173\n",
      "\n",
      "Labels:\n",
      "  Type               : zarr.core.Array\n",
      "Data type          : object\n",
      "Shape              : (17173,)\n",
      "Chunk shape        : (1,)\n",
      "Order              : C\n",
      "Read-only          : True\n",
      "Filter [0]         : Pickle(protocol=5)\n",
      "Compressor         : Blosc(cname='lz4', clevel=5, shuffle=SHUFFLE, blocksize=0)\n",
      "Synchronizer type  : zarr.sync.ThreadSynchronizer\n",
      "Store type         : zarr.storage.DirectoryStore\n",
      "No. bytes          : 137384 (134.2K)\n",
      "No. bytes stored   : 27818965 (26.5M)\n",
      "Storage ratio      : 0.0\n",
      "Chunks initialized : 17173/17173\n",
      "\n"
     ]
    }
   ],
   "source": [
    "train_dataset.info()"
   ]
  },
  {
   "cell_type": "code",
   "execution_count": 8,
   "id": "7e5771e4-4a79-495b-b852-36193a72aaee",
   "metadata": {},
   "outputs": [
    {
     "data": {
      "text/plain": [
       "17173"
      ]
     },
     "execution_count": 8,
     "metadata": {},
     "output_type": "execute_result"
    }
   ],
   "source": [
    "len(train_dataset)"
   ]
  },
  {
   "cell_type": "markdown",
   "id": "34de5399-a023-434f-998e-0a346dca3279",
   "metadata": {
    "tags": []
   },
   "source": [
    "### Quick test"
   ]
  },
  {
   "cell_type": "code",
   "execution_count": 9,
   "id": "cca77894-231c-492b-8d26-0cae386df629",
   "metadata": {},
   "outputs": [],
   "source": [
    "p,t = train_dataset[13]"
   ]
  },
  {
   "cell_type": "code",
   "execution_count": 10,
   "id": "161542cd-584a-401a-9837-121b4b1f5a89",
   "metadata": {},
   "outputs": [
    {
     "data": {
      "image/png": "[encoded data removed]",
      "text/plain": [
       "<Figure size 640x480 with 2 Axes>"
      ]
     },
     "metadata": {},
     "output_type": "display_data"
    }
   ],
   "source": [
    "img = p[0:3,:,:]\n",
    "plt.imshow(img.permute(1, 2, 0))\n",
    "plt.colorbar()\n",
    "plt.show()"
   ]
  },
  {
   "cell_type": "code",
   "execution_count": 11,
   "id": "bbee57dd-fe1b-4fbf-a839-cb4a4565eb0f",
   "metadata": {},
   "outputs": [
    {
     "data": {
      "text/plain": [
       "(tensor(0.3929), tensor(0.))"
      ]
     },
     "execution_count": 11,
     "metadata": {},
     "output_type": "execute_result"
    },
    {
     "data": {
      "image/png": "[encoded data removed]",
      "text/plain": [
       "<Figure size 640x480 with 2 Axes>"
      ]
     },
     "metadata": {},
     "output_type": "display_data"
    }
   ],
   "source": [
    "idx = -5\n",
    "ped = p[idx].unsqueeze(dim=0)#-> Remove first dim (channel) \n",
    "plt.imshow(ped.permute(1, 2, 0))#, vmax=1.0)\n",
    "plt.colorbar()\n",
    "p[idx].max(), p[idx].min()"
   ]
  },
  {
   "cell_type": "code",
   "execution_count": 12,
   "id": "d40ebc2b-acf1-4f63-8749-22776bde0a21",
   "metadata": {},
   "outputs": [
    {
     "data": {
      "text/plain": [
       "(5079, 31)"
      ]
     },
     "execution_count": 12,
     "metadata": {},
     "output_type": "execute_result"
    }
   ],
   "source": [
    "demo = train_dataset[0]\n",
    "N_LABELS = demo[1].shape[0]\n",
    "N_INPUTS = demo[0].shape[0]\n",
    "N_LABELS, N_INPUTS"
   ]
  },
  {
   "cell_type": "markdown",
   "id": "e3006c1b-504f-4e09-b26f-6df009910ab5",
   "metadata": {
    "tags": []
   },
   "source": [
    "### Convenience functions"
   ]
  },
  {
   "cell_type": "code",
   "execution_count": 13,
   "id": "6db4960e-63cc-4326-b46e-c7a20592756b",
   "metadata": {},
   "outputs": [],
   "source": [
    "def AccuracyTopK(predictions, labels, k:int=30, one_hot:bool=True):\n",
    "\n",
    "    \"\"\"Returns a '1' for every time a value in the top-k of predicitons is present in the \n",
    "       top-k of labels. This is then normalized by the number of predictions\n",
    "       results can have a maximum value of 1.0\n",
    "       params:\n",
    "           - predictions: tensor of [batch_size, num_classes]\n",
    "           - labels: tensor of [batch_size, num_classes]\n",
    "    \"\"\"\n",
    "    \n",
    "    res = 0.\n",
    "    batch_size = labels.shape[0]\n",
    "    \n",
    "    \n",
    "    \n",
    "    for i, pred in enumerate(predictions):\n",
    "        top_k_preds = np.argpartition(pred,-k)[-k:]\n",
    "        \n",
    "        if not one_hot:\n",
    "            top_k_labels = np.argpartition(labels[i],-k)[-k:]\n",
    "\n",
    "            if top_k_preds in top_k_labels:\n",
    "                res += 1.\n",
    "        else:\n",
    "            # There's only one-winner for 1 hot encoded\n",
    "            # top_k_labels = np.argpartition(labels[i],-1)[-1:]\n",
    "            top_k_labels = np.argmax(labels[i])\n",
    "            \n",
    "            if top_k_labels in top_k_preds:\n",
    "                res += 1.\n",
    "  \n",
    "                \n",
    "    print(\"Accuracy [k={:}]      :\\t{:.3}%\".format(k,(res/labels.shape[0])*100.))\n",
    "    return res / labels.shape[0]\n",
    "\n",
    "def AccuracyTopKSpecies(predictions, labels, k:int=30, one_hot:bool=True):\n",
    "\n",
    "    \"\"\"Returns a '1' for every time a value in the top-k of predicitons is present in the \n",
    "       top-k of labels. This is then normalized by the number of predictions\n",
    "       results can have a maximum value of 1.0\n",
    "       params:\n",
    "           - predictions: tensor of [batch_size, num_classes]\n",
    "           - labels: tensor of [batch_size, num_classes]\n",
    "    \"\"\"\n",
    "    \n",
    "    total_count = 0.\n",
    "    \n",
    "    unique_species = []\n",
    "    occurence_species = []  #a list of lists that holds all the observation indexes (rows) for each species in unique_species\n",
    "    \n",
    "    \n",
    "    #Find all unique species index\n",
    "    for species_id, obs in enumerate(labels.T):\n",
    "        if obs.sum() > 0:\n",
    "            unique_species.append(species_id)\n",
    "            idxs = np.nonzero(obs)\n",
    "            occurence_species.append(idxs[0])\n",
    "\n",
    "        \n",
    "    num_species = len(unique_species)\n",
    "    \n",
    "    for i in range(num_species):\n",
    "        \n",
    "        species_count = 0.\n",
    "        #iterate over every occurence of that species\n",
    "        for j in occurence_species[i]:#j is the observation id \n",
    "            #calculate the top-K score for that observation\n",
    "            #Grab the predictions for that observation\n",
    "            pred = predictions[j]\n",
    "            top_k_preds = np.argpartition(pred,-k)[-k:]\n",
    "            label = np.argmax(labels[j])\n",
    "            \n",
    "            \n",
    "            if label in top_k_preds:\n",
    "                species_count += 1.\n",
    "        #Now normalize it by occurence of that species\n",
    "        species_count /= len(occurence_species[i])\n",
    "        total_count += species_count\n",
    "        \n",
    "    #All done, now normalize by unique species count\n",
    "    total_count /= num_species\n",
    "    \n",
    "    print(\"Accuracy [k={:},s={:}]:{:.3}%\".format(k,num_species,total_count*100.))\n",
    "    return total_count\n",
    "    \n"
   ]
  },
  {
   "cell_type": "code",
   "execution_count": 14,
   "id": "0fd44d4b-f2ef-43b1-9580-6b3a48d30765",
   "metadata": {},
   "outputs": [],
   "source": [
    "def predict(model, loader, device, batch_size, validation_size=-1, sig=True):\n",
    "    \"\"\"\n",
    "        Give the prediction of the model on a test set\n",
    "        :param model: the model\n",
    "        :param test_loader: the test set loader\n",
    "        :param validation_size: number of occurrences for the validation\n",
    "    \"\"\"\n",
    "    \n",
    "    validation_size = validation_size / batch_size if validation_size > -1 else -1\n",
    "    \n",
    "    with torch.no_grad():\n",
    "        \n",
    "        model.eval()\n",
    "\n",
    "        y_preds = None\n",
    "        y_labels = None\n",
    "        count = 0\n",
    "        \n",
    "        for inputs, labels in tqdm(loader, leave=False):\n",
    "            \n",
    "            # y_labels.extend(labels)\n",
    "            if y_labels is not None:\n",
    "                y_labels = np.vstack((y_labels, labels.data.numpy()))\n",
    "            else:\n",
    "                y_labels = labels.data.numpy()\n",
    "                \n",
    "            \n",
    "            # inputs, labels = inputs.type(torch.cuda.FloatTensor).to(device), labels.to(device)\n",
    "            inputs, labels = inputs.to(device), labels.to(device)\n",
    "            \n",
    "            output_batch = model(inputs)\n",
    "            \n",
    "            if sig:\n",
    "                output_batch = torch.sigmoid(output_batch)\n",
    "            \n",
    "            output_batch = output_batch.data.cpu().numpy()\n",
    "            \n",
    "                \n",
    "            if y_preds is not None:\n",
    "                y_preds = np.vstack((y_preds, output_batch))\n",
    "            else:\n",
    "                y_preds = output_batch\n",
    "            \n",
    "\n",
    "            count += 1\n",
    "            if validation_size > -1 and count >= validation_size:\n",
    "                break\n",
    "       \n",
    "\n",
    "    return y_preds, y_labels"
   ]
  },
  {
   "cell_type": "code",
   "execution_count": 15,
   "id": "0c8a74d2-d370-454d-9e9d-060c6d56b46c",
   "metadata": {},
   "outputs": [],
   "source": [
    "from tqdm.notebook import tqdm\n",
    "\n",
    "def validate (num_epochs, model, device, loader, batch_size=32, validation_size=-1, top_k=[30], sig=True):\n",
    "    \n",
    "    #List to send back, one entry per K\n",
    "    topK_counts = []\n",
    "    topKSpecies_counts =[]\n",
    "    \n",
    "    for epoch in tqdm(range(num_epochs)):\n",
    "\n",
    "        predictions, labels = predict(model, loader, device, batch_size, validation_size, sig=sig)\n",
    "\n",
    "        for k in top_k:\n",
    "            topK_counts.append(AccuracyTopK(predictions, labels, k))\n",
    "            topKSpecies_counts.append(AccuracyTopKSpecies(predictions, labels, k))\n",
    "        \n",
    "    return (topK_counts, topKSpecies_counts)\n",
    "        "
   ]
  },
  {
   "cell_type": "code",
   "execution_count": 16,
   "id": "b28a739a-1e19-4b07-a934-bc0f328eeefa",
   "metadata": {},
   "outputs": [],
   "source": [
    "import datetime\n",
    "\n",
    "def save_model(model, optimizer, completed_epochs, scores):\n",
    "    \n",
    "    date = datetime.datetime.strptime(str(datetime.datetime.now()), \"%Y-%m-%d  %H:%M:%S.%f\")\n",
    "\n",
    "    filename_model = 'inet_{}{}{}-{}{}-b{}-e{}-{}.tar'.format(date.year, date.month, date.day, date.hour, date.minute, BATCH_SIZE, completed_epochs, OPTIM)\n",
    "    \n",
    "    \n",
    "    if scheduler:\n",
    "        ssd = scheduler.state_dict()\n",
    "    else:\n",
    "        ssd = None\n",
    "        \n",
    "    torch.save({\n",
    "            'model_state_dict': model.state_dict(),\n",
    "            'optimizer_state_dict': optimizer.state_dict(),\n",
    "            'scheduler_state_dict': ssd,\n",
    "            'loss': train_loss,\n",
    "            'NUM_EPOCHS' : completed_epochs,\n",
    "            'BATCH_SIZE' : BATCH_SIZE,\n",
    "            'GAMMA' : GAMMA,\n",
    "            'LR' : LR,\n",
    "            'MODEL': MODEL,\n",
    "            'OPTIM' : OPTIM,\n",
    "            'scores' : scores\n",
    "            }, filename_model)\n",
    "    \n",
    "    \n",
    "def load_model(PATH):\n",
    "    checkpoint = torch.load(PATH)\n",
    "    \n",
    "    NUM_EPOCHS = checkpoint['NUM_EPOCHS'] if checkpoint['NUM_EPOCHS'] else None \n",
    "    BATCH_SIZE = checkpoint['BATCH_SIZE'] if checkpoint['BATCH_SIZE'] else None\n",
    "    GAMMA      = checkpoint['GAMMA'] if checkpoint['GAMMA'] else None\n",
    "    LR         = checkpoint['LR'] if checkpoint['LR'] else 1e-3\n",
    "    MODEL      = checkpoint['MODEL'] if checkpoint['MODEL'] else 'inet'\n",
    "    OPTIM      = checkpoint['OPTIM'] if checkpoint['OPTIM'] else 'AdamW'\n",
    "    scores     = checkpoint['scores']\n",
    "    \n",
    "    print(\"Epochs:{} | Batch_size: {} | Gamma: {} | LR: {} | Model: {} | Optim: {}\"\\\n",
    "          .format(NUM_EPOCHS, BATCH_SIZE, GAMMA, LR, MODEL, OPTIM))\n",
    "    \n",
    "    if MODEL == 'inet':\n",
    "        model = InceptionEnv(dropout=DROPOUT, n_labels=N_LABELS, n_input=N_INPUTS)\n",
    "        print(\"Loading InceptioNet\")\n",
    "        \n",
    "    model.load_state_dict(checkpoint['model_state_dict'])\n",
    "        \n",
    "    if OPTIM == 'SGD':\n",
    "        optimizer = torch.optim.SGD(model.parameters(), lr=LR, momentum=0.9)\n",
    "        print(\"Optimizer: SGD\")\n",
    "    else:\n",
    "        optimizer = torch.optim.AdamW(model.parameters(), lr=LR, betas=(0.9, 0.95), weight_decay=0.1)\n",
    "        print (\"Optimizer:AdamW\")\n",
    "        \n",
    "    optimizer.load_state_dict(checkpoint['optimizer_state_dict'])\n",
    "    \n",
    "    if checkpoint['scheduler_state_dict']:\n",
    "        scheduler = MultiStepLR(optimizer, milestones=iterations, gamma=GAMMA)\n",
    "        print(\"Scheduler: MultiStepLR\")\n",
    "    else :\n",
    "        scheduler = None\n",
    "        \n",
    "\n",
    "    train_loss = checkpoint['loss']\n",
    "    \n",
    "    print(\"Train loss sequence: \\n\", train_loss)\n",
    "    \n",
    "    return model, optimizer, scheduler, train_loss, scores\n"
   ]
  },
  {
   "cell_type": "markdown",
   "id": "1ffe6e37-3d03-4736-ac8c-d2c5c14f3d4d",
   "metadata": {
    "tags": []
   },
   "source": [
    "# Train/predict setup"
   ]
  },
  {
   "cell_type": "markdown",
   "id": "85fc61e9-86c6-454f-bf29-8b75c9948f64",
   "metadata": {
    "tags": []
   },
   "source": [
    "## Train the model"
   ]
  },
  {
   "cell_type": "code",
   "execution_count": 17,
   "id": "c7251827-d282-47b9-889a-5bc074a64479",
   "metadata": {},
   "outputs": [
    {
     "data": {
      "text/plain": [
       "11519"
      ]
     },
     "execution_count": 17,
     "metadata": {},
     "output_type": "execute_result"
    }
   ],
   "source": [
    "import gc\n",
    "# inet.to('cpu')\n",
    "# del inet\n",
    "# del train_set#, val_set\n",
    "# del train_loader#, val_loader\n",
    "# del val_dataset, val_loader\n",
    "gc.collect()"
   ]
  },
  {
   "cell_type": "code",
   "execution_count": 18,
   "id": "c92674e5-df74-44a6-93ef-dfa26f1761a0",
   "metadata": {},
   "outputs": [
    {
     "data": {
      "text/plain": [
       "device(type='cuda', index=0)"
      ]
     },
     "execution_count": 18,
     "metadata": {},
     "output_type": "execute_result"
    }
   ],
   "source": [
    "device = torch.device('cuda:0' if torch.cuda.is_available() else 'cpu')\n",
    "device"
   ]
  },
  {
   "cell_type": "code",
   "execution_count": 19,
   "id": "f26f5bcc-1585-411f-92b2-7f5da18acbde",
   "metadata": {},
   "outputs": [],
   "source": [
    "most_recent_loss = None\n",
    "train_loss = []\n",
    "completed_epochs = 0"
   ]
  },
  {
   "cell_type": "markdown",
   "id": "b7d0c5ff-a8e4-4e57-92c1-56bedbe6d060",
   "metadata": {
    "tags": []
   },
   "source": [
    "# Setup Test dataset and dataloader"
   ]
  },
  {
   "cell_type": "markdown",
   "id": "38d6da4b-f026-4de3-b639-7bffba09a220",
   "metadata": {
    "tags": []
   },
   "source": [
    "## Validate \n",
    "\n",
    "Ascertain accuracy of models"
   ]
  },
  {
   "cell_type": "markdown",
   "id": "961a7e08-2e30-4aa1-a5dd-976c2bedcf94",
   "metadata": {},
   "source": [
    "Load model from memory"
   ]
  },
  {
   "cell_type": "markdown",
   "id": "93f556f8-ef92-406f-b978-065d8946c0ce",
   "metadata": {
    "tags": []
   },
   "source": [
    "### Load val dataset into memory from s3"
   ]
  },
  {
   "cell_type": "code",
   "execution_count": 20,
   "id": "17d5c0b1-4ea9-4e32-b318-cb6c5a74c4a2",
   "metadata": {},
   "outputs": [],
   "source": [
    "BUCKET_NAME = 'datasets-sdm'\n",
    "folder_f = 'geoLifeCLEF/features'\n",
    "folder_l = 'geoLifeCLEF/labels'\n",
    "\n",
    "filename_val_f   = 'val_ca_6000m_64px_features.zarr'\n",
    "filename_val_l   = 'ca_val_obs.zarr/'\n",
    "\n",
    "s3_val_path_f    = 's3://{}/{}/{}'.format(BUCKET_NAME, folder_f, filename_val_f)\n",
    "s3_val_path_l    = 's3://{}/{}/{}'.format(BUCKET_NAME, folder_l, filename_val_l)\n",
    "s3_val_path_f, s3_val_path_l\n",
    "\n",
    "local_val_path_f = '/dev/shm/features/val_ca_6000m_64px_features.zarr/'\n",
    "local_val_path_l = '/dev/shm/labels/ca_val_obs.zarr/'"
   ]
  },
  {
   "cell_type": "code",
   "execution_count": 21,
   "id": "dc78754c-00f6-420a-8d89-da9aa283bdf0",
   "metadata": {},
   "outputs": [
    {
     "name": "stdout",
     "output_type": "stream",
     "text": [
      "CPU times: user 513 µs, sys: 222 µs, total: 735 µs\n",
      "Wall time: 595 µs\n"
     ]
    }
   ],
   "source": [
    "%%time\n",
    "# val_dataset = Zarr_Dataset(s3_val_path_f, s3_val_path_l, persist=True)\n",
    "val_dataset = Zarr_Dataset(local_val_path_f, local_val_path_l, persist=False)\n",
    "# val_dataset = Zarr_Dataset(s3_example_path)"
   ]
  },
  {
   "cell_type": "code",
   "execution_count": 22,
   "id": "6a475ff9-c3d1-4096-9774-49fbcc74aafc",
   "metadata": {},
   "outputs": [
    {
     "data": {
      "text/plain": [
       "((5025,), (5025,))"
      ]
     },
     "execution_count": 22,
     "metadata": {},
     "output_type": "execute_result"
    }
   ],
   "source": [
    "val_dataset.features.shape, val_dataset.labels.shape"
   ]
  },
  {
   "cell_type": "code",
   "execution_count": 23,
   "id": "4020331e-a6d2-457f-bad8-443df4b41c97",
   "metadata": {},
   "outputs": [
    {
     "data": {
      "text/plain": [
       "(5079,)"
      ]
     },
     "execution_count": 23,
     "metadata": {},
     "output_type": "execute_result"
    }
   ],
   "source": [
    "val_dataset.labels[0].shape"
   ]
  },
  {
   "cell_type": "markdown",
   "id": "0e789e51-5f52-4465-98d1-11868eff9308",
   "metadata": {
    "tags": []
   },
   "source": [
    "### Load into val dataloader"
   ]
  },
  {
   "cell_type": "code",
   "execution_count": 24,
   "id": "2cbe8f49-a382-4a7a-88f1-3ee5420ec8e0",
   "metadata": {},
   "outputs": [],
   "source": [
    "val_loader = torch.utils.data.DataLoader(val_dataset, shuffle=False, batch_size=32, num_workers=4)"
   ]
  },
  {
   "cell_type": "markdown",
   "id": "c56d1201-b8e4-4f34-aabf-d03abf1f06d5",
   "metadata": {
    "tags": []
   },
   "source": [
    "### Display datasets"
   ]
  },
  {
   "cell_type": "code",
   "execution_count": 25,
   "id": "5e33c90d-1f37-4d4a-97ef-c2a98cc799b8",
   "metadata": {},
   "outputs": [
    {
     "name": "stdout",
     "output_type": "stream",
     "text": [
      "CPU times: user 0 ns, sys: 1.35 ms, total: 1.35 ms\n",
      "Wall time: 1.22 ms\n"
     ]
    }
   ],
   "source": [
    "%%time\n",
    "# (patch, target) = train_set[2708]\n",
    "(patch, target) = val_dataset[2708]"
   ]
  },
  {
   "cell_type": "code",
   "execution_count": 26,
   "id": "9c847b56-9578-43ad-a820-39619e4e811b",
   "metadata": {},
   "outputs": [
    {
     "data": {
      "text/plain": [
       "(tensor(0.8178),\n",
       " tensor(0.),\n",
       " tensor(0.8510),\n",
       " tensor(0.0275),\n",
       " tensor(0.5362),\n",
       " tensor(0.0032),\n",
       " 5079)"
      ]
     },
     "execution_count": 26,
     "metadata": {},
     "output_type": "execute_result"
    }
   ],
   "source": [
    "patch[4:,:,:].max(), patch[4:,:,:].min(), patch[0:3,:,:].max(), patch[0:3,:,:].min(), patch[3,:,:].max(), patch[3,:,:].min(), len(target)"
   ]
  },
  {
   "cell_type": "code",
   "execution_count": 27,
   "id": "2db98e6a-2c87-48c3-a5ea-ed6b5faaed6d",
   "metadata": {},
   "outputs": [
    {
     "data": {
      "image/png": "[encoded data removed]",
      "text/plain": [
       "<Figure size 640x480 with 2 Axes>"
      ]
     },
     "metadata": {},
     "output_type": "display_data"
    }
   ],
   "source": [
    "img = patch[0:3,:,:]\n",
    "plt.imshow(img.permute(1, 2, 0), vmax=1)\n",
    "plt.colorbar()\n",
    "plt.show()"
   ]
  },
  {
   "cell_type": "code",
   "execution_count": 28,
   "id": "089d4638-4bfd-4ed9-a8e6-ecb15b3639bf",
   "metadata": {},
   "outputs": [],
   "source": [
    "# NIR_image = patch[3].unsqueeze(dim=0)#-> Remove first dim (channel) \n",
    "# plt.imshow(NIR_image.permute(1, 2, 0),vmax=1)#, vmax=1.0)\n",
    "# plt.colorbar()\n",
    "# NIR_image.max(), patch[3].max()"
   ]
  },
  {
   "cell_type": "code",
   "execution_count": 29,
   "id": "beecaeb6-4c22-4563-92f6-2422f4922186",
   "metadata": {},
   "outputs": [],
   "source": [
    "# ped = patch[-1].unsqueeze(dim=0)#-> Remove first dim (channel) \n",
    "# plt.imshow(ped.permute(1, 2, 0),vmax=1)#, vmax=1.0)\n",
    "# plt.colorbar()\n",
    "# patch[3].min(), patch[3].max()"
   ]
  },
  {
   "cell_type": "markdown",
   "id": "35d8fa76-8652-4224-ac71-b0528c98882d",
   "metadata": {},
   "source": [
    "# Finetuning"
   ]
  },
  {
   "cell_type": "markdown",
   "id": "82788154-14ca-4909-ad81-1279ba75e62e",
   "metadata": {},
   "source": [
    "## Load the original model and state as-is\n",
    "\n",
    "Warm-start, i.e. setting strict=False to load with 31 input layers instead of 77 did not work!"
   ]
  },
  {
   "cell_type": "code",
   "execution_count": 30,
   "id": "e41ee93d-0c11-4a36-badb-597d79d48fbd",
   "metadata": {},
   "outputs": [],
   "source": [
    "\n",
    "BATCH_SIZE = 128\n",
    "NUM_WORKERS = 8\n",
    "\n",
    "\n",
    "iterations = [20,40,60,80]#,100]#,140,160,180,200]\n",
    "#test\n",
    "# iterations = [1]\n",
    "NUM_EPOCHS = 30#iterations[-1]\n",
    "\n",
    "LOG_MODULO = 50 #\n",
    "VAL_MODULO = 5\n",
    "\n",
    "# LR = 5e-4 * batch_size / 256\n",
    "GAMMA = 0.1\n",
    "DROPOUT = 0.7\n",
    "\n",
    "MODEL = 'inet'\n",
    "OPTIM = 'SGD' #'AdamW'\n"
   ]
  },
  {
   "cell_type": "code",
   "execution_count": 31,
   "id": "4622bba8-aa4a-44bb-a063-330b42ddf602",
   "metadata": {},
   "outputs": [
    {
     "data": {
      "text/plain": [
       "(Environmental Inception)"
      ]
     },
     "execution_count": 31,
     "metadata": {},
     "output_type": "execute_result"
    }
   ],
   "source": [
    "# inet = InceptionEnv(dropout=0.7, n_labels=4520, n_input=77)\n",
    "# inet = InceptionEnv(dropout=DROPOUT, n_labels=N_LABELS, n_input=N_INPUTS)\n",
    "inet = InceptionEnv(dropout=0.7, n_labels=5079, n_input=31)\n",
    "inet"
   ]
  },
  {
   "cell_type": "code",
   "execution_count": 32,
   "id": "97bdbde8-6330-4af7-a47a-756e95a2234d",
   "metadata": {
    "tags": []
   },
   "outputs": [],
   "source": [
    "# from torchsummary import summary\n",
    "# summary(inet, (31, 64, 64), verbose=0)"
   ]
  },
  {
   "cell_type": "markdown",
   "id": "642fdfa7-0d12-4484-9509-36a7a23a1877",
   "metadata": {},
   "source": [
    "## Setup scheduler and optimizers"
   ]
  },
  {
   "cell_type": "code",
   "execution_count": 33,
   "id": "f9fac400-dca4-49c6-8718-b18f62cddf59",
   "metadata": {},
   "outputs": [],
   "source": [
    "criterion = torch.nn.BCEWithLogitsLoss()\n",
    "\n",
    "LR = 1e-1\n",
    "if OPTIM == 'SGD':\n",
    "    # LR = 0.1  #always use this with a scheduler which will decay the LR every some epoch\n",
    "    optimizer = torch.optim.SGD(inet.parameters(), lr=LR, momentum=0.9)\n",
    "    scheduler = CosineAnnealingLR(optimizer=optimizer, T_max=5)\n",
    "    \n",
    "else:\n",
    "    # LR = 0.1\n",
    "    optimizer = torch.optim.AdamW(inet.parameters(), lr=LR, betas=(0.9, 0.95), weight_decay=GAMMA)\n",
    "    scheduler = MultiStepLR(optimizer, milestones=iterations, gamma=GAMMA)\n",
    "    \n"
   ]
  },
  {
   "cell_type": "code",
   "execution_count": 34,
   "id": "54dfa838-c0ab-48c8-b61f-3b6ec90df880",
   "metadata": {},
   "outputs": [
    {
     "data": {
      "text/plain": [
       "(SGD (\n",
       " Parameter Group 0\n",
       "     dampening: 0\n",
       "     foreach: None\n",
       "     initial_lr: 0.1\n",
       "     lr: 0.1\n",
       "     maximize: False\n",
       "     momentum: 0.9\n",
       "     nesterov: False\n",
       "     weight_decay: 0\n",
       " ),\n",
       " <torch.optim.lr_scheduler.CosineAnnealingLR at 0x7fabacbb2f70>,\n",
       " BCEWithLogitsLoss())"
      ]
     },
     "execution_count": 34,
     "metadata": {},
     "output_type": "execute_result"
    }
   ],
   "source": [
    "optimizer, scheduler, criterion"
   ]
  },
  {
   "cell_type": "code",
   "execution_count": 35,
   "id": "40a38198-a469-46cb-a986-966727c1cf6c",
   "metadata": {},
   "outputs": [],
   "source": [
    "from tqdm.notebook import tqdm\n",
    "import time\n",
    "\n",
    "def train(model, train_loader, val_loader, num_epochs, criterion, optimizer, scheduler=None, completed_epochs=0, val_modulo=1, sig=False, save_modulo=5):\n",
    "    \n",
    "    print('beginning to train model (sigmoid={:})...'.format(sig))\n",
    "    model = model.to(device)\n",
    "    \n",
    "    for epoch in tqdm(range(num_epochs)):\n",
    "        model.train()\n",
    "        \n",
    "        running_loss = 0\n",
    "        start_time = time.perf_counter()\n",
    "        for inputs, labels in tqdm(train_loader, leave=False):\n",
    "            # print(\"Train loop dtypes: \", inputs.dtype, labels.dtype)\n",
    "            inputs, labels = inputs.type(torch.cuda.FloatTensor).to(device), labels.to(device)\n",
    "            optimizer.zero_grad()\n",
    "            outputs = model(inputs)\n",
    "            \n",
    "            if sig: #if the model doesnt apply sigmoid to it's outputs:\n",
    "                outputs = torch.sigmoid(outputs)\n",
    "                \n",
    "            loss = criterion(outputs, labels)\n",
    "            loss.backward()\n",
    "            optimizer.step()\n",
    "            running_loss += loss.item()\n",
    "         \n",
    "        # completed_epochs += 1\n",
    "        \n",
    "        if scheduler:\n",
    "            scheduler.step()\n",
    "            \n",
    "        end_time = time.perf_counter()\n",
    "        duration = end_time - start_time\n",
    "        #train_acc = compute_accuracy(model, train_loader)\n",
    "        # val_acc = compute_accuracy(model, val_loader)\n",
    "        \n",
    "        train_loss.append(running_loss / len(train_loader))\n",
    "        \n",
    "        most_recent_loss = train_loss[-1]\n",
    "        completed_epochs = epoch+1\n",
    "        \n",
    "        if val_loader and completed_epochs % val_modulo == 0:\n",
    "            \n",
    "            scores = validate(num_epochs=1, model=model, loader=val_loader, device=device, validation_size=-1, top_k=[1,5,10,20,30,50,100], sig=True)\n",
    "        \n",
    "        if completed_epochs %  save_modulo == 0:\n",
    "            try:\n",
    "                save_model(model, optimizer, completed_epochs, scores)\n",
    "                print(\"Model saved\")\n",
    "            except:\n",
    "                print(\"Couldnt save model\")\n",
    "        \n",
    "        \n",
    "        for param_group in optimizer.param_groups:\n",
    "            print(\"Current learning rate is: {:.4f}\".format(param_group['lr']))\n",
    "        print(\"Epoch: {0:02d} | Training Loss: {1:.3f} | Time: {2:.1f}\".format(completed_epochs, most_recent_loss, duration))\n",
    "        \n",
    "    return completed_epochs\n",
    "        "
   ]
  },
  {
   "cell_type": "code",
   "execution_count": 36,
   "id": "c7715d04-7a3a-4bc4-9726-d9505c15671c",
   "metadata": {},
   "outputs": [
    {
     "name": "stderr",
     "output_type": "stream",
     "text": [
      "/srv/conda/envs/notebook/lib/python3.9/site-packages/torch/utils/data/dataloader.py:563: UserWarning: This DataLoader will create 8 worker processes in total. Our suggested max number of worker in current system is 4, which is smaller than what this DataLoader is going to create. Please be aware that excessive worker creation might get DataLoader running slow or even freeze, lower the worker number to avoid potential slowness/freeze if necessary.\n",
      "  warnings.warn(_create_warning_msg(\n"
     ]
    }
   ],
   "source": [
    "train_loader = torch.utils.data.DataLoader(train_dataset, \\\n",
    "                                           shuffle=True, batch_size=BATCH_SIZE, \\\n",
    "                                           num_workers=NUM_WORKERS)"
   ]
  },
  {
   "cell_type": "code",
   "execution_count": 37,
   "id": "0eaed09b-ae9e-444a-a2a7-5a215ca370a0",
   "metadata": {},
   "outputs": [
    {
     "data": {
      "text/plain": [
       "135"
      ]
     },
     "execution_count": 37,
     "metadata": {},
     "output_type": "execute_result"
    }
   ],
   "source": [
    "len(train_loader)"
   ]
  },
  {
   "cell_type": "code",
   "execution_count": null,
   "id": "edba409c-450a-41d6-ac79-71da6fee11fd",
   "metadata": {
    "tags": []
   },
   "outputs": [
    {
     "name": "stdout",
     "output_type": "stream",
     "text": [
      "beginning to train model (sigmoid=False)...\n"
     ]
    },
    {
     "data": {
      "application/vnd.jupyter.widget-view+json": {
       "model_id": "6e8d0e88a84d4cc7b6d8409657d0baf2",
       "version_major": 2,
       "version_minor": 0
      },
      "text/plain": [
       "  0%|          | 0/30 [00:00<?, ?it/s]"
      ]
     },
     "metadata": {},
     "output_type": "display_data"
    },
    {
     "data": {
      "application/vnd.jupyter.widget-view+json": {
       "model_id": "",
       "version_major": 2,
       "version_minor": 0
      },
      "text/plain": [
       "  0%|          | 0/135 [00:00<?, ?it/s]"
      ]
     },
     "metadata": {},
     "output_type": "display_data"
    },
    {
     "data": {
      "application/vnd.jupyter.widget-view+json": {
       "model_id": "35f785f92f434e12aeb5c601d2b9d017",
       "version_major": 2,
       "version_minor": 0
      },
      "text/plain": [
       "  0%|          | 0/1 [00:00<?, ?it/s]"
      ]
     },
     "metadata": {},
     "output_type": "display_data"
    },
    {
     "data": {
      "application/vnd.jupyter.widget-view+json": {
       "model_id": "",
       "version_major": 2,
       "version_minor": 0
      },
      "text/plain": [
       "  0%|          | 0/158 [00:00<?, ?it/s]"
      ]
     },
     "metadata": {},
     "output_type": "display_data"
    },
    {
     "name": "stdout",
     "output_type": "stream",
     "text": [
      "Accuracy [k=1]      :\t0.0%\n",
      "Accuracy [k=1,s=1346]:0.0%\n",
      "Accuracy [k=5]      :\t0.119%\n",
      "Accuracy [k=5,s=1346]:0.24%\n",
      "Accuracy [k=10]      :\t0.378%\n",
      "Accuracy [k=10,s=1346]:0.402%\n",
      "Accuracy [k=20]      :\t0.756%\n",
      "Accuracy [k=20,s=1346]:0.672%\n",
      "Accuracy [k=30]      :\t1.03%\n",
      "Accuracy [k=30,s=1346]:1.08%\n",
      "Accuracy [k=50]      :\t1.43%\n",
      "Accuracy [k=50,s=1346]:1.61%\n",
      "Accuracy [k=100]      :\t2.55%\n",
      "Accuracy [k=100,s=1346]:2.74%\n",
      "Current learning rate is: 0.0905\n",
      "Epoch: 01 | Training Loss: 0.810 | Time: 188.8\n"
     ]
    },
    {
     "data": {
      "application/vnd.jupyter.widget-view+json": {
       "model_id": "",
       "version_major": 2,
       "version_minor": 0
      },
      "text/plain": [
       "  0%|          | 0/135 [00:00<?, ?it/s]"
      ]
     },
     "metadata": {},
     "output_type": "display_data"
    },
    {
     "data": {
      "application/vnd.jupyter.widget-view+json": {
       "model_id": "6feb2306b23a4344850fdd89c53a9e9c",
       "version_major": 2,
       "version_minor": 0
      },
      "text/plain": [
       "  0%|          | 0/1 [00:00<?, ?it/s]"
      ]
     },
     "metadata": {},
     "output_type": "display_data"
    },
    {
     "data": {
      "application/vnd.jupyter.widget-view+json": {
       "model_id": "",
       "version_major": 2,
       "version_minor": 0
      },
      "text/plain": [
       "  0%|          | 0/158 [00:00<?, ?it/s]"
      ]
     },
     "metadata": {},
     "output_type": "display_data"
    },
    {
     "name": "stdout",
     "output_type": "stream",
     "text": [
      "Accuracy [k=1]      :\t0.0398%\n",
      "Accuracy [k=1,s=1346]:0.0764%\n",
      "Accuracy [k=5]      :\t0.876%\n",
      "Accuracy [k=5,s=1346]:0.283%\n",
      "Accuracy [k=10]      :\t1.25%\n",
      "Accuracy [k=10,s=1346]:0.491%\n",
      "Accuracy [k=20]      :\t1.75%\n",
      "Accuracy [k=20,s=1346]:0.862%\n",
      "Accuracy [k=30]      :\t2.13%\n",
      "Accuracy [k=30,s=1346]:1.34%\n",
      "Accuracy [k=50]      :\t3.18%\n",
      "Accuracy [k=50,s=1346]:2.18%\n",
      "Accuracy [k=100]      :\t6.09%\n",
      "Accuracy [k=100,s=1346]:3.61%\n",
      "Current learning rate is: 0.0655\n",
      "Epoch: 02 | Training Loss: 0.611 | Time: 195.6\n"
     ]
    },
    {
     "data": {
      "application/vnd.jupyter.widget-view+json": {
       "model_id": "",
       "version_major": 2,
       "version_minor": 0
      },
      "text/plain": [
       "  0%|          | 0/135 [00:00<?, ?it/s]"
      ]
     },
     "metadata": {},
     "output_type": "display_data"
    },
    {
     "data": {
      "application/vnd.jupyter.widget-view+json": {
       "model_id": "69d1cdd881bd41c7a566a9abf092d8bf",
       "version_major": 2,
       "version_minor": 0
      },
      "text/plain": [
       "  0%|          | 0/1 [00:00<?, ?it/s]"
      ]
     },
     "metadata": {},
     "output_type": "display_data"
    },
    {
     "data": {
      "application/vnd.jupyter.widget-view+json": {
       "model_id": "",
       "version_major": 2,
       "version_minor": 0
      },
      "text/plain": [
       "  0%|          | 0/158 [00:00<?, ?it/s]"
      ]
     },
     "metadata": {},
     "output_type": "display_data"
    },
    {
     "name": "stdout",
     "output_type": "stream",
     "text": [
      "Accuracy [k=1]      :\t0.617%\n",
      "Accuracy [k=1,s=1346]:0.0636%\n",
      "Accuracy [k=5]      :\t1.31%\n",
      "Accuracy [k=5,s=1346]:0.323%\n",
      "Accuracy [k=10]      :\t2.33%\n",
      "Accuracy [k=10,s=1346]:0.692%\n",
      "Accuracy [k=20]      :\t3.52%\n",
      "Accuracy [k=20,s=1346]:1.18%\n",
      "Accuracy [k=30]      :\t5.57%\n",
      "Accuracy [k=30,s=1346]:1.59%\n",
      "Accuracy [k=50]      :\t6.93%\n",
      "Accuracy [k=50,s=1346]:2.65%\n",
      "Accuracy [k=100]      :\t10.5%\n",
      "Accuracy [k=100,s=1346]:4.54%\n",
      "Current learning rate is: 0.0345\n",
      "Epoch: 03 | Training Loss: 0.497 | Time: 196.5\n"
     ]
    },
    {
     "data": {
      "application/vnd.jupyter.widget-view+json": {
       "model_id": "",
       "version_major": 2,
       "version_minor": 0
      },
      "text/plain": [
       "  0%|          | 0/135 [00:00<?, ?it/s]"
      ]
     },
     "metadata": {},
     "output_type": "display_data"
    },
    {
     "data": {
      "application/vnd.jupyter.widget-view+json": {
       "model_id": "f57e3f2e3f26451f9765fc511ab00778",
       "version_major": 2,
       "version_minor": 0
      },
      "text/plain": [
       "  0%|          | 0/1 [00:00<?, ?it/s]"
      ]
     },
     "metadata": {},
     "output_type": "display_data"
    },
    {
     "data": {
      "application/vnd.jupyter.widget-view+json": {
       "model_id": "",
       "version_major": 2,
       "version_minor": 0
      },
      "text/plain": [
       "  0%|          | 0/158 [00:00<?, ?it/s]"
      ]
     },
     "metadata": {},
     "output_type": "display_data"
    },
    {
     "name": "stdout",
     "output_type": "stream",
     "text": [
      "Accuracy [k=1]      :\t0.736%\n",
      "Accuracy [k=1,s=1346]:0.0741%\n",
      "Accuracy [k=5]      :\t1.89%\n",
      "Accuracy [k=5,s=1346]:0.282%\n",
      "Accuracy [k=10]      :\t3.9%\n",
      "Accuracy [k=10,s=1346]:0.683%\n",
      "Accuracy [k=20]      :\t5.93%\n",
      "Accuracy [k=20,s=1346]:1.46%\n",
      "Accuracy [k=30]      :\t6.87%\n",
      "Accuracy [k=30,s=1346]:2.01%\n",
      "Accuracy [k=50]      :\t8.64%\n",
      "Accuracy [k=50,s=1346]:3.01%\n",
      "Accuracy [k=100]      :\t12.9%\n",
      "Accuracy [k=100,s=1346]:5.5%\n",
      "Current learning rate is: 0.0095\n",
      "Epoch: 04 | Training Loss: 0.427 | Time: 196.6\n"
     ]
    },
    {
     "data": {
      "application/vnd.jupyter.widget-view+json": {
       "model_id": "",
       "version_major": 2,
       "version_minor": 0
      },
      "text/plain": [
       "  0%|          | 0/135 [00:00<?, ?it/s]"
      ]
     },
     "metadata": {},
     "output_type": "display_data"
    },
    {
     "data": {
      "application/vnd.jupyter.widget-view+json": {
       "model_id": "376ac301beca4b70b7998c643ca569b2",
       "version_major": 2,
       "version_minor": 0
      },
      "text/plain": [
       "  0%|          | 0/1 [00:00<?, ?it/s]"
      ]
     },
     "metadata": {},
     "output_type": "display_data"
    },
    {
     "data": {
      "application/vnd.jupyter.widget-view+json": {
       "model_id": "",
       "version_major": 2,
       "version_minor": 0
      },
      "text/plain": [
       "  0%|          | 0/158 [00:00<?, ?it/s]"
      ]
     },
     "metadata": {},
     "output_type": "display_data"
    },
    {
     "name": "stdout",
     "output_type": "stream",
     "text": [
      "Accuracy [k=1]      :\t0.736%\n",
      "Accuracy [k=1,s=1346]:0.0741%\n",
      "Accuracy [k=5]      :\t2.65%\n",
      "Accuracy [k=5,s=1346]:0.318%\n",
      "Accuracy [k=10]      :\t4.0%\n",
      "Accuracy [k=10,s=1346]:0.738%\n",
      "Accuracy [k=20]      :\t6.11%\n",
      "Accuracy [k=20,s=1346]:1.43%\n",
      "Accuracy [k=30]      :\t7.0%\n",
      "Accuracy [k=30,s=1346]:1.98%\n",
      "Accuracy [k=50]      :\t8.9%\n",
      "Accuracy [k=50,s=1346]:3.04%\n",
      "Accuracy [k=100]      :\t13.6%\n",
      "Accuracy [k=100,s=1346]:5.65%\n",
      "Model saved\n",
      "Current learning rate is: 0.0000\n",
      "Epoch: 05 | Training Loss: 0.400 | Time: 196.7\n"
     ]
    },
    {
     "data": {
      "application/vnd.jupyter.widget-view+json": {
       "model_id": "",
       "version_major": 2,
       "version_minor": 0
      },
      "text/plain": [
       "  0%|          | 0/135 [00:00<?, ?it/s]"
      ]
     },
     "metadata": {},
     "output_type": "display_data"
    },
    {
     "data": {
      "application/vnd.jupyter.widget-view+json": {
       "model_id": "ac6fb65d957949a78d42365a9ebe6b42",
       "version_major": 2,
       "version_minor": 0
      },
      "text/plain": [
       "  0%|          | 0/1 [00:00<?, ?it/s]"
      ]
     },
     "metadata": {},
     "output_type": "display_data"
    },
    {
     "data": {
      "application/vnd.jupyter.widget-view+json": {
       "model_id": "",
       "version_major": 2,
       "version_minor": 0
      },
      "text/plain": [
       "  0%|          | 0/158 [00:00<?, ?it/s]"
      ]
     },
     "metadata": {},
     "output_type": "display_data"
    },
    {
     "name": "stdout",
     "output_type": "stream",
     "text": [
      "Accuracy [k=1]      :\t0.736%\n",
      "Accuracy [k=1,s=1346]:0.0745%\n",
      "Accuracy [k=5]      :\t2.87%\n",
      "Accuracy [k=5,s=1346]:0.314%\n",
      "Accuracy [k=10]      :\t4.1%\n",
      "Accuracy [k=10,s=1346]:0.783%\n",
      "Accuracy [k=20]      :\t6.01%\n",
      "Accuracy [k=20,s=1346]:1.35%\n",
      "Accuracy [k=30]      :\t7.12%\n",
      "Accuracy [k=30,s=1346]:1.99%\n",
      "Accuracy [k=50]      :\t8.96%\n",
      "Accuracy [k=50,s=1346]:3.08%\n",
      "Accuracy [k=100]      :\t13.9%\n",
      "Accuracy [k=100,s=1346]:5.69%\n",
      "Current learning rate is: 0.0095\n",
      "Epoch: 06 | Training Loss: 0.395 | Time: 196.4\n"
     ]
    },
    {
     "data": {
      "application/vnd.jupyter.widget-view+json": {
       "model_id": "",
       "version_major": 2,
       "version_minor": 0
      },
      "text/plain": [
       "  0%|          | 0/135 [00:00<?, ?it/s]"
      ]
     },
     "metadata": {},
     "output_type": "display_data"
    },
    {
     "data": {
      "application/vnd.jupyter.widget-view+json": {
       "model_id": "ef1b7f2c436446588df0745ece3e0db6",
       "version_major": 2,
       "version_minor": 0
      },
      "text/plain": [
       "  0%|          | 0/1 [00:00<?, ?it/s]"
      ]
     },
     "metadata": {},
     "output_type": "display_data"
    },
    {
     "data": {
      "application/vnd.jupyter.widget-view+json": {
       "model_id": "",
       "version_major": 2,
       "version_minor": 0
      },
      "text/plain": [
       "  0%|          | 0/158 [00:00<?, ?it/s]"
      ]
     },
     "metadata": {},
     "output_type": "display_data"
    },
    {
     "name": "stdout",
     "output_type": "stream",
     "text": [
      "Accuracy [k=1]      :\t0.697%\n",
      "Accuracy [k=1,s=1346]:0.0707%\n",
      "Accuracy [k=5]      :\t3.02%\n",
      "Accuracy [k=5,s=1346]:0.325%\n",
      "Accuracy [k=10]      :\t4.32%\n",
      "Accuracy [k=10,s=1346]:0.635%\n",
      "Accuracy [k=20]      :\t6.07%\n",
      "Accuracy [k=20,s=1346]:1.41%\n",
      "Accuracy [k=30]      :\t7.3%\n",
      "Accuracy [k=30,s=1346]:2.02%\n",
      "Accuracy [k=50]      :\t9.45%\n",
      "Accuracy [k=50,s=1346]:3.29%\n",
      "Accuracy [k=100]      :\t14.7%\n",
      "Accuracy [k=100,s=1346]:6.04%\n",
      "Current learning rate is: 0.0345\n",
      "Epoch: 07 | Training Loss: 0.389 | Time: 196.6\n"
     ]
    },
    {
     "data": {
      "application/vnd.jupyter.widget-view+json": {
       "model_id": "",
       "version_major": 2,
       "version_minor": 0
      },
      "text/plain": [
       "  0%|          | 0/135 [00:00<?, ?it/s]"
      ]
     },
     "metadata": {},
     "output_type": "display_data"
    },
    {
     "data": {
      "application/vnd.jupyter.widget-view+json": {
       "model_id": "8bf106826b124147adcc3806b3b019a5",
       "version_major": 2,
       "version_minor": 0
      },
      "text/plain": [
       "  0%|          | 0/1 [00:00<?, ?it/s]"
      ]
     },
     "metadata": {},
     "output_type": "display_data"
    },
    {
     "data": {
      "application/vnd.jupyter.widget-view+json": {
       "model_id": "",
       "version_major": 2,
       "version_minor": 0
      },
      "text/plain": [
       "  0%|          | 0/158 [00:00<?, ?it/s]"
      ]
     },
     "metadata": {},
     "output_type": "display_data"
    },
    {
     "name": "stdout",
     "output_type": "stream",
     "text": [
      "Accuracy [k=1]      :\t0.697%\n",
      "Accuracy [k=1,s=1346]:0.0711%\n",
      "Accuracy [k=5]      :\t3.18%\n",
      "Accuracy [k=5,s=1346]:0.323%\n",
      "Accuracy [k=10]      :\t4.82%\n",
      "Accuracy [k=10,s=1346]:0.649%\n",
      "Accuracy [k=20]      :\t6.53%\n",
      "Accuracy [k=20,s=1346]:1.35%\n",
      "Accuracy [k=30]      :\t8.28%\n",
      "Accuracy [k=30,s=1346]:2.01%\n",
      "Accuracy [k=50]      :\t11.3%\n",
      "Accuracy [k=50,s=1346]:3.43%\n",
      "Accuracy [k=100]      :\t17.3%\n",
      "Accuracy [k=100,s=1346]:6.66%\n",
      "Current learning rate is: 0.0655\n",
      "Epoch: 08 | Training Loss: 0.368 | Time: 196.5\n"
     ]
    },
    {
     "data": {
      "application/vnd.jupyter.widget-view+json": {
       "model_id": "",
       "version_major": 2,
       "version_minor": 0
      },
      "text/plain": [
       "  0%|          | 0/135 [00:00<?, ?it/s]"
      ]
     },
     "metadata": {},
     "output_type": "display_data"
    },
    {
     "data": {
      "application/vnd.jupyter.widget-view+json": {
       "model_id": "d7524510d2bd4b5f93fd1efa26e7aaff",
       "version_major": 2,
       "version_minor": 0
      },
      "text/plain": [
       "  0%|          | 0/1 [00:00<?, ?it/s]"
      ]
     },
     "metadata": {},
     "output_type": "display_data"
    },
    {
     "data": {
      "application/vnd.jupyter.widget-view+json": {
       "model_id": "",
       "version_major": 2,
       "version_minor": 0
      },
      "text/plain": [
       "  0%|          | 0/158 [00:00<?, ?it/s]"
      ]
     },
     "metadata": {},
     "output_type": "display_data"
    },
    {
     "name": "stdout",
     "output_type": "stream",
     "text": [
      "Accuracy [k=1]      :\t0.677%\n",
      "Accuracy [k=1,s=1346]:0.0698%\n",
      "Accuracy [k=5]      :\t3.52%\n",
      "Accuracy [k=5,s=1346]:0.359%\n",
      "Accuracy [k=10]      :\t5.19%\n",
      "Accuracy [k=10,s=1346]:0.731%\n",
      "Accuracy [k=20]      :\t7.54%\n",
      "Accuracy [k=20,s=1346]:1.46%\n",
      "Accuracy [k=30]      :\t9.19%\n",
      "Accuracy [k=30,s=1346]:2.07%\n",
      "Accuracy [k=50]      :\t13.2%\n",
      "Accuracy [k=50,s=1346]:3.41%\n",
      "Accuracy [k=100]      :\t20.2%\n",
      "Accuracy [k=100,s=1346]:6.77%\n",
      "Current learning rate is: 0.0905\n",
      "Epoch: 09 | Training Loss: 0.330 | Time: 196.4\n"
     ]
    },
    {
     "data": {
      "application/vnd.jupyter.widget-view+json": {
       "model_id": "",
       "version_major": 2,
       "version_minor": 0
      },
      "text/plain": [
       "  0%|          | 0/135 [00:00<?, ?it/s]"
      ]
     },
     "metadata": {},
     "output_type": "display_data"
    },
    {
     "data": {
      "application/vnd.jupyter.widget-view+json": {
       "model_id": "7fd82a81cf874835bfda22635f4a5cce",
       "version_major": 2,
       "version_minor": 0
      },
      "text/plain": [
       "  0%|          | 0/1 [00:00<?, ?it/s]"
      ]
     },
     "metadata": {},
     "output_type": "display_data"
    },
    {
     "data": {
      "application/vnd.jupyter.widget-view+json": {
       "model_id": "",
       "version_major": 2,
       "version_minor": 0
      },
      "text/plain": [
       "  0%|          | 0/158 [00:00<?, ?it/s]"
      ]
     },
     "metadata": {},
     "output_type": "display_data"
    },
    {
     "name": "stdout",
     "output_type": "stream",
     "text": [
      "Accuracy [k=1]      :\t0.657%\n",
      "Accuracy [k=1,s=1346]:0.0681%\n",
      "Accuracy [k=5]      :\t4.22%\n",
      "Accuracy [k=5,s=1346]:0.384%\n",
      "Accuracy [k=10]      :\t5.51%\n",
      "Accuracy [k=10,s=1346]:0.76%\n",
      "Accuracy [k=20]      :\t7.8%\n",
      "Accuracy [k=20,s=1346]:1.48%\n",
      "Accuracy [k=30]      :\t9.97%\n",
      "Accuracy [k=30,s=1346]:2.14%\n",
      "Accuracy [k=50]      :\t14.0%\n",
      "Accuracy [k=50,s=1346]:3.55%\n",
      "Accuracy [k=100]      :\t22.1%\n",
      "Accuracy [k=100,s=1346]:7.09%\n",
      "Model saved\n",
      "Current learning rate is: 0.1000\n",
      "Epoch: 10 | Training Loss: 0.289 | Time: 196.4\n"
     ]
    },
    {
     "data": {
      "application/vnd.jupyter.widget-view+json": {
       "model_id": "",
       "version_major": 2,
       "version_minor": 0
      },
      "text/plain": [
       "  0%|          | 0/135 [00:00<?, ?it/s]"
      ]
     },
     "metadata": {},
     "output_type": "display_data"
    },
    {
     "data": {
      "application/vnd.jupyter.widget-view+json": {
       "model_id": "0611b7da60984c70a66889ba90ae6638",
       "version_major": 2,
       "version_minor": 0
      },
      "text/plain": [
       "  0%|          | 0/1 [00:00<?, ?it/s]"
      ]
     },
     "metadata": {},
     "output_type": "display_data"
    },
    {
     "data": {
      "application/vnd.jupyter.widget-view+json": {
       "model_id": "",
       "version_major": 2,
       "version_minor": 0
      },
      "text/plain": [
       "  0%|          | 0/158 [00:00<?, ?it/s]"
      ]
     },
     "metadata": {},
     "output_type": "display_data"
    },
    {
     "name": "stdout",
     "output_type": "stream",
     "text": [
      "Accuracy [k=1]      :\t0.716%\n",
      "Accuracy [k=1,s=1346]:0.0739%\n",
      "Accuracy [k=5]      :\t3.74%\n",
      "Accuracy [k=5,s=1346]:0.376%\n",
      "Accuracy [k=10]      :\t5.63%\n",
      "Accuracy [k=10,s=1346]:0.724%\n",
      "Accuracy [k=20]      :\t8.16%\n",
      "Accuracy [k=20,s=1346]:1.44%\n",
      "Accuracy [k=30]      :\t10.2%\n",
      "Accuracy [k=30,s=1346]:2.16%\n",
      "Accuracy [k=50]      :\t14.4%\n",
      "Accuracy [k=50,s=1346]:3.58%\n",
      "Accuracy [k=100]      :\t23.5%\n",
      "Accuracy [k=100,s=1346]:7.29%\n",
      "Current learning rate is: 0.0905\n",
      "Epoch: 11 | Training Loss: 0.261 | Time: 196.5\n"
     ]
    },
    {
     "data": {
      "application/vnd.jupyter.widget-view+json": {
       "model_id": "",
       "version_major": 2,
       "version_minor": 0
      },
      "text/plain": [
       "  0%|          | 0/135 [00:00<?, ?it/s]"
      ]
     },
     "metadata": {},
     "output_type": "display_data"
    },
    {
     "data": {
      "application/vnd.jupyter.widget-view+json": {
       "model_id": "3c80ff67e3554ca297e996990e504a81",
       "version_major": 2,
       "version_minor": 0
      },
      "text/plain": [
       "  0%|          | 0/1 [00:00<?, ?it/s]"
      ]
     },
     "metadata": {},
     "output_type": "display_data"
    },
    {
     "data": {
      "application/vnd.jupyter.widget-view+json": {
       "model_id": "",
       "version_major": 2,
       "version_minor": 0
      },
      "text/plain": [
       "  0%|          | 0/158 [00:00<?, ?it/s]"
      ]
     },
     "metadata": {},
     "output_type": "display_data"
    },
    {
     "name": "stdout",
     "output_type": "stream",
     "text": [
      "Accuracy [k=1]      :\t0.716%\n",
      "Accuracy [k=1,s=1346]:0.0739%\n",
      "Accuracy [k=5]      :\t3.24%\n",
      "Accuracy [k=5,s=1346]:0.37%\n",
      "Accuracy [k=10]      :\t5.71%\n",
      "Accuracy [k=10,s=1346]:0.729%\n",
      "Accuracy [k=20]      :\t8.34%\n",
      "Accuracy [k=20,s=1346]:1.47%\n",
      "Accuracy [k=30]      :\t10.2%\n",
      "Accuracy [k=30,s=1346]:2.17%\n",
      "Accuracy [k=50]      :\t14.4%\n",
      "Accuracy [k=50,s=1346]:3.63%\n",
      "Accuracy [k=100]      :\t24.0%\n",
      "Accuracy [k=100,s=1346]:7.45%\n",
      "Current learning rate is: 0.0655\n",
      "Epoch: 12 | Training Loss: 0.244 | Time: 196.5\n"
     ]
    },
    {
     "data": {
      "application/vnd.jupyter.widget-view+json": {
       "model_id": "f82206d4be7a4af0b40e02bf0b91e956",
       "version_major": 2,
       "version_minor": 0
      },
      "text/plain": [
       "  0%|          | 0/135 [00:00<?, ?it/s]"
      ]
     },
     "metadata": {},
     "output_type": "display_data"
    },
    {
     "data": {
      "application/vnd.jupyter.widget-view+json": {
       "model_id": "4bea7f79a4fc42d883164ae7fe623a69",
       "version_major": 2,
       "version_minor": 0
      },
      "text/plain": [
       "  0%|          | 0/1 [00:00<?, ?it/s]"
      ]
     },
     "metadata": {},
     "output_type": "display_data"
    },
    {
     "data": {
      "application/vnd.jupyter.widget-view+json": {
       "model_id": "87c542f2226d449f83bcbda961a002b5",
       "version_major": 2,
       "version_minor": 0
      },
      "text/plain": [
       "  0%|          | 0/158 [00:00<?, ?it/s]"
      ]
     },
     "metadata": {},
     "output_type": "display_data"
    },
    {
     "name": "stdout",
     "output_type": "stream",
     "text": [
      "Accuracy [k=1]      :\t0.697%\n",
      "Accuracy [k=1,s=1346]:0.0722%\n",
      "Accuracy [k=5]      :\t3.22%\n",
      "Accuracy [k=5,s=1346]:0.367%\n",
      "Accuracy [k=10]      :\t5.69%\n",
      "Accuracy [k=10,s=1346]:0.729%\n",
      "Accuracy [k=20]      :\t8.34%\n",
      "Accuracy [k=20,s=1346]:1.46%\n",
      "Accuracy [k=30]      :\t10.2%\n",
      "Accuracy [k=30,s=1346]:2.16%\n",
      "Accuracy [k=50]      :\t14.4%\n",
      "Accuracy [k=50,s=1346]:3.54%\n",
      "Accuracy [k=100]      :\t23.8%\n",
      "Accuracy [k=100,s=1346]:7.22%\n",
      "Current learning rate is: 0.0345\n",
      "Epoch: 13 | Training Loss: 0.236 | Time: 196.3\n"
     ]
    },
    {
     "data": {
      "application/vnd.jupyter.widget-view+json": {
       "model_id": "e2c0ff6d4d4242a295c8e3fbe4e47e06",
       "version_major": 2,
       "version_minor": 0
      },
      "text/plain": [
       "  0%|          | 0/135 [00:00<?, ?it/s]"
      ]
     },
     "metadata": {},
     "output_type": "display_data"
    },
    {
     "data": {
      "application/vnd.jupyter.widget-view+json": {
       "model_id": "36798ad6ff914b4bb66f1d807e58eade",
       "version_major": 2,
       "version_minor": 0
      },
      "text/plain": [
       "  0%|          | 0/1 [00:00<?, ?it/s]"
      ]
     },
     "metadata": {},
     "output_type": "display_data"
    },
    {
     "data": {
      "application/vnd.jupyter.widget-view+json": {
       "model_id": "7294a90d81b741ca84c86a82b5ee8519",
       "version_major": 2,
       "version_minor": 0
      },
      "text/plain": [
       "  0%|          | 0/158 [00:00<?, ?it/s]"
      ]
     },
     "metadata": {},
     "output_type": "display_data"
    },
    {
     "name": "stdout",
     "output_type": "stream",
     "text": [
      "Accuracy [k=1]      :\t0.697%\n",
      "Accuracy [k=1,s=1346]:0.0722%\n",
      "Accuracy [k=5]      :\t3.9%\n",
      "Accuracy [k=5,s=1346]:0.404%\n",
      "Accuracy [k=10]      :\t5.85%\n",
      "Accuracy [k=10,s=1346]:0.792%\n",
      "Accuracy [k=20]      :\t8.38%\n",
      "Accuracy [k=20,s=1346]:1.49%\n",
      "Accuracy [k=30]      :\t10.4%\n",
      "Accuracy [k=30,s=1346]:2.22%\n",
      "Accuracy [k=50]      :\t14.3%\n",
      "Accuracy [k=50,s=1346]:3.55%\n",
      "Accuracy [k=100]      :\t23.8%\n",
      "Accuracy [k=100,s=1346]:7.35%\n",
      "Current learning rate is: 0.0095\n",
      "Epoch: 14 | Training Loss: 0.231 | Time: 196.2\n"
     ]
    },
    {
     "data": {
      "application/vnd.jupyter.widget-view+json": {
       "model_id": "eb9ac31916484ccda8ad8c95bc7f1997",
       "version_major": 2,
       "version_minor": 0
      },
      "text/plain": [
       "  0%|          | 0/135 [00:00<?, ?it/s]"
      ]
     },
     "metadata": {},
     "output_type": "display_data"
    },
    {
     "data": {
      "application/vnd.jupyter.widget-view+json": {
       "model_id": "220647ba984743fd986894c34dc27a40",
       "version_major": 2,
       "version_minor": 0
      },
      "text/plain": [
       "  0%|          | 0/1 [00:00<?, ?it/s]"
      ]
     },
     "metadata": {},
     "output_type": "display_data"
    },
    {
     "data": {
      "application/vnd.jupyter.widget-view+json": {
       "model_id": "e6dd4b15a40644af975fc08792ce52d2",
       "version_major": 2,
       "version_minor": 0
      },
      "text/plain": [
       "  0%|          | 0/158 [00:00<?, ?it/s]"
      ]
     },
     "metadata": {},
     "output_type": "display_data"
    },
    {
     "name": "stdout",
     "output_type": "stream",
     "text": [
      "Accuracy [k=1]      :\t0.697%\n",
      "Accuracy [k=1,s=1346]:0.0722%\n",
      "Accuracy [k=5]      :\t3.36%\n",
      "Accuracy [k=5,s=1346]:0.379%\n",
      "Accuracy [k=10]      :\t5.79%\n",
      "Accuracy [k=10,s=1346]:0.753%\n",
      "Accuracy [k=20]      :\t8.42%\n",
      "Accuracy [k=20,s=1346]:1.52%\n",
      "Accuracy [k=30]      :\t10.4%\n",
      "Accuracy [k=30,s=1346]:2.2%\n",
      "Accuracy [k=50]      :\t14.4%\n",
      "Accuracy [k=50,s=1346]:3.54%\n",
      "Accuracy [k=100]      :\t23.7%\n",
      "Accuracy [k=100,s=1346]:7.1%\n",
      "Model saved\n",
      "Current learning rate is: 0.0000\n",
      "Epoch: 15 | Training Loss: 0.229 | Time: 196.2\n"
     ]
    },
    {
     "data": {
      "application/vnd.jupyter.widget-view+json": {
       "model_id": "bb579637abe14716826c2a778d54c4f3",
       "version_major": 2,
       "version_minor": 0
      },
      "text/plain": [
       "  0%|          | 0/135 [00:00<?, ?it/s]"
      ]
     },
     "metadata": {},
     "output_type": "display_data"
    },
    {
     "data": {
      "application/vnd.jupyter.widget-view+json": {
       "model_id": "9ade78ed6ef2481eb62995376a0af459",
       "version_major": 2,
       "version_minor": 0
      },
      "text/plain": [
       "  0%|          | 0/1 [00:00<?, ?it/s]"
      ]
     },
     "metadata": {},
     "output_type": "display_data"
    },
    {
     "data": {
      "application/vnd.jupyter.widget-view+json": {
       "model_id": "880765d6611840dc8c4011aaa3f4cbbc",
       "version_major": 2,
       "version_minor": 0
      },
      "text/plain": [
       "  0%|          | 0/158 [00:00<?, ?it/s]"
      ]
     },
     "metadata": {},
     "output_type": "display_data"
    },
    {
     "name": "stdout",
     "output_type": "stream",
     "text": [
      "Accuracy [k=1]      :\t0.697%\n",
      "Accuracy [k=1,s=1346]:0.0722%\n",
      "Accuracy [k=5]      :\t3.14%\n",
      "Accuracy [k=5,s=1346]:0.363%\n",
      "Accuracy [k=10]      :\t5.75%\n",
      "Accuracy [k=10,s=1346]:0.738%\n",
      "Accuracy [k=20]      :\t8.38%\n",
      "Accuracy [k=20,s=1346]:1.48%\n",
      "Accuracy [k=30]      :\t10.4%\n",
      "Accuracy [k=30,s=1346]:2.23%\n",
      "Accuracy [k=50]      :\t14.3%\n",
      "Accuracy [k=50,s=1346]:3.5%\n",
      "Accuracy [k=100]      :\t23.9%\n",
      "Accuracy [k=100,s=1346]:7.21%\n",
      "Current learning rate is: 0.0095\n",
      "Epoch: 16 | Training Loss: 0.229 | Time: 196.2\n"
     ]
    },
    {
     "data": {
      "application/vnd.jupyter.widget-view+json": {
       "model_id": "31f1f23c1dda480a833d8be2a4738b7b",
       "version_major": 2,
       "version_minor": 0
      },
      "text/plain": [
       "  0%|          | 0/135 [00:00<?, ?it/s]"
      ]
     },
     "metadata": {},
     "output_type": "display_data"
    },
    {
     "data": {
      "application/vnd.jupyter.widget-view+json": {
       "model_id": "d57f519cbf5942f39e0926d956c5fe12",
       "version_major": 2,
       "version_minor": 0
      },
      "text/plain": [
       "  0%|          | 0/1 [00:00<?, ?it/s]"
      ]
     },
     "metadata": {},
     "output_type": "display_data"
    },
    {
     "data": {
      "application/vnd.jupyter.widget-view+json": {
       "model_id": "f7e1951404a44b9c9ff16d8dad283160",
       "version_major": 2,
       "version_minor": 0
      },
      "text/plain": [
       "  0%|          | 0/158 [00:00<?, ?it/s]"
      ]
     },
     "metadata": {},
     "output_type": "display_data"
    },
    {
     "name": "stdout",
     "output_type": "stream",
     "text": [
      "Accuracy [k=1]      :\t0.697%\n",
      "Accuracy [k=1,s=1346]:0.0722%\n",
      "Accuracy [k=5]      :\t3.52%\n",
      "Accuracy [k=5,s=1346]:0.394%\n",
      "Accuracy [k=10]      :\t5.75%\n",
      "Accuracy [k=10,s=1346]:0.735%\n",
      "Accuracy [k=20]      :\t8.42%\n",
      "Accuracy [k=20,s=1346]:1.5%\n",
      "Accuracy [k=30]      :\t10.4%\n",
      "Accuracy [k=30,s=1346]:2.21%\n",
      "Accuracy [k=50]      :\t14.3%\n",
      "Accuracy [k=50,s=1346]:3.52%\n",
      "Accuracy [k=100]      :\t23.6%\n",
      "Accuracy [k=100,s=1346]:7.37%\n",
      "Current learning rate is: 0.0345\n",
      "Epoch: 17 | Training Loss: 0.229 | Time: 196.4\n"
     ]
    },
    {
     "data": {
      "application/vnd.jupyter.widget-view+json": {
       "model_id": "05a1ebbd97cd4d029539d0d606357d5a",
       "version_major": 2,
       "version_minor": 0
      },
      "text/plain": [
       "  0%|          | 0/135 [00:00<?, ?it/s]"
      ]
     },
     "metadata": {},
     "output_type": "display_data"
    }
   ],
   "source": [
    "train(model=inet, train_loader=train_loader, val_loader=val_loader, \\\n",
    "                         num_epochs=NUM_EPOCHS, criterion=criterion, \\\n",
    "                         optimizer=optimizer, scheduler=scheduler, \\\n",
    "                         completed_epochs=completed_epochs,\\\n",
    "                         val_modulo=1, save_modulo=5,\\\n",
    "                         sig=False)\n",
    "# train(inet, train_loader, None, NUM_EPOCHS, criterion, optimizer)sigmoid"
   ]
  },
  {
   "cell_type": "markdown",
   "id": "6fa18321-43cf-44c3-b294-22595aa3d623",
   "metadata": {},
   "source": [
    "##### Save model states"
   ]
  },
  {
   "cell_type": "code",
   "execution_count": null,
   "id": "8cd288e2-e019-4be7-a20b-408b70f31ec6",
   "metadata": {},
   "outputs": [],
   "source": [
    "BUCKET_NAME = 'datasets-sdm2'\n",
    "folder = 'geoLifeCLEF/models/inet'\n",
    "# s3://datasets-sdm2/geoLifeCLEF/models/inet/\n",
    "\n",
    "s3_model_path  = 's3://{}/{}/{}'.format(BUCKET_NAME, folder, filename_model)\n",
    "local_model_path = 'models/' + filename_model\n",
    "s3_model_path, local_model_path\n"
   ]
  },
  {
   "cell_type": "code",
   "execution_count": null,
   "id": "67a2a2ee-da35-4b47-99ec-1d03e2e3933f",
   "metadata": {},
   "outputs": [],
   "source": [
    "date = datetime.datetime.strptime(str(datetime.datetime.now()), \"%Y-%m-%d  %H:%M:%S.%f\")\n",
    "\n",
    "filename_model = 'inet_{}{}{}-{}{}-b{}-e{}-{}.tar'.format(date.year, date.month, date.day, date.hour, date.minute, BATCH_SIZE, completed_epochs, OPTIM)\n",
    "\n",
    "\n",
    "if scheduler:\n",
    "    ssd = scheduler.state_dict()\n",
    "else:\n",
    "    ssd = None\n",
    "\n",
    "torch.save({\n",
    "        'model_state_dict': inet.state_dict(),\n",
    "        'optimizer_state_dict': optimizer.state_dict(),\n",
    "        'scheduler_state_dict': ssd,\n",
    "        'loss': train_loss,\n",
    "        'NUM_EPOCHS' : epochs,\n",
    "        'BATCH_SIZE' : BATCH_SIZE,\n",
    "        'GAMMA' : GAMMA,\n",
    "        'LR' : LR,\n",
    "        'MODEL': MODEL,\n",
    "        'OPTIM' : OPTIM\n",
    "        }, filename_model)\n",
    "    "
   ]
  },
  {
   "cell_type": "code",
   "execution_count": null,
   "id": "838ff85a-b81c-4dfd-91b4-d11d3dd8907c",
   "metadata": {},
   "outputs": [],
   "source": [
    "save_model(filename_model, inet, optimizer)"
   ]
  },
  {
   "cell_type": "code",
   "execution_count": null,
   "id": "ae798a57-3e2c-4604-965a-8d45ea6dd2ae",
   "metadata": {},
   "outputs": [],
   "source": [
    "# del train_loader, train_dataset\n",
    "# gc.collect()"
   ]
  },
  {
   "cell_type": "markdown",
   "id": "084fb5f1-9ea9-4913-8a44-336ee91fa5d4",
   "metadata": {},
   "source": [
    "# Run Inference"
   ]
  },
  {
   "cell_type": "markdown",
   "id": "2b2daebc-32f3-414a-ac09-3dab05fc9af3",
   "metadata": {},
   "source": [
    "## Load model from disk"
   ]
  },
  {
   "cell_type": "code",
   "execution_count": 62,
   "id": "7a1080a5-2ebc-4994-9c39-73e5f5bbc43b",
   "metadata": {},
   "outputs": [
    {
     "name": "stdout",
     "output_type": "stream",
     "text": [
      "Epochs:30 | Batch_size: 128 | Gamma: 0.1 | LR: 0.1 | Model: inet | Optim: SGD\n",
      "Loading InceptioNet\n",
      "Optimizer: SGD\n",
      "Scheduler: MultiStepLR\n",
      "Train loss sequence: \n",
      " [1993.3403980396413, 1965.9636366102432, 1964.133847837095, 1963.438693576389, 1963.5487503616898, 1961.0307689525464, 1958.349472837095, 1964.7223506221064, 1958.2542263454861, 1965.7941686559607, 1962.7029893663193, 1960.18898473669]\n"
     ]
    }
   ],
   "source": [
    "model_path = 'inet_20221211-14-59.pt'\n",
    "model_path = 'inet_20221211-5-38.pt'\n",
    "model_path = 'inet_20221211-21-9.pt'\n",
    "dict_path = 'inet_20221212-124-b128-e0-SGD.tar'\n",
    "dict_path = 'inet_20221212-1441-b128-e200-SGD.tar'\n",
    "dict_path = 'inet_20221215-60-b128-e12-SGD.tar'\n",
    "\n",
    "\n",
    "inet, optimizer, scheduler, train_loss = load_model(dict_path)"
   ]
  },
  {
   "cell_type": "code",
   "execution_count": 63,
   "id": "7ed30add-deea-41b8-b00d-636d0e69f99d",
   "metadata": {},
   "outputs": [],
   "source": [
    "inet = inet.to(device)"
   ]
  },
  {
   "cell_type": "code",
   "execution_count": 64,
   "id": "f56ebc3c-a25c-4b03-83c1-71d2a9e73dd1",
   "metadata": {},
   "outputs": [
    {
     "data": {
      "text/plain": [
       "(Environmental Inception)"
      ]
     },
     "execution_count": 64,
     "metadata": {},
     "output_type": "execute_result"
    }
   ],
   "source": [
    "inet"
   ]
  },
  {
   "cell_type": "code",
   "execution_count": 65,
   "id": "ca14ed95-bfb5-408b-a794-80891f81ef5a",
   "metadata": {},
   "outputs": [
    {
     "data": {
      "application/vnd.jupyter.widget-view+json": {
       "model_id": "7235c535dd6745ccbef835fad65924c7",
       "version_major": 2,
       "version_minor": 0
      },
      "text/plain": [
       "  0%|          | 0/1 [00:00<?, ?it/s]"
      ]
     },
     "metadata": {},
     "output_type": "display_data"
    },
    {
     "data": {
      "application/vnd.jupyter.widget-view+json": {
       "model_id": "",
       "version_major": 2,
       "version_minor": 0
      },
      "text/plain": [
       "  0%|          | 0/158 [00:00<?, ?it/s]"
      ]
     },
     "metadata": {},
     "output_type": "display_data"
    },
    {
     "name": "stdout",
     "output_type": "stream",
     "text": [
      "(5025, 5079) (5025, 5079)\n",
      "Accuracy [k=1]:\t\t0.617%\n",
      "Accuracy [k=1,s=1346]:\t0.064%\n",
      "Accuracy [k=5]:\t\t3.08%\n",
      "Accuracy [k=5,s=1346]:\t0.305%\n",
      "Accuracy [k=10]:\t\t4.4%\n",
      "Accuracy [k=10,s=1346]:\t0.516%\n",
      "Accuracy [k=20]:\t\t6.27%\n",
      "Accuracy [k=20,s=1346]:\t0.981%\n",
      "Accuracy [k=30]:\t\t8.22%\n",
      "Accuracy [k=30,s=1346]:\t1.8%\n",
      "Accuracy [k=50]:\t\t11.2%\n",
      "Accuracy [k=50,s=1346]:\t2.91%\n",
      "Accuracy [k=100]:\t\t18.0%\n",
      "Accuracy [k=100,s=1346]:\t5.76%\n"
     ]
    }
   ],
   "source": [
    "validate(num_epochs=1, model=inet, loader=val_loader, device=device, validation_size=-1, top_k=[1,5,10,20,30,50,100])"
   ]
  },
  {
   "cell_type": "code",
   "execution_count": 55,
   "id": "28f5b2f0-8396-4cc4-bbb2-663beb823ba3",
   "metadata": {},
   "outputs": [
    {
     "data": {
      "text/plain": [
       "29121"
      ]
     },
     "execution_count": 55,
     "metadata": {},
     "output_type": "execute_result"
    }
   ],
   "source": [
    "del val_loader, val_dataset\n",
    "gc.collect()"
   ]
  },
  {
   "cell_type": "markdown",
   "id": "687e0b22-2732-4952-9c75-c35b9a87db4b",
   "metadata": {
    "tags": []
   },
   "source": [
    "## Test BCELoss"
   ]
  },
  {
   "cell_type": "code",
   "execution_count": null,
   "id": "2093c24a-0031-4b49-a478-21bcf0037a5b",
   "metadata": {},
   "outputs": [],
   "source": [
    "targets = ca_val_gdf.drop(['geometry'], axis=1).to_numpy()\n",
    "targets"
   ]
  },
  {
   "cell_type": "code",
   "execution_count": null,
   "id": "9efd217e-7de2-4464-a65f-296eb642289f",
   "metadata": {},
   "outputs": [],
   "source": [
    "import torch.nn.functional as F\n",
    "batch_size = 8\n",
    "\n",
    "loss_fn = torch.nn.BCELoss()\n",
    "\n",
    "# outputs_before_sigmoid = torch.randn(batch_size, num_classes)\n",
    "fake_output = torch.randn(num_classes, dtype=float)\n",
    "sigmoid_outputs = torch.sigmoid(fake_output)\n",
    "softmax_outputs = F.softmax(fake_output, dim=-1)\n",
    "\n",
    "\n",
    "#or perfect guess\n",
    "outputs = torch.from_numpy(targets[5])\n",
    "\n",
    "target = torch.from_numpy(targets[5])\n",
    "# target_classes = torch.randint(0, 2, (batch_size, num_classes),dtype=torch.float)  # randints in [0, 2).\n",
    "\n",
    "# target_classes = torch.tensor([[1.0],[0.0]])\n",
    "# sigmoid_outputs = torch.tensor([[0.8],[0.]])\n",
    "print(len(sigmoid_outputs), len(target))\n",
    "print(type(sigmoid_outputs), type(torch.from_numpy(targets[5])))\n",
    "loss = loss_fn(sigmoid_outputs, target)\n",
    "loss2 = loss_fn(softmax_outputs, target)\n",
    "# loss = loss_fn(outputs, target)\n",
    "print(loss, loss2)"
   ]
  },
  {
   "cell_type": "code",
   "execution_count": null,
   "id": "188c3dbb-cf59-422a-97fd-3eb00f186cf6",
   "metadata": {},
   "outputs": [],
   "source": [
    "sigmoid_outputs.sum(), target.sum(), softmax_outputs.sum()"
   ]
  },
  {
   "cell_type": "code",
   "execution_count": null,
   "id": "0f1a78fb-6230-4b57-bbce-ba9591b0d3a1",
   "metadata": {},
   "outputs": [],
   "source": [
    "fake_output"
   ]
  },
  {
   "cell_type": "code",
   "execution_count": null,
   "id": "ad4ef0e3-f748-4fcf-a9a4-bdf135bd2789",
   "metadata": {},
   "outputs": [],
   "source": [
    "import zarr\n",
    "import numcodecs"
   ]
  },
  {
   "cell_type": "code",
   "execution_count": null,
   "id": "693f6f69-0e6a-4766-9e28-0d8185755201",
   "metadata": {},
   "outputs": [],
   "source": [
    "z = zarr.empty(1, dtype=object, object_codec=numcodecs.Pickle())\n",
    "z[0] = [patch, "
   ]
  },
  {
   "cell_type": "code",
   "execution_count": null,
   "id": "cc57ff45-7c84-42d2-82be-9166cbf1aefa",
   "metadata": {},
   "outputs": [],
   "source": [
    "z[0]"
   ]
  },
  {
   "cell_type": "markdown",
   "id": "7ade6816-ea84-4f02-89b9-a47dfe9e8042",
   "metadata": {
    "tags": []
   },
   "source": [
    "# Original Training for InceptioNet"
   ]
  },
  {
   "cell_type": "markdown",
   "id": "8452fc2c-71e6-46e1-b63f-9b5af8e40746",
   "metadata": {},
   "source": [
    "### Debug: setting paths for imports"
   ]
  },
  {
   "cell_type": "code",
   "execution_count": null,
   "id": "b2b04929-0503-48c8-9827-7b31dc2e0ca7",
   "metadata": {},
   "outputs": [],
   "source": [
    "import sys\n",
    "for path in sys.path:\n",
    "    print(path)\n",
    "    "
   ]
  },
  {
   "cell_type": "code",
   "execution_count": null,
   "id": "32f34055-9482-4f8c-9e66-7344aa17e22b",
   "metadata": {},
   "outputs": [],
   "source": [
    "# sys.path.remove('/models')\n",
    "# sys.path.remove('/raster')\n",
    "# sys.path.remove('model/')\n",
    "sys.path.remove('/home/jovyan/sdm-geolifeCLEF/../raster')\n",
    "# sys.path.remove('/models')\n",
    "# sys.path.remove('/raster')\n"
   ]
  },
  {
   "cell_type": "code",
   "execution_count": null,
   "id": "65405a39-afb6-48ba-8b5e-d631bf0bd858",
   "metadata": {},
   "outputs": [],
   "source": []
  }
 ],
 "metadata": {
  "kernelspec": {
   "display_name": "Python [conda env:notebook] *",
   "language": "python",
   "name": "conda-env-notebook-py"
  },
  "language_info": {
   "codemirror_mode": {
    "name": "ipython",
    "version": 3
   },
   "file_extension": ".py",
   "mimetype": "text/x-python",
   "name": "python",
   "nbconvert_exporter": "python",
   "pygments_lexer": "ipython3",
   "version": "3.9.13"
  }
 },
 "nbformat": 4,
 "nbformat_minor": 5
}
